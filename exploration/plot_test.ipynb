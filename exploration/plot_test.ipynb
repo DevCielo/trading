{
 "cells": [
  {
   "cell_type": "code",
   "execution_count": 1,
   "metadata": {},
   "outputs": [],
   "source": [
    "import pandas as pd\n",
    "import plotly.graph_objects as go\n",
    "import datetime as dt\n",
    "from plotting import CandlePlot"
   ]
  },
  {
   "cell_type": "code",
   "execution_count": 2,
   "metadata": {},
   "outputs": [],
   "source": [
    "pair = \"EUR_USD\"\n",
    "granularity = \"H4\"\n",
    "df = pd.read_pickle(f\"../data/{pair}_{granularity}.pkl\")"
   ]
  },
  {
   "cell_type": "code",
   "execution_count": 3,
   "metadata": {},
   "outputs": [],
   "source": [
    "df_plot = df.iloc[:100]"
   ]
  },
  {
   "cell_type": "code",
   "execution_count": 4,
   "metadata": {},
   "outputs": [],
   "source": [
    "cp = CandlePlot(df_plot)"
   ]
  },
  {
   "cell_type": "code",
   "execution_count": 5,
   "metadata": {},
   "outputs": [
    {
     "data": {
      "application/vnd.plotly.v1+json": {
       "config": {
        "plotlyServerURL": "https://plot.ly"
       },
       "data": [
        {
         "close": [
          1.07155,
          1.07344,
          1.06524,
          1.06188,
          1.06241,
          1.06308,
          1.06146,
          1.05225,
          1.05167,
          1.05204,
          1.0485,
          1.04911,
          1.04752,
          1.04655,
          1.04372,
          1.04086,
          1.04226,
          1.04246,
          1.04657,
          1.04488,
          1.04202,
          1.0417,
          1.04348,
          1.04268,
          1.04939,
          1.04148,
          1.03818,
          1.04466,
          1.04528,
          1.04385,
          1.04095,
          1.04284,
          1.05604,
          1.05524,
          1.05408,
          1.05278,
          1.052,
          1.04948,
          1.04676,
          1.04938,
          1.04934,
          1.0523,
          1.05246,
          1.05172,
          1.05234,
          1.05112,
          1.05328,
          1.05224,
          1.05784,
          1.05518,
          1.05341,
          1.05348,
          1.05128,
          1.04966,
          1.05078,
          1.05308,
          1.0575,
          1.05688,
          1.05744,
          1.05674,
          1.04937,
          1.05044,
          1.05086,
          1.05212,
          1.05169,
          1.05402,
          1.05444,
          1.0523,
          1.05468,
          1.05564,
          1.0556,
          1.05648,
          1.05839,
          1.05684,
          1.05976,
          1.05823,
          1.05762,
          1.05756,
          1.05922,
          1.05378,
          1.05231,
          1.05222,
          1.05211,
          1.05044,
          1.05103,
          1.05212,
          1.04457,
          1.04416,
          1.04421,
          1.04534,
          1.04416,
          1.03979,
          1.04824,
          1.04834,
          1.04714,
          1.04539,
          1.0459,
          1.04066,
          1.04014,
          1.04265
         ],
         "decreasing": {
          "fillcolor": "#CC2E3C",
          "line": {
           "color": "#FF3A4C"
          }
         },
         "high": [
          1.07296,
          1.07742,
          1.07432,
          1.0655,
          1.06246,
          1.06356,
          1.06424,
          1.06178,
          1.05447,
          1.05334,
          1.05203,
          1.04942,
          1.04956,
          1.04818,
          1.04686,
          1.04586,
          1.04244,
          1.04362,
          1.0485,
          1.04685,
          1.04598,
          1.04435,
          1.04406,
          1.04517,
          1.05078,
          1.04978,
          1.04322,
          1.04698,
          1.04694,
          1.0459,
          1.04441,
          1.04366,
          1.0573,
          1.06014,
          1.05612,
          1.05429,
          1.05308,
          1.05359,
          1.05002,
          1.05028,
          1.04968,
          1.05306,
          1.0543,
          1.0546,
          1.05418,
          1.05233,
          1.05332,
          1.05426,
          1.05794,
          1.05826,
          1.05668,
          1.05406,
          1.05392,
          1.05157,
          1.05144,
          1.05356,
          1.06058,
          1.05846,
          1.05753,
          1.05812,
          1.05794,
          1.05219,
          1.05542,
          1.05338,
          1.05286,
          1.05434,
          1.05467,
          1.0555,
          1.05712,
          1.05594,
          1.05749,
          1.05668,
          1.05912,
          1.05889,
          1.06151,
          1.05992,
          1.05862,
          1.05866,
          1.06063,
          1.05972,
          1.0542,
          1.05344,
          1.05314,
          1.05356,
          1.05206,
          1.05352,
          1.05266,
          1.04539,
          1.04474,
          1.04575,
          1.04688,
          1.04429,
          1.04854,
          1.04888,
          1.04858,
          1.04738,
          1.04706,
          1.04742,
          1.042,
          1.0433
         ],
         "increasing": {
          "fillcolor": "#24A06B",
          "line": {
           "color": "#2EC886"
          }
         },
         "line": {
          "width": 1
         },
         "low": [
          1.0694,
          1.06882,
          1.06452,
          1.06113,
          1.06112,
          1.06174,
          1.06075,
          1.05212,
          1.05059,
          1.05134,
          1.04806,
          1.04758,
          1.04564,
          1.04451,
          1.04183,
          1.03998,
          1.04036,
          1.0397,
          1.04179,
          1.04254,
          1.04068,
          1.03999,
          1.04114,
          1.04242,
          1.04244,
          1.04042,
          1.038,
          1.03593,
          1.04426,
          1.04312,
          1.03809,
          1.03836,
          1.04278,
          1.05461,
          1.05354,
          1.05176,
          1.0494,
          1.04758,
          1.04445,
          1.04666,
          1.04746,
          1.04913,
          1.05103,
          1.0515,
          1.05074,
          1.04981,
          1.05086,
          1.05208,
          1.05132,
          1.05444,
          1.0528,
          1.05188,
          1.05104,
          1.04938,
          1.04688,
          1.05044,
          1.05306,
          1.05634,
          1.0561,
          1.05559,
          1.04829,
          1.04904,
          1.04942,
          1.05048,
          1.05122,
          1.05136,
          1.05192,
          1.0514,
          1.05158,
          1.05346,
          1.05527,
          1.05502,
          1.05542,
          1.05536,
          1.05686,
          1.05782,
          1.05706,
          1.05716,
          1.05705,
          1.05329,
          1.05032,
          1.05168,
          1.05178,
          1.0501,
          1.04861,
          1.05049,
          1.04446,
          1.04352,
          1.0437,
          1.0433,
          1.04299,
          1.03824,
          1.03978,
          1.04676,
          1.04667,
          1.04472,
          1.04328,
          1.04066,
          1.03655,
          1.03934
         ],
         "opacity": 1,
         "open": [
          1.07266,
          1.07156,
          1.07344,
          1.06526,
          1.06172,
          1.06241,
          1.06307,
          1.06145,
          1.05226,
          1.05167,
          1.05154,
          1.04852,
          1.0491,
          1.04751,
          1.04654,
          1.04372,
          1.04081,
          1.04225,
          1.04246,
          1.04654,
          1.04488,
          1.04201,
          1.04114,
          1.04343,
          1.0427,
          1.04938,
          1.04144,
          1.03818,
          1.04444,
          1.04528,
          1.0439,
          1.04092,
          1.04286,
          1.05602,
          1.05496,
          1.05408,
          1.05278,
          1.05197,
          1.04948,
          1.04674,
          1.04841,
          1.04934,
          1.0523,
          1.0525,
          1.05169,
          1.05233,
          1.05088,
          1.0533,
          1.05224,
          1.05786,
          1.05518,
          1.05342,
          1.05358,
          1.05128,
          1.04966,
          1.05077,
          1.0531,
          1.0575,
          1.05666,
          1.05744,
          1.05673,
          1.04938,
          1.0504,
          1.05086,
          1.0524,
          1.0517,
          1.054,
          1.05442,
          1.05232,
          1.05468,
          1.05571,
          1.0556,
          1.05647,
          1.0584,
          1.05686,
          1.05974,
          1.0583,
          1.05763,
          1.05756,
          1.05917,
          1.05379,
          1.05227,
          1.05196,
          1.05211,
          1.05045,
          1.05106,
          1.05214,
          1.04458,
          1.0441,
          1.04417,
          1.04535,
          1.04415,
          1.03978,
          1.04824,
          1.04837,
          1.04716,
          1.04538,
          1.0459,
          1.04066,
          1.0401
         ],
         "type": "candlestick",
         "x": [
          "s22-06-09 05:00",
          "s22-06-09 09:00",
          "s22-06-09 13:00",
          "s22-06-09 17:00",
          "s22-06-09 21:00",
          "s22-06-10 01:00",
          "s22-06-10 05:00",
          "s22-06-10 09:00",
          "s22-06-10 13:00",
          "s22-06-10 17:00",
          "s22-06-12 21:00",
          "s22-06-13 01:00",
          "s22-06-13 05:00",
          "s22-06-13 09:00",
          "s22-06-13 13:00",
          "s22-06-13 17:00",
          "s22-06-13 21:00",
          "s22-06-14 01:00",
          "s22-06-14 05:00",
          "s22-06-14 09:00",
          "s22-06-14 13:00",
          "s22-06-14 17:00",
          "s22-06-14 21:00",
          "s22-06-15 01:00",
          "s22-06-15 05:00",
          "s22-06-15 09:00",
          "s22-06-15 13:00",
          "s22-06-15 17:00",
          "s22-06-15 21:00",
          "s22-06-16 01:00",
          "s22-06-16 05:00",
          "s22-06-16 09:00",
          "s22-06-16 13:00",
          "s22-06-16 17:00",
          "s22-06-16 21:00",
          "s22-06-17 01:00",
          "s22-06-17 05:00",
          "s22-06-17 09:00",
          "s22-06-17 13:00",
          "s22-06-17 17:00",
          "s22-06-19 21:00",
          "s22-06-20 01:00",
          "s22-06-20 05:00",
          "s22-06-20 09:00",
          "s22-06-20 13:00",
          "s22-06-20 17:00",
          "s22-06-20 21:00",
          "s22-06-21 01:00",
          "s22-06-21 05:00",
          "s22-06-21 09:00",
          "s22-06-21 13:00",
          "s22-06-21 17:00",
          "s22-06-21 21:00",
          "s22-06-22 01:00",
          "s22-06-22 05:00",
          "s22-06-22 09:00",
          "s22-06-22 13:00",
          "s22-06-22 17:00",
          "s22-06-22 21:00",
          "s22-06-23 01:00",
          "s22-06-23 05:00",
          "s22-06-23 09:00",
          "s22-06-23 13:00",
          "s22-06-23 17:00",
          "s22-06-23 21:00",
          "s22-06-24 01:00",
          "s22-06-24 05:00",
          "s22-06-24 09:00",
          "s22-06-24 13:00",
          "s22-06-24 17:00",
          "s22-06-26 21:00",
          "s22-06-27 01:00",
          "s22-06-27 05:00",
          "s22-06-27 09:00",
          "s22-06-27 13:00",
          "s22-06-27 17:00",
          "s22-06-27 21:00",
          "s22-06-28 01:00",
          "s22-06-28 05:00",
          "s22-06-28 09:00",
          "s22-06-28 13:00",
          "s22-06-28 17:00",
          "s22-06-28 21:00",
          "s22-06-29 01:00",
          "s22-06-29 05:00",
          "s22-06-29 09:00",
          "s22-06-29 13:00",
          "s22-06-29 17:00",
          "s22-06-29 21:00",
          "s22-06-30 01:00",
          "s22-06-30 05:00",
          "s22-06-30 09:00",
          "s22-06-30 13:00",
          "s22-06-30 17:00",
          "s22-06-30 21:00",
          "s22-07-01 01:00",
          "s22-07-01 05:00",
          "s22-07-01 09:00",
          "s22-07-01 13:00",
          "s22-07-01 17:00"
         ]
        }
       ],
       "layout": {
        "font": {
         "color": "#e1e1e1",
         "size": 8
        },
        "height": 400,
        "margin": {
         "b": 10,
         "l": 10,
         "r": 10,
         "t": 10
        },
        "paper_bgcolor": "#2c303c",
        "plot_bgcolor": "#2c303c",
        "template": {
         "data": {
          "bar": [
           {
            "error_x": {
             "color": "#2a3f5f"
            },
            "error_y": {
             "color": "#2a3f5f"
            },
            "marker": {
             "line": {
              "color": "#E5ECF6",
              "width": 0.5
             },
             "pattern": {
              "fillmode": "overlay",
              "size": 10,
              "solidity": 0.2
             }
            },
            "type": "bar"
           }
          ],
          "barpolar": [
           {
            "marker": {
             "line": {
              "color": "#E5ECF6",
              "width": 0.5
             },
             "pattern": {
              "fillmode": "overlay",
              "size": 10,
              "solidity": 0.2
             }
            },
            "type": "barpolar"
           }
          ],
          "carpet": [
           {
            "aaxis": {
             "endlinecolor": "#2a3f5f",
             "gridcolor": "white",
             "linecolor": "white",
             "minorgridcolor": "white",
             "startlinecolor": "#2a3f5f"
            },
            "baxis": {
             "endlinecolor": "#2a3f5f",
             "gridcolor": "white",
             "linecolor": "white",
             "minorgridcolor": "white",
             "startlinecolor": "#2a3f5f"
            },
            "type": "carpet"
           }
          ],
          "choropleth": [
           {
            "colorbar": {
             "outlinewidth": 0,
             "ticks": ""
            },
            "type": "choropleth"
           }
          ],
          "contour": [
           {
            "colorbar": {
             "outlinewidth": 0,
             "ticks": ""
            },
            "colorscale": [
             [
              0,
              "#0d0887"
             ],
             [
              0.1111111111111111,
              "#46039f"
             ],
             [
              0.2222222222222222,
              "#7201a8"
             ],
             [
              0.3333333333333333,
              "#9c179e"
             ],
             [
              0.4444444444444444,
              "#bd3786"
             ],
             [
              0.5555555555555556,
              "#d8576b"
             ],
             [
              0.6666666666666666,
              "#ed7953"
             ],
             [
              0.7777777777777778,
              "#fb9f3a"
             ],
             [
              0.8888888888888888,
              "#fdca26"
             ],
             [
              1,
              "#f0f921"
             ]
            ],
            "type": "contour"
           }
          ],
          "contourcarpet": [
           {
            "colorbar": {
             "outlinewidth": 0,
             "ticks": ""
            },
            "type": "contourcarpet"
           }
          ],
          "heatmap": [
           {
            "colorbar": {
             "outlinewidth": 0,
             "ticks": ""
            },
            "colorscale": [
             [
              0,
              "#0d0887"
             ],
             [
              0.1111111111111111,
              "#46039f"
             ],
             [
              0.2222222222222222,
              "#7201a8"
             ],
             [
              0.3333333333333333,
              "#9c179e"
             ],
             [
              0.4444444444444444,
              "#bd3786"
             ],
             [
              0.5555555555555556,
              "#d8576b"
             ],
             [
              0.6666666666666666,
              "#ed7953"
             ],
             [
              0.7777777777777778,
              "#fb9f3a"
             ],
             [
              0.8888888888888888,
              "#fdca26"
             ],
             [
              1,
              "#f0f921"
             ]
            ],
            "type": "heatmap"
           }
          ],
          "heatmapgl": [
           {
            "colorbar": {
             "outlinewidth": 0,
             "ticks": ""
            },
            "colorscale": [
             [
              0,
              "#0d0887"
             ],
             [
              0.1111111111111111,
              "#46039f"
             ],
             [
              0.2222222222222222,
              "#7201a8"
             ],
             [
              0.3333333333333333,
              "#9c179e"
             ],
             [
              0.4444444444444444,
              "#bd3786"
             ],
             [
              0.5555555555555556,
              "#d8576b"
             ],
             [
              0.6666666666666666,
              "#ed7953"
             ],
             [
              0.7777777777777778,
              "#fb9f3a"
             ],
             [
              0.8888888888888888,
              "#fdca26"
             ],
             [
              1,
              "#f0f921"
             ]
            ],
            "type": "heatmapgl"
           }
          ],
          "histogram": [
           {
            "marker": {
             "pattern": {
              "fillmode": "overlay",
              "size": 10,
              "solidity": 0.2
             }
            },
            "type": "histogram"
           }
          ],
          "histogram2d": [
           {
            "colorbar": {
             "outlinewidth": 0,
             "ticks": ""
            },
            "colorscale": [
             [
              0,
              "#0d0887"
             ],
             [
              0.1111111111111111,
              "#46039f"
             ],
             [
              0.2222222222222222,
              "#7201a8"
             ],
             [
              0.3333333333333333,
              "#9c179e"
             ],
             [
              0.4444444444444444,
              "#bd3786"
             ],
             [
              0.5555555555555556,
              "#d8576b"
             ],
             [
              0.6666666666666666,
              "#ed7953"
             ],
             [
              0.7777777777777778,
              "#fb9f3a"
             ],
             [
              0.8888888888888888,
              "#fdca26"
             ],
             [
              1,
              "#f0f921"
             ]
            ],
            "type": "histogram2d"
           }
          ],
          "histogram2dcontour": [
           {
            "colorbar": {
             "outlinewidth": 0,
             "ticks": ""
            },
            "colorscale": [
             [
              0,
              "#0d0887"
             ],
             [
              0.1111111111111111,
              "#46039f"
             ],
             [
              0.2222222222222222,
              "#7201a8"
             ],
             [
              0.3333333333333333,
              "#9c179e"
             ],
             [
              0.4444444444444444,
              "#bd3786"
             ],
             [
              0.5555555555555556,
              "#d8576b"
             ],
             [
              0.6666666666666666,
              "#ed7953"
             ],
             [
              0.7777777777777778,
              "#fb9f3a"
             ],
             [
              0.8888888888888888,
              "#fdca26"
             ],
             [
              1,
              "#f0f921"
             ]
            ],
            "type": "histogram2dcontour"
           }
          ],
          "mesh3d": [
           {
            "colorbar": {
             "outlinewidth": 0,
             "ticks": ""
            },
            "type": "mesh3d"
           }
          ],
          "parcoords": [
           {
            "line": {
             "colorbar": {
              "outlinewidth": 0,
              "ticks": ""
             }
            },
            "type": "parcoords"
           }
          ],
          "pie": [
           {
            "automargin": true,
            "type": "pie"
           }
          ],
          "scatter": [
           {
            "fillpattern": {
             "fillmode": "overlay",
             "size": 10,
             "solidity": 0.2
            },
            "type": "scatter"
           }
          ],
          "scatter3d": [
           {
            "line": {
             "colorbar": {
              "outlinewidth": 0,
              "ticks": ""
             }
            },
            "marker": {
             "colorbar": {
              "outlinewidth": 0,
              "ticks": ""
             }
            },
            "type": "scatter3d"
           }
          ],
          "scattercarpet": [
           {
            "marker": {
             "colorbar": {
              "outlinewidth": 0,
              "ticks": ""
             }
            },
            "type": "scattercarpet"
           }
          ],
          "scattergeo": [
           {
            "marker": {
             "colorbar": {
              "outlinewidth": 0,
              "ticks": ""
             }
            },
            "type": "scattergeo"
           }
          ],
          "scattergl": [
           {
            "marker": {
             "colorbar": {
              "outlinewidth": 0,
              "ticks": ""
             }
            },
            "type": "scattergl"
           }
          ],
          "scattermapbox": [
           {
            "marker": {
             "colorbar": {
              "outlinewidth": 0,
              "ticks": ""
             }
            },
            "type": "scattermapbox"
           }
          ],
          "scatterpolar": [
           {
            "marker": {
             "colorbar": {
              "outlinewidth": 0,
              "ticks": ""
             }
            },
            "type": "scatterpolar"
           }
          ],
          "scatterpolargl": [
           {
            "marker": {
             "colorbar": {
              "outlinewidth": 0,
              "ticks": ""
             }
            },
            "type": "scatterpolargl"
           }
          ],
          "scatterternary": [
           {
            "marker": {
             "colorbar": {
              "outlinewidth": 0,
              "ticks": ""
             }
            },
            "type": "scatterternary"
           }
          ],
          "surface": [
           {
            "colorbar": {
             "outlinewidth": 0,
             "ticks": ""
            },
            "colorscale": [
             [
              0,
              "#0d0887"
             ],
             [
              0.1111111111111111,
              "#46039f"
             ],
             [
              0.2222222222222222,
              "#7201a8"
             ],
             [
              0.3333333333333333,
              "#9c179e"
             ],
             [
              0.4444444444444444,
              "#bd3786"
             ],
             [
              0.5555555555555556,
              "#d8576b"
             ],
             [
              0.6666666666666666,
              "#ed7953"
             ],
             [
              0.7777777777777778,
              "#fb9f3a"
             ],
             [
              0.8888888888888888,
              "#fdca26"
             ],
             [
              1,
              "#f0f921"
             ]
            ],
            "type": "surface"
           }
          ],
          "table": [
           {
            "cells": {
             "fill": {
              "color": "#EBF0F8"
             },
             "line": {
              "color": "white"
             }
            },
            "header": {
             "fill": {
              "color": "#C8D4E3"
             },
             "line": {
              "color": "white"
             }
            },
            "type": "table"
           }
          ]
         },
         "layout": {
          "annotationdefaults": {
           "arrowcolor": "#2a3f5f",
           "arrowhead": 0,
           "arrowwidth": 1
          },
          "autotypenumbers": "strict",
          "coloraxis": {
           "colorbar": {
            "outlinewidth": 0,
            "ticks": ""
           }
          },
          "colorscale": {
           "diverging": [
            [
             0,
             "#8e0152"
            ],
            [
             0.1,
             "#c51b7d"
            ],
            [
             0.2,
             "#de77ae"
            ],
            [
             0.3,
             "#f1b6da"
            ],
            [
             0.4,
             "#fde0ef"
            ],
            [
             0.5,
             "#f7f7f7"
            ],
            [
             0.6,
             "#e6f5d0"
            ],
            [
             0.7,
             "#b8e186"
            ],
            [
             0.8,
             "#7fbc41"
            ],
            [
             0.9,
             "#4d9221"
            ],
            [
             1,
             "#276419"
            ]
           ],
           "sequential": [
            [
             0,
             "#0d0887"
            ],
            [
             0.1111111111111111,
             "#46039f"
            ],
            [
             0.2222222222222222,
             "#7201a8"
            ],
            [
             0.3333333333333333,
             "#9c179e"
            ],
            [
             0.4444444444444444,
             "#bd3786"
            ],
            [
             0.5555555555555556,
             "#d8576b"
            ],
            [
             0.6666666666666666,
             "#ed7953"
            ],
            [
             0.7777777777777778,
             "#fb9f3a"
            ],
            [
             0.8888888888888888,
             "#fdca26"
            ],
            [
             1,
             "#f0f921"
            ]
           ],
           "sequentialminus": [
            [
             0,
             "#0d0887"
            ],
            [
             0.1111111111111111,
             "#46039f"
            ],
            [
             0.2222222222222222,
             "#7201a8"
            ],
            [
             0.3333333333333333,
             "#9c179e"
            ],
            [
             0.4444444444444444,
             "#bd3786"
            ],
            [
             0.5555555555555556,
             "#d8576b"
            ],
            [
             0.6666666666666666,
             "#ed7953"
            ],
            [
             0.7777777777777778,
             "#fb9f3a"
            ],
            [
             0.8888888888888888,
             "#fdca26"
            ],
            [
             1,
             "#f0f921"
            ]
           ]
          },
          "colorway": [
           "#636efa",
           "#EF553B",
           "#00cc96",
           "#ab63fa",
           "#FFA15A",
           "#19d3f3",
           "#FF6692",
           "#B6E880",
           "#FF97FF",
           "#FECB52"
          ],
          "font": {
           "color": "#2a3f5f"
          },
          "geo": {
           "bgcolor": "white",
           "lakecolor": "white",
           "landcolor": "#E5ECF6",
           "showlakes": true,
           "showland": true,
           "subunitcolor": "white"
          },
          "hoverlabel": {
           "align": "left"
          },
          "hovermode": "closest",
          "mapbox": {
           "style": "light"
          },
          "paper_bgcolor": "white",
          "plot_bgcolor": "#E5ECF6",
          "polar": {
           "angularaxis": {
            "gridcolor": "white",
            "linecolor": "white",
            "ticks": ""
           },
           "bgcolor": "#E5ECF6",
           "radialaxis": {
            "gridcolor": "white",
            "linecolor": "white",
            "ticks": ""
           }
          },
          "scene": {
           "xaxis": {
            "backgroundcolor": "#E5ECF6",
            "gridcolor": "white",
            "gridwidth": 2,
            "linecolor": "white",
            "showbackground": true,
            "ticks": "",
            "zerolinecolor": "white"
           },
           "yaxis": {
            "backgroundcolor": "#E5ECF6",
            "gridcolor": "white",
            "gridwidth": 2,
            "linecolor": "white",
            "showbackground": true,
            "ticks": "",
            "zerolinecolor": "white"
           },
           "zaxis": {
            "backgroundcolor": "#E5ECF6",
            "gridcolor": "white",
            "gridwidth": 2,
            "linecolor": "white",
            "showbackground": true,
            "ticks": "",
            "zerolinecolor": "white"
           }
          },
          "shapedefaults": {
           "line": {
            "color": "#2a3f5f"
           }
          },
          "ternary": {
           "aaxis": {
            "gridcolor": "white",
            "linecolor": "white",
            "ticks": ""
           },
           "baxis": {
            "gridcolor": "white",
            "linecolor": "white",
            "ticks": ""
           },
           "bgcolor": "#E5ECF6",
           "caxis": {
            "gridcolor": "white",
            "linecolor": "white",
            "ticks": ""
           }
          },
          "title": {
           "x": 0.05
          },
          "xaxis": {
           "automargin": true,
           "gridcolor": "white",
           "linecolor": "white",
           "ticks": "",
           "title": {
            "standoff": 15
           },
           "zerolinecolor": "white",
           "zerolinewidth": 2
          },
          "yaxis": {
           "automargin": true,
           "gridcolor": "white",
           "linecolor": "white",
           "ticks": "",
           "title": {
            "standoff": 15
           },
           "zerolinecolor": "white",
           "zerolinewidth": 2
          }
         }
        },
        "width": 900,
        "xaxis": {
         "gridcolor": "#1f292f",
         "nticks": 5,
         "rangeslider": {
          "visible": false
         }
        },
        "yaxis": {
         "gridcolor": "#1f292f"
        }
       }
      }
     },
     "metadata": {},
     "output_type": "display_data"
    }
   ],
   "source": [
    "cp.show_plot()"
   ]
  },
  {
   "cell_type": "code",
   "execution_count": null,
   "metadata": {},
   "outputs": [],
   "source": []
  }
 ],
 "metadata": {
  "kernelspec": {
   "display_name": "venv",
   "language": "python",
   "name": "python3"
  },
  "language_info": {
   "codemirror_mode": {
    "name": "ipython",
    "version": 3
   },
   "file_extension": ".py",
   "mimetype": "text/x-python",
   "name": "python",
   "nbconvert_exporter": "python",
   "pygments_lexer": "ipython3",
   "version": "3.12.2"
  }
 },
 "nbformat": 4,
 "nbformat_minor": 2
}
