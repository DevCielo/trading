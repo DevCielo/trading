{
 "cells": [
  {
   "cell_type": "markdown",
   "metadata": {},
   "source": [
    "# Setup / Intiial Exploration"
   ]
  },
  {
   "cell_type": "code",
   "execution_count": 1,
   "metadata": {},
   "outputs": [],
   "source": [
    "import sys\n",
    "sys.path.append(\"../\")\n",
    "from plotting import CandlePlot\n",
    "import pandas as pd"
   ]
  },
  {
   "cell_type": "code",
   "execution_count": 2,
   "metadata": {},
   "outputs": [],
   "source": [
    "from technicals.patterns import apply_patterns"
   ]
  },
  {
   "cell_type": "code",
   "execution_count": 3,
   "metadata": {},
   "outputs": [],
   "source": [
    "df = pd.read_pickle(\"../data/GBP_JPY_H1.pkl\")"
   ]
  },
  {
   "cell_type": "code",
   "execution_count": 4,
   "metadata": {},
   "outputs": [],
   "source": [
    "df_an = df[['time', 'mid_c', 'mid_h', 'mid_l', 'mid_o']].copy()"
   ]
  },
  {
   "cell_type": "code",
   "execution_count": 5,
   "metadata": {},
   "outputs": [
    {
     "data": {
      "text/html": [
       "<div>\n",
       "<style scoped>\n",
       "    .dataframe tbody tr th:only-of-type {\n",
       "        vertical-align: middle;\n",
       "    }\n",
       "\n",
       "    .dataframe tbody tr th {\n",
       "        vertical-align: top;\n",
       "    }\n",
       "\n",
       "    .dataframe thead th {\n",
       "        text-align: right;\n",
       "    }\n",
       "</style>\n",
       "<table border=\"1\" class=\"dataframe\">\n",
       "  <thead>\n",
       "    <tr style=\"text-align: right;\">\n",
       "      <th></th>\n",
       "      <th>time</th>\n",
       "      <th>mid_c</th>\n",
       "      <th>mid_h</th>\n",
       "      <th>mid_l</th>\n",
       "      <th>mid_o</th>\n",
       "    </tr>\n",
       "  </thead>\n",
       "  <tbody>\n",
       "    <tr>\n",
       "      <th>37219</th>\n",
       "      <td>2021-12-30 19:00:00+00:00</td>\n",
       "      <td>155.444</td>\n",
       "      <td>155.444</td>\n",
       "      <td>155.274</td>\n",
       "      <td>155.312</td>\n",
       "    </tr>\n",
       "    <tr>\n",
       "      <th>37220</th>\n",
       "      <td>2021-12-30 20:00:00+00:00</td>\n",
       "      <td>155.312</td>\n",
       "      <td>155.470</td>\n",
       "      <td>155.289</td>\n",
       "      <td>155.442</td>\n",
       "    </tr>\n",
       "    <tr>\n",
       "      <th>37221</th>\n",
       "      <td>2021-12-30 21:00:00+00:00</td>\n",
       "      <td>155.382</td>\n",
       "      <td>155.382</td>\n",
       "      <td>155.286</td>\n",
       "      <td>155.317</td>\n",
       "    </tr>\n",
       "    <tr>\n",
       "      <th>37222</th>\n",
       "      <td>2021-12-30 22:00:00+00:00</td>\n",
       "      <td>155.329</td>\n",
       "      <td>155.381</td>\n",
       "      <td>155.282</td>\n",
       "      <td>155.353</td>\n",
       "    </tr>\n",
       "    <tr>\n",
       "      <th>37223</th>\n",
       "      <td>2021-12-30 23:00:00+00:00</td>\n",
       "      <td>155.310</td>\n",
       "      <td>155.360</td>\n",
       "      <td>155.284</td>\n",
       "      <td>155.336</td>\n",
       "    </tr>\n",
       "  </tbody>\n",
       "</table>\n",
       "</div>"
      ],
      "text/plain": [
       "                           time    mid_c    mid_h    mid_l    mid_o\n",
       "37219 2021-12-30 19:00:00+00:00  155.444  155.444  155.274  155.312\n",
       "37220 2021-12-30 20:00:00+00:00  155.312  155.470  155.289  155.442\n",
       "37221 2021-12-30 21:00:00+00:00  155.382  155.382  155.286  155.317\n",
       "37222 2021-12-30 22:00:00+00:00  155.329  155.381  155.282  155.353\n",
       "37223 2021-12-30 23:00:00+00:00  155.310  155.360  155.284  155.336"
      ]
     },
     "execution_count": 5,
     "metadata": {},
     "output_type": "execute_result"
    }
   ],
   "source": [
    "df_an.tail()"
   ]
  },
  {
   "cell_type": "code",
   "execution_count": 6,
   "metadata": {},
   "outputs": [
    {
     "data": {
      "text/plain": [
       "\" direction = df_an.mid_c - df_an.mid_o\\nbody_size = abs(direction)\\ndirection = [1 if x >= 0 else -1 for x in direction]\\nfull_range = df_an.mid_h - df_an.mid_l\\nbody_perc = (body_size / full_range) * 100\\nbody_lower = df_an[['mid_c', 'mid_o']].min(axis=1)\\nbody_upper = df_an[['mid_c', 'mid_o']].max(axis=1)\\nbody_bottom_perc = ((body_lower - df_an.mid_l) / full_range ) * 100\\nbody_top_perc = 100 - (((df_an.mid_h - body_upper) / full_range) * 100) \""
      ]
     },
     "execution_count": 6,
     "metadata": {},
     "output_type": "execute_result"
    }
   ],
   "source": [
    "\"\"\" direction = df_an.mid_c - df_an.mid_o\n",
    "body_size = abs(direction)\n",
    "direction = [1 if x >= 0 else -1 for x in direction]\n",
    "full_range = df_an.mid_h - df_an.mid_l\n",
    "body_perc = (body_size / full_range) * 100\n",
    "body_lower = df_an[['mid_c', 'mid_o']].min(axis=1)\n",
    "body_upper = df_an[['mid_c', 'mid_o']].max(axis=1)\n",
    "body_bottom_perc = ((body_lower - df_an.mid_l) / full_range ) * 100\n",
    "body_top_perc = 100 - (((df_an.mid_h - body_upper) / full_range) * 100) \"\"\""
   ]
  },
  {
   "cell_type": "code",
   "execution_count": 7,
   "metadata": {},
   "outputs": [
    {
     "data": {
      "text/plain": [
       "\" df_an['body_lower'] = body_lower\\ndf_an['body_upper'] = body_upper\\ndf_an['body_bottom_perc'] = body_bottom_perc\\ndf_an['body_top_perc'] = body_top_perc\\ndf_an['body_perc'] = body_perc \""
      ]
     },
     "execution_count": 7,
     "metadata": {},
     "output_type": "execute_result"
    }
   ],
   "source": [
    "\"\"\" df_an['body_lower'] = body_lower\n",
    "df_an['body_upper'] = body_upper\n",
    "df_an['body_bottom_perc'] = body_bottom_perc\n",
    "df_an['body_top_perc'] = body_top_perc\n",
    "df_an['body_perc'] = body_perc \"\"\""
   ]
  },
  {
   "cell_type": "code",
   "execution_count": 8,
   "metadata": {},
   "outputs": [],
   "source": [
    "df_an = apply_patterns(df_an)"
   ]
  },
  {
   "cell_type": "code",
   "execution_count": 9,
   "metadata": {},
   "outputs": [
    {
     "name": "stderr",
     "output_type": "stream",
     "text": [
      "/Users/cielonicolosi/Documents/dev/projects/trading/venv/lib/python3.12/site-packages/pandas/core/nanops.py:1016: RuntimeWarning: invalid value encountered in subtract\n",
      "  sqr = _ensure_numeric((avg - values) ** 2)\n"
     ]
    },
    {
     "data": {
      "text/html": [
       "<div>\n",
       "<style scoped>\n",
       "    .dataframe tbody tr th:only-of-type {\n",
       "        vertical-align: middle;\n",
       "    }\n",
       "\n",
       "    .dataframe tbody tr th {\n",
       "        vertical-align: top;\n",
       "    }\n",
       "\n",
       "    .dataframe thead th {\n",
       "        text-align: right;\n",
       "    }\n",
       "</style>\n",
       "<table border=\"1\" class=\"dataframe\">\n",
       "  <thead>\n",
       "    <tr style=\"text-align: right;\">\n",
       "      <th></th>\n",
       "      <th>mid_c</th>\n",
       "      <th>mid_h</th>\n",
       "      <th>mid_l</th>\n",
       "      <th>mid_o</th>\n",
       "      <th>body_lower</th>\n",
       "      <th>body_upper</th>\n",
       "      <th>body_bottom_perc</th>\n",
       "      <th>body_top_perc</th>\n",
       "      <th>body_perc</th>\n",
       "      <th>direction</th>\n",
       "      <th>body_size</th>\n",
       "      <th>low_change</th>\n",
       "      <th>high_change</th>\n",
       "      <th>body_size_change</th>\n",
       "      <th>mid_point</th>\n",
       "      <th>mid_point_prev_2</th>\n",
       "    </tr>\n",
       "  </thead>\n",
       "  <tbody>\n",
       "    <tr>\n",
       "      <th>count</th>\n",
       "      <td>37224.000000</td>\n",
       "      <td>37224.000000</td>\n",
       "      <td>37224.000000</td>\n",
       "      <td>37224.000000</td>\n",
       "      <td>37224.000000</td>\n",
       "      <td>37224.000000</td>\n",
       "      <td>37217.000000</td>\n",
       "      <td>37217.000000</td>\n",
       "      <td>37217.000000</td>\n",
       "      <td>37224.000000</td>\n",
       "      <td>37224.000000</td>\n",
       "      <td>37223.000000</td>\n",
       "      <td>37223.000000</td>\n",
       "      <td>3.721900e+04</td>\n",
       "      <td>37224.000000</td>\n",
       "      <td>37222.000000</td>\n",
       "    </tr>\n",
       "    <tr>\n",
       "      <th>mean</th>\n",
       "      <td>144.380024</td>\n",
       "      <td>144.514898</td>\n",
       "      <td>144.241770</td>\n",
       "      <td>144.379960</td>\n",
       "      <td>144.314048</td>\n",
       "      <td>144.445936</td>\n",
       "      <td>28.639096</td>\n",
       "      <td>72.601234</td>\n",
       "      <td>43.962138</td>\n",
       "      <td>0.022620</td>\n",
       "      <td>0.131887</td>\n",
       "      <td>-0.000183</td>\n",
       "      <td>-0.000204</td>\n",
       "      <td>inf</td>\n",
       "      <td>144.378334</td>\n",
       "      <td>144.377746</td>\n",
       "    </tr>\n",
       "    <tr>\n",
       "      <th>std</th>\n",
       "      <td>8.375775</td>\n",
       "      <td>8.379556</td>\n",
       "      <td>8.373667</td>\n",
       "      <td>8.377065</td>\n",
       "      <td>8.373819</td>\n",
       "      <td>8.378502</td>\n",
       "      <td>20.808306</td>\n",
       "      <td>20.471193</td>\n",
       "      <td>25.502357</td>\n",
       "      <td>0.999758</td>\n",
       "      <td>0.172444</td>\n",
       "      <td>0.150523</td>\n",
       "      <td>0.137937</td>\n",
       "      <td>NaN</td>\n",
       "      <td>8.375746</td>\n",
       "      <td>8.375587</td>\n",
       "    </tr>\n",
       "    <tr>\n",
       "      <th>min</th>\n",
       "      <td>125.042000</td>\n",
       "      <td>125.431000</td>\n",
       "      <td>124.044000</td>\n",
       "      <td>125.038000</td>\n",
       "      <td>125.038000</td>\n",
       "      <td>125.158000</td>\n",
       "      <td>0.000000</td>\n",
       "      <td>1.886792</td>\n",
       "      <td>0.000000</td>\n",
       "      <td>-1.000000</td>\n",
       "      <td>0.000000</td>\n",
       "      <td>-7.007838</td>\n",
       "      <td>-8.082472</td>\n",
       "      <td>-1.000000e+02</td>\n",
       "      <td>124.833000</td>\n",
       "      <td>124.833000</td>\n",
       "    </tr>\n",
       "    <tr>\n",
       "      <th>25%</th>\n",
       "      <td>138.581750</td>\n",
       "      <td>138.723750</td>\n",
       "      <td>138.437500</td>\n",
       "      <td>138.583000</td>\n",
       "      <td>138.515750</td>\n",
       "      <td>138.644000</td>\n",
       "      <td>11.587983</td>\n",
       "      <td>59.302326</td>\n",
       "      <td>22.591362</td>\n",
       "      <td>-1.000000</td>\n",
       "      <td>0.038000</td>\n",
       "      <td>-0.046579</td>\n",
       "      <td>-0.049970</td>\n",
       "      <td>-6.044366e+01</td>\n",
       "      <td>138.570875</td>\n",
       "      <td>138.570625</td>\n",
       "    </tr>\n",
       "    <tr>\n",
       "      <th>50%</th>\n",
       "      <td>144.085500</td>\n",
       "      <td>144.206000</td>\n",
       "      <td>143.952000</td>\n",
       "      <td>144.083000</td>\n",
       "      <td>144.032500</td>\n",
       "      <td>144.145000</td>\n",
       "      <td>25.000000</td>\n",
       "      <td>76.351351</td>\n",
       "      <td>43.500000</td>\n",
       "      <td>1.000000</td>\n",
       "      <td>0.085000</td>\n",
       "      <td>0.005491</td>\n",
       "      <td>-0.003520</td>\n",
       "      <td>-4.629630e-01</td>\n",
       "      <td>144.085000</td>\n",
       "      <td>144.085000</td>\n",
       "    </tr>\n",
       "    <tr>\n",
       "      <th>75%</th>\n",
       "      <td>150.298500</td>\n",
       "      <td>150.418250</td>\n",
       "      <td>150.164000</td>\n",
       "      <td>150.299250</td>\n",
       "      <td>150.232500</td>\n",
       "      <td>150.367250</td>\n",
       "      <td>42.424242</td>\n",
       "      <td>89.371981</td>\n",
       "      <td>64.541833</td>\n",
       "      <td>1.000000</td>\n",
       "      <td>0.170000</td>\n",
       "      <td>0.053023</td>\n",
       "      <td>0.046707</td>\n",
       "      <td>1.506259e+02</td>\n",
       "      <td>150.309625</td>\n",
       "      <td>150.308375</td>\n",
       "    </tr>\n",
       "    <tr>\n",
       "      <th>max</th>\n",
       "      <td>174.957000</td>\n",
       "      <td>175.018000</td>\n",
       "      <td>174.669000</td>\n",
       "      <td>174.957000</td>\n",
       "      <td>174.760000</td>\n",
       "      <td>174.957000</td>\n",
       "      <td>100.000000</td>\n",
       "      <td>100.000000</td>\n",
       "      <td>100.000000</td>\n",
       "      <td>1.000000</td>\n",
       "      <td>12.839000</td>\n",
       "      <td>2.878679</td>\n",
       "      <td>2.676402</td>\n",
       "      <td>inf</td>\n",
       "      <td>174.813000</td>\n",
       "      <td>174.813000</td>\n",
       "    </tr>\n",
       "  </tbody>\n",
       "</table>\n",
       "</div>"
      ],
      "text/plain": [
       "              mid_c         mid_h         mid_l         mid_o    body_lower  \\\n",
       "count  37224.000000  37224.000000  37224.000000  37224.000000  37224.000000   \n",
       "mean     144.380024    144.514898    144.241770    144.379960    144.314048   \n",
       "std        8.375775      8.379556      8.373667      8.377065      8.373819   \n",
       "min      125.042000    125.431000    124.044000    125.038000    125.038000   \n",
       "25%      138.581750    138.723750    138.437500    138.583000    138.515750   \n",
       "50%      144.085500    144.206000    143.952000    144.083000    144.032500   \n",
       "75%      150.298500    150.418250    150.164000    150.299250    150.232500   \n",
       "max      174.957000    175.018000    174.669000    174.957000    174.760000   \n",
       "\n",
       "         body_upper  body_bottom_perc  body_top_perc     body_perc  \\\n",
       "count  37224.000000      37217.000000   37217.000000  37217.000000   \n",
       "mean     144.445936         28.639096      72.601234     43.962138   \n",
       "std        8.378502         20.808306      20.471193     25.502357   \n",
       "min      125.158000          0.000000       1.886792      0.000000   \n",
       "25%      138.644000         11.587983      59.302326     22.591362   \n",
       "50%      144.145000         25.000000      76.351351     43.500000   \n",
       "75%      150.367250         42.424242      89.371981     64.541833   \n",
       "max      174.957000        100.000000     100.000000    100.000000   \n",
       "\n",
       "          direction     body_size    low_change   high_change  \\\n",
       "count  37224.000000  37224.000000  37223.000000  37223.000000   \n",
       "mean       0.022620      0.131887     -0.000183     -0.000204   \n",
       "std        0.999758      0.172444      0.150523      0.137937   \n",
       "min       -1.000000      0.000000     -7.007838     -8.082472   \n",
       "25%       -1.000000      0.038000     -0.046579     -0.049970   \n",
       "50%        1.000000      0.085000      0.005491     -0.003520   \n",
       "75%        1.000000      0.170000      0.053023      0.046707   \n",
       "max        1.000000     12.839000      2.878679      2.676402   \n",
       "\n",
       "       body_size_change     mid_point  mid_point_prev_2  \n",
       "count      3.721900e+04  37224.000000      37222.000000  \n",
       "mean                inf    144.378334        144.377746  \n",
       "std                 NaN      8.375746          8.375587  \n",
       "min       -1.000000e+02    124.833000        124.833000  \n",
       "25%       -6.044366e+01    138.570875        138.570625  \n",
       "50%       -4.629630e-01    144.085000        144.085000  \n",
       "75%        1.506259e+02    150.309625        150.308375  \n",
       "max                 inf    174.813000        174.813000  "
      ]
     },
     "execution_count": 9,
     "metadata": {},
     "output_type": "execute_result"
    }
   ],
   "source": [
    "df_an.describe()"
   ]
  },
  {
   "cell_type": "code",
   "execution_count": 10,
   "metadata": {},
   "outputs": [
    {
     "data": {
      "application/vnd.plotly.v1+json": {
       "config": {
        "plotlyServerURL": "https://plot.ly"
       },
       "data": [
        {
         "close": [
          155.491,
          155.438,
          155.484,
          155.335,
          155.314,
          155.444,
          155.312,
          155.382,
          155.329,
          155.31
         ],
         "decreasing": {
          "fillcolor": "#CC2E3C",
          "line": {
           "color": "#FF3A4C"
          }
         },
         "high": [
          155.55,
          155.672,
          155.527,
          155.481,
          155.406,
          155.444,
          155.47,
          155.382,
          155.381,
          155.36
         ],
         "increasing": {
          "fillcolor": "#24A06B",
          "line": {
           "color": "#2EC886"
          }
         },
         "line": {
          "width": 1
         },
         "low": [
          155.222,
          155.362,
          155.349,
          155.312,
          155.252,
          155.274,
          155.289,
          155.286,
          155.282,
          155.284
         ],
         "opacity": 1,
         "open": [
          155.328,
          155.488,
          155.436,
          155.481,
          155.333,
          155.312,
          155.442,
          155.317,
          155.353,
          155.336
         ],
         "type": "candlestick",
         "x": [
          "s21-12-30 14:00",
          "s21-12-30 15:00",
          "s21-12-30 16:00",
          "s21-12-30 17:00",
          "s21-12-30 18:00",
          "s21-12-30 19:00",
          "s21-12-30 20:00",
          "s21-12-30 21:00",
          "s21-12-30 22:00",
          "s21-12-30 23:00"
         ]
        }
       ],
       "layout": {
        "font": {
         "color": "#e1e1e1",
         "size": 8
        },
        "height": 400,
        "margin": {
         "b": 10,
         "l": 10,
         "r": 10,
         "t": 10
        },
        "paper_bgcolor": "#2c303c",
        "plot_bgcolor": "#2c303c",
        "template": {
         "data": {
          "bar": [
           {
            "error_x": {
             "color": "#2a3f5f"
            },
            "error_y": {
             "color": "#2a3f5f"
            },
            "marker": {
             "line": {
              "color": "#E5ECF6",
              "width": 0.5
             },
             "pattern": {
              "fillmode": "overlay",
              "size": 10,
              "solidity": 0.2
             }
            },
            "type": "bar"
           }
          ],
          "barpolar": [
           {
            "marker": {
             "line": {
              "color": "#E5ECF6",
              "width": 0.5
             },
             "pattern": {
              "fillmode": "overlay",
              "size": 10,
              "solidity": 0.2
             }
            },
            "type": "barpolar"
           }
          ],
          "carpet": [
           {
            "aaxis": {
             "endlinecolor": "#2a3f5f",
             "gridcolor": "white",
             "linecolor": "white",
             "minorgridcolor": "white",
             "startlinecolor": "#2a3f5f"
            },
            "baxis": {
             "endlinecolor": "#2a3f5f",
             "gridcolor": "white",
             "linecolor": "white",
             "minorgridcolor": "white",
             "startlinecolor": "#2a3f5f"
            },
            "type": "carpet"
           }
          ],
          "choropleth": [
           {
            "colorbar": {
             "outlinewidth": 0,
             "ticks": ""
            },
            "type": "choropleth"
           }
          ],
          "contour": [
           {
            "colorbar": {
             "outlinewidth": 0,
             "ticks": ""
            },
            "colorscale": [
             [
              0,
              "#0d0887"
             ],
             [
              0.1111111111111111,
              "#46039f"
             ],
             [
              0.2222222222222222,
              "#7201a8"
             ],
             [
              0.3333333333333333,
              "#9c179e"
             ],
             [
              0.4444444444444444,
              "#bd3786"
             ],
             [
              0.5555555555555556,
              "#d8576b"
             ],
             [
              0.6666666666666666,
              "#ed7953"
             ],
             [
              0.7777777777777778,
              "#fb9f3a"
             ],
             [
              0.8888888888888888,
              "#fdca26"
             ],
             [
              1,
              "#f0f921"
             ]
            ],
            "type": "contour"
           }
          ],
          "contourcarpet": [
           {
            "colorbar": {
             "outlinewidth": 0,
             "ticks": ""
            },
            "type": "contourcarpet"
           }
          ],
          "heatmap": [
           {
            "colorbar": {
             "outlinewidth": 0,
             "ticks": ""
            },
            "colorscale": [
             [
              0,
              "#0d0887"
             ],
             [
              0.1111111111111111,
              "#46039f"
             ],
             [
              0.2222222222222222,
              "#7201a8"
             ],
             [
              0.3333333333333333,
              "#9c179e"
             ],
             [
              0.4444444444444444,
              "#bd3786"
             ],
             [
              0.5555555555555556,
              "#d8576b"
             ],
             [
              0.6666666666666666,
              "#ed7953"
             ],
             [
              0.7777777777777778,
              "#fb9f3a"
             ],
             [
              0.8888888888888888,
              "#fdca26"
             ],
             [
              1,
              "#f0f921"
             ]
            ],
            "type": "heatmap"
           }
          ],
          "heatmapgl": [
           {
            "colorbar": {
             "outlinewidth": 0,
             "ticks": ""
            },
            "colorscale": [
             [
              0,
              "#0d0887"
             ],
             [
              0.1111111111111111,
              "#46039f"
             ],
             [
              0.2222222222222222,
              "#7201a8"
             ],
             [
              0.3333333333333333,
              "#9c179e"
             ],
             [
              0.4444444444444444,
              "#bd3786"
             ],
             [
              0.5555555555555556,
              "#d8576b"
             ],
             [
              0.6666666666666666,
              "#ed7953"
             ],
             [
              0.7777777777777778,
              "#fb9f3a"
             ],
             [
              0.8888888888888888,
              "#fdca26"
             ],
             [
              1,
              "#f0f921"
             ]
            ],
            "type": "heatmapgl"
           }
          ],
          "histogram": [
           {
            "marker": {
             "pattern": {
              "fillmode": "overlay",
              "size": 10,
              "solidity": 0.2
             }
            },
            "type": "histogram"
           }
          ],
          "histogram2d": [
           {
            "colorbar": {
             "outlinewidth": 0,
             "ticks": ""
            },
            "colorscale": [
             [
              0,
              "#0d0887"
             ],
             [
              0.1111111111111111,
              "#46039f"
             ],
             [
              0.2222222222222222,
              "#7201a8"
             ],
             [
              0.3333333333333333,
              "#9c179e"
             ],
             [
              0.4444444444444444,
              "#bd3786"
             ],
             [
              0.5555555555555556,
              "#d8576b"
             ],
             [
              0.6666666666666666,
              "#ed7953"
             ],
             [
              0.7777777777777778,
              "#fb9f3a"
             ],
             [
              0.8888888888888888,
              "#fdca26"
             ],
             [
              1,
              "#f0f921"
             ]
            ],
            "type": "histogram2d"
           }
          ],
          "histogram2dcontour": [
           {
            "colorbar": {
             "outlinewidth": 0,
             "ticks": ""
            },
            "colorscale": [
             [
              0,
              "#0d0887"
             ],
             [
              0.1111111111111111,
              "#46039f"
             ],
             [
              0.2222222222222222,
              "#7201a8"
             ],
             [
              0.3333333333333333,
              "#9c179e"
             ],
             [
              0.4444444444444444,
              "#bd3786"
             ],
             [
              0.5555555555555556,
              "#d8576b"
             ],
             [
              0.6666666666666666,
              "#ed7953"
             ],
             [
              0.7777777777777778,
              "#fb9f3a"
             ],
             [
              0.8888888888888888,
              "#fdca26"
             ],
             [
              1,
              "#f0f921"
             ]
            ],
            "type": "histogram2dcontour"
           }
          ],
          "mesh3d": [
           {
            "colorbar": {
             "outlinewidth": 0,
             "ticks": ""
            },
            "type": "mesh3d"
           }
          ],
          "parcoords": [
           {
            "line": {
             "colorbar": {
              "outlinewidth": 0,
              "ticks": ""
             }
            },
            "type": "parcoords"
           }
          ],
          "pie": [
           {
            "automargin": true,
            "type": "pie"
           }
          ],
          "scatter": [
           {
            "fillpattern": {
             "fillmode": "overlay",
             "size": 10,
             "solidity": 0.2
            },
            "type": "scatter"
           }
          ],
          "scatter3d": [
           {
            "line": {
             "colorbar": {
              "outlinewidth": 0,
              "ticks": ""
             }
            },
            "marker": {
             "colorbar": {
              "outlinewidth": 0,
              "ticks": ""
             }
            },
            "type": "scatter3d"
           }
          ],
          "scattercarpet": [
           {
            "marker": {
             "colorbar": {
              "outlinewidth": 0,
              "ticks": ""
             }
            },
            "type": "scattercarpet"
           }
          ],
          "scattergeo": [
           {
            "marker": {
             "colorbar": {
              "outlinewidth": 0,
              "ticks": ""
             }
            },
            "type": "scattergeo"
           }
          ],
          "scattergl": [
           {
            "marker": {
             "colorbar": {
              "outlinewidth": 0,
              "ticks": ""
             }
            },
            "type": "scattergl"
           }
          ],
          "scattermapbox": [
           {
            "marker": {
             "colorbar": {
              "outlinewidth": 0,
              "ticks": ""
             }
            },
            "type": "scattermapbox"
           }
          ],
          "scatterpolar": [
           {
            "marker": {
             "colorbar": {
              "outlinewidth": 0,
              "ticks": ""
             }
            },
            "type": "scatterpolar"
           }
          ],
          "scatterpolargl": [
           {
            "marker": {
             "colorbar": {
              "outlinewidth": 0,
              "ticks": ""
             }
            },
            "type": "scatterpolargl"
           }
          ],
          "scatterternary": [
           {
            "marker": {
             "colorbar": {
              "outlinewidth": 0,
              "ticks": ""
             }
            },
            "type": "scatterternary"
           }
          ],
          "surface": [
           {
            "colorbar": {
             "outlinewidth": 0,
             "ticks": ""
            },
            "colorscale": [
             [
              0,
              "#0d0887"
             ],
             [
              0.1111111111111111,
              "#46039f"
             ],
             [
              0.2222222222222222,
              "#7201a8"
             ],
             [
              0.3333333333333333,
              "#9c179e"
             ],
             [
              0.4444444444444444,
              "#bd3786"
             ],
             [
              0.5555555555555556,
              "#d8576b"
             ],
             [
              0.6666666666666666,
              "#ed7953"
             ],
             [
              0.7777777777777778,
              "#fb9f3a"
             ],
             [
              0.8888888888888888,
              "#fdca26"
             ],
             [
              1,
              "#f0f921"
             ]
            ],
            "type": "surface"
           }
          ],
          "table": [
           {
            "cells": {
             "fill": {
              "color": "#EBF0F8"
             },
             "line": {
              "color": "white"
             }
            },
            "header": {
             "fill": {
              "color": "#C8D4E3"
             },
             "line": {
              "color": "white"
             }
            },
            "type": "table"
           }
          ]
         },
         "layout": {
          "annotationdefaults": {
           "arrowcolor": "#2a3f5f",
           "arrowhead": 0,
           "arrowwidth": 1
          },
          "autotypenumbers": "strict",
          "coloraxis": {
           "colorbar": {
            "outlinewidth": 0,
            "ticks": ""
           }
          },
          "colorscale": {
           "diverging": [
            [
             0,
             "#8e0152"
            ],
            [
             0.1,
             "#c51b7d"
            ],
            [
             0.2,
             "#de77ae"
            ],
            [
             0.3,
             "#f1b6da"
            ],
            [
             0.4,
             "#fde0ef"
            ],
            [
             0.5,
             "#f7f7f7"
            ],
            [
             0.6,
             "#e6f5d0"
            ],
            [
             0.7,
             "#b8e186"
            ],
            [
             0.8,
             "#7fbc41"
            ],
            [
             0.9,
             "#4d9221"
            ],
            [
             1,
             "#276419"
            ]
           ],
           "sequential": [
            [
             0,
             "#0d0887"
            ],
            [
             0.1111111111111111,
             "#46039f"
            ],
            [
             0.2222222222222222,
             "#7201a8"
            ],
            [
             0.3333333333333333,
             "#9c179e"
            ],
            [
             0.4444444444444444,
             "#bd3786"
            ],
            [
             0.5555555555555556,
             "#d8576b"
            ],
            [
             0.6666666666666666,
             "#ed7953"
            ],
            [
             0.7777777777777778,
             "#fb9f3a"
            ],
            [
             0.8888888888888888,
             "#fdca26"
            ],
            [
             1,
             "#f0f921"
            ]
           ],
           "sequentialminus": [
            [
             0,
             "#0d0887"
            ],
            [
             0.1111111111111111,
             "#46039f"
            ],
            [
             0.2222222222222222,
             "#7201a8"
            ],
            [
             0.3333333333333333,
             "#9c179e"
            ],
            [
             0.4444444444444444,
             "#bd3786"
            ],
            [
             0.5555555555555556,
             "#d8576b"
            ],
            [
             0.6666666666666666,
             "#ed7953"
            ],
            [
             0.7777777777777778,
             "#fb9f3a"
            ],
            [
             0.8888888888888888,
             "#fdca26"
            ],
            [
             1,
             "#f0f921"
            ]
           ]
          },
          "colorway": [
           "#636efa",
           "#EF553B",
           "#00cc96",
           "#ab63fa",
           "#FFA15A",
           "#19d3f3",
           "#FF6692",
           "#B6E880",
           "#FF97FF",
           "#FECB52"
          ],
          "font": {
           "color": "#2a3f5f"
          },
          "geo": {
           "bgcolor": "white",
           "lakecolor": "white",
           "landcolor": "#E5ECF6",
           "showlakes": true,
           "showland": true,
           "subunitcolor": "white"
          },
          "hoverlabel": {
           "align": "left"
          },
          "hovermode": "closest",
          "mapbox": {
           "style": "light"
          },
          "paper_bgcolor": "white",
          "plot_bgcolor": "#E5ECF6",
          "polar": {
           "angularaxis": {
            "gridcolor": "white",
            "linecolor": "white",
            "ticks": ""
           },
           "bgcolor": "#E5ECF6",
           "radialaxis": {
            "gridcolor": "white",
            "linecolor": "white",
            "ticks": ""
           }
          },
          "scene": {
           "xaxis": {
            "backgroundcolor": "#E5ECF6",
            "gridcolor": "white",
            "gridwidth": 2,
            "linecolor": "white",
            "showbackground": true,
            "ticks": "",
            "zerolinecolor": "white"
           },
           "yaxis": {
            "backgroundcolor": "#E5ECF6",
            "gridcolor": "white",
            "gridwidth": 2,
            "linecolor": "white",
            "showbackground": true,
            "ticks": "",
            "zerolinecolor": "white"
           },
           "zaxis": {
            "backgroundcolor": "#E5ECF6",
            "gridcolor": "white",
            "gridwidth": 2,
            "linecolor": "white",
            "showbackground": true,
            "ticks": "",
            "zerolinecolor": "white"
           }
          },
          "shapedefaults": {
           "line": {
            "color": "#2a3f5f"
           }
          },
          "ternary": {
           "aaxis": {
            "gridcolor": "white",
            "linecolor": "white",
            "ticks": ""
           },
           "baxis": {
            "gridcolor": "white",
            "linecolor": "white",
            "ticks": ""
           },
           "bgcolor": "#E5ECF6",
           "caxis": {
            "gridcolor": "white",
            "linecolor": "white",
            "ticks": ""
           }
          },
          "title": {
           "x": 0.05
          },
          "xaxis": {
           "automargin": true,
           "gridcolor": "white",
           "linecolor": "white",
           "ticks": "",
           "title": {
            "standoff": 15
           },
           "zerolinecolor": "white",
           "zerolinewidth": 2
          },
          "yaxis": {
           "automargin": true,
           "gridcolor": "white",
           "linecolor": "white",
           "ticks": "",
           "title": {
            "standoff": 15
           },
           "zerolinecolor": "white",
           "zerolinewidth": 2
          }
         }
        },
        "width": 900,
        "xaxis": {
         "anchor": "y",
         "domain": [
          0,
          0.94
         ],
         "gridcolor": "#1f292f",
         "nticks": 5,
         "rangeslider": {
          "visible": false
         }
        },
        "yaxis": {
         "anchor": "x",
         "domain": [
          0,
          1
         ],
         "gridcolor": "#1f292f"
        },
        "yaxis2": {
         "anchor": "x",
         "gridcolor": "#1f292f",
         "overlaying": "y",
         "side": "right"
        }
       }
      }
     },
     "metadata": {},
     "output_type": "display_data"
    }
   ],
   "source": [
    "dfp = df_an.iloc[-10:]\n",
    "cp = CandlePlot(dfp, candles=True)\n",
    "cp.show_plot(line_traces=[])"
   ]
  },
  {
   "cell_type": "code",
   "execution_count": 11,
   "metadata": {},
   "outputs": [
    {
     "data": {
      "text/plain": [
       "time                2021-12-30 21:00:00+00:00\n",
       "mid_c                                 155.382\n",
       "mid_h                                 155.382\n",
       "mid_l                                 155.286\n",
       "mid_o                                 155.317\n",
       "body_lower                            155.317\n",
       "body_upper                            155.382\n",
       "body_bottom_perc                    32.291667\n",
       "body_top_perc                           100.0\n",
       "body_perc                           67.708333\n",
       "direction                                   1\n",
       "body_size                               0.065\n",
       "low_change                          -0.001932\n",
       "high_change                         -0.056603\n",
       "body_size_change                        -50.0\n",
       "mid_point                             155.334\n",
       "mid_point_prev_2                      155.359\n",
       "Name: 37221, dtype: object"
      ]
     },
     "execution_count": 11,
     "metadata": {},
     "output_type": "execute_result"
    }
   ],
   "source": [
    "df_an.iloc[-3]"
   ]
  },
  {
   "cell_type": "code",
   "execution_count": 12,
   "metadata": {},
   "outputs": [
    {
     "data": {
      "text/html": [
       "<div>\n",
       "<style scoped>\n",
       "    .dataframe tbody tr th:only-of-type {\n",
       "        vertical-align: middle;\n",
       "    }\n",
       "\n",
       "    .dataframe tbody tr th {\n",
       "        vertical-align: top;\n",
       "    }\n",
       "\n",
       "    .dataframe thead th {\n",
       "        text-align: right;\n",
       "    }\n",
       "</style>\n",
       "<table border=\"1\" class=\"dataframe\">\n",
       "  <thead>\n",
       "    <tr style=\"text-align: right;\">\n",
       "      <th></th>\n",
       "      <th>time</th>\n",
       "      <th>mid_c</th>\n",
       "      <th>mid_h</th>\n",
       "      <th>mid_l</th>\n",
       "      <th>mid_o</th>\n",
       "      <th>body_lower</th>\n",
       "      <th>body_upper</th>\n",
       "      <th>body_bottom_perc</th>\n",
       "      <th>body_top_perc</th>\n",
       "      <th>body_perc</th>\n",
       "      <th>direction</th>\n",
       "      <th>body_size</th>\n",
       "      <th>low_change</th>\n",
       "      <th>high_change</th>\n",
       "      <th>body_size_change</th>\n",
       "      <th>mid_point</th>\n",
       "      <th>mid_point_prev_2</th>\n",
       "    </tr>\n",
       "  </thead>\n",
       "  <tbody>\n",
       "    <tr>\n",
       "      <th>37219</th>\n",
       "      <td>2021-12-30 19:00:00+00:00</td>\n",
       "      <td>155.444</td>\n",
       "      <td>155.444</td>\n",
       "      <td>155.274</td>\n",
       "      <td>155.312</td>\n",
       "      <td>155.312</td>\n",
       "      <td>155.444</td>\n",
       "      <td>22.352941</td>\n",
       "      <td>100.000000</td>\n",
       "      <td>77.647059</td>\n",
       "      <td>1</td>\n",
       "      <td>0.132</td>\n",
       "      <td>0.014171</td>\n",
       "      <td>0.024452</td>\n",
       "      <td>594.736842</td>\n",
       "      <td>155.3590</td>\n",
       "      <td>155.3965</td>\n",
       "    </tr>\n",
       "    <tr>\n",
       "      <th>37220</th>\n",
       "      <td>2021-12-30 20:00:00+00:00</td>\n",
       "      <td>155.312</td>\n",
       "      <td>155.470</td>\n",
       "      <td>155.289</td>\n",
       "      <td>155.442</td>\n",
       "      <td>155.312</td>\n",
       "      <td>155.442</td>\n",
       "      <td>12.707182</td>\n",
       "      <td>84.530387</td>\n",
       "      <td>71.823204</td>\n",
       "      <td>-1</td>\n",
       "      <td>0.130</td>\n",
       "      <td>0.009660</td>\n",
       "      <td>0.016726</td>\n",
       "      <td>-1.515152</td>\n",
       "      <td>155.3795</td>\n",
       "      <td>155.3290</td>\n",
       "    </tr>\n",
       "    <tr>\n",
       "      <th>37221</th>\n",
       "      <td>2021-12-30 21:00:00+00:00</td>\n",
       "      <td>155.382</td>\n",
       "      <td>155.382</td>\n",
       "      <td>155.286</td>\n",
       "      <td>155.317</td>\n",
       "      <td>155.317</td>\n",
       "      <td>155.382</td>\n",
       "      <td>32.291667</td>\n",
       "      <td>100.000000</td>\n",
       "      <td>67.708333</td>\n",
       "      <td>1</td>\n",
       "      <td>0.065</td>\n",
       "      <td>-0.001932</td>\n",
       "      <td>-0.056603</td>\n",
       "      <td>-50.000000</td>\n",
       "      <td>155.3340</td>\n",
       "      <td>155.3590</td>\n",
       "    </tr>\n",
       "    <tr>\n",
       "      <th>37222</th>\n",
       "      <td>2021-12-30 22:00:00+00:00</td>\n",
       "      <td>155.329</td>\n",
       "      <td>155.381</td>\n",
       "      <td>155.282</td>\n",
       "      <td>155.353</td>\n",
       "      <td>155.329</td>\n",
       "      <td>155.353</td>\n",
       "      <td>47.474747</td>\n",
       "      <td>71.717172</td>\n",
       "      <td>24.242424</td>\n",
       "      <td>-1</td>\n",
       "      <td>0.024</td>\n",
       "      <td>-0.002576</td>\n",
       "      <td>-0.000644</td>\n",
       "      <td>-63.076923</td>\n",
       "      <td>155.3315</td>\n",
       "      <td>155.3795</td>\n",
       "    </tr>\n",
       "    <tr>\n",
       "      <th>37223</th>\n",
       "      <td>2021-12-30 23:00:00+00:00</td>\n",
       "      <td>155.310</td>\n",
       "      <td>155.360</td>\n",
       "      <td>155.284</td>\n",
       "      <td>155.336</td>\n",
       "      <td>155.310</td>\n",
       "      <td>155.336</td>\n",
       "      <td>34.210526</td>\n",
       "      <td>68.421053</td>\n",
       "      <td>34.210526</td>\n",
       "      <td>-1</td>\n",
       "      <td>0.026</td>\n",
       "      <td>0.001288</td>\n",
       "      <td>-0.013515</td>\n",
       "      <td>8.333333</td>\n",
       "      <td>155.3220</td>\n",
       "      <td>155.3340</td>\n",
       "    </tr>\n",
       "  </tbody>\n",
       "</table>\n",
       "</div>"
      ],
      "text/plain": [
       "                           time    mid_c    mid_h    mid_l    mid_o  \\\n",
       "37219 2021-12-30 19:00:00+00:00  155.444  155.444  155.274  155.312   \n",
       "37220 2021-12-30 20:00:00+00:00  155.312  155.470  155.289  155.442   \n",
       "37221 2021-12-30 21:00:00+00:00  155.382  155.382  155.286  155.317   \n",
       "37222 2021-12-30 22:00:00+00:00  155.329  155.381  155.282  155.353   \n",
       "37223 2021-12-30 23:00:00+00:00  155.310  155.360  155.284  155.336   \n",
       "\n",
       "       body_lower  body_upper  body_bottom_perc  body_top_perc  body_perc  \\\n",
       "37219     155.312     155.444         22.352941     100.000000  77.647059   \n",
       "37220     155.312     155.442         12.707182      84.530387  71.823204   \n",
       "37221     155.317     155.382         32.291667     100.000000  67.708333   \n",
       "37222     155.329     155.353         47.474747      71.717172  24.242424   \n",
       "37223     155.310     155.336         34.210526      68.421053  34.210526   \n",
       "\n",
       "       direction  body_size  low_change  high_change  body_size_change  \\\n",
       "37219          1      0.132    0.014171     0.024452        594.736842   \n",
       "37220         -1      0.130    0.009660     0.016726         -1.515152   \n",
       "37221          1      0.065   -0.001932    -0.056603        -50.000000   \n",
       "37222         -1      0.024   -0.002576    -0.000644        -63.076923   \n",
       "37223         -1      0.026    0.001288    -0.013515          8.333333   \n",
       "\n",
       "       mid_point  mid_point_prev_2  \n",
       "37219   155.3590          155.3965  \n",
       "37220   155.3795          155.3290  \n",
       "37221   155.3340          155.3590  \n",
       "37222   155.3315          155.3795  \n",
       "37223   155.3220          155.3340  "
      ]
     },
     "execution_count": 12,
     "metadata": {},
     "output_type": "execute_result"
    }
   ],
   "source": [
    "df_an.tail()"
   ]
  },
  {
   "cell_type": "markdown",
   "metadata": {},
   "source": [
    "# Hanging Man / Hammer"
   ]
  },
  {
   "cell_type": "code",
   "execution_count": 13,
   "metadata": {},
   "outputs": [],
   "source": [
    "HANGING_MAN_BODY = 15.0\n",
    "HANGING_MAN_HEIGHT = 75.0\n",
    "\n",
    "def apply_hanging_man(row):\n",
    "    if row.body_bottom_perc > HANGING_MAN_HEIGHT and row.body_perc < HANGING_MAN_BODY:\n",
    "        return True\n",
    "    return False"
   ]
  },
  {
   "cell_type": "code",
   "execution_count": 14,
   "metadata": {},
   "outputs": [],
   "source": [
    "df_an['HANGING_MAN'] = df_an.apply(apply_hanging_man, axis=1)"
   ]
  },
  {
   "cell_type": "code",
   "execution_count": 15,
   "metadata": {},
   "outputs": [],
   "source": [
    "import plotly.graph_objects as go"
   ]
  },
  {
   "cell_type": "code",
   "execution_count": 16,
   "metadata": {},
   "outputs": [
    {
     "data": {
      "application/vnd.plotly.v1+json": {
       "config": {
        "plotlyServerURL": "https://plot.ly"
       },
       "data": [
        {
         "close": [
          151.509,
          151.638,
          151.454,
          151.352,
          151.305,
          151.2,
          151.428,
          151.488,
          151.525,
          151.434,
          151.67,
          151.483,
          151.416,
          151.228,
          151.385,
          151.471,
          151.318,
          151.278,
          151.302,
          151.276,
          150.851,
          150.789,
          150.566,
          150.628,
          150.575,
          150.714,
          150.686,
          150.704,
          150.704,
          150.658,
          150.542,
          150.522,
          150.488,
          150.17,
          150.334,
          150.167,
          150.296,
          150.134,
          150.142,
          150.014,
          149.966,
          149.916,
          149.765,
          149.647,
          149.952,
          150.101,
          150.022,
          150.306,
          150.135,
          149.938,
          150.006,
          149.969,
          150.13,
          150.12,
          150.137,
          150.102,
          150.08,
          150.147,
          150.016,
          150.177,
          150.158,
          150.176,
          150.174,
          150.324,
          150.35,
          150.274,
          150.422,
          150.544,
          150.628,
          150.584,
          150.716,
          150.786,
          150.812,
          150.966,
          151.2,
          151.315,
          151.342,
          151.36,
          151.385,
          151.402,
          151.365,
          151.252,
          151.353,
          151.445,
          151.28,
          151.272,
          151.274,
          151.206,
          151.284,
          151.52,
          151.669,
          151.847,
          152.166,
          152.074,
          151.988,
          152.194,
          152.228,
          152.543,
          152.426,
          152.55,
          152.486,
          152.524,
          152.448,
          152.424,
          152.35,
          152.37,
          152.51,
          152.362,
          152.387,
          152.346,
          152.375,
          152.444,
          152.508,
          152.755,
          152.974,
          153.216,
          153.364,
          153.533,
          153.573,
          153.335,
          153.351,
          153.404,
          153.416,
          153.526,
          153.474,
          153.578,
          153.514,
          153.49,
          153.47,
          153.454,
          153.296,
          153.334,
          153.376,
          153.278,
          153.244,
          153.206,
          153.331,
          153.344,
          153.294,
          153.413,
          153.409,
          153.421,
          153.499,
          153.291,
          153.316,
          153.23,
          153.222,
          153.195,
          153.167,
          153.219,
          153.364,
          153.225,
          153.23,
          153.252,
          153.262,
          153.323,
          153.438,
          153.492,
          153.47,
          153.368,
          153.386,
          153.508,
          153.599,
          153.69,
          153.745,
          153.688,
          153.887,
          154.065,
          154.02,
          154.133,
          154.324,
          154.418,
          154.35,
          154.454,
          154.432,
          154.46,
          154.416,
          154.297,
          154.404,
          154.292,
          154.292,
          154.32,
          154.303,
          154.364,
          154.407,
          154.272,
          154.284,
          154.35,
          154.44,
          154.536,
          154.46,
          154.386,
          154.39,
          154.07,
          154.13,
          154.185,
          154.142,
          154.149,
          154.252,
          154.22,
          154.277,
          154.198,
          154.324,
          154.13,
          154.282,
          154.27,
          154.284,
          154.286,
          154.259,
          154.263,
          154.389,
          154.266,
          154.406,
          154.406,
          154.363,
          154.68,
          154.729,
          155.012,
          154.93,
          155.01,
          155.09,
          155.082,
          155.049,
          155.095,
          155.088,
          155.148,
          155.218,
          155.348,
          155.273,
          155.17,
          155.144,
          155.192,
          155.18,
          155.097,
          154.966,
          155.012,
          155.226,
          155.246,
          155.484,
          155.324,
          155.491,
          155.438,
          155.484,
          155.335,
          155.314,
          155.444,
          155.312,
          155.382,
          155.329,
          155.31
         ],
         "decreasing": {
          "fillcolor": "#CC2E3C",
          "line": {
           "color": "#FF3A4C"
          }
         },
         "high": [
          152.444,
          151.664,
          151.662,
          151.49,
          151.405,
          151.328,
          151.454,
          151.538,
          151.548,
          151.526,
          151.72,
          151.716,
          151.58,
          151.462,
          151.385,
          151.483,
          151.518,
          151.339,
          151.421,
          151.452,
          151.282,
          150.914,
          150.801,
          150.826,
          150.745,
          150.861,
          150.793,
          150.761,
          150.79,
          150.771,
          150.694,
          150.608,
          150.578,
          150.528,
          150.379,
          150.378,
          150.296,
          150.308,
          150.19,
          150.139,
          150.067,
          149.969,
          149.982,
          149.788,
          149.994,
          150.118,
          150.178,
          150.406,
          150.408,
          150.164,
          150.027,
          150.152,
          150.172,
          150.235,
          150.191,
          150.18,
          150.188,
          150.164,
          150.164,
          150.216,
          150.216,
          150.226,
          150.185,
          150.341,
          150.389,
          150.447,
          150.525,
          150.582,
          150.784,
          150.768,
          150.743,
          150.824,
          151.012,
          151,
          151.279,
          151.346,
          151.362,
          151.418,
          151.407,
          151.418,
          151.41,
          151.358,
          151.434,
          151.462,
          151.463,
          151.316,
          151.274,
          151.305,
          151.326,
          151.546,
          151.74,
          151.923,
          152.21,
          152.189,
          152.142,
          152.256,
          152.325,
          152.585,
          152.576,
          152.565,
          152.577,
          152.534,
          152.534,
          152.499,
          152.417,
          152.424,
          152.574,
          152.508,
          152.389,
          152.392,
          152.375,
          152.452,
          152.59,
          152.784,
          153.026,
          153.247,
          153.467,
          153.533,
          153.651,
          153.655,
          153.412,
          153.712,
          153.43,
          153.534,
          153.565,
          153.596,
          153.584,
          153.519,
          153.49,
          153.583,
          153.572,
          153.45,
          153.406,
          153.392,
          153.28,
          153.38,
          153.392,
          153.416,
          153.445,
          153.43,
          153.43,
          153.44,
          153.534,
          153.506,
          153.437,
          153.388,
          153.325,
          153.279,
          153.292,
          153.342,
          153.4,
          153.528,
          153.273,
          153.374,
          153.344,
          153.339,
          153.464,
          153.502,
          153.506,
          153.468,
          153.41,
          153.528,
          153.771,
          153.706,
          153.747,
          153.754,
          153.891,
          154.075,
          154.252,
          154.194,
          154.37,
          154.449,
          154.425,
          154.46,
          154.456,
          154.467,
          154.454,
          154.44,
          154.469,
          154.406,
          154.336,
          154.338,
          154.328,
          154.394,
          154.409,
          154.409,
          154.362,
          154.36,
          154.449,
          154.56,
          154.55,
          154.586,
          154.468,
          154.456,
          154.14,
          154.236,
          154.21,
          154.173,
          154.268,
          154.278,
          154.348,
          154.282,
          154.333,
          154.326,
          154.29,
          154.332,
          154.308,
          154.326,
          154.332,
          154.307,
          154.391,
          154.401,
          154.434,
          154.452,
          154.438,
          154.809,
          154.76,
          155.026,
          155.06,
          155.05,
          155.09,
          155.112,
          155.082,
          155.14,
          155.114,
          155.152,
          155.224,
          155.358,
          155.36,
          155.27,
          155.206,
          155.219,
          155.239,
          155.218,
          155.156,
          155.054,
          155.25,
          155.324,
          155.492,
          155.556,
          155.55,
          155.672,
          155.527,
          155.481,
          155.406,
          155.444,
          155.47,
          155.382,
          155.381,
          155.36
         ],
         "increasing": {
          "fillcolor": "#24A06B",
          "line": {
           "color": "#2EC886"
          }
         },
         "line": {
          "width": 1
         },
         "low": [
          151.488,
          151.376,
          151.262,
          151.231,
          151.26,
          151.138,
          151.1,
          151.394,
          151.431,
          151.402,
          151.434,
          151.361,
          151.392,
          151.154,
          151.118,
          151.26,
          151.258,
          151.198,
          151.226,
          151.26,
          150.802,
          150.718,
          150.432,
          150.447,
          150.438,
          150.432,
          150.585,
          150.587,
          150.618,
          150.646,
          150.541,
          150.456,
          150.437,
          150.17,
          150.157,
          150.154,
          150.068,
          150.101,
          150.093,
          149.928,
          149.936,
          149.66,
          149.741,
          149.532,
          149.644,
          149.796,
          149.996,
          150.024,
          150.036,
          149.789,
          149.77,
          149.946,
          149.964,
          150.12,
          150.106,
          150.07,
          150.025,
          150.075,
          149.984,
          149.894,
          150.122,
          150.123,
          150.11,
          150.164,
          150.268,
          150.116,
          150.222,
          150.34,
          150.536,
          150.536,
          150.571,
          150.584,
          150.784,
          150.706,
          150.947,
          151.174,
          151.238,
          151.322,
          151.246,
          151.303,
          151.261,
          151.212,
          151.254,
          151.348,
          151.21,
          151.247,
          151.205,
          151.176,
          151.104,
          151.238,
          151.48,
          151.552,
          151.84,
          152.053,
          151.944,
          151.985,
          152.06,
          152.214,
          152.402,
          152.378,
          152.45,
          152.43,
          152.4,
          152.358,
          152.29,
          152.327,
          152.34,
          152.351,
          152.31,
          152.306,
          152.33,
          152.356,
          152.42,
          152.446,
          152.75,
          152.912,
          153.166,
          153.3,
          153.488,
          153.3,
          153.106,
          153.298,
          153.254,
          153.37,
          153.469,
          153.468,
          153.464,
          153.424,
          153.349,
          153.428,
          153.281,
          153.292,
          153.278,
          153.274,
          153.213,
          153.187,
          153.173,
          153.237,
          153.208,
          153.234,
          153.276,
          153.286,
          153.373,
          153.286,
          153.248,
          153.23,
          153.128,
          153.121,
          153.117,
          153.056,
          153.141,
          153.212,
          153.105,
          153.174,
          153.166,
          153.216,
          153.302,
          153.389,
          153.425,
          153.356,
          153.337,
          153.308,
          153.433,
          153.519,
          153.62,
          153.587,
          153.65,
          153.873,
          153.975,
          154.015,
          154.115,
          154.32,
          154.33,
          154.316,
          154.368,
          154.414,
          154.389,
          154.293,
          154.18,
          154.231,
          154.26,
          154.282,
          154.246,
          154.248,
          154.286,
          154.238,
          154.224,
          154.214,
          154.309,
          154.431,
          154.434,
          154.38,
          154.296,
          154.009,
          154.034,
          154.112,
          154.113,
          154.06,
          154.126,
          154.195,
          154.239,
          154.135,
          154.155,
          154.06,
          154.074,
          154.226,
          154.224,
          154.244,
          154.248,
          154.148,
          154.218,
          154.23,
          154.216,
          154.282,
          154.31,
          154.337,
          154.416,
          154.676,
          154.876,
          154.848,
          155.003,
          155.041,
          154.986,
          155.036,
          155.041,
          155.046,
          155.101,
          155.188,
          155.248,
          155.161,
          155.13,
          155.108,
          155.132,
          155.03,
          154.96,
          154.924,
          154.991,
          155.19,
          155.248,
          155.32,
          155.222,
          155.362,
          155.349,
          155.312,
          155.252,
          155.274,
          155.289,
          155.286,
          155.282,
          155.284
         ],
         "opacity": 1,
         "open": [
          152.435,
          151.505,
          151.641,
          151.452,
          151.354,
          151.307,
          151.198,
          151.43,
          151.485,
          151.516,
          151.437,
          151.668,
          151.485,
          151.418,
          151.226,
          151.387,
          151.469,
          151.32,
          151.276,
          151.299,
          151.274,
          150.849,
          150.787,
          150.564,
          150.626,
          150.572,
          150.716,
          150.684,
          150.702,
          150.706,
          150.66,
          150.545,
          150.458,
          150.497,
          150.173,
          150.332,
          150.17,
          150.298,
          150.136,
          150.139,
          150.016,
          149.964,
          149.914,
          149.762,
          149.644,
          149.954,
          150.103,
          150.024,
          150.302,
          150.132,
          149.936,
          150.009,
          149.966,
          150.132,
          150.122,
          150.139,
          150.025,
          150.085,
          150.15,
          150.014,
          150.174,
          150.154,
          150.174,
          150.177,
          150.328,
          150.352,
          150.276,
          150.419,
          150.546,
          150.63,
          150.586,
          150.714,
          150.788,
          150.814,
          150.964,
          151.202,
          151.311,
          151.339,
          151.358,
          151.387,
          151.367,
          151.354,
          151.254,
          151.351,
          151.448,
          151.276,
          151.274,
          151.272,
          151.21,
          151.282,
          151.524,
          151.666,
          151.852,
          152.168,
          152.076,
          151.985,
          152.196,
          152.232,
          152.546,
          152.428,
          152.553,
          152.488,
          152.526,
          152.45,
          152.373,
          152.342,
          152.368,
          152.508,
          152.358,
          152.384,
          152.344,
          152.372,
          152.446,
          152.506,
          152.753,
          152.972,
          153.213,
          153.366,
          153.536,
          153.576,
          153.333,
          153.354,
          153.406,
          153.418,
          153.524,
          153.476,
          153.576,
          153.516,
          153.349,
          153.462,
          153.45,
          153.3,
          153.332,
          153.368,
          153.272,
          153.248,
          153.19,
          153.327,
          153.348,
          153.306,
          153.416,
          153.416,
          153.424,
          153.502,
          153.296,
          153.32,
          153.248,
          153.237,
          153.189,
          153.201,
          153.206,
          153.416,
          153.163,
          153.185,
          153.254,
          153.26,
          153.328,
          153.44,
          153.49,
          153.468,
          153.366,
          153.382,
          153.506,
          153.602,
          153.692,
          153.747,
          153.69,
          153.885,
          154.062,
          154.022,
          154.13,
          154.322,
          154.416,
          154.348,
          154.456,
          154.43,
          154.411,
          154.41,
          154.3,
          154.406,
          154.29,
          154.295,
          154.322,
          154.301,
          154.366,
          154.409,
          154.274,
          154.286,
          154.348,
          154.438,
          154.538,
          154.462,
          154.384,
          154.392,
          154.072,
          154.134,
          154.187,
          154.146,
          154.147,
          154.254,
          154.284,
          154.272,
          154.193,
          154.326,
          154.132,
          154.28,
          154.268,
          154.286,
          154.288,
          154.262,
          154.265,
          154.387,
          154.264,
          154.408,
          154.409,
          154.361,
          154.678,
          154.727,
          155.014,
          154.932,
          155.006,
          155.092,
          155.08,
          155.046,
          155.054,
          155.092,
          155.152,
          155.216,
          155.345,
          155.27,
          155.168,
          155.148,
          155.196,
          155.184,
          155.1,
          154.969,
          155.01,
          155.224,
          155.25,
          155.482,
          155.328,
          155.488,
          155.436,
          155.481,
          155.333,
          155.312,
          155.442,
          155.317,
          155.353,
          155.336
         ],
         "type": "candlestick",
         "x": [
          "s21-12-16 14:00",
          "s21-12-16 15:00",
          "s21-12-16 16:00",
          "s21-12-16 17:00",
          "s21-12-16 18:00",
          "s21-12-16 19:00",
          "s21-12-16 20:00",
          "s21-12-16 21:00",
          "s21-12-16 22:00",
          "s21-12-16 23:00",
          "s21-12-17 00:00",
          "s21-12-17 01:00",
          "s21-12-17 02:00",
          "s21-12-17 03:00",
          "s21-12-17 04:00",
          "s21-12-17 05:00",
          "s21-12-17 06:00",
          "s21-12-17 07:00",
          "s21-12-17 08:00",
          "s21-12-17 09:00",
          "s21-12-17 10:00",
          "s21-12-17 11:00",
          "s21-12-17 12:00",
          "s21-12-17 13:00",
          "s21-12-17 14:00",
          "s21-12-17 15:00",
          "s21-12-17 16:00",
          "s21-12-17 17:00",
          "s21-12-17 18:00",
          "s21-12-17 19:00",
          "s21-12-17 20:00",
          "s21-12-17 21:00",
          "s21-12-19 22:00",
          "s21-12-19 23:00",
          "s21-12-20 00:00",
          "s21-12-20 01:00",
          "s21-12-20 02:00",
          "s21-12-20 03:00",
          "s21-12-20 04:00",
          "s21-12-20 05:00",
          "s21-12-20 06:00",
          "s21-12-20 07:00",
          "s21-12-20 08:00",
          "s21-12-20 09:00",
          "s21-12-20 10:00",
          "s21-12-20 11:00",
          "s21-12-20 12:00",
          "s21-12-20 13:00",
          "s21-12-20 14:00",
          "s21-12-20 15:00",
          "s21-12-20 16:00",
          "s21-12-20 17:00",
          "s21-12-20 18:00",
          "s21-12-20 19:00",
          "s21-12-20 20:00",
          "s21-12-20 21:00",
          "s21-12-20 22:00",
          "s21-12-20 23:00",
          "s21-12-21 00:00",
          "s21-12-21 01:00",
          "s21-12-21 02:00",
          "s21-12-21 03:00",
          "s21-12-21 04:00",
          "s21-12-21 05:00",
          "s21-12-21 06:00",
          "s21-12-21 07:00",
          "s21-12-21 08:00",
          "s21-12-21 09:00",
          "s21-12-21 10:00",
          "s21-12-21 11:00",
          "s21-12-21 12:00",
          "s21-12-21 13:00",
          "s21-12-21 14:00",
          "s21-12-21 15:00",
          "s21-12-21 16:00",
          "s21-12-21 17:00",
          "s21-12-21 18:00",
          "s21-12-21 19:00",
          "s21-12-21 20:00",
          "s21-12-21 21:00",
          "s21-12-21 22:00",
          "s21-12-21 23:00",
          "s21-12-22 00:00",
          "s21-12-22 01:00",
          "s21-12-22 02:00",
          "s21-12-22 03:00",
          "s21-12-22 04:00",
          "s21-12-22 05:00",
          "s21-12-22 06:00",
          "s21-12-22 07:00",
          "s21-12-22 08:00",
          "s21-12-22 09:00",
          "s21-12-22 10:00",
          "s21-12-22 11:00",
          "s21-12-22 12:00",
          "s21-12-22 13:00",
          "s21-12-22 14:00",
          "s21-12-22 15:00",
          "s21-12-22 16:00",
          "s21-12-22 17:00",
          "s21-12-22 18:00",
          "s21-12-22 19:00",
          "s21-12-22 20:00",
          "s21-12-22 21:00",
          "s21-12-22 22:00",
          "s21-12-22 23:00",
          "s21-12-23 00:00",
          "s21-12-23 01:00",
          "s21-12-23 02:00",
          "s21-12-23 03:00",
          "s21-12-23 04:00",
          "s21-12-23 05:00",
          "s21-12-23 06:00",
          "s21-12-23 07:00",
          "s21-12-23 08:00",
          "s21-12-23 09:00",
          "s21-12-23 10:00",
          "s21-12-23 11:00",
          "s21-12-23 12:00",
          "s21-12-23 13:00",
          "s21-12-23 14:00",
          "s21-12-23 15:00",
          "s21-12-23 16:00",
          "s21-12-23 17:00",
          "s21-12-23 18:00",
          "s21-12-23 19:00",
          "s21-12-23 20:00",
          "s21-12-23 21:00",
          "s21-12-23 22:00",
          "s21-12-23 23:00",
          "s21-12-24 00:00",
          "s21-12-24 01:00",
          "s21-12-24 02:00",
          "s21-12-24 03:00",
          "s21-12-24 04:00",
          "s21-12-24 05:00",
          "s21-12-24 06:00",
          "s21-12-24 07:00",
          "s21-12-24 08:00",
          "s21-12-24 09:00",
          "s21-12-24 10:00",
          "s21-12-24 11:00",
          "s21-12-24 12:00",
          "s21-12-24 13:00",
          "s21-12-24 14:00",
          "s21-12-24 15:00",
          "s21-12-24 16:00",
          "s21-12-24 17:00",
          "s21-12-24 18:00",
          "s21-12-24 19:00",
          "s21-12-24 20:00",
          "s21-12-24 21:00",
          "s21-12-26 22:00",
          "s21-12-26 23:00",
          "s21-12-27 00:00",
          "s21-12-27 01:00",
          "s21-12-27 02:00",
          "s21-12-27 03:00",
          "s21-12-27 04:00",
          "s21-12-27 05:00",
          "s21-12-27 06:00",
          "s21-12-27 07:00",
          "s21-12-27 08:00",
          "s21-12-27 09:00",
          "s21-12-27 10:00",
          "s21-12-27 11:00",
          "s21-12-27 12:00",
          "s21-12-27 13:00",
          "s21-12-27 14:00",
          "s21-12-27 15:00",
          "s21-12-27 16:00",
          "s21-12-27 17:00",
          "s21-12-27 18:00",
          "s21-12-27 19:00",
          "s21-12-27 20:00",
          "s21-12-27 21:00",
          "s21-12-27 22:00",
          "s21-12-27 23:00",
          "s21-12-28 00:00",
          "s21-12-28 01:00",
          "s21-12-28 02:00",
          "s21-12-28 03:00",
          "s21-12-28 04:00",
          "s21-12-28 05:00",
          "s21-12-28 06:00",
          "s21-12-28 07:00",
          "s21-12-28 08:00",
          "s21-12-28 09:00",
          "s21-12-28 10:00",
          "s21-12-28 11:00",
          "s21-12-28 12:00",
          "s21-12-28 13:00",
          "s21-12-28 14:00",
          "s21-12-28 15:00",
          "s21-12-28 16:00",
          "s21-12-28 17:00",
          "s21-12-28 18:00",
          "s21-12-28 19:00",
          "s21-12-28 20:00",
          "s21-12-28 21:00",
          "s21-12-28 22:00",
          "s21-12-28 23:00",
          "s21-12-29 00:00",
          "s21-12-29 01:00",
          "s21-12-29 02:00",
          "s21-12-29 03:00",
          "s21-12-29 04:00",
          "s21-12-29 05:00",
          "s21-12-29 06:00",
          "s21-12-29 07:00",
          "s21-12-29 08:00",
          "s21-12-29 09:00",
          "s21-12-29 10:00",
          "s21-12-29 11:00",
          "s21-12-29 12:00",
          "s21-12-29 13:00",
          "s21-12-29 14:00",
          "s21-12-29 15:00",
          "s21-12-29 16:00",
          "s21-12-29 17:00",
          "s21-12-29 18:00",
          "s21-12-29 19:00",
          "s21-12-29 20:00",
          "s21-12-29 21:00",
          "s21-12-29 22:00",
          "s21-12-29 23:00",
          "s21-12-30 00:00",
          "s21-12-30 01:00",
          "s21-12-30 02:00",
          "s21-12-30 03:00",
          "s21-12-30 04:00",
          "s21-12-30 05:00",
          "s21-12-30 06:00",
          "s21-12-30 07:00",
          "s21-12-30 08:00",
          "s21-12-30 09:00",
          "s21-12-30 10:00",
          "s21-12-30 11:00",
          "s21-12-30 12:00",
          "s21-12-30 13:00",
          "s21-12-30 14:00",
          "s21-12-30 15:00",
          "s21-12-30 16:00",
          "s21-12-30 17:00",
          "s21-12-30 18:00",
          "s21-12-30 19:00",
          "s21-12-30 20:00",
          "s21-12-30 21:00",
          "s21-12-30 22:00",
          "s21-12-30 23:00"
         ]
        },
        {
         "close": [
          150.174,
          151.274,
          153.416,
          153.409,
          153.421,
          154.149,
          154.729
         ],
         "decreasing": {
          "fillcolor": "#0066FF",
          "line": {
           "color": "#0066FF"
          }
         },
         "high": [
          150.185,
          151.274,
          153.43,
          153.43,
          153.44,
          154.173,
          154.76
         ],
         "increasing": {
          "fillcolor": "#0066FF",
          "line": {
           "color": "#0066FF"
          }
         },
         "line": {
          "width": 1
         },
         "low": [
          150.11,
          151.205,
          153.254,
          153.276,
          153.286,
          154.06,
          154.416
         ],
         "opacity": 1,
         "open": [
          150.174,
          151.274,
          153.406,
          153.416,
          153.416,
          154.146,
          154.678
         ],
         "type": "candlestick",
         "x": [
          "s21-12-21 04:00",
          "s21-12-22 04:00",
          "s21-12-23 16:00",
          "s21-12-24 10:00",
          "s21-12-24 11:00",
          "s21-12-28 19:00",
          "s21-12-29 14:00"
         ]
        }
       ],
       "layout": {
        "font": {
         "color": "#e1e1e1",
         "size": 8
        },
        "height": 400,
        "margin": {
         "b": 10,
         "l": 10,
         "r": 10,
         "t": 10
        },
        "paper_bgcolor": "#2c303c",
        "plot_bgcolor": "#2c303c",
        "template": {
         "data": {
          "bar": [
           {
            "error_x": {
             "color": "#2a3f5f"
            },
            "error_y": {
             "color": "#2a3f5f"
            },
            "marker": {
             "line": {
              "color": "#E5ECF6",
              "width": 0.5
             },
             "pattern": {
              "fillmode": "overlay",
              "size": 10,
              "solidity": 0.2
             }
            },
            "type": "bar"
           }
          ],
          "barpolar": [
           {
            "marker": {
             "line": {
              "color": "#E5ECF6",
              "width": 0.5
             },
             "pattern": {
              "fillmode": "overlay",
              "size": 10,
              "solidity": 0.2
             }
            },
            "type": "barpolar"
           }
          ],
          "carpet": [
           {
            "aaxis": {
             "endlinecolor": "#2a3f5f",
             "gridcolor": "white",
             "linecolor": "white",
             "minorgridcolor": "white",
             "startlinecolor": "#2a3f5f"
            },
            "baxis": {
             "endlinecolor": "#2a3f5f",
             "gridcolor": "white",
             "linecolor": "white",
             "minorgridcolor": "white",
             "startlinecolor": "#2a3f5f"
            },
            "type": "carpet"
           }
          ],
          "choropleth": [
           {
            "colorbar": {
             "outlinewidth": 0,
             "ticks": ""
            },
            "type": "choropleth"
           }
          ],
          "contour": [
           {
            "colorbar": {
             "outlinewidth": 0,
             "ticks": ""
            },
            "colorscale": [
             [
              0,
              "#0d0887"
             ],
             [
              0.1111111111111111,
              "#46039f"
             ],
             [
              0.2222222222222222,
              "#7201a8"
             ],
             [
              0.3333333333333333,
              "#9c179e"
             ],
             [
              0.4444444444444444,
              "#bd3786"
             ],
             [
              0.5555555555555556,
              "#d8576b"
             ],
             [
              0.6666666666666666,
              "#ed7953"
             ],
             [
              0.7777777777777778,
              "#fb9f3a"
             ],
             [
              0.8888888888888888,
              "#fdca26"
             ],
             [
              1,
              "#f0f921"
             ]
            ],
            "type": "contour"
           }
          ],
          "contourcarpet": [
           {
            "colorbar": {
             "outlinewidth": 0,
             "ticks": ""
            },
            "type": "contourcarpet"
           }
          ],
          "heatmap": [
           {
            "colorbar": {
             "outlinewidth": 0,
             "ticks": ""
            },
            "colorscale": [
             [
              0,
              "#0d0887"
             ],
             [
              0.1111111111111111,
              "#46039f"
             ],
             [
              0.2222222222222222,
              "#7201a8"
             ],
             [
              0.3333333333333333,
              "#9c179e"
             ],
             [
              0.4444444444444444,
              "#bd3786"
             ],
             [
              0.5555555555555556,
              "#d8576b"
             ],
             [
              0.6666666666666666,
              "#ed7953"
             ],
             [
              0.7777777777777778,
              "#fb9f3a"
             ],
             [
              0.8888888888888888,
              "#fdca26"
             ],
             [
              1,
              "#f0f921"
             ]
            ],
            "type": "heatmap"
           }
          ],
          "heatmapgl": [
           {
            "colorbar": {
             "outlinewidth": 0,
             "ticks": ""
            },
            "colorscale": [
             [
              0,
              "#0d0887"
             ],
             [
              0.1111111111111111,
              "#46039f"
             ],
             [
              0.2222222222222222,
              "#7201a8"
             ],
             [
              0.3333333333333333,
              "#9c179e"
             ],
             [
              0.4444444444444444,
              "#bd3786"
             ],
             [
              0.5555555555555556,
              "#d8576b"
             ],
             [
              0.6666666666666666,
              "#ed7953"
             ],
             [
              0.7777777777777778,
              "#fb9f3a"
             ],
             [
              0.8888888888888888,
              "#fdca26"
             ],
             [
              1,
              "#f0f921"
             ]
            ],
            "type": "heatmapgl"
           }
          ],
          "histogram": [
           {
            "marker": {
             "pattern": {
              "fillmode": "overlay",
              "size": 10,
              "solidity": 0.2
             }
            },
            "type": "histogram"
           }
          ],
          "histogram2d": [
           {
            "colorbar": {
             "outlinewidth": 0,
             "ticks": ""
            },
            "colorscale": [
             [
              0,
              "#0d0887"
             ],
             [
              0.1111111111111111,
              "#46039f"
             ],
             [
              0.2222222222222222,
              "#7201a8"
             ],
             [
              0.3333333333333333,
              "#9c179e"
             ],
             [
              0.4444444444444444,
              "#bd3786"
             ],
             [
              0.5555555555555556,
              "#d8576b"
             ],
             [
              0.6666666666666666,
              "#ed7953"
             ],
             [
              0.7777777777777778,
              "#fb9f3a"
             ],
             [
              0.8888888888888888,
              "#fdca26"
             ],
             [
              1,
              "#f0f921"
             ]
            ],
            "type": "histogram2d"
           }
          ],
          "histogram2dcontour": [
           {
            "colorbar": {
             "outlinewidth": 0,
             "ticks": ""
            },
            "colorscale": [
             [
              0,
              "#0d0887"
             ],
             [
              0.1111111111111111,
              "#46039f"
             ],
             [
              0.2222222222222222,
              "#7201a8"
             ],
             [
              0.3333333333333333,
              "#9c179e"
             ],
             [
              0.4444444444444444,
              "#bd3786"
             ],
             [
              0.5555555555555556,
              "#d8576b"
             ],
             [
              0.6666666666666666,
              "#ed7953"
             ],
             [
              0.7777777777777778,
              "#fb9f3a"
             ],
             [
              0.8888888888888888,
              "#fdca26"
             ],
             [
              1,
              "#f0f921"
             ]
            ],
            "type": "histogram2dcontour"
           }
          ],
          "mesh3d": [
           {
            "colorbar": {
             "outlinewidth": 0,
             "ticks": ""
            },
            "type": "mesh3d"
           }
          ],
          "parcoords": [
           {
            "line": {
             "colorbar": {
              "outlinewidth": 0,
              "ticks": ""
             }
            },
            "type": "parcoords"
           }
          ],
          "pie": [
           {
            "automargin": true,
            "type": "pie"
           }
          ],
          "scatter": [
           {
            "fillpattern": {
             "fillmode": "overlay",
             "size": 10,
             "solidity": 0.2
            },
            "type": "scatter"
           }
          ],
          "scatter3d": [
           {
            "line": {
             "colorbar": {
              "outlinewidth": 0,
              "ticks": ""
             }
            },
            "marker": {
             "colorbar": {
              "outlinewidth": 0,
              "ticks": ""
             }
            },
            "type": "scatter3d"
           }
          ],
          "scattercarpet": [
           {
            "marker": {
             "colorbar": {
              "outlinewidth": 0,
              "ticks": ""
             }
            },
            "type": "scattercarpet"
           }
          ],
          "scattergeo": [
           {
            "marker": {
             "colorbar": {
              "outlinewidth": 0,
              "ticks": ""
             }
            },
            "type": "scattergeo"
           }
          ],
          "scattergl": [
           {
            "marker": {
             "colorbar": {
              "outlinewidth": 0,
              "ticks": ""
             }
            },
            "type": "scattergl"
           }
          ],
          "scattermapbox": [
           {
            "marker": {
             "colorbar": {
              "outlinewidth": 0,
              "ticks": ""
             }
            },
            "type": "scattermapbox"
           }
          ],
          "scatterpolar": [
           {
            "marker": {
             "colorbar": {
              "outlinewidth": 0,
              "ticks": ""
             }
            },
            "type": "scatterpolar"
           }
          ],
          "scatterpolargl": [
           {
            "marker": {
             "colorbar": {
              "outlinewidth": 0,
              "ticks": ""
             }
            },
            "type": "scatterpolargl"
           }
          ],
          "scatterternary": [
           {
            "marker": {
             "colorbar": {
              "outlinewidth": 0,
              "ticks": ""
             }
            },
            "type": "scatterternary"
           }
          ],
          "surface": [
           {
            "colorbar": {
             "outlinewidth": 0,
             "ticks": ""
            },
            "colorscale": [
             [
              0,
              "#0d0887"
             ],
             [
              0.1111111111111111,
              "#46039f"
             ],
             [
              0.2222222222222222,
              "#7201a8"
             ],
             [
              0.3333333333333333,
              "#9c179e"
             ],
             [
              0.4444444444444444,
              "#bd3786"
             ],
             [
              0.5555555555555556,
              "#d8576b"
             ],
             [
              0.6666666666666666,
              "#ed7953"
             ],
             [
              0.7777777777777778,
              "#fb9f3a"
             ],
             [
              0.8888888888888888,
              "#fdca26"
             ],
             [
              1,
              "#f0f921"
             ]
            ],
            "type": "surface"
           }
          ],
          "table": [
           {
            "cells": {
             "fill": {
              "color": "#EBF0F8"
             },
             "line": {
              "color": "white"
             }
            },
            "header": {
             "fill": {
              "color": "#C8D4E3"
             },
             "line": {
              "color": "white"
             }
            },
            "type": "table"
           }
          ]
         },
         "layout": {
          "annotationdefaults": {
           "arrowcolor": "#2a3f5f",
           "arrowhead": 0,
           "arrowwidth": 1
          },
          "autotypenumbers": "strict",
          "coloraxis": {
           "colorbar": {
            "outlinewidth": 0,
            "ticks": ""
           }
          },
          "colorscale": {
           "diverging": [
            [
             0,
             "#8e0152"
            ],
            [
             0.1,
             "#c51b7d"
            ],
            [
             0.2,
             "#de77ae"
            ],
            [
             0.3,
             "#f1b6da"
            ],
            [
             0.4,
             "#fde0ef"
            ],
            [
             0.5,
             "#f7f7f7"
            ],
            [
             0.6,
             "#e6f5d0"
            ],
            [
             0.7,
             "#b8e186"
            ],
            [
             0.8,
             "#7fbc41"
            ],
            [
             0.9,
             "#4d9221"
            ],
            [
             1,
             "#276419"
            ]
           ],
           "sequential": [
            [
             0,
             "#0d0887"
            ],
            [
             0.1111111111111111,
             "#46039f"
            ],
            [
             0.2222222222222222,
             "#7201a8"
            ],
            [
             0.3333333333333333,
             "#9c179e"
            ],
            [
             0.4444444444444444,
             "#bd3786"
            ],
            [
             0.5555555555555556,
             "#d8576b"
            ],
            [
             0.6666666666666666,
             "#ed7953"
            ],
            [
             0.7777777777777778,
             "#fb9f3a"
            ],
            [
             0.8888888888888888,
             "#fdca26"
            ],
            [
             1,
             "#f0f921"
            ]
           ],
           "sequentialminus": [
            [
             0,
             "#0d0887"
            ],
            [
             0.1111111111111111,
             "#46039f"
            ],
            [
             0.2222222222222222,
             "#7201a8"
            ],
            [
             0.3333333333333333,
             "#9c179e"
            ],
            [
             0.4444444444444444,
             "#bd3786"
            ],
            [
             0.5555555555555556,
             "#d8576b"
            ],
            [
             0.6666666666666666,
             "#ed7953"
            ],
            [
             0.7777777777777778,
             "#fb9f3a"
            ],
            [
             0.8888888888888888,
             "#fdca26"
            ],
            [
             1,
             "#f0f921"
            ]
           ]
          },
          "colorway": [
           "#636efa",
           "#EF553B",
           "#00cc96",
           "#ab63fa",
           "#FFA15A",
           "#19d3f3",
           "#FF6692",
           "#B6E880",
           "#FF97FF",
           "#FECB52"
          ],
          "font": {
           "color": "#2a3f5f"
          },
          "geo": {
           "bgcolor": "white",
           "lakecolor": "white",
           "landcolor": "#E5ECF6",
           "showlakes": true,
           "showland": true,
           "subunitcolor": "white"
          },
          "hoverlabel": {
           "align": "left"
          },
          "hovermode": "closest",
          "mapbox": {
           "style": "light"
          },
          "paper_bgcolor": "white",
          "plot_bgcolor": "#E5ECF6",
          "polar": {
           "angularaxis": {
            "gridcolor": "white",
            "linecolor": "white",
            "ticks": ""
           },
           "bgcolor": "#E5ECF6",
           "radialaxis": {
            "gridcolor": "white",
            "linecolor": "white",
            "ticks": ""
           }
          },
          "scene": {
           "xaxis": {
            "backgroundcolor": "#E5ECF6",
            "gridcolor": "white",
            "gridwidth": 2,
            "linecolor": "white",
            "showbackground": true,
            "ticks": "",
            "zerolinecolor": "white"
           },
           "yaxis": {
            "backgroundcolor": "#E5ECF6",
            "gridcolor": "white",
            "gridwidth": 2,
            "linecolor": "white",
            "showbackground": true,
            "ticks": "",
            "zerolinecolor": "white"
           },
           "zaxis": {
            "backgroundcolor": "#E5ECF6",
            "gridcolor": "white",
            "gridwidth": 2,
            "linecolor": "white",
            "showbackground": true,
            "ticks": "",
            "zerolinecolor": "white"
           }
          },
          "shapedefaults": {
           "line": {
            "color": "#2a3f5f"
           }
          },
          "ternary": {
           "aaxis": {
            "gridcolor": "white",
            "linecolor": "white",
            "ticks": ""
           },
           "baxis": {
            "gridcolor": "white",
            "linecolor": "white",
            "ticks": ""
           },
           "bgcolor": "#E5ECF6",
           "caxis": {
            "gridcolor": "white",
            "linecolor": "white",
            "ticks": ""
           }
          },
          "title": {
           "x": 0.05
          },
          "xaxis": {
           "automargin": true,
           "gridcolor": "white",
           "linecolor": "white",
           "ticks": "",
           "title": {
            "standoff": 15
           },
           "zerolinecolor": "white",
           "zerolinewidth": 2
          },
          "yaxis": {
           "automargin": true,
           "gridcolor": "white",
           "linecolor": "white",
           "ticks": "",
           "title": {
            "standoff": 15
           },
           "zerolinecolor": "white",
           "zerolinewidth": 2
          }
         }
        },
        "width": 900,
        "xaxis": {
         "anchor": "y",
         "domain": [
          0,
          0.94
         ],
         "gridcolor": "#1f292f",
         "nticks": 5,
         "rangeslider": {
          "visible": false
         }
        },
        "yaxis": {
         "anchor": "x",
         "domain": [
          0,
          1
         ],
         "gridcolor": "#1f292f"
        },
        "yaxis2": {
         "anchor": "x",
         "gridcolor": "#1f292f",
         "overlaying": "y",
         "side": "right"
        }
       }
      }
     },
     "metadata": {},
     "output_type": "display_data"
    }
   ],
   "source": [
    "MARKER = '#0066FF'\n",
    "dfp = df_an.iloc[-250:]\n",
    "cp = CandlePlot(dfp, candles=True)\n",
    "df_temp = cp.df_plot[cp.df_plot.HANGING_MAN == True]\n",
    "cp.fig.add_trace(go.Candlestick(\n",
    "                x = df_temp.sTime,\n",
    "                open = df_temp.mid_o,\n",
    "                high = df_temp.mid_h,\n",
    "                low = df_temp.mid_l,\n",
    "                close = df_temp.mid_c,\n",
    "                line=dict(width=1), opacity=1,\n",
    "                increasing_fillcolor=MARKER,\n",
    "                decreasing_fillcolor=MARKER,\n",
    "                increasing_line_color=MARKER,\n",
    "                decreasing_line_color=MARKER\n",
    "            ))\n",
    "\n",
    "cp.show_plot()"
   ]
  },
  {
   "cell_type": "markdown",
   "metadata": {},
   "source": [
    "# Inverted Hammer"
   ]
  },
  {
   "cell_type": "code",
   "execution_count": 17,
   "metadata": {},
   "outputs": [],
   "source": [
    "SHOOTING_STAR_HEIGHT = 25.0\n",
    "HANGING_MAN_BODY = 15.0\n",
    "\n",
    "def apply_shooting_star(row):\n",
    "    if row.body_top_perc < SHOOTING_STAR_HEIGHT and row.body_perc < HANGING_MAN_BODY:\n",
    "        return True\n",
    "    return False"
   ]
  },
  {
   "cell_type": "code",
   "execution_count": 18,
   "metadata": {},
   "outputs": [],
   "source": [
    "df_an['SHOOTING_STAR'] = df_an.apply(apply_shooting_star, axis=1)"
   ]
  },
  {
   "cell_type": "code",
   "execution_count": 19,
   "metadata": {},
   "outputs": [],
   "source": [
    "import plotly.graph_objects as go"
   ]
  },
  {
   "cell_type": "code",
   "execution_count": 20,
   "metadata": {},
   "outputs": [
    {
     "data": {
      "application/vnd.plotly.v1+json": {
       "config": {
        "plotlyServerURL": "https://plot.ly"
       },
       "data": [
        {
         "close": [
          151.509,
          151.638,
          151.454,
          151.352,
          151.305,
          151.2,
          151.428,
          151.488,
          151.525,
          151.434,
          151.67,
          151.483,
          151.416,
          151.228,
          151.385,
          151.471,
          151.318,
          151.278,
          151.302,
          151.276,
          150.851,
          150.789,
          150.566,
          150.628,
          150.575,
          150.714,
          150.686,
          150.704,
          150.704,
          150.658,
          150.542,
          150.522,
          150.488,
          150.17,
          150.334,
          150.167,
          150.296,
          150.134,
          150.142,
          150.014,
          149.966,
          149.916,
          149.765,
          149.647,
          149.952,
          150.101,
          150.022,
          150.306,
          150.135,
          149.938,
          150.006,
          149.969,
          150.13,
          150.12,
          150.137,
          150.102,
          150.08,
          150.147,
          150.016,
          150.177,
          150.158,
          150.176,
          150.174,
          150.324,
          150.35,
          150.274,
          150.422,
          150.544,
          150.628,
          150.584,
          150.716,
          150.786,
          150.812,
          150.966,
          151.2,
          151.315,
          151.342,
          151.36,
          151.385,
          151.402,
          151.365,
          151.252,
          151.353,
          151.445,
          151.28,
          151.272,
          151.274,
          151.206,
          151.284,
          151.52,
          151.669,
          151.847,
          152.166,
          152.074,
          151.988,
          152.194,
          152.228,
          152.543,
          152.426,
          152.55,
          152.486,
          152.524,
          152.448,
          152.424,
          152.35,
          152.37,
          152.51,
          152.362,
          152.387,
          152.346,
          152.375,
          152.444,
          152.508,
          152.755,
          152.974,
          153.216,
          153.364,
          153.533,
          153.573,
          153.335,
          153.351,
          153.404,
          153.416,
          153.526,
          153.474,
          153.578,
          153.514,
          153.49,
          153.47,
          153.454,
          153.296,
          153.334,
          153.376,
          153.278,
          153.244,
          153.206,
          153.331,
          153.344,
          153.294,
          153.413,
          153.409,
          153.421,
          153.499,
          153.291,
          153.316,
          153.23,
          153.222,
          153.195,
          153.167,
          153.219,
          153.364,
          153.225,
          153.23,
          153.252,
          153.262,
          153.323,
          153.438,
          153.492,
          153.47,
          153.368,
          153.386,
          153.508,
          153.599,
          153.69,
          153.745,
          153.688,
          153.887,
          154.065,
          154.02,
          154.133,
          154.324,
          154.418,
          154.35,
          154.454,
          154.432,
          154.46,
          154.416,
          154.297,
          154.404,
          154.292,
          154.292,
          154.32,
          154.303,
          154.364,
          154.407,
          154.272,
          154.284,
          154.35,
          154.44,
          154.536,
          154.46,
          154.386,
          154.39,
          154.07,
          154.13,
          154.185,
          154.142,
          154.149,
          154.252,
          154.22,
          154.277,
          154.198,
          154.324,
          154.13,
          154.282,
          154.27,
          154.284,
          154.286,
          154.259,
          154.263,
          154.389,
          154.266,
          154.406,
          154.406,
          154.363,
          154.68,
          154.729,
          155.012,
          154.93,
          155.01,
          155.09,
          155.082,
          155.049,
          155.095,
          155.088,
          155.148,
          155.218,
          155.348,
          155.273,
          155.17,
          155.144,
          155.192,
          155.18,
          155.097,
          154.966,
          155.012,
          155.226,
          155.246,
          155.484,
          155.324,
          155.491,
          155.438,
          155.484,
          155.335,
          155.314,
          155.444,
          155.312,
          155.382,
          155.329,
          155.31
         ],
         "decreasing": {
          "fillcolor": "#CC2E3C",
          "line": {
           "color": "#FF3A4C"
          }
         },
         "high": [
          152.444,
          151.664,
          151.662,
          151.49,
          151.405,
          151.328,
          151.454,
          151.538,
          151.548,
          151.526,
          151.72,
          151.716,
          151.58,
          151.462,
          151.385,
          151.483,
          151.518,
          151.339,
          151.421,
          151.452,
          151.282,
          150.914,
          150.801,
          150.826,
          150.745,
          150.861,
          150.793,
          150.761,
          150.79,
          150.771,
          150.694,
          150.608,
          150.578,
          150.528,
          150.379,
          150.378,
          150.296,
          150.308,
          150.19,
          150.139,
          150.067,
          149.969,
          149.982,
          149.788,
          149.994,
          150.118,
          150.178,
          150.406,
          150.408,
          150.164,
          150.027,
          150.152,
          150.172,
          150.235,
          150.191,
          150.18,
          150.188,
          150.164,
          150.164,
          150.216,
          150.216,
          150.226,
          150.185,
          150.341,
          150.389,
          150.447,
          150.525,
          150.582,
          150.784,
          150.768,
          150.743,
          150.824,
          151.012,
          151,
          151.279,
          151.346,
          151.362,
          151.418,
          151.407,
          151.418,
          151.41,
          151.358,
          151.434,
          151.462,
          151.463,
          151.316,
          151.274,
          151.305,
          151.326,
          151.546,
          151.74,
          151.923,
          152.21,
          152.189,
          152.142,
          152.256,
          152.325,
          152.585,
          152.576,
          152.565,
          152.577,
          152.534,
          152.534,
          152.499,
          152.417,
          152.424,
          152.574,
          152.508,
          152.389,
          152.392,
          152.375,
          152.452,
          152.59,
          152.784,
          153.026,
          153.247,
          153.467,
          153.533,
          153.651,
          153.655,
          153.412,
          153.712,
          153.43,
          153.534,
          153.565,
          153.596,
          153.584,
          153.519,
          153.49,
          153.583,
          153.572,
          153.45,
          153.406,
          153.392,
          153.28,
          153.38,
          153.392,
          153.416,
          153.445,
          153.43,
          153.43,
          153.44,
          153.534,
          153.506,
          153.437,
          153.388,
          153.325,
          153.279,
          153.292,
          153.342,
          153.4,
          153.528,
          153.273,
          153.374,
          153.344,
          153.339,
          153.464,
          153.502,
          153.506,
          153.468,
          153.41,
          153.528,
          153.771,
          153.706,
          153.747,
          153.754,
          153.891,
          154.075,
          154.252,
          154.194,
          154.37,
          154.449,
          154.425,
          154.46,
          154.456,
          154.467,
          154.454,
          154.44,
          154.469,
          154.406,
          154.336,
          154.338,
          154.328,
          154.394,
          154.409,
          154.409,
          154.362,
          154.36,
          154.449,
          154.56,
          154.55,
          154.586,
          154.468,
          154.456,
          154.14,
          154.236,
          154.21,
          154.173,
          154.268,
          154.278,
          154.348,
          154.282,
          154.333,
          154.326,
          154.29,
          154.332,
          154.308,
          154.326,
          154.332,
          154.307,
          154.391,
          154.401,
          154.434,
          154.452,
          154.438,
          154.809,
          154.76,
          155.026,
          155.06,
          155.05,
          155.09,
          155.112,
          155.082,
          155.14,
          155.114,
          155.152,
          155.224,
          155.358,
          155.36,
          155.27,
          155.206,
          155.219,
          155.239,
          155.218,
          155.156,
          155.054,
          155.25,
          155.324,
          155.492,
          155.556,
          155.55,
          155.672,
          155.527,
          155.481,
          155.406,
          155.444,
          155.47,
          155.382,
          155.381,
          155.36
         ],
         "increasing": {
          "fillcolor": "#24A06B",
          "line": {
           "color": "#2EC886"
          }
         },
         "line": {
          "width": 1
         },
         "low": [
          151.488,
          151.376,
          151.262,
          151.231,
          151.26,
          151.138,
          151.1,
          151.394,
          151.431,
          151.402,
          151.434,
          151.361,
          151.392,
          151.154,
          151.118,
          151.26,
          151.258,
          151.198,
          151.226,
          151.26,
          150.802,
          150.718,
          150.432,
          150.447,
          150.438,
          150.432,
          150.585,
          150.587,
          150.618,
          150.646,
          150.541,
          150.456,
          150.437,
          150.17,
          150.157,
          150.154,
          150.068,
          150.101,
          150.093,
          149.928,
          149.936,
          149.66,
          149.741,
          149.532,
          149.644,
          149.796,
          149.996,
          150.024,
          150.036,
          149.789,
          149.77,
          149.946,
          149.964,
          150.12,
          150.106,
          150.07,
          150.025,
          150.075,
          149.984,
          149.894,
          150.122,
          150.123,
          150.11,
          150.164,
          150.268,
          150.116,
          150.222,
          150.34,
          150.536,
          150.536,
          150.571,
          150.584,
          150.784,
          150.706,
          150.947,
          151.174,
          151.238,
          151.322,
          151.246,
          151.303,
          151.261,
          151.212,
          151.254,
          151.348,
          151.21,
          151.247,
          151.205,
          151.176,
          151.104,
          151.238,
          151.48,
          151.552,
          151.84,
          152.053,
          151.944,
          151.985,
          152.06,
          152.214,
          152.402,
          152.378,
          152.45,
          152.43,
          152.4,
          152.358,
          152.29,
          152.327,
          152.34,
          152.351,
          152.31,
          152.306,
          152.33,
          152.356,
          152.42,
          152.446,
          152.75,
          152.912,
          153.166,
          153.3,
          153.488,
          153.3,
          153.106,
          153.298,
          153.254,
          153.37,
          153.469,
          153.468,
          153.464,
          153.424,
          153.349,
          153.428,
          153.281,
          153.292,
          153.278,
          153.274,
          153.213,
          153.187,
          153.173,
          153.237,
          153.208,
          153.234,
          153.276,
          153.286,
          153.373,
          153.286,
          153.248,
          153.23,
          153.128,
          153.121,
          153.117,
          153.056,
          153.141,
          153.212,
          153.105,
          153.174,
          153.166,
          153.216,
          153.302,
          153.389,
          153.425,
          153.356,
          153.337,
          153.308,
          153.433,
          153.519,
          153.62,
          153.587,
          153.65,
          153.873,
          153.975,
          154.015,
          154.115,
          154.32,
          154.33,
          154.316,
          154.368,
          154.414,
          154.389,
          154.293,
          154.18,
          154.231,
          154.26,
          154.282,
          154.246,
          154.248,
          154.286,
          154.238,
          154.224,
          154.214,
          154.309,
          154.431,
          154.434,
          154.38,
          154.296,
          154.009,
          154.034,
          154.112,
          154.113,
          154.06,
          154.126,
          154.195,
          154.239,
          154.135,
          154.155,
          154.06,
          154.074,
          154.226,
          154.224,
          154.244,
          154.248,
          154.148,
          154.218,
          154.23,
          154.216,
          154.282,
          154.31,
          154.337,
          154.416,
          154.676,
          154.876,
          154.848,
          155.003,
          155.041,
          154.986,
          155.036,
          155.041,
          155.046,
          155.101,
          155.188,
          155.248,
          155.161,
          155.13,
          155.108,
          155.132,
          155.03,
          154.96,
          154.924,
          154.991,
          155.19,
          155.248,
          155.32,
          155.222,
          155.362,
          155.349,
          155.312,
          155.252,
          155.274,
          155.289,
          155.286,
          155.282,
          155.284
         ],
         "opacity": 1,
         "open": [
          152.435,
          151.505,
          151.641,
          151.452,
          151.354,
          151.307,
          151.198,
          151.43,
          151.485,
          151.516,
          151.437,
          151.668,
          151.485,
          151.418,
          151.226,
          151.387,
          151.469,
          151.32,
          151.276,
          151.299,
          151.274,
          150.849,
          150.787,
          150.564,
          150.626,
          150.572,
          150.716,
          150.684,
          150.702,
          150.706,
          150.66,
          150.545,
          150.458,
          150.497,
          150.173,
          150.332,
          150.17,
          150.298,
          150.136,
          150.139,
          150.016,
          149.964,
          149.914,
          149.762,
          149.644,
          149.954,
          150.103,
          150.024,
          150.302,
          150.132,
          149.936,
          150.009,
          149.966,
          150.132,
          150.122,
          150.139,
          150.025,
          150.085,
          150.15,
          150.014,
          150.174,
          150.154,
          150.174,
          150.177,
          150.328,
          150.352,
          150.276,
          150.419,
          150.546,
          150.63,
          150.586,
          150.714,
          150.788,
          150.814,
          150.964,
          151.202,
          151.311,
          151.339,
          151.358,
          151.387,
          151.367,
          151.354,
          151.254,
          151.351,
          151.448,
          151.276,
          151.274,
          151.272,
          151.21,
          151.282,
          151.524,
          151.666,
          151.852,
          152.168,
          152.076,
          151.985,
          152.196,
          152.232,
          152.546,
          152.428,
          152.553,
          152.488,
          152.526,
          152.45,
          152.373,
          152.342,
          152.368,
          152.508,
          152.358,
          152.384,
          152.344,
          152.372,
          152.446,
          152.506,
          152.753,
          152.972,
          153.213,
          153.366,
          153.536,
          153.576,
          153.333,
          153.354,
          153.406,
          153.418,
          153.524,
          153.476,
          153.576,
          153.516,
          153.349,
          153.462,
          153.45,
          153.3,
          153.332,
          153.368,
          153.272,
          153.248,
          153.19,
          153.327,
          153.348,
          153.306,
          153.416,
          153.416,
          153.424,
          153.502,
          153.296,
          153.32,
          153.248,
          153.237,
          153.189,
          153.201,
          153.206,
          153.416,
          153.163,
          153.185,
          153.254,
          153.26,
          153.328,
          153.44,
          153.49,
          153.468,
          153.366,
          153.382,
          153.506,
          153.602,
          153.692,
          153.747,
          153.69,
          153.885,
          154.062,
          154.022,
          154.13,
          154.322,
          154.416,
          154.348,
          154.456,
          154.43,
          154.411,
          154.41,
          154.3,
          154.406,
          154.29,
          154.295,
          154.322,
          154.301,
          154.366,
          154.409,
          154.274,
          154.286,
          154.348,
          154.438,
          154.538,
          154.462,
          154.384,
          154.392,
          154.072,
          154.134,
          154.187,
          154.146,
          154.147,
          154.254,
          154.284,
          154.272,
          154.193,
          154.326,
          154.132,
          154.28,
          154.268,
          154.286,
          154.288,
          154.262,
          154.265,
          154.387,
          154.264,
          154.408,
          154.409,
          154.361,
          154.678,
          154.727,
          155.014,
          154.932,
          155.006,
          155.092,
          155.08,
          155.046,
          155.054,
          155.092,
          155.152,
          155.216,
          155.345,
          155.27,
          155.168,
          155.148,
          155.196,
          155.184,
          155.1,
          154.969,
          155.01,
          155.224,
          155.25,
          155.482,
          155.328,
          155.488,
          155.436,
          155.481,
          155.333,
          155.312,
          155.442,
          155.317,
          155.353,
          155.336
         ],
         "type": "candlestick",
         "x": [
          "s21-12-16 14:00",
          "s21-12-16 15:00",
          "s21-12-16 16:00",
          "s21-12-16 17:00",
          "s21-12-16 18:00",
          "s21-12-16 19:00",
          "s21-12-16 20:00",
          "s21-12-16 21:00",
          "s21-12-16 22:00",
          "s21-12-16 23:00",
          "s21-12-17 00:00",
          "s21-12-17 01:00",
          "s21-12-17 02:00",
          "s21-12-17 03:00",
          "s21-12-17 04:00",
          "s21-12-17 05:00",
          "s21-12-17 06:00",
          "s21-12-17 07:00",
          "s21-12-17 08:00",
          "s21-12-17 09:00",
          "s21-12-17 10:00",
          "s21-12-17 11:00",
          "s21-12-17 12:00",
          "s21-12-17 13:00",
          "s21-12-17 14:00",
          "s21-12-17 15:00",
          "s21-12-17 16:00",
          "s21-12-17 17:00",
          "s21-12-17 18:00",
          "s21-12-17 19:00",
          "s21-12-17 20:00",
          "s21-12-17 21:00",
          "s21-12-19 22:00",
          "s21-12-19 23:00",
          "s21-12-20 00:00",
          "s21-12-20 01:00",
          "s21-12-20 02:00",
          "s21-12-20 03:00",
          "s21-12-20 04:00",
          "s21-12-20 05:00",
          "s21-12-20 06:00",
          "s21-12-20 07:00",
          "s21-12-20 08:00",
          "s21-12-20 09:00",
          "s21-12-20 10:00",
          "s21-12-20 11:00",
          "s21-12-20 12:00",
          "s21-12-20 13:00",
          "s21-12-20 14:00",
          "s21-12-20 15:00",
          "s21-12-20 16:00",
          "s21-12-20 17:00",
          "s21-12-20 18:00",
          "s21-12-20 19:00",
          "s21-12-20 20:00",
          "s21-12-20 21:00",
          "s21-12-20 22:00",
          "s21-12-20 23:00",
          "s21-12-21 00:00",
          "s21-12-21 01:00",
          "s21-12-21 02:00",
          "s21-12-21 03:00",
          "s21-12-21 04:00",
          "s21-12-21 05:00",
          "s21-12-21 06:00",
          "s21-12-21 07:00",
          "s21-12-21 08:00",
          "s21-12-21 09:00",
          "s21-12-21 10:00",
          "s21-12-21 11:00",
          "s21-12-21 12:00",
          "s21-12-21 13:00",
          "s21-12-21 14:00",
          "s21-12-21 15:00",
          "s21-12-21 16:00",
          "s21-12-21 17:00",
          "s21-12-21 18:00",
          "s21-12-21 19:00",
          "s21-12-21 20:00",
          "s21-12-21 21:00",
          "s21-12-21 22:00",
          "s21-12-21 23:00",
          "s21-12-22 00:00",
          "s21-12-22 01:00",
          "s21-12-22 02:00",
          "s21-12-22 03:00",
          "s21-12-22 04:00",
          "s21-12-22 05:00",
          "s21-12-22 06:00",
          "s21-12-22 07:00",
          "s21-12-22 08:00",
          "s21-12-22 09:00",
          "s21-12-22 10:00",
          "s21-12-22 11:00",
          "s21-12-22 12:00",
          "s21-12-22 13:00",
          "s21-12-22 14:00",
          "s21-12-22 15:00",
          "s21-12-22 16:00",
          "s21-12-22 17:00",
          "s21-12-22 18:00",
          "s21-12-22 19:00",
          "s21-12-22 20:00",
          "s21-12-22 21:00",
          "s21-12-22 22:00",
          "s21-12-22 23:00",
          "s21-12-23 00:00",
          "s21-12-23 01:00",
          "s21-12-23 02:00",
          "s21-12-23 03:00",
          "s21-12-23 04:00",
          "s21-12-23 05:00",
          "s21-12-23 06:00",
          "s21-12-23 07:00",
          "s21-12-23 08:00",
          "s21-12-23 09:00",
          "s21-12-23 10:00",
          "s21-12-23 11:00",
          "s21-12-23 12:00",
          "s21-12-23 13:00",
          "s21-12-23 14:00",
          "s21-12-23 15:00",
          "s21-12-23 16:00",
          "s21-12-23 17:00",
          "s21-12-23 18:00",
          "s21-12-23 19:00",
          "s21-12-23 20:00",
          "s21-12-23 21:00",
          "s21-12-23 22:00",
          "s21-12-23 23:00",
          "s21-12-24 00:00",
          "s21-12-24 01:00",
          "s21-12-24 02:00",
          "s21-12-24 03:00",
          "s21-12-24 04:00",
          "s21-12-24 05:00",
          "s21-12-24 06:00",
          "s21-12-24 07:00",
          "s21-12-24 08:00",
          "s21-12-24 09:00",
          "s21-12-24 10:00",
          "s21-12-24 11:00",
          "s21-12-24 12:00",
          "s21-12-24 13:00",
          "s21-12-24 14:00",
          "s21-12-24 15:00",
          "s21-12-24 16:00",
          "s21-12-24 17:00",
          "s21-12-24 18:00",
          "s21-12-24 19:00",
          "s21-12-24 20:00",
          "s21-12-24 21:00",
          "s21-12-26 22:00",
          "s21-12-26 23:00",
          "s21-12-27 00:00",
          "s21-12-27 01:00",
          "s21-12-27 02:00",
          "s21-12-27 03:00",
          "s21-12-27 04:00",
          "s21-12-27 05:00",
          "s21-12-27 06:00",
          "s21-12-27 07:00",
          "s21-12-27 08:00",
          "s21-12-27 09:00",
          "s21-12-27 10:00",
          "s21-12-27 11:00",
          "s21-12-27 12:00",
          "s21-12-27 13:00",
          "s21-12-27 14:00",
          "s21-12-27 15:00",
          "s21-12-27 16:00",
          "s21-12-27 17:00",
          "s21-12-27 18:00",
          "s21-12-27 19:00",
          "s21-12-27 20:00",
          "s21-12-27 21:00",
          "s21-12-27 22:00",
          "s21-12-27 23:00",
          "s21-12-28 00:00",
          "s21-12-28 01:00",
          "s21-12-28 02:00",
          "s21-12-28 03:00",
          "s21-12-28 04:00",
          "s21-12-28 05:00",
          "s21-12-28 06:00",
          "s21-12-28 07:00",
          "s21-12-28 08:00",
          "s21-12-28 09:00",
          "s21-12-28 10:00",
          "s21-12-28 11:00",
          "s21-12-28 12:00",
          "s21-12-28 13:00",
          "s21-12-28 14:00",
          "s21-12-28 15:00",
          "s21-12-28 16:00",
          "s21-12-28 17:00",
          "s21-12-28 18:00",
          "s21-12-28 19:00",
          "s21-12-28 20:00",
          "s21-12-28 21:00",
          "s21-12-28 22:00",
          "s21-12-28 23:00",
          "s21-12-29 00:00",
          "s21-12-29 01:00",
          "s21-12-29 02:00",
          "s21-12-29 03:00",
          "s21-12-29 04:00",
          "s21-12-29 05:00",
          "s21-12-29 06:00",
          "s21-12-29 07:00",
          "s21-12-29 08:00",
          "s21-12-29 09:00",
          "s21-12-29 10:00",
          "s21-12-29 11:00",
          "s21-12-29 12:00",
          "s21-12-29 13:00",
          "s21-12-29 14:00",
          "s21-12-29 15:00",
          "s21-12-29 16:00",
          "s21-12-29 17:00",
          "s21-12-29 18:00",
          "s21-12-29 19:00",
          "s21-12-29 20:00",
          "s21-12-29 21:00",
          "s21-12-29 22:00",
          "s21-12-29 23:00",
          "s21-12-30 00:00",
          "s21-12-30 01:00",
          "s21-12-30 02:00",
          "s21-12-30 03:00",
          "s21-12-30 04:00",
          "s21-12-30 05:00",
          "s21-12-30 06:00",
          "s21-12-30 07:00",
          "s21-12-30 08:00",
          "s21-12-30 09:00",
          "s21-12-30 10:00",
          "s21-12-30 11:00",
          "s21-12-30 12:00",
          "s21-12-30 13:00",
          "s21-12-30 14:00",
          "s21-12-30 15:00",
          "s21-12-30 16:00",
          "s21-12-30 17:00",
          "s21-12-30 18:00",
          "s21-12-30 19:00",
          "s21-12-30 20:00",
          "s21-12-30 21:00",
          "s21-12-30 22:00",
          "s21-12-30 23:00"
         ]
        },
        {
         "close": [
          151.276,
          150.12,
          150.812,
          153.454
         ],
         "decreasing": {
          "fillcolor": "#0066FF",
          "line": {
           "color": "#0066FF"
          }
         },
         "high": [
          151.452,
          150.235,
          151.012,
          153.583
         ],
         "increasing": {
          "fillcolor": "#0066FF",
          "line": {
           "color": "#0066FF"
          }
         },
         "line": {
          "width": 1
         },
         "low": [
          151.26,
          150.12,
          150.784,
          153.428
         ],
         "opacity": 1,
         "open": [
          151.299,
          150.132,
          150.788,
          153.462
         ],
         "type": "candlestick",
         "x": [
          "s21-12-17 09:00",
          "s21-12-20 19:00",
          "s21-12-21 14:00",
          "s21-12-23 23:00"
         ]
        }
       ],
       "layout": {
        "font": {
         "color": "#e1e1e1",
         "size": 8
        },
        "height": 400,
        "margin": {
         "b": 10,
         "l": 10,
         "r": 10,
         "t": 10
        },
        "paper_bgcolor": "#2c303c",
        "plot_bgcolor": "#2c303c",
        "template": {
         "data": {
          "bar": [
           {
            "error_x": {
             "color": "#2a3f5f"
            },
            "error_y": {
             "color": "#2a3f5f"
            },
            "marker": {
             "line": {
              "color": "#E5ECF6",
              "width": 0.5
             },
             "pattern": {
              "fillmode": "overlay",
              "size": 10,
              "solidity": 0.2
             }
            },
            "type": "bar"
           }
          ],
          "barpolar": [
           {
            "marker": {
             "line": {
              "color": "#E5ECF6",
              "width": 0.5
             },
             "pattern": {
              "fillmode": "overlay",
              "size": 10,
              "solidity": 0.2
             }
            },
            "type": "barpolar"
           }
          ],
          "carpet": [
           {
            "aaxis": {
             "endlinecolor": "#2a3f5f",
             "gridcolor": "white",
             "linecolor": "white",
             "minorgridcolor": "white",
             "startlinecolor": "#2a3f5f"
            },
            "baxis": {
             "endlinecolor": "#2a3f5f",
             "gridcolor": "white",
             "linecolor": "white",
             "minorgridcolor": "white",
             "startlinecolor": "#2a3f5f"
            },
            "type": "carpet"
           }
          ],
          "choropleth": [
           {
            "colorbar": {
             "outlinewidth": 0,
             "ticks": ""
            },
            "type": "choropleth"
           }
          ],
          "contour": [
           {
            "colorbar": {
             "outlinewidth": 0,
             "ticks": ""
            },
            "colorscale": [
             [
              0,
              "#0d0887"
             ],
             [
              0.1111111111111111,
              "#46039f"
             ],
             [
              0.2222222222222222,
              "#7201a8"
             ],
             [
              0.3333333333333333,
              "#9c179e"
             ],
             [
              0.4444444444444444,
              "#bd3786"
             ],
             [
              0.5555555555555556,
              "#d8576b"
             ],
             [
              0.6666666666666666,
              "#ed7953"
             ],
             [
              0.7777777777777778,
              "#fb9f3a"
             ],
             [
              0.8888888888888888,
              "#fdca26"
             ],
             [
              1,
              "#f0f921"
             ]
            ],
            "type": "contour"
           }
          ],
          "contourcarpet": [
           {
            "colorbar": {
             "outlinewidth": 0,
             "ticks": ""
            },
            "type": "contourcarpet"
           }
          ],
          "heatmap": [
           {
            "colorbar": {
             "outlinewidth": 0,
             "ticks": ""
            },
            "colorscale": [
             [
              0,
              "#0d0887"
             ],
             [
              0.1111111111111111,
              "#46039f"
             ],
             [
              0.2222222222222222,
              "#7201a8"
             ],
             [
              0.3333333333333333,
              "#9c179e"
             ],
             [
              0.4444444444444444,
              "#bd3786"
             ],
             [
              0.5555555555555556,
              "#d8576b"
             ],
             [
              0.6666666666666666,
              "#ed7953"
             ],
             [
              0.7777777777777778,
              "#fb9f3a"
             ],
             [
              0.8888888888888888,
              "#fdca26"
             ],
             [
              1,
              "#f0f921"
             ]
            ],
            "type": "heatmap"
           }
          ],
          "heatmapgl": [
           {
            "colorbar": {
             "outlinewidth": 0,
             "ticks": ""
            },
            "colorscale": [
             [
              0,
              "#0d0887"
             ],
             [
              0.1111111111111111,
              "#46039f"
             ],
             [
              0.2222222222222222,
              "#7201a8"
             ],
             [
              0.3333333333333333,
              "#9c179e"
             ],
             [
              0.4444444444444444,
              "#bd3786"
             ],
             [
              0.5555555555555556,
              "#d8576b"
             ],
             [
              0.6666666666666666,
              "#ed7953"
             ],
             [
              0.7777777777777778,
              "#fb9f3a"
             ],
             [
              0.8888888888888888,
              "#fdca26"
             ],
             [
              1,
              "#f0f921"
             ]
            ],
            "type": "heatmapgl"
           }
          ],
          "histogram": [
           {
            "marker": {
             "pattern": {
              "fillmode": "overlay",
              "size": 10,
              "solidity": 0.2
             }
            },
            "type": "histogram"
           }
          ],
          "histogram2d": [
           {
            "colorbar": {
             "outlinewidth": 0,
             "ticks": ""
            },
            "colorscale": [
             [
              0,
              "#0d0887"
             ],
             [
              0.1111111111111111,
              "#46039f"
             ],
             [
              0.2222222222222222,
              "#7201a8"
             ],
             [
              0.3333333333333333,
              "#9c179e"
             ],
             [
              0.4444444444444444,
              "#bd3786"
             ],
             [
              0.5555555555555556,
              "#d8576b"
             ],
             [
              0.6666666666666666,
              "#ed7953"
             ],
             [
              0.7777777777777778,
              "#fb9f3a"
             ],
             [
              0.8888888888888888,
              "#fdca26"
             ],
             [
              1,
              "#f0f921"
             ]
            ],
            "type": "histogram2d"
           }
          ],
          "histogram2dcontour": [
           {
            "colorbar": {
             "outlinewidth": 0,
             "ticks": ""
            },
            "colorscale": [
             [
              0,
              "#0d0887"
             ],
             [
              0.1111111111111111,
              "#46039f"
             ],
             [
              0.2222222222222222,
              "#7201a8"
             ],
             [
              0.3333333333333333,
              "#9c179e"
             ],
             [
              0.4444444444444444,
              "#bd3786"
             ],
             [
              0.5555555555555556,
              "#d8576b"
             ],
             [
              0.6666666666666666,
              "#ed7953"
             ],
             [
              0.7777777777777778,
              "#fb9f3a"
             ],
             [
              0.8888888888888888,
              "#fdca26"
             ],
             [
              1,
              "#f0f921"
             ]
            ],
            "type": "histogram2dcontour"
           }
          ],
          "mesh3d": [
           {
            "colorbar": {
             "outlinewidth": 0,
             "ticks": ""
            },
            "type": "mesh3d"
           }
          ],
          "parcoords": [
           {
            "line": {
             "colorbar": {
              "outlinewidth": 0,
              "ticks": ""
             }
            },
            "type": "parcoords"
           }
          ],
          "pie": [
           {
            "automargin": true,
            "type": "pie"
           }
          ],
          "scatter": [
           {
            "fillpattern": {
             "fillmode": "overlay",
             "size": 10,
             "solidity": 0.2
            },
            "type": "scatter"
           }
          ],
          "scatter3d": [
           {
            "line": {
             "colorbar": {
              "outlinewidth": 0,
              "ticks": ""
             }
            },
            "marker": {
             "colorbar": {
              "outlinewidth": 0,
              "ticks": ""
             }
            },
            "type": "scatter3d"
           }
          ],
          "scattercarpet": [
           {
            "marker": {
             "colorbar": {
              "outlinewidth": 0,
              "ticks": ""
             }
            },
            "type": "scattercarpet"
           }
          ],
          "scattergeo": [
           {
            "marker": {
             "colorbar": {
              "outlinewidth": 0,
              "ticks": ""
             }
            },
            "type": "scattergeo"
           }
          ],
          "scattergl": [
           {
            "marker": {
             "colorbar": {
              "outlinewidth": 0,
              "ticks": ""
             }
            },
            "type": "scattergl"
           }
          ],
          "scattermapbox": [
           {
            "marker": {
             "colorbar": {
              "outlinewidth": 0,
              "ticks": ""
             }
            },
            "type": "scattermapbox"
           }
          ],
          "scatterpolar": [
           {
            "marker": {
             "colorbar": {
              "outlinewidth": 0,
              "ticks": ""
             }
            },
            "type": "scatterpolar"
           }
          ],
          "scatterpolargl": [
           {
            "marker": {
             "colorbar": {
              "outlinewidth": 0,
              "ticks": ""
             }
            },
            "type": "scatterpolargl"
           }
          ],
          "scatterternary": [
           {
            "marker": {
             "colorbar": {
              "outlinewidth": 0,
              "ticks": ""
             }
            },
            "type": "scatterternary"
           }
          ],
          "surface": [
           {
            "colorbar": {
             "outlinewidth": 0,
             "ticks": ""
            },
            "colorscale": [
             [
              0,
              "#0d0887"
             ],
             [
              0.1111111111111111,
              "#46039f"
             ],
             [
              0.2222222222222222,
              "#7201a8"
             ],
             [
              0.3333333333333333,
              "#9c179e"
             ],
             [
              0.4444444444444444,
              "#bd3786"
             ],
             [
              0.5555555555555556,
              "#d8576b"
             ],
             [
              0.6666666666666666,
              "#ed7953"
             ],
             [
              0.7777777777777778,
              "#fb9f3a"
             ],
             [
              0.8888888888888888,
              "#fdca26"
             ],
             [
              1,
              "#f0f921"
             ]
            ],
            "type": "surface"
           }
          ],
          "table": [
           {
            "cells": {
             "fill": {
              "color": "#EBF0F8"
             },
             "line": {
              "color": "white"
             }
            },
            "header": {
             "fill": {
              "color": "#C8D4E3"
             },
             "line": {
              "color": "white"
             }
            },
            "type": "table"
           }
          ]
         },
         "layout": {
          "annotationdefaults": {
           "arrowcolor": "#2a3f5f",
           "arrowhead": 0,
           "arrowwidth": 1
          },
          "autotypenumbers": "strict",
          "coloraxis": {
           "colorbar": {
            "outlinewidth": 0,
            "ticks": ""
           }
          },
          "colorscale": {
           "diverging": [
            [
             0,
             "#8e0152"
            ],
            [
             0.1,
             "#c51b7d"
            ],
            [
             0.2,
             "#de77ae"
            ],
            [
             0.3,
             "#f1b6da"
            ],
            [
             0.4,
             "#fde0ef"
            ],
            [
             0.5,
             "#f7f7f7"
            ],
            [
             0.6,
             "#e6f5d0"
            ],
            [
             0.7,
             "#b8e186"
            ],
            [
             0.8,
             "#7fbc41"
            ],
            [
             0.9,
             "#4d9221"
            ],
            [
             1,
             "#276419"
            ]
           ],
           "sequential": [
            [
             0,
             "#0d0887"
            ],
            [
             0.1111111111111111,
             "#46039f"
            ],
            [
             0.2222222222222222,
             "#7201a8"
            ],
            [
             0.3333333333333333,
             "#9c179e"
            ],
            [
             0.4444444444444444,
             "#bd3786"
            ],
            [
             0.5555555555555556,
             "#d8576b"
            ],
            [
             0.6666666666666666,
             "#ed7953"
            ],
            [
             0.7777777777777778,
             "#fb9f3a"
            ],
            [
             0.8888888888888888,
             "#fdca26"
            ],
            [
             1,
             "#f0f921"
            ]
           ],
           "sequentialminus": [
            [
             0,
             "#0d0887"
            ],
            [
             0.1111111111111111,
             "#46039f"
            ],
            [
             0.2222222222222222,
             "#7201a8"
            ],
            [
             0.3333333333333333,
             "#9c179e"
            ],
            [
             0.4444444444444444,
             "#bd3786"
            ],
            [
             0.5555555555555556,
             "#d8576b"
            ],
            [
             0.6666666666666666,
             "#ed7953"
            ],
            [
             0.7777777777777778,
             "#fb9f3a"
            ],
            [
             0.8888888888888888,
             "#fdca26"
            ],
            [
             1,
             "#f0f921"
            ]
           ]
          },
          "colorway": [
           "#636efa",
           "#EF553B",
           "#00cc96",
           "#ab63fa",
           "#FFA15A",
           "#19d3f3",
           "#FF6692",
           "#B6E880",
           "#FF97FF",
           "#FECB52"
          ],
          "font": {
           "color": "#2a3f5f"
          },
          "geo": {
           "bgcolor": "white",
           "lakecolor": "white",
           "landcolor": "#E5ECF6",
           "showlakes": true,
           "showland": true,
           "subunitcolor": "white"
          },
          "hoverlabel": {
           "align": "left"
          },
          "hovermode": "closest",
          "mapbox": {
           "style": "light"
          },
          "paper_bgcolor": "white",
          "plot_bgcolor": "#E5ECF6",
          "polar": {
           "angularaxis": {
            "gridcolor": "white",
            "linecolor": "white",
            "ticks": ""
           },
           "bgcolor": "#E5ECF6",
           "radialaxis": {
            "gridcolor": "white",
            "linecolor": "white",
            "ticks": ""
           }
          },
          "scene": {
           "xaxis": {
            "backgroundcolor": "#E5ECF6",
            "gridcolor": "white",
            "gridwidth": 2,
            "linecolor": "white",
            "showbackground": true,
            "ticks": "",
            "zerolinecolor": "white"
           },
           "yaxis": {
            "backgroundcolor": "#E5ECF6",
            "gridcolor": "white",
            "gridwidth": 2,
            "linecolor": "white",
            "showbackground": true,
            "ticks": "",
            "zerolinecolor": "white"
           },
           "zaxis": {
            "backgroundcolor": "#E5ECF6",
            "gridcolor": "white",
            "gridwidth": 2,
            "linecolor": "white",
            "showbackground": true,
            "ticks": "",
            "zerolinecolor": "white"
           }
          },
          "shapedefaults": {
           "line": {
            "color": "#2a3f5f"
           }
          },
          "ternary": {
           "aaxis": {
            "gridcolor": "white",
            "linecolor": "white",
            "ticks": ""
           },
           "baxis": {
            "gridcolor": "white",
            "linecolor": "white",
            "ticks": ""
           },
           "bgcolor": "#E5ECF6",
           "caxis": {
            "gridcolor": "white",
            "linecolor": "white",
            "ticks": ""
           }
          },
          "title": {
           "x": 0.05
          },
          "xaxis": {
           "automargin": true,
           "gridcolor": "white",
           "linecolor": "white",
           "ticks": "",
           "title": {
            "standoff": 15
           },
           "zerolinecolor": "white",
           "zerolinewidth": 2
          },
          "yaxis": {
           "automargin": true,
           "gridcolor": "white",
           "linecolor": "white",
           "ticks": "",
           "title": {
            "standoff": 15
           },
           "zerolinecolor": "white",
           "zerolinewidth": 2
          }
         }
        },
        "width": 900,
        "xaxis": {
         "anchor": "y",
         "domain": [
          0,
          0.94
         ],
         "gridcolor": "#1f292f",
         "nticks": 5,
         "rangeslider": {
          "visible": false
         }
        },
        "yaxis": {
         "anchor": "x",
         "domain": [
          0,
          1
         ],
         "gridcolor": "#1f292f"
        },
        "yaxis2": {
         "anchor": "x",
         "gridcolor": "#1f292f",
         "overlaying": "y",
         "side": "right"
        }
       }
      }
     },
     "metadata": {},
     "output_type": "display_data"
    }
   ],
   "source": [
    "MARKER = '#0066FF'\n",
    "dfp = df_an.iloc[-250:]\n",
    "cp = CandlePlot(dfp, candles=True)\n",
    "df_temp = cp.df_plot[cp.df_plot.SHOOTING_STAR == True]\n",
    "cp.fig.add_trace(go.Candlestick(\n",
    "                x = df_temp.sTime,\n",
    "                open = df_temp.mid_o,\n",
    "                high = df_temp.mid_h,\n",
    "                low = df_temp.mid_l,\n",
    "                close = df_temp.mid_c,\n",
    "                line=dict(width=1), opacity=1,\n",
    "                increasing_fillcolor=MARKER,\n",
    "                decreasing_fillcolor=MARKER,\n",
    "                increasing_line_color=MARKER,\n",
    "                decreasing_line_color=MARKER\n",
    "            ))\n",
    "\n",
    "cp.show_plot()"
   ]
  },
  {
   "cell_type": "markdown",
   "metadata": {},
   "source": [
    "# Spinning Top"
   ]
  },
  {
   "cell_type": "code",
   "execution_count": 21,
   "metadata": {},
   "outputs": [],
   "source": [
    "HANGING_MAN_BODY = 15.0\n",
    "SPINNING_TOP_MIN = 40.0\n",
    "SPINNING_TOP_MAX = 60.0\n",
    "\n",
    "def apply_spinning_top(row):\n",
    "    if row.body_top_perc < SPINNING_TOP_MAX and row.body_bottom_perc > SPINNING_TOP_MIN and row.body_perc < HANGING_MAN_BODY:\n",
    "        return True\n",
    "    return False"
   ]
  },
  {
   "cell_type": "code",
   "execution_count": 22,
   "metadata": {},
   "outputs": [],
   "source": [
    "df_an['SPINNING_TOP'] = df_an.apply(apply_spinning_top, axis=1)"
   ]
  },
  {
   "cell_type": "code",
   "execution_count": 23,
   "metadata": {},
   "outputs": [],
   "source": [
    "import plotly.graph_objects as go"
   ]
  },
  {
   "cell_type": "code",
   "execution_count": 24,
   "metadata": {},
   "outputs": [
    {
     "data": {
      "application/vnd.plotly.v1+json": {
       "config": {
        "plotlyServerURL": "https://plot.ly"
       },
       "data": [
        {
         "close": [
          151.509,
          151.638,
          151.454,
          151.352,
          151.305,
          151.2,
          151.428,
          151.488,
          151.525,
          151.434,
          151.67,
          151.483,
          151.416,
          151.228,
          151.385,
          151.471,
          151.318,
          151.278,
          151.302,
          151.276,
          150.851,
          150.789,
          150.566,
          150.628,
          150.575,
          150.714,
          150.686,
          150.704,
          150.704,
          150.658,
          150.542,
          150.522,
          150.488,
          150.17,
          150.334,
          150.167,
          150.296,
          150.134,
          150.142,
          150.014,
          149.966,
          149.916,
          149.765,
          149.647,
          149.952,
          150.101,
          150.022,
          150.306,
          150.135,
          149.938,
          150.006,
          149.969,
          150.13,
          150.12,
          150.137,
          150.102,
          150.08,
          150.147,
          150.016,
          150.177,
          150.158,
          150.176,
          150.174,
          150.324,
          150.35,
          150.274,
          150.422,
          150.544,
          150.628,
          150.584,
          150.716,
          150.786,
          150.812,
          150.966,
          151.2,
          151.315,
          151.342,
          151.36,
          151.385,
          151.402,
          151.365,
          151.252,
          151.353,
          151.445,
          151.28,
          151.272,
          151.274,
          151.206,
          151.284,
          151.52,
          151.669,
          151.847,
          152.166,
          152.074,
          151.988,
          152.194,
          152.228,
          152.543,
          152.426,
          152.55,
          152.486,
          152.524,
          152.448,
          152.424,
          152.35,
          152.37,
          152.51,
          152.362,
          152.387,
          152.346,
          152.375,
          152.444,
          152.508,
          152.755,
          152.974,
          153.216,
          153.364,
          153.533,
          153.573,
          153.335,
          153.351,
          153.404,
          153.416,
          153.526,
          153.474,
          153.578,
          153.514,
          153.49,
          153.47,
          153.454,
          153.296,
          153.334,
          153.376,
          153.278,
          153.244,
          153.206,
          153.331,
          153.344,
          153.294,
          153.413,
          153.409,
          153.421,
          153.499,
          153.291,
          153.316,
          153.23,
          153.222,
          153.195,
          153.167,
          153.219,
          153.364,
          153.225,
          153.23,
          153.252,
          153.262,
          153.323,
          153.438,
          153.492,
          153.47,
          153.368,
          153.386,
          153.508,
          153.599,
          153.69,
          153.745,
          153.688,
          153.887,
          154.065,
          154.02,
          154.133,
          154.324,
          154.418,
          154.35,
          154.454,
          154.432,
          154.46,
          154.416,
          154.297,
          154.404,
          154.292,
          154.292,
          154.32,
          154.303,
          154.364,
          154.407,
          154.272,
          154.284,
          154.35,
          154.44,
          154.536,
          154.46,
          154.386,
          154.39,
          154.07,
          154.13,
          154.185,
          154.142,
          154.149,
          154.252,
          154.22,
          154.277,
          154.198,
          154.324,
          154.13,
          154.282,
          154.27,
          154.284,
          154.286,
          154.259,
          154.263,
          154.389,
          154.266,
          154.406,
          154.406,
          154.363,
          154.68,
          154.729,
          155.012,
          154.93,
          155.01,
          155.09,
          155.082,
          155.049,
          155.095,
          155.088,
          155.148,
          155.218,
          155.348,
          155.273,
          155.17,
          155.144,
          155.192,
          155.18,
          155.097,
          154.966,
          155.012,
          155.226,
          155.246,
          155.484,
          155.324,
          155.491,
          155.438,
          155.484,
          155.335,
          155.314,
          155.444,
          155.312,
          155.382,
          155.329,
          155.31
         ],
         "decreasing": {
          "fillcolor": "#CC2E3C",
          "line": {
           "color": "#FF3A4C"
          }
         },
         "high": [
          152.444,
          151.664,
          151.662,
          151.49,
          151.405,
          151.328,
          151.454,
          151.538,
          151.548,
          151.526,
          151.72,
          151.716,
          151.58,
          151.462,
          151.385,
          151.483,
          151.518,
          151.339,
          151.421,
          151.452,
          151.282,
          150.914,
          150.801,
          150.826,
          150.745,
          150.861,
          150.793,
          150.761,
          150.79,
          150.771,
          150.694,
          150.608,
          150.578,
          150.528,
          150.379,
          150.378,
          150.296,
          150.308,
          150.19,
          150.139,
          150.067,
          149.969,
          149.982,
          149.788,
          149.994,
          150.118,
          150.178,
          150.406,
          150.408,
          150.164,
          150.027,
          150.152,
          150.172,
          150.235,
          150.191,
          150.18,
          150.188,
          150.164,
          150.164,
          150.216,
          150.216,
          150.226,
          150.185,
          150.341,
          150.389,
          150.447,
          150.525,
          150.582,
          150.784,
          150.768,
          150.743,
          150.824,
          151.012,
          151,
          151.279,
          151.346,
          151.362,
          151.418,
          151.407,
          151.418,
          151.41,
          151.358,
          151.434,
          151.462,
          151.463,
          151.316,
          151.274,
          151.305,
          151.326,
          151.546,
          151.74,
          151.923,
          152.21,
          152.189,
          152.142,
          152.256,
          152.325,
          152.585,
          152.576,
          152.565,
          152.577,
          152.534,
          152.534,
          152.499,
          152.417,
          152.424,
          152.574,
          152.508,
          152.389,
          152.392,
          152.375,
          152.452,
          152.59,
          152.784,
          153.026,
          153.247,
          153.467,
          153.533,
          153.651,
          153.655,
          153.412,
          153.712,
          153.43,
          153.534,
          153.565,
          153.596,
          153.584,
          153.519,
          153.49,
          153.583,
          153.572,
          153.45,
          153.406,
          153.392,
          153.28,
          153.38,
          153.392,
          153.416,
          153.445,
          153.43,
          153.43,
          153.44,
          153.534,
          153.506,
          153.437,
          153.388,
          153.325,
          153.279,
          153.292,
          153.342,
          153.4,
          153.528,
          153.273,
          153.374,
          153.344,
          153.339,
          153.464,
          153.502,
          153.506,
          153.468,
          153.41,
          153.528,
          153.771,
          153.706,
          153.747,
          153.754,
          153.891,
          154.075,
          154.252,
          154.194,
          154.37,
          154.449,
          154.425,
          154.46,
          154.456,
          154.467,
          154.454,
          154.44,
          154.469,
          154.406,
          154.336,
          154.338,
          154.328,
          154.394,
          154.409,
          154.409,
          154.362,
          154.36,
          154.449,
          154.56,
          154.55,
          154.586,
          154.468,
          154.456,
          154.14,
          154.236,
          154.21,
          154.173,
          154.268,
          154.278,
          154.348,
          154.282,
          154.333,
          154.326,
          154.29,
          154.332,
          154.308,
          154.326,
          154.332,
          154.307,
          154.391,
          154.401,
          154.434,
          154.452,
          154.438,
          154.809,
          154.76,
          155.026,
          155.06,
          155.05,
          155.09,
          155.112,
          155.082,
          155.14,
          155.114,
          155.152,
          155.224,
          155.358,
          155.36,
          155.27,
          155.206,
          155.219,
          155.239,
          155.218,
          155.156,
          155.054,
          155.25,
          155.324,
          155.492,
          155.556,
          155.55,
          155.672,
          155.527,
          155.481,
          155.406,
          155.444,
          155.47,
          155.382,
          155.381,
          155.36
         ],
         "increasing": {
          "fillcolor": "#24A06B",
          "line": {
           "color": "#2EC886"
          }
         },
         "line": {
          "width": 1
         },
         "low": [
          151.488,
          151.376,
          151.262,
          151.231,
          151.26,
          151.138,
          151.1,
          151.394,
          151.431,
          151.402,
          151.434,
          151.361,
          151.392,
          151.154,
          151.118,
          151.26,
          151.258,
          151.198,
          151.226,
          151.26,
          150.802,
          150.718,
          150.432,
          150.447,
          150.438,
          150.432,
          150.585,
          150.587,
          150.618,
          150.646,
          150.541,
          150.456,
          150.437,
          150.17,
          150.157,
          150.154,
          150.068,
          150.101,
          150.093,
          149.928,
          149.936,
          149.66,
          149.741,
          149.532,
          149.644,
          149.796,
          149.996,
          150.024,
          150.036,
          149.789,
          149.77,
          149.946,
          149.964,
          150.12,
          150.106,
          150.07,
          150.025,
          150.075,
          149.984,
          149.894,
          150.122,
          150.123,
          150.11,
          150.164,
          150.268,
          150.116,
          150.222,
          150.34,
          150.536,
          150.536,
          150.571,
          150.584,
          150.784,
          150.706,
          150.947,
          151.174,
          151.238,
          151.322,
          151.246,
          151.303,
          151.261,
          151.212,
          151.254,
          151.348,
          151.21,
          151.247,
          151.205,
          151.176,
          151.104,
          151.238,
          151.48,
          151.552,
          151.84,
          152.053,
          151.944,
          151.985,
          152.06,
          152.214,
          152.402,
          152.378,
          152.45,
          152.43,
          152.4,
          152.358,
          152.29,
          152.327,
          152.34,
          152.351,
          152.31,
          152.306,
          152.33,
          152.356,
          152.42,
          152.446,
          152.75,
          152.912,
          153.166,
          153.3,
          153.488,
          153.3,
          153.106,
          153.298,
          153.254,
          153.37,
          153.469,
          153.468,
          153.464,
          153.424,
          153.349,
          153.428,
          153.281,
          153.292,
          153.278,
          153.274,
          153.213,
          153.187,
          153.173,
          153.237,
          153.208,
          153.234,
          153.276,
          153.286,
          153.373,
          153.286,
          153.248,
          153.23,
          153.128,
          153.121,
          153.117,
          153.056,
          153.141,
          153.212,
          153.105,
          153.174,
          153.166,
          153.216,
          153.302,
          153.389,
          153.425,
          153.356,
          153.337,
          153.308,
          153.433,
          153.519,
          153.62,
          153.587,
          153.65,
          153.873,
          153.975,
          154.015,
          154.115,
          154.32,
          154.33,
          154.316,
          154.368,
          154.414,
          154.389,
          154.293,
          154.18,
          154.231,
          154.26,
          154.282,
          154.246,
          154.248,
          154.286,
          154.238,
          154.224,
          154.214,
          154.309,
          154.431,
          154.434,
          154.38,
          154.296,
          154.009,
          154.034,
          154.112,
          154.113,
          154.06,
          154.126,
          154.195,
          154.239,
          154.135,
          154.155,
          154.06,
          154.074,
          154.226,
          154.224,
          154.244,
          154.248,
          154.148,
          154.218,
          154.23,
          154.216,
          154.282,
          154.31,
          154.337,
          154.416,
          154.676,
          154.876,
          154.848,
          155.003,
          155.041,
          154.986,
          155.036,
          155.041,
          155.046,
          155.101,
          155.188,
          155.248,
          155.161,
          155.13,
          155.108,
          155.132,
          155.03,
          154.96,
          154.924,
          154.991,
          155.19,
          155.248,
          155.32,
          155.222,
          155.362,
          155.349,
          155.312,
          155.252,
          155.274,
          155.289,
          155.286,
          155.282,
          155.284
         ],
         "opacity": 1,
         "open": [
          152.435,
          151.505,
          151.641,
          151.452,
          151.354,
          151.307,
          151.198,
          151.43,
          151.485,
          151.516,
          151.437,
          151.668,
          151.485,
          151.418,
          151.226,
          151.387,
          151.469,
          151.32,
          151.276,
          151.299,
          151.274,
          150.849,
          150.787,
          150.564,
          150.626,
          150.572,
          150.716,
          150.684,
          150.702,
          150.706,
          150.66,
          150.545,
          150.458,
          150.497,
          150.173,
          150.332,
          150.17,
          150.298,
          150.136,
          150.139,
          150.016,
          149.964,
          149.914,
          149.762,
          149.644,
          149.954,
          150.103,
          150.024,
          150.302,
          150.132,
          149.936,
          150.009,
          149.966,
          150.132,
          150.122,
          150.139,
          150.025,
          150.085,
          150.15,
          150.014,
          150.174,
          150.154,
          150.174,
          150.177,
          150.328,
          150.352,
          150.276,
          150.419,
          150.546,
          150.63,
          150.586,
          150.714,
          150.788,
          150.814,
          150.964,
          151.202,
          151.311,
          151.339,
          151.358,
          151.387,
          151.367,
          151.354,
          151.254,
          151.351,
          151.448,
          151.276,
          151.274,
          151.272,
          151.21,
          151.282,
          151.524,
          151.666,
          151.852,
          152.168,
          152.076,
          151.985,
          152.196,
          152.232,
          152.546,
          152.428,
          152.553,
          152.488,
          152.526,
          152.45,
          152.373,
          152.342,
          152.368,
          152.508,
          152.358,
          152.384,
          152.344,
          152.372,
          152.446,
          152.506,
          152.753,
          152.972,
          153.213,
          153.366,
          153.536,
          153.576,
          153.333,
          153.354,
          153.406,
          153.418,
          153.524,
          153.476,
          153.576,
          153.516,
          153.349,
          153.462,
          153.45,
          153.3,
          153.332,
          153.368,
          153.272,
          153.248,
          153.19,
          153.327,
          153.348,
          153.306,
          153.416,
          153.416,
          153.424,
          153.502,
          153.296,
          153.32,
          153.248,
          153.237,
          153.189,
          153.201,
          153.206,
          153.416,
          153.163,
          153.185,
          153.254,
          153.26,
          153.328,
          153.44,
          153.49,
          153.468,
          153.366,
          153.382,
          153.506,
          153.602,
          153.692,
          153.747,
          153.69,
          153.885,
          154.062,
          154.022,
          154.13,
          154.322,
          154.416,
          154.348,
          154.456,
          154.43,
          154.411,
          154.41,
          154.3,
          154.406,
          154.29,
          154.295,
          154.322,
          154.301,
          154.366,
          154.409,
          154.274,
          154.286,
          154.348,
          154.438,
          154.538,
          154.462,
          154.384,
          154.392,
          154.072,
          154.134,
          154.187,
          154.146,
          154.147,
          154.254,
          154.284,
          154.272,
          154.193,
          154.326,
          154.132,
          154.28,
          154.268,
          154.286,
          154.288,
          154.262,
          154.265,
          154.387,
          154.264,
          154.408,
          154.409,
          154.361,
          154.678,
          154.727,
          155.014,
          154.932,
          155.006,
          155.092,
          155.08,
          155.046,
          155.054,
          155.092,
          155.152,
          155.216,
          155.345,
          155.27,
          155.168,
          155.148,
          155.196,
          155.184,
          155.1,
          154.969,
          155.01,
          155.224,
          155.25,
          155.482,
          155.328,
          155.488,
          155.436,
          155.481,
          155.333,
          155.312,
          155.442,
          155.317,
          155.353,
          155.336
         ],
         "type": "candlestick",
         "x": [
          "s21-12-16 14:00",
          "s21-12-16 15:00",
          "s21-12-16 16:00",
          "s21-12-16 17:00",
          "s21-12-16 18:00",
          "s21-12-16 19:00",
          "s21-12-16 20:00",
          "s21-12-16 21:00",
          "s21-12-16 22:00",
          "s21-12-16 23:00",
          "s21-12-17 00:00",
          "s21-12-17 01:00",
          "s21-12-17 02:00",
          "s21-12-17 03:00",
          "s21-12-17 04:00",
          "s21-12-17 05:00",
          "s21-12-17 06:00",
          "s21-12-17 07:00",
          "s21-12-17 08:00",
          "s21-12-17 09:00",
          "s21-12-17 10:00",
          "s21-12-17 11:00",
          "s21-12-17 12:00",
          "s21-12-17 13:00",
          "s21-12-17 14:00",
          "s21-12-17 15:00",
          "s21-12-17 16:00",
          "s21-12-17 17:00",
          "s21-12-17 18:00",
          "s21-12-17 19:00",
          "s21-12-17 20:00",
          "s21-12-17 21:00",
          "s21-12-19 22:00",
          "s21-12-19 23:00",
          "s21-12-20 00:00",
          "s21-12-20 01:00",
          "s21-12-20 02:00",
          "s21-12-20 03:00",
          "s21-12-20 04:00",
          "s21-12-20 05:00",
          "s21-12-20 06:00",
          "s21-12-20 07:00",
          "s21-12-20 08:00",
          "s21-12-20 09:00",
          "s21-12-20 10:00",
          "s21-12-20 11:00",
          "s21-12-20 12:00",
          "s21-12-20 13:00",
          "s21-12-20 14:00",
          "s21-12-20 15:00",
          "s21-12-20 16:00",
          "s21-12-20 17:00",
          "s21-12-20 18:00",
          "s21-12-20 19:00",
          "s21-12-20 20:00",
          "s21-12-20 21:00",
          "s21-12-20 22:00",
          "s21-12-20 23:00",
          "s21-12-21 00:00",
          "s21-12-21 01:00",
          "s21-12-21 02:00",
          "s21-12-21 03:00",
          "s21-12-21 04:00",
          "s21-12-21 05:00",
          "s21-12-21 06:00",
          "s21-12-21 07:00",
          "s21-12-21 08:00",
          "s21-12-21 09:00",
          "s21-12-21 10:00",
          "s21-12-21 11:00",
          "s21-12-21 12:00",
          "s21-12-21 13:00",
          "s21-12-21 14:00",
          "s21-12-21 15:00",
          "s21-12-21 16:00",
          "s21-12-21 17:00",
          "s21-12-21 18:00",
          "s21-12-21 19:00",
          "s21-12-21 20:00",
          "s21-12-21 21:00",
          "s21-12-21 22:00",
          "s21-12-21 23:00",
          "s21-12-22 00:00",
          "s21-12-22 01:00",
          "s21-12-22 02:00",
          "s21-12-22 03:00",
          "s21-12-22 04:00",
          "s21-12-22 05:00",
          "s21-12-22 06:00",
          "s21-12-22 07:00",
          "s21-12-22 08:00",
          "s21-12-22 09:00",
          "s21-12-22 10:00",
          "s21-12-22 11:00",
          "s21-12-22 12:00",
          "s21-12-22 13:00",
          "s21-12-22 14:00",
          "s21-12-22 15:00",
          "s21-12-22 16:00",
          "s21-12-22 17:00",
          "s21-12-22 18:00",
          "s21-12-22 19:00",
          "s21-12-22 20:00",
          "s21-12-22 21:00",
          "s21-12-22 22:00",
          "s21-12-22 23:00",
          "s21-12-23 00:00",
          "s21-12-23 01:00",
          "s21-12-23 02:00",
          "s21-12-23 03:00",
          "s21-12-23 04:00",
          "s21-12-23 05:00",
          "s21-12-23 06:00",
          "s21-12-23 07:00",
          "s21-12-23 08:00",
          "s21-12-23 09:00",
          "s21-12-23 10:00",
          "s21-12-23 11:00",
          "s21-12-23 12:00",
          "s21-12-23 13:00",
          "s21-12-23 14:00",
          "s21-12-23 15:00",
          "s21-12-23 16:00",
          "s21-12-23 17:00",
          "s21-12-23 18:00",
          "s21-12-23 19:00",
          "s21-12-23 20:00",
          "s21-12-23 21:00",
          "s21-12-23 22:00",
          "s21-12-23 23:00",
          "s21-12-24 00:00",
          "s21-12-24 01:00",
          "s21-12-24 02:00",
          "s21-12-24 03:00",
          "s21-12-24 04:00",
          "s21-12-24 05:00",
          "s21-12-24 06:00",
          "s21-12-24 07:00",
          "s21-12-24 08:00",
          "s21-12-24 09:00",
          "s21-12-24 10:00",
          "s21-12-24 11:00",
          "s21-12-24 12:00",
          "s21-12-24 13:00",
          "s21-12-24 14:00",
          "s21-12-24 15:00",
          "s21-12-24 16:00",
          "s21-12-24 17:00",
          "s21-12-24 18:00",
          "s21-12-24 19:00",
          "s21-12-24 20:00",
          "s21-12-24 21:00",
          "s21-12-26 22:00",
          "s21-12-26 23:00",
          "s21-12-27 00:00",
          "s21-12-27 01:00",
          "s21-12-27 02:00",
          "s21-12-27 03:00",
          "s21-12-27 04:00",
          "s21-12-27 05:00",
          "s21-12-27 06:00",
          "s21-12-27 07:00",
          "s21-12-27 08:00",
          "s21-12-27 09:00",
          "s21-12-27 10:00",
          "s21-12-27 11:00",
          "s21-12-27 12:00",
          "s21-12-27 13:00",
          "s21-12-27 14:00",
          "s21-12-27 15:00",
          "s21-12-27 16:00",
          "s21-12-27 17:00",
          "s21-12-27 18:00",
          "s21-12-27 19:00",
          "s21-12-27 20:00",
          "s21-12-27 21:00",
          "s21-12-27 22:00",
          "s21-12-27 23:00",
          "s21-12-28 00:00",
          "s21-12-28 01:00",
          "s21-12-28 02:00",
          "s21-12-28 03:00",
          "s21-12-28 04:00",
          "s21-12-28 05:00",
          "s21-12-28 06:00",
          "s21-12-28 07:00",
          "s21-12-28 08:00",
          "s21-12-28 09:00",
          "s21-12-28 10:00",
          "s21-12-28 11:00",
          "s21-12-28 12:00",
          "s21-12-28 13:00",
          "s21-12-28 14:00",
          "s21-12-28 15:00",
          "s21-12-28 16:00",
          "s21-12-28 17:00",
          "s21-12-28 18:00",
          "s21-12-28 19:00",
          "s21-12-28 20:00",
          "s21-12-28 21:00",
          "s21-12-28 22:00",
          "s21-12-28 23:00",
          "s21-12-29 00:00",
          "s21-12-29 01:00",
          "s21-12-29 02:00",
          "s21-12-29 03:00",
          "s21-12-29 04:00",
          "s21-12-29 05:00",
          "s21-12-29 06:00",
          "s21-12-29 07:00",
          "s21-12-29 08:00",
          "s21-12-29 09:00",
          "s21-12-29 10:00",
          "s21-12-29 11:00",
          "s21-12-29 12:00",
          "s21-12-29 13:00",
          "s21-12-29 14:00",
          "s21-12-29 15:00",
          "s21-12-29 16:00",
          "s21-12-29 17:00",
          "s21-12-29 18:00",
          "s21-12-29 19:00",
          "s21-12-29 20:00",
          "s21-12-29 21:00",
          "s21-12-29 22:00",
          "s21-12-29 23:00",
          "s21-12-30 00:00",
          "s21-12-30 01:00",
          "s21-12-30 02:00",
          "s21-12-30 03:00",
          "s21-12-30 04:00",
          "s21-12-30 05:00",
          "s21-12-30 06:00",
          "s21-12-30 07:00",
          "s21-12-30 08:00",
          "s21-12-30 09:00",
          "s21-12-30 10:00",
          "s21-12-30 11:00",
          "s21-12-30 12:00",
          "s21-12-30 13:00",
          "s21-12-30 14:00",
          "s21-12-30 15:00",
          "s21-12-30 16:00",
          "s21-12-30 17:00",
          "s21-12-30 18:00",
          "s21-12-30 19:00",
          "s21-12-30 20:00",
          "s21-12-30 21:00",
          "s21-12-30 22:00",
          "s21-12-30 23:00"
         ]
        },
        {
         "close": [
          150.704,
          150.142,
          153.344,
          153.219,
          153.262,
          154.39,
          154.27,
          154.286,
          155.18,
          155.314
         ],
         "decreasing": {
          "fillcolor": "#0066FF",
          "line": {
           "color": "#0066FF"
          }
         },
         "high": [
          150.79,
          150.19,
          153.416,
          153.342,
          153.344,
          154.468,
          154.332,
          154.326,
          155.239,
          155.406
         ],
         "increasing": {
          "fillcolor": "#0066FF",
          "line": {
           "color": "#0066FF"
          }
         },
         "line": {
          "width": 1
         },
         "low": [
          150.618,
          150.093,
          153.237,
          153.056,
          153.166,
          154.296,
          154.226,
          154.244,
          155.132,
          155.252
         ],
         "opacity": 1,
         "open": [
          150.702,
          150.136,
          153.327,
          153.201,
          153.254,
          154.384,
          154.28,
          154.286,
          155.196,
          155.333
         ],
         "type": "candlestick",
         "x": [
          "s21-12-17 18:00",
          "s21-12-20 04:00",
          "s21-12-24 07:00",
          "s21-12-24 19:00",
          "s21-12-27 00:00",
          "s21-12-28 14:00",
          "s21-12-29 03:00",
          "s21-12-29 05:00",
          "s21-12-30 06:00",
          "s21-12-30 18:00"
         ]
        }
       ],
       "layout": {
        "font": {
         "color": "#e1e1e1",
         "size": 8
        },
        "height": 400,
        "margin": {
         "b": 10,
         "l": 10,
         "r": 10,
         "t": 10
        },
        "paper_bgcolor": "#2c303c",
        "plot_bgcolor": "#2c303c",
        "template": {
         "data": {
          "bar": [
           {
            "error_x": {
             "color": "#2a3f5f"
            },
            "error_y": {
             "color": "#2a3f5f"
            },
            "marker": {
             "line": {
              "color": "#E5ECF6",
              "width": 0.5
             },
             "pattern": {
              "fillmode": "overlay",
              "size": 10,
              "solidity": 0.2
             }
            },
            "type": "bar"
           }
          ],
          "barpolar": [
           {
            "marker": {
             "line": {
              "color": "#E5ECF6",
              "width": 0.5
             },
             "pattern": {
              "fillmode": "overlay",
              "size": 10,
              "solidity": 0.2
             }
            },
            "type": "barpolar"
           }
          ],
          "carpet": [
           {
            "aaxis": {
             "endlinecolor": "#2a3f5f",
             "gridcolor": "white",
             "linecolor": "white",
             "minorgridcolor": "white",
             "startlinecolor": "#2a3f5f"
            },
            "baxis": {
             "endlinecolor": "#2a3f5f",
             "gridcolor": "white",
             "linecolor": "white",
             "minorgridcolor": "white",
             "startlinecolor": "#2a3f5f"
            },
            "type": "carpet"
           }
          ],
          "choropleth": [
           {
            "colorbar": {
             "outlinewidth": 0,
             "ticks": ""
            },
            "type": "choropleth"
           }
          ],
          "contour": [
           {
            "colorbar": {
             "outlinewidth": 0,
             "ticks": ""
            },
            "colorscale": [
             [
              0,
              "#0d0887"
             ],
             [
              0.1111111111111111,
              "#46039f"
             ],
             [
              0.2222222222222222,
              "#7201a8"
             ],
             [
              0.3333333333333333,
              "#9c179e"
             ],
             [
              0.4444444444444444,
              "#bd3786"
             ],
             [
              0.5555555555555556,
              "#d8576b"
             ],
             [
              0.6666666666666666,
              "#ed7953"
             ],
             [
              0.7777777777777778,
              "#fb9f3a"
             ],
             [
              0.8888888888888888,
              "#fdca26"
             ],
             [
              1,
              "#f0f921"
             ]
            ],
            "type": "contour"
           }
          ],
          "contourcarpet": [
           {
            "colorbar": {
             "outlinewidth": 0,
             "ticks": ""
            },
            "type": "contourcarpet"
           }
          ],
          "heatmap": [
           {
            "colorbar": {
             "outlinewidth": 0,
             "ticks": ""
            },
            "colorscale": [
             [
              0,
              "#0d0887"
             ],
             [
              0.1111111111111111,
              "#46039f"
             ],
             [
              0.2222222222222222,
              "#7201a8"
             ],
             [
              0.3333333333333333,
              "#9c179e"
             ],
             [
              0.4444444444444444,
              "#bd3786"
             ],
             [
              0.5555555555555556,
              "#d8576b"
             ],
             [
              0.6666666666666666,
              "#ed7953"
             ],
             [
              0.7777777777777778,
              "#fb9f3a"
             ],
             [
              0.8888888888888888,
              "#fdca26"
             ],
             [
              1,
              "#f0f921"
             ]
            ],
            "type": "heatmap"
           }
          ],
          "heatmapgl": [
           {
            "colorbar": {
             "outlinewidth": 0,
             "ticks": ""
            },
            "colorscale": [
             [
              0,
              "#0d0887"
             ],
             [
              0.1111111111111111,
              "#46039f"
             ],
             [
              0.2222222222222222,
              "#7201a8"
             ],
             [
              0.3333333333333333,
              "#9c179e"
             ],
             [
              0.4444444444444444,
              "#bd3786"
             ],
             [
              0.5555555555555556,
              "#d8576b"
             ],
             [
              0.6666666666666666,
              "#ed7953"
             ],
             [
              0.7777777777777778,
              "#fb9f3a"
             ],
             [
              0.8888888888888888,
              "#fdca26"
             ],
             [
              1,
              "#f0f921"
             ]
            ],
            "type": "heatmapgl"
           }
          ],
          "histogram": [
           {
            "marker": {
             "pattern": {
              "fillmode": "overlay",
              "size": 10,
              "solidity": 0.2
             }
            },
            "type": "histogram"
           }
          ],
          "histogram2d": [
           {
            "colorbar": {
             "outlinewidth": 0,
             "ticks": ""
            },
            "colorscale": [
             [
              0,
              "#0d0887"
             ],
             [
              0.1111111111111111,
              "#46039f"
             ],
             [
              0.2222222222222222,
              "#7201a8"
             ],
             [
              0.3333333333333333,
              "#9c179e"
             ],
             [
              0.4444444444444444,
              "#bd3786"
             ],
             [
              0.5555555555555556,
              "#d8576b"
             ],
             [
              0.6666666666666666,
              "#ed7953"
             ],
             [
              0.7777777777777778,
              "#fb9f3a"
             ],
             [
              0.8888888888888888,
              "#fdca26"
             ],
             [
              1,
              "#f0f921"
             ]
            ],
            "type": "histogram2d"
           }
          ],
          "histogram2dcontour": [
           {
            "colorbar": {
             "outlinewidth": 0,
             "ticks": ""
            },
            "colorscale": [
             [
              0,
              "#0d0887"
             ],
             [
              0.1111111111111111,
              "#46039f"
             ],
             [
              0.2222222222222222,
              "#7201a8"
             ],
             [
              0.3333333333333333,
              "#9c179e"
             ],
             [
              0.4444444444444444,
              "#bd3786"
             ],
             [
              0.5555555555555556,
              "#d8576b"
             ],
             [
              0.6666666666666666,
              "#ed7953"
             ],
             [
              0.7777777777777778,
              "#fb9f3a"
             ],
             [
              0.8888888888888888,
              "#fdca26"
             ],
             [
              1,
              "#f0f921"
             ]
            ],
            "type": "histogram2dcontour"
           }
          ],
          "mesh3d": [
           {
            "colorbar": {
             "outlinewidth": 0,
             "ticks": ""
            },
            "type": "mesh3d"
           }
          ],
          "parcoords": [
           {
            "line": {
             "colorbar": {
              "outlinewidth": 0,
              "ticks": ""
             }
            },
            "type": "parcoords"
           }
          ],
          "pie": [
           {
            "automargin": true,
            "type": "pie"
           }
          ],
          "scatter": [
           {
            "fillpattern": {
             "fillmode": "overlay",
             "size": 10,
             "solidity": 0.2
            },
            "type": "scatter"
           }
          ],
          "scatter3d": [
           {
            "line": {
             "colorbar": {
              "outlinewidth": 0,
              "ticks": ""
             }
            },
            "marker": {
             "colorbar": {
              "outlinewidth": 0,
              "ticks": ""
             }
            },
            "type": "scatter3d"
           }
          ],
          "scattercarpet": [
           {
            "marker": {
             "colorbar": {
              "outlinewidth": 0,
              "ticks": ""
             }
            },
            "type": "scattercarpet"
           }
          ],
          "scattergeo": [
           {
            "marker": {
             "colorbar": {
              "outlinewidth": 0,
              "ticks": ""
             }
            },
            "type": "scattergeo"
           }
          ],
          "scattergl": [
           {
            "marker": {
             "colorbar": {
              "outlinewidth": 0,
              "ticks": ""
             }
            },
            "type": "scattergl"
           }
          ],
          "scattermapbox": [
           {
            "marker": {
             "colorbar": {
              "outlinewidth": 0,
              "ticks": ""
             }
            },
            "type": "scattermapbox"
           }
          ],
          "scatterpolar": [
           {
            "marker": {
             "colorbar": {
              "outlinewidth": 0,
              "ticks": ""
             }
            },
            "type": "scatterpolar"
           }
          ],
          "scatterpolargl": [
           {
            "marker": {
             "colorbar": {
              "outlinewidth": 0,
              "ticks": ""
             }
            },
            "type": "scatterpolargl"
           }
          ],
          "scatterternary": [
           {
            "marker": {
             "colorbar": {
              "outlinewidth": 0,
              "ticks": ""
             }
            },
            "type": "scatterternary"
           }
          ],
          "surface": [
           {
            "colorbar": {
             "outlinewidth": 0,
             "ticks": ""
            },
            "colorscale": [
             [
              0,
              "#0d0887"
             ],
             [
              0.1111111111111111,
              "#46039f"
             ],
             [
              0.2222222222222222,
              "#7201a8"
             ],
             [
              0.3333333333333333,
              "#9c179e"
             ],
             [
              0.4444444444444444,
              "#bd3786"
             ],
             [
              0.5555555555555556,
              "#d8576b"
             ],
             [
              0.6666666666666666,
              "#ed7953"
             ],
             [
              0.7777777777777778,
              "#fb9f3a"
             ],
             [
              0.8888888888888888,
              "#fdca26"
             ],
             [
              1,
              "#f0f921"
             ]
            ],
            "type": "surface"
           }
          ],
          "table": [
           {
            "cells": {
             "fill": {
              "color": "#EBF0F8"
             },
             "line": {
              "color": "white"
             }
            },
            "header": {
             "fill": {
              "color": "#C8D4E3"
             },
             "line": {
              "color": "white"
             }
            },
            "type": "table"
           }
          ]
         },
         "layout": {
          "annotationdefaults": {
           "arrowcolor": "#2a3f5f",
           "arrowhead": 0,
           "arrowwidth": 1
          },
          "autotypenumbers": "strict",
          "coloraxis": {
           "colorbar": {
            "outlinewidth": 0,
            "ticks": ""
           }
          },
          "colorscale": {
           "diverging": [
            [
             0,
             "#8e0152"
            ],
            [
             0.1,
             "#c51b7d"
            ],
            [
             0.2,
             "#de77ae"
            ],
            [
             0.3,
             "#f1b6da"
            ],
            [
             0.4,
             "#fde0ef"
            ],
            [
             0.5,
             "#f7f7f7"
            ],
            [
             0.6,
             "#e6f5d0"
            ],
            [
             0.7,
             "#b8e186"
            ],
            [
             0.8,
             "#7fbc41"
            ],
            [
             0.9,
             "#4d9221"
            ],
            [
             1,
             "#276419"
            ]
           ],
           "sequential": [
            [
             0,
             "#0d0887"
            ],
            [
             0.1111111111111111,
             "#46039f"
            ],
            [
             0.2222222222222222,
             "#7201a8"
            ],
            [
             0.3333333333333333,
             "#9c179e"
            ],
            [
             0.4444444444444444,
             "#bd3786"
            ],
            [
             0.5555555555555556,
             "#d8576b"
            ],
            [
             0.6666666666666666,
             "#ed7953"
            ],
            [
             0.7777777777777778,
             "#fb9f3a"
            ],
            [
             0.8888888888888888,
             "#fdca26"
            ],
            [
             1,
             "#f0f921"
            ]
           ],
           "sequentialminus": [
            [
             0,
             "#0d0887"
            ],
            [
             0.1111111111111111,
             "#46039f"
            ],
            [
             0.2222222222222222,
             "#7201a8"
            ],
            [
             0.3333333333333333,
             "#9c179e"
            ],
            [
             0.4444444444444444,
             "#bd3786"
            ],
            [
             0.5555555555555556,
             "#d8576b"
            ],
            [
             0.6666666666666666,
             "#ed7953"
            ],
            [
             0.7777777777777778,
             "#fb9f3a"
            ],
            [
             0.8888888888888888,
             "#fdca26"
            ],
            [
             1,
             "#f0f921"
            ]
           ]
          },
          "colorway": [
           "#636efa",
           "#EF553B",
           "#00cc96",
           "#ab63fa",
           "#FFA15A",
           "#19d3f3",
           "#FF6692",
           "#B6E880",
           "#FF97FF",
           "#FECB52"
          ],
          "font": {
           "color": "#2a3f5f"
          },
          "geo": {
           "bgcolor": "white",
           "lakecolor": "white",
           "landcolor": "#E5ECF6",
           "showlakes": true,
           "showland": true,
           "subunitcolor": "white"
          },
          "hoverlabel": {
           "align": "left"
          },
          "hovermode": "closest",
          "mapbox": {
           "style": "light"
          },
          "paper_bgcolor": "white",
          "plot_bgcolor": "#E5ECF6",
          "polar": {
           "angularaxis": {
            "gridcolor": "white",
            "linecolor": "white",
            "ticks": ""
           },
           "bgcolor": "#E5ECF6",
           "radialaxis": {
            "gridcolor": "white",
            "linecolor": "white",
            "ticks": ""
           }
          },
          "scene": {
           "xaxis": {
            "backgroundcolor": "#E5ECF6",
            "gridcolor": "white",
            "gridwidth": 2,
            "linecolor": "white",
            "showbackground": true,
            "ticks": "",
            "zerolinecolor": "white"
           },
           "yaxis": {
            "backgroundcolor": "#E5ECF6",
            "gridcolor": "white",
            "gridwidth": 2,
            "linecolor": "white",
            "showbackground": true,
            "ticks": "",
            "zerolinecolor": "white"
           },
           "zaxis": {
            "backgroundcolor": "#E5ECF6",
            "gridcolor": "white",
            "gridwidth": 2,
            "linecolor": "white",
            "showbackground": true,
            "ticks": "",
            "zerolinecolor": "white"
           }
          },
          "shapedefaults": {
           "line": {
            "color": "#2a3f5f"
           }
          },
          "ternary": {
           "aaxis": {
            "gridcolor": "white",
            "linecolor": "white",
            "ticks": ""
           },
           "baxis": {
            "gridcolor": "white",
            "linecolor": "white",
            "ticks": ""
           },
           "bgcolor": "#E5ECF6",
           "caxis": {
            "gridcolor": "white",
            "linecolor": "white",
            "ticks": ""
           }
          },
          "title": {
           "x": 0.05
          },
          "xaxis": {
           "automargin": true,
           "gridcolor": "white",
           "linecolor": "white",
           "ticks": "",
           "title": {
            "standoff": 15
           },
           "zerolinecolor": "white",
           "zerolinewidth": 2
          },
          "yaxis": {
           "automargin": true,
           "gridcolor": "white",
           "linecolor": "white",
           "ticks": "",
           "title": {
            "standoff": 15
           },
           "zerolinecolor": "white",
           "zerolinewidth": 2
          }
         }
        },
        "width": 900,
        "xaxis": {
         "anchor": "y",
         "domain": [
          0,
          0.94
         ],
         "gridcolor": "#1f292f",
         "nticks": 5,
         "rangeslider": {
          "visible": false
         }
        },
        "yaxis": {
         "anchor": "x",
         "domain": [
          0,
          1
         ],
         "gridcolor": "#1f292f"
        },
        "yaxis2": {
         "anchor": "x",
         "gridcolor": "#1f292f",
         "overlaying": "y",
         "side": "right"
        }
       }
      }
     },
     "metadata": {},
     "output_type": "display_data"
    }
   ],
   "source": [
    "MARKER = '#0066FF'\n",
    "dfp = df_an.iloc[-250:]\n",
    "cp = CandlePlot(dfp, candles=True)\n",
    "df_temp = cp.df_plot[cp.df_plot.SPINNING_TOP == True]\n",
    "cp.fig.add_trace(go.Candlestick(\n",
    "                x = df_temp.sTime,\n",
    "                open = df_temp.mid_o,\n",
    "                high = df_temp.mid_h,\n",
    "                low = df_temp.mid_l,\n",
    "                close = df_temp.mid_c,\n",
    "                line=dict(width=1), opacity=1,\n",
    "                increasing_fillcolor=MARKER,\n",
    "                decreasing_fillcolor=MARKER,\n",
    "                increasing_line_color=MARKER,\n",
    "                decreasing_line_color=MARKER\n",
    "            ))\n",
    "\n",
    "cp.show_plot()"
   ]
  },
  {
   "cell_type": "markdown",
   "metadata": {},
   "source": [
    "# Marubozu"
   ]
  },
  {
   "cell_type": "code",
   "execution_count": 25,
   "metadata": {},
   "outputs": [],
   "source": [
    "MARUBOZU = 98.0\n",
    "\n",
    "apply_marubozu = lambda row: row.body_perc > MARUBOZU"
   ]
  },
  {
   "cell_type": "code",
   "execution_count": 26,
   "metadata": {},
   "outputs": [],
   "source": [
    "df_an['MARUBOZU'] = df_an.apply(apply_marubozu, axis=1)"
   ]
  },
  {
   "cell_type": "code",
   "execution_count": 27,
   "metadata": {},
   "outputs": [],
   "source": [
    "import plotly.graph_objects as go"
   ]
  },
  {
   "cell_type": "code",
   "execution_count": 28,
   "metadata": {},
   "outputs": [
    {
     "data": {
      "application/vnd.plotly.v1+json": {
       "config": {
        "plotlyServerURL": "https://plot.ly"
       },
       "data": [
        {
         "close": [
          161.78,
          162.065,
          161.888,
          162.097,
          162.28,
          162.254,
          161.862,
          161.776,
          161.854,
          162.313,
          162.305,
          162.097,
          162.046,
          162.162,
          162.134,
          162.253,
          162.089,
          161.962,
          161.875,
          161.741,
          161.708,
          161.7,
          161.484,
          161.944,
          161.806,
          161.502,
          161.646,
          161.814,
          162.045,
          162.18,
          162.371,
          162.43,
          162.008,
          161.964,
          161.699,
          161.814,
          161.68,
          161.67,
          161.695,
          161.652,
          161.518,
          161.734,
          161.268,
          161.132,
          161.161,
          160.98,
          161.031,
          161.244,
          161.286,
          161.57,
          161.646,
          161.818,
          161.645,
          161.544,
          161.246,
          161.612,
          161.671,
          161.936,
          161.758,
          161.717,
          161.652,
          161.673,
          161.676,
          161.696,
          161.636,
          161.334,
          160.94,
          160.932,
          160.962,
          160.895,
          160.923,
          161.448,
          160.908,
          160.954,
          160.72,
          160.246,
          160.392,
          159.606,
          159.072,
          159.43,
          159.165,
          158.925,
          158.859,
          158.803,
          158.831,
          158.964,
          158.666,
          158.896,
          158.89,
          158.698,
          158.628,
          158.776,
          158.513,
          158.626,
          158.422,
          158.362,
          158.562,
          158.37,
          158.82,
          158.918,
          159.244,
          159.457,
          159.188,
          158.974,
          158.744,
          158.682,
          158.837,
          158.884,
          158.782,
          158.795,
          158.81,
          158.734,
          158.638,
          158.406,
          158.214,
          158.064,
          158.155,
          158.046,
          157.788,
          157.236,
          157.078,
          157.251,
          156.876,
          156.71,
          157.019,
          156.904,
          156.492,
          156.132,
          155.798,
          156.154,
          155.984,
          156.422,
          156.168,
          156.264,
          156.226,
          156.136,
          156.255,
          156.148,
          156.408,
          156.484,
          156.404,
          156.351,
          156.14,
          156.038,
          156.094,
          155.769,
          155.652,
          155.233,
          154.784,
          154.98,
          154.963,
          154.916,
          155.262,
          155.014,
          154.85,
          154.893,
          154.968,
          155.058,
          154.968,
          155.02,
          155.052,
          154.83,
          154.621,
          154.272,
          154.224,
          154.059,
          154.001,
          153.586,
          152.904,
          152.634,
          152.42,
          152.507,
          152.826,
          152.708,
          152.507,
          152.126,
          152.084,
          152.14,
          152.068,
          152.215,
          152.353,
          152.115,
          152.148,
          152.251,
          152.435,
          152.826,
          153.179,
          152.79,
          152.828,
          153.064,
          152.986,
          152.812,
          154.026,
          153.676,
          153.115,
          152.876,
          152.974,
          153.192,
          153.031,
          152.908,
          152.85,
          152.994,
          153.021,
          153.006,
          152.821,
          152.64,
          152.662,
          152.938,
          153.022,
          152.518,
          152.183,
          152.544,
          152.404,
          152.488,
          152.454,
          152.507,
          152.832,
          153.529,
          153.414,
          154.045,
          153.948,
          154.01,
          154.332,
          153.796,
          153.735,
          153.834,
          153.802,
          153.69,
          153.612,
          153.699,
          153.685,
          153.564,
          153.646,
          153.82,
          153.995,
          153.978,
          153.95,
          154.172,
          154.304,
          154.509,
          154.251,
          154.754,
          154.968,
          155.058,
          154.984,
          154.65,
          154.521,
          154.276,
          154.624,
          154.914,
          154.867,
          154.93,
          154.768,
          154.936,
          154.925,
          154.894,
          155.072,
          155.036,
          155.274,
          155.254,
          155.284,
          155.31,
          155.071,
          154.9,
          154.942,
          155.09,
          155.409,
          155.637,
          155.671,
          155.421,
          155.065,
          155.224,
          155.328,
          155.328,
          155.32,
          155.274,
          155.22,
          155.318,
          155.213,
          155.302,
          155.278,
          155.078,
          154.851,
          154.852,
          154.674,
          154.711,
          154.612,
          154.684,
          154.412,
          154.426,
          154.452,
          154.4,
          154.718,
          154.849,
          154.122,
          154.411,
          154.494,
          154.614,
          154.529,
          154.637
         ],
         "decreasing": {
          "fillcolor": "#CC2E3C",
          "line": {
           "color": "#FF3A4C"
          }
         },
         "high": [
          161.872,
          162.131,
          162.35,
          162.242,
          162.432,
          162.331,
          162.29,
          162.002,
          161.967,
          162.449,
          162.398,
          162.508,
          162.312,
          162.288,
          162.222,
          162.326,
          162.259,
          162.094,
          161.994,
          161.928,
          161.776,
          161.802,
          161.704,
          162.031,
          162.146,
          161.884,
          161.663,
          161.902,
          162.15,
          162.386,
          162.462,
          162.579,
          162.481,
          162.026,
          162.008,
          161.824,
          161.815,
          161.733,
          161.749,
          161.768,
          161.693,
          161.834,
          161.786,
          161.4,
          161.2,
          161.163,
          161.198,
          161.371,
          161.357,
          161.858,
          161.69,
          161.876,
          162.034,
          161.667,
          161.585,
          161.728,
          161.86,
          161.952,
          161.992,
          161.841,
          161.784,
          161.788,
          161.703,
          161.72,
          161.738,
          161.66,
          161.422,
          160.957,
          160.994,
          161.002,
          161.054,
          161.449,
          161.494,
          161.342,
          161.036,
          160.758,
          160.402,
          160.559,
          159.608,
          159.571,
          159.447,
          159.23,
          159.083,
          159.01,
          158.88,
          158.964,
          158.881,
          158.974,
          159.012,
          158.98,
          158.77,
          158.776,
          158.838,
          158.704,
          158.626,
          158.487,
          158.603,
          158.969,
          158.958,
          158.954,
          159.278,
          159.593,
          159.54,
          159.328,
          159.112,
          158.918,
          158.861,
          158.893,
          159.026,
          158.83,
          158.858,
          158.86,
          158.737,
          158.695,
          158.462,
          158.211,
          158.277,
          158.356,
          158.068,
          157.924,
          157.556,
          157.341,
          157.276,
          157.005,
          157.16,
          157.052,
          156.97,
          156.554,
          156.334,
          156.245,
          156.168,
          156.49,
          156.43,
          156.268,
          156.258,
          156.289,
          156.282,
          156.531,
          156.426,
          156.668,
          156.561,
          156.428,
          156.392,
          156.204,
          156.256,
          156.152,
          156.058,
          155.686,
          155.466,
          155.069,
          155.034,
          155.384,
          155.308,
          155.381,
          155.078,
          154.968,
          155.034,
          155.099,
          155.094,
          155.138,
          155.116,
          155.345,
          154.99,
          154.634,
          154.292,
          154.264,
          154.162,
          154.193,
          153.68,
          153.086,
          152.65,
          152.802,
          152.958,
          152.832,
          152.708,
          152.576,
          152.307,
          152.267,
          152.481,
          152.334,
          152.508,
          152.478,
          152.283,
          152.332,
          152.454,
          153.053,
          153.386,
          153.187,
          152.977,
          153.16,
          153.238,
          153.084,
          154.242,
          154.166,
          153.684,
          153.189,
          153.165,
          153.34,
          153.626,
          153.336,
          153.172,
          153.192,
          153.117,
          153.096,
          153.043,
          152.872,
          152.726,
          153.008,
          153.058,
          153.062,
          152.524,
          152.612,
          152.672,
          152.613,
          152.726,
          152.531,
          152.846,
          153.999,
          153.613,
          154.344,
          154.282,
          154.094,
          154.468,
          154.391,
          154.019,
          153.962,
          153.888,
          153.888,
          153.805,
          153.8,
          153.741,
          153.721,
          153.686,
          154.092,
          154.08,
          154.071,
          154.156,
          154.188,
          154.34,
          154.634,
          154.574,
          154.844,
          155.091,
          155.526,
          155.144,
          155.03,
          154.826,
          154.595,
          154.818,
          155.016,
          155.038,
          155.012,
          154.934,
          155.016,
          154.957,
          154.996,
          155.072,
          155.196,
          155.302,
          155.422,
          155.391,
          155.408,
          155.392,
          155.348,
          155.273,
          155.277,
          155.67,
          155.652,
          155.764,
          155.741,
          155.561,
          155.434,
          155.608,
          155.346,
          155.381,
          155.428,
          155.37,
          155.375,
          155.348,
          155.329,
          155.381,
          155.316,
          155.18,
          154.896,
          154.864,
          154.875,
          154.725,
          154.819,
          154.692,
          154.506,
          154.761,
          154.564,
          154.802,
          154.93,
          154.878,
          154.516,
          154.617,
          154.657,
          154.634,
          154.734
         ],
         "increasing": {
          "fillcolor": "#24A06B",
          "line": {
           "color": "#2EC886"
          }
         },
         "line": {
          "width": 1
         },
         "low": [
          161.356,
          161.66,
          161.871,
          161.68,
          162.064,
          161.996,
          161.788,
          161.636,
          161.728,
          161.766,
          162.158,
          162.057,
          162.032,
          162.032,
          162.053,
          162.118,
          162.069,
          161.794,
          161.826,
          161.661,
          161.63,
          161.623,
          161.35,
          161.484,
          161.686,
          161.399,
          161.408,
          161.606,
          161.537,
          161.982,
          162.062,
          162.33,
          161.962,
          161.77,
          161.598,
          161.584,
          161.654,
          161.634,
          161.57,
          161.643,
          161.458,
          161.377,
          161.218,
          161.102,
          160.961,
          160.906,
          160.902,
          160.91,
          161.062,
          161.088,
          161.386,
          161.532,
          161.591,
          161.263,
          161.028,
          161.212,
          161.492,
          161.604,
          161.648,
          161.68,
          161.622,
          161.638,
          161.58,
          161.644,
          161.574,
          161.194,
          160.864,
          160.652,
          160.794,
          160.792,
          160.79,
          160.916,
          160.822,
          160.864,
          160.704,
          160.212,
          160.192,
          159.606,
          158.969,
          159.019,
          159.109,
          158.842,
          158.846,
          158.752,
          158.72,
          158.729,
          158.622,
          158.646,
          158.77,
          158.642,
          158.444,
          158.484,
          158.484,
          158.497,
          158.328,
          158.172,
          158.352,
          158.336,
          158.341,
          158.726,
          158.88,
          159.133,
          158.932,
          158.813,
          158.604,
          158.65,
          158.634,
          158.716,
          158.782,
          158.736,
          158.718,
          158.72,
          158.584,
          158.289,
          158.165,
          158.032,
          158.07,
          157.956,
          157.73,
          157.168,
          156.87,
          156.808,
          156.746,
          156.683,
          156.614,
          156.736,
          156.397,
          156.077,
          155.734,
          155.796,
          155.954,
          155.96,
          156.133,
          156.074,
          156.16,
          156.115,
          156.066,
          156.136,
          155.984,
          156.294,
          156.345,
          156.196,
          156.069,
          155.74,
          155.901,
          155.512,
          155.631,
          155.224,
          154.771,
          154.647,
          154.582,
          154.73,
          154.91,
          155.004,
          154.826,
          154.542,
          154.833,
          154.914,
          154.9,
          154.966,
          154.964,
          154.772,
          154.528,
          154.093,
          153.944,
          153.912,
          153.815,
          153.518,
          152.724,
          152.634,
          151.918,
          152.237,
          152.428,
          152.49,
          151.96,
          152.062,
          151.659,
          152.025,
          151.951,
          152.016,
          152.166,
          152.09,
          151.942,
          152.14,
          152.208,
          152.394,
          152.796,
          152.718,
          152.722,
          152.776,
          152.966,
          152.682,
          152.7,
          153.408,
          152.948,
          152.624,
          152.819,
          152.7,
          152.914,
          152.892,
          152.686,
          152.827,
          152.835,
          152.888,
          152.802,
          152.629,
          152.385,
          152.56,
          152.801,
          152.371,
          151.971,
          152.02,
          152.388,
          152.292,
          152.334,
          152.111,
          152.016,
          152.831,
          153.264,
          153.385,
          153.846,
          153.812,
          153.967,
          153.759,
          153.657,
          153.624,
          153.633,
          153.67,
          153.604,
          153.576,
          153.641,
          153.53,
          153.508,
          153.586,
          153.558,
          153.85,
          153.91,
          153.942,
          154.078,
          154.042,
          154.081,
          154.2,
          154.554,
          154.964,
          154.792,
          154.366,
          154.379,
          154,
          154.147,
          154.529,
          154.837,
          154.764,
          154.748,
          154.757,
          154.758,
          154.842,
          154.791,
          154.864,
          155.001,
          155.224,
          155.242,
          155.222,
          154.986,
          154.9,
          154.751,
          154.938,
          155.084,
          155.38,
          155.568,
          155.299,
          154.951,
          154.997,
          155.192,
          155.146,
          155.196,
          155.228,
          155.2,
          155.172,
          155.196,
          155.2,
          155.246,
          154.994,
          154.82,
          154.681,
          154.636,
          154.646,
          154.47,
          154.417,
          154.281,
          154.078,
          154.342,
          154.176,
          154.254,
          154.447,
          154.092,
          153.902,
          154.354,
          154.446,
          154.474,
          154.53
         ],
         "opacity": 1,
         "open": [
          161.658,
          161.78,
          162.067,
          161.882,
          162.092,
          162.286,
          162.253,
          161.874,
          161.776,
          161.854,
          162.312,
          162.304,
          162.092,
          162.052,
          162.095,
          162.138,
          162.254,
          162.09,
          161.964,
          161.878,
          161.74,
          161.707,
          161.7,
          161.484,
          161.945,
          161.804,
          161.504,
          161.646,
          161.819,
          162.047,
          162.18,
          162.37,
          162.426,
          162.014,
          161.964,
          161.698,
          161.815,
          161.684,
          161.627,
          161.696,
          161.652,
          161.516,
          161.733,
          161.274,
          161.131,
          161.162,
          160.981,
          161.03,
          161.238,
          161.281,
          161.567,
          161.652,
          161.816,
          161.647,
          161.543,
          161.244,
          161.606,
          161.67,
          161.935,
          161.758,
          161.712,
          161.652,
          161.665,
          161.68,
          161.695,
          161.634,
          161.336,
          160.94,
          160.938,
          160.965,
          160.896,
          160.924,
          161.449,
          160.908,
          160.952,
          160.726,
          160.252,
          160.391,
          159.604,
          159.098,
          159.432,
          159.166,
          158.923,
          158.858,
          158.803,
          158.83,
          158.798,
          158.666,
          158.892,
          158.889,
          158.698,
          158.625,
          158.779,
          158.512,
          158.625,
          158.423,
          158.362,
          158.561,
          158.369,
          158.822,
          158.919,
          159.244,
          159.462,
          159.206,
          158.974,
          158.75,
          158.684,
          158.832,
          158.885,
          158.788,
          158.767,
          158.815,
          158.736,
          158.637,
          158.406,
          158.208,
          158.07,
          158.16,
          158.048,
          157.797,
          157.234,
          157.08,
          157.251,
          156.876,
          156.714,
          157.02,
          156.902,
          156.487,
          156.134,
          155.801,
          156.154,
          155.986,
          156.42,
          156.168,
          156.227,
          156.225,
          156.136,
          156.254,
          156.142,
          156.408,
          156.489,
          156.404,
          156.352,
          156.138,
          156.038,
          156.1,
          155.769,
          155.65,
          155.233,
          154.785,
          154.974,
          154.964,
          154.917,
          155.256,
          155.014,
          154.849,
          154.894,
          154.967,
          155.066,
          154.966,
          155.02,
          155.053,
          154.83,
          154.624,
          154.272,
          154.224,
          154.058,
          154.002,
          153.588,
          152.904,
          152.634,
          152.414,
          152.512,
          152.826,
          152.708,
          152.506,
          152.127,
          152.084,
          152.134,
          152.068,
          152.208,
          152.352,
          152.13,
          152.161,
          152.251,
          152.437,
          152.826,
          153.178,
          152.788,
          152.829,
          153.064,
          152.986,
          152.811,
          154.028,
          153.675,
          153.114,
          152.872,
          152.979,
          153.191,
          153.033,
          152.911,
          152.845,
          152.998,
          153.023,
          153.003,
          152.82,
          152.444,
          152.668,
          152.932,
          153.021,
          152.515,
          152.178,
          152.538,
          152.402,
          152.49,
          152.454,
          152.509,
          152.832,
          153.529,
          153.413,
          154.043,
          153.95,
          154.011,
          154.333,
          153.796,
          153.733,
          153.839,
          153.801,
          153.691,
          153.612,
          153.722,
          153.69,
          153.562,
          153.644,
          153.815,
          153.99,
          153.978,
          153.949,
          154.174,
          154.304,
          154.511,
          154.258,
          154.754,
          154.967,
          155.057,
          154.982,
          154.652,
          154.521,
          154.276,
          154.622,
          154.908,
          154.866,
          154.932,
          154.766,
          154.957,
          154.93,
          154.894,
          155.07,
          155.034,
          155.277,
          155.252,
          155.283,
          155.316,
          155.07,
          154.906,
          154.942,
          155.091,
          155.411,
          155.639,
          155.67,
          155.423,
          155.066,
          155.226,
          155.322,
          155.328,
          155.32,
          155.272,
          155.219,
          155.309,
          155.224,
          155.3,
          155.277,
          155.078,
          154.849,
          154.852,
          154.676,
          154.709,
          154.613,
          154.684,
          154.412,
          154.432,
          154.446,
          154.371,
          154.712,
          154.854,
          154.126,
          154.406,
          154.494,
          154.614,
          154.53
         ],
         "type": "candlestick",
         "x": [
          "s16-03-29 07:00",
          "s16-03-29 08:00",
          "s16-03-29 09:00",
          "s16-03-29 10:00",
          "s16-03-29 11:00",
          "s16-03-29 12:00",
          "s16-03-29 13:00",
          "s16-03-29 14:00",
          "s16-03-29 15:00",
          "s16-03-29 16:00",
          "s16-03-29 17:00",
          "s16-03-29 18:00",
          "s16-03-29 19:00",
          "s16-03-29 20:00",
          "s16-03-29 21:00",
          "s16-03-29 22:00",
          "s16-03-29 23:00",
          "s16-03-30 00:00",
          "s16-03-30 01:00",
          "s16-03-30 02:00",
          "s16-03-30 03:00",
          "s16-03-30 04:00",
          "s16-03-30 05:00",
          "s16-03-30 06:00",
          "s16-03-30 07:00",
          "s16-03-30 08:00",
          "s16-03-30 09:00",
          "s16-03-30 10:00",
          "s16-03-30 11:00",
          "s16-03-30 12:00",
          "s16-03-30 13:00",
          "s16-03-30 14:00",
          "s16-03-30 15:00",
          "s16-03-30 16:00",
          "s16-03-30 17:00",
          "s16-03-30 18:00",
          "s16-03-30 19:00",
          "s16-03-30 20:00",
          "s16-03-30 21:00",
          "s16-03-30 22:00",
          "s16-03-30 23:00",
          "s16-03-31 00:00",
          "s16-03-31 01:00",
          "s16-03-31 02:00",
          "s16-03-31 03:00",
          "s16-03-31 04:00",
          "s16-03-31 05:00",
          "s16-03-31 06:00",
          "s16-03-31 07:00",
          "s16-03-31 08:00",
          "s16-03-31 09:00",
          "s16-03-31 10:00",
          "s16-03-31 11:00",
          "s16-03-31 12:00",
          "s16-03-31 13:00",
          "s16-03-31 14:00",
          "s16-03-31 15:00",
          "s16-03-31 16:00",
          "s16-03-31 17:00",
          "s16-03-31 18:00",
          "s16-03-31 19:00",
          "s16-03-31 20:00",
          "s16-03-31 21:00",
          "s16-03-31 22:00",
          "s16-03-31 23:00",
          "s16-04-01 00:00",
          "s16-04-01 01:00",
          "s16-04-01 02:00",
          "s16-04-01 03:00",
          "s16-04-01 04:00",
          "s16-04-01 05:00",
          "s16-04-01 06:00",
          "s16-04-01 07:00",
          "s16-04-01 08:00",
          "s16-04-01 09:00",
          "s16-04-01 10:00",
          "s16-04-01 11:00",
          "s16-04-01 12:00",
          "s16-04-01 13:00",
          "s16-04-01 14:00",
          "s16-04-01 15:00",
          "s16-04-01 16:00",
          "s16-04-01 17:00",
          "s16-04-01 18:00",
          "s16-04-01 19:00",
          "s16-04-01 20:00",
          "s16-04-03 21:00",
          "s16-04-03 22:00",
          "s16-04-03 23:00",
          "s16-04-04 00:00",
          "s16-04-04 01:00",
          "s16-04-04 02:00",
          "s16-04-04 03:00",
          "s16-04-04 04:00",
          "s16-04-04 05:00",
          "s16-04-04 06:00",
          "s16-04-04 07:00",
          "s16-04-04 08:00",
          "s16-04-04 09:00",
          "s16-04-04 10:00",
          "s16-04-04 11:00",
          "s16-04-04 12:00",
          "s16-04-04 13:00",
          "s16-04-04 14:00",
          "s16-04-04 15:00",
          "s16-04-04 16:00",
          "s16-04-04 17:00",
          "s16-04-04 18:00",
          "s16-04-04 19:00",
          "s16-04-04 20:00",
          "s16-04-04 21:00",
          "s16-04-04 22:00",
          "s16-04-04 23:00",
          "s16-04-05 00:00",
          "s16-04-05 01:00",
          "s16-04-05 02:00",
          "s16-04-05 03:00",
          "s16-04-05 04:00",
          "s16-04-05 05:00",
          "s16-04-05 06:00",
          "s16-04-05 07:00",
          "s16-04-05 08:00",
          "s16-04-05 09:00",
          "s16-04-05 10:00",
          "s16-04-05 11:00",
          "s16-04-05 12:00",
          "s16-04-05 13:00",
          "s16-04-05 14:00",
          "s16-04-05 15:00",
          "s16-04-05 16:00",
          "s16-04-05 17:00",
          "s16-04-05 18:00",
          "s16-04-05 19:00",
          "s16-04-05 20:00",
          "s16-04-05 21:00",
          "s16-04-05 22:00",
          "s16-04-05 23:00",
          "s16-04-06 00:00",
          "s16-04-06 01:00",
          "s16-04-06 02:00",
          "s16-04-06 03:00",
          "s16-04-06 04:00",
          "s16-04-06 05:00",
          "s16-04-06 06:00",
          "s16-04-06 07:00",
          "s16-04-06 08:00",
          "s16-04-06 09:00",
          "s16-04-06 10:00",
          "s16-04-06 11:00",
          "s16-04-06 12:00",
          "s16-04-06 13:00",
          "s16-04-06 14:00",
          "s16-04-06 15:00",
          "s16-04-06 16:00",
          "s16-04-06 17:00",
          "s16-04-06 18:00",
          "s16-04-06 19:00",
          "s16-04-06 20:00",
          "s16-04-06 21:00",
          "s16-04-06 22:00",
          "s16-04-06 23:00",
          "s16-04-07 00:00",
          "s16-04-07 01:00",
          "s16-04-07 02:00",
          "s16-04-07 03:00",
          "s16-04-07 04:00",
          "s16-04-07 05:00",
          "s16-04-07 06:00",
          "s16-04-07 07:00",
          "s16-04-07 08:00",
          "s16-04-07 09:00",
          "s16-04-07 10:00",
          "s16-04-07 11:00",
          "s16-04-07 12:00",
          "s16-04-07 13:00",
          "s16-04-07 14:00",
          "s16-04-07 15:00",
          "s16-04-07 16:00",
          "s16-04-07 17:00",
          "s16-04-07 18:00",
          "s16-04-07 19:00",
          "s16-04-07 20:00",
          "s16-04-07 21:00",
          "s16-04-07 22:00",
          "s16-04-07 23:00",
          "s16-04-08 00:00",
          "s16-04-08 01:00",
          "s16-04-08 02:00",
          "s16-04-08 03:00",
          "s16-04-08 04:00",
          "s16-04-08 05:00",
          "s16-04-08 06:00",
          "s16-04-08 07:00",
          "s16-04-08 08:00",
          "s16-04-08 09:00",
          "s16-04-08 10:00",
          "s16-04-08 11:00",
          "s16-04-08 12:00",
          "s16-04-08 13:00",
          "s16-04-08 14:00",
          "s16-04-08 15:00",
          "s16-04-08 16:00",
          "s16-04-08 17:00",
          "s16-04-08 18:00",
          "s16-04-08 19:00",
          "s16-04-08 20:00",
          "s16-04-10 21:00",
          "s16-04-10 22:00",
          "s16-04-10 23:00",
          "s16-04-11 00:00",
          "s16-04-11 01:00",
          "s16-04-11 02:00",
          "s16-04-11 03:00",
          "s16-04-11 04:00",
          "s16-04-11 05:00",
          "s16-04-11 06:00",
          "s16-04-11 07:00",
          "s16-04-11 08:00",
          "s16-04-11 09:00",
          "s16-04-11 10:00",
          "s16-04-11 11:00",
          "s16-04-11 12:00",
          "s16-04-11 13:00",
          "s16-04-11 14:00",
          "s16-04-11 15:00",
          "s16-04-11 16:00",
          "s16-04-11 17:00",
          "s16-04-11 18:00",
          "s16-04-11 19:00",
          "s16-04-11 20:00",
          "s16-04-11 21:00",
          "s16-04-11 22:00",
          "s16-04-11 23:00",
          "s16-04-12 00:00",
          "s16-04-12 01:00",
          "s16-04-12 02:00",
          "s16-04-12 03:00",
          "s16-04-12 04:00",
          "s16-04-12 05:00",
          "s16-04-12 06:00",
          "s16-04-12 07:00",
          "s16-04-12 08:00",
          "s16-04-12 09:00",
          "s16-04-12 10:00",
          "s16-04-12 11:00",
          "s16-04-12 12:00",
          "s16-04-12 13:00",
          "s16-04-12 14:00",
          "s16-04-12 15:00",
          "s16-04-12 16:00",
          "s16-04-12 17:00",
          "s16-04-12 18:00",
          "s16-04-12 19:00",
          "s16-04-12 20:00",
          "s16-04-12 21:00",
          "s16-04-12 22:00",
          "s16-04-12 23:00",
          "s16-04-13 00:00",
          "s16-04-13 01:00",
          "s16-04-13 02:00",
          "s16-04-13 03:00",
          "s16-04-13 04:00",
          "s16-04-13 05:00",
          "s16-04-13 06:00",
          "s16-04-13 07:00",
          "s16-04-13 08:00",
          "s16-04-13 09:00",
          "s16-04-13 10:00",
          "s16-04-13 11:00",
          "s16-04-13 12:00",
          "s16-04-13 13:00",
          "s16-04-13 14:00",
          "s16-04-13 15:00",
          "s16-04-13 16:00",
          "s16-04-13 17:00",
          "s16-04-13 18:00",
          "s16-04-13 19:00",
          "s16-04-13 20:00",
          "s16-04-13 21:00",
          "s16-04-13 22:00",
          "s16-04-13 23:00",
          "s16-04-14 00:00",
          "s16-04-14 01:00",
          "s16-04-14 02:00",
          "s16-04-14 03:00",
          "s16-04-14 04:00",
          "s16-04-14 05:00",
          "s16-04-14 06:00",
          "s16-04-14 07:00",
          "s16-04-14 08:00",
          "s16-04-14 09:00",
          "s16-04-14 10:00",
          "s16-04-14 11:00",
          "s16-04-14 12:00",
          "s16-04-14 13:00",
          "s16-04-14 14:00",
          "s16-04-14 15:00",
          "s16-04-14 16:00",
          "s16-04-14 17:00",
          "s16-04-14 18:00"
         ]
        },
        {
         "close": [
          161.448
         ],
         "decreasing": {
          "fillcolor": "#0066FF",
          "line": {
           "color": "#0066FF"
          }
         },
         "high": [
          161.449
         ],
         "increasing": {
          "fillcolor": "#0066FF",
          "line": {
           "color": "#0066FF"
          }
         },
         "line": {
          "width": 1
         },
         "low": [
          160.916
         ],
         "opacity": 1,
         "open": [
          160.924
         ],
         "type": "candlestick",
         "x": [
          "s16-04-01 06:00"
         ]
        }
       ],
       "layout": {
        "font": {
         "color": "#e1e1e1",
         "size": 8
        },
        "height": 400,
        "margin": {
         "b": 10,
         "l": 10,
         "r": 10,
         "t": 10
        },
        "paper_bgcolor": "#2c303c",
        "plot_bgcolor": "#2c303c",
        "template": {
         "data": {
          "bar": [
           {
            "error_x": {
             "color": "#2a3f5f"
            },
            "error_y": {
             "color": "#2a3f5f"
            },
            "marker": {
             "line": {
              "color": "#E5ECF6",
              "width": 0.5
             },
             "pattern": {
              "fillmode": "overlay",
              "size": 10,
              "solidity": 0.2
             }
            },
            "type": "bar"
           }
          ],
          "barpolar": [
           {
            "marker": {
             "line": {
              "color": "#E5ECF6",
              "width": 0.5
             },
             "pattern": {
              "fillmode": "overlay",
              "size": 10,
              "solidity": 0.2
             }
            },
            "type": "barpolar"
           }
          ],
          "carpet": [
           {
            "aaxis": {
             "endlinecolor": "#2a3f5f",
             "gridcolor": "white",
             "linecolor": "white",
             "minorgridcolor": "white",
             "startlinecolor": "#2a3f5f"
            },
            "baxis": {
             "endlinecolor": "#2a3f5f",
             "gridcolor": "white",
             "linecolor": "white",
             "minorgridcolor": "white",
             "startlinecolor": "#2a3f5f"
            },
            "type": "carpet"
           }
          ],
          "choropleth": [
           {
            "colorbar": {
             "outlinewidth": 0,
             "ticks": ""
            },
            "type": "choropleth"
           }
          ],
          "contour": [
           {
            "colorbar": {
             "outlinewidth": 0,
             "ticks": ""
            },
            "colorscale": [
             [
              0,
              "#0d0887"
             ],
             [
              0.1111111111111111,
              "#46039f"
             ],
             [
              0.2222222222222222,
              "#7201a8"
             ],
             [
              0.3333333333333333,
              "#9c179e"
             ],
             [
              0.4444444444444444,
              "#bd3786"
             ],
             [
              0.5555555555555556,
              "#d8576b"
             ],
             [
              0.6666666666666666,
              "#ed7953"
             ],
             [
              0.7777777777777778,
              "#fb9f3a"
             ],
             [
              0.8888888888888888,
              "#fdca26"
             ],
             [
              1,
              "#f0f921"
             ]
            ],
            "type": "contour"
           }
          ],
          "contourcarpet": [
           {
            "colorbar": {
             "outlinewidth": 0,
             "ticks": ""
            },
            "type": "contourcarpet"
           }
          ],
          "heatmap": [
           {
            "colorbar": {
             "outlinewidth": 0,
             "ticks": ""
            },
            "colorscale": [
             [
              0,
              "#0d0887"
             ],
             [
              0.1111111111111111,
              "#46039f"
             ],
             [
              0.2222222222222222,
              "#7201a8"
             ],
             [
              0.3333333333333333,
              "#9c179e"
             ],
             [
              0.4444444444444444,
              "#bd3786"
             ],
             [
              0.5555555555555556,
              "#d8576b"
             ],
             [
              0.6666666666666666,
              "#ed7953"
             ],
             [
              0.7777777777777778,
              "#fb9f3a"
             ],
             [
              0.8888888888888888,
              "#fdca26"
             ],
             [
              1,
              "#f0f921"
             ]
            ],
            "type": "heatmap"
           }
          ],
          "heatmapgl": [
           {
            "colorbar": {
             "outlinewidth": 0,
             "ticks": ""
            },
            "colorscale": [
             [
              0,
              "#0d0887"
             ],
             [
              0.1111111111111111,
              "#46039f"
             ],
             [
              0.2222222222222222,
              "#7201a8"
             ],
             [
              0.3333333333333333,
              "#9c179e"
             ],
             [
              0.4444444444444444,
              "#bd3786"
             ],
             [
              0.5555555555555556,
              "#d8576b"
             ],
             [
              0.6666666666666666,
              "#ed7953"
             ],
             [
              0.7777777777777778,
              "#fb9f3a"
             ],
             [
              0.8888888888888888,
              "#fdca26"
             ],
             [
              1,
              "#f0f921"
             ]
            ],
            "type": "heatmapgl"
           }
          ],
          "histogram": [
           {
            "marker": {
             "pattern": {
              "fillmode": "overlay",
              "size": 10,
              "solidity": 0.2
             }
            },
            "type": "histogram"
           }
          ],
          "histogram2d": [
           {
            "colorbar": {
             "outlinewidth": 0,
             "ticks": ""
            },
            "colorscale": [
             [
              0,
              "#0d0887"
             ],
             [
              0.1111111111111111,
              "#46039f"
             ],
             [
              0.2222222222222222,
              "#7201a8"
             ],
             [
              0.3333333333333333,
              "#9c179e"
             ],
             [
              0.4444444444444444,
              "#bd3786"
             ],
             [
              0.5555555555555556,
              "#d8576b"
             ],
             [
              0.6666666666666666,
              "#ed7953"
             ],
             [
              0.7777777777777778,
              "#fb9f3a"
             ],
             [
              0.8888888888888888,
              "#fdca26"
             ],
             [
              1,
              "#f0f921"
             ]
            ],
            "type": "histogram2d"
           }
          ],
          "histogram2dcontour": [
           {
            "colorbar": {
             "outlinewidth": 0,
             "ticks": ""
            },
            "colorscale": [
             [
              0,
              "#0d0887"
             ],
             [
              0.1111111111111111,
              "#46039f"
             ],
             [
              0.2222222222222222,
              "#7201a8"
             ],
             [
              0.3333333333333333,
              "#9c179e"
             ],
             [
              0.4444444444444444,
              "#bd3786"
             ],
             [
              0.5555555555555556,
              "#d8576b"
             ],
             [
              0.6666666666666666,
              "#ed7953"
             ],
             [
              0.7777777777777778,
              "#fb9f3a"
             ],
             [
              0.8888888888888888,
              "#fdca26"
             ],
             [
              1,
              "#f0f921"
             ]
            ],
            "type": "histogram2dcontour"
           }
          ],
          "mesh3d": [
           {
            "colorbar": {
             "outlinewidth": 0,
             "ticks": ""
            },
            "type": "mesh3d"
           }
          ],
          "parcoords": [
           {
            "line": {
             "colorbar": {
              "outlinewidth": 0,
              "ticks": ""
             }
            },
            "type": "parcoords"
           }
          ],
          "pie": [
           {
            "automargin": true,
            "type": "pie"
           }
          ],
          "scatter": [
           {
            "fillpattern": {
             "fillmode": "overlay",
             "size": 10,
             "solidity": 0.2
            },
            "type": "scatter"
           }
          ],
          "scatter3d": [
           {
            "line": {
             "colorbar": {
              "outlinewidth": 0,
              "ticks": ""
             }
            },
            "marker": {
             "colorbar": {
              "outlinewidth": 0,
              "ticks": ""
             }
            },
            "type": "scatter3d"
           }
          ],
          "scattercarpet": [
           {
            "marker": {
             "colorbar": {
              "outlinewidth": 0,
              "ticks": ""
             }
            },
            "type": "scattercarpet"
           }
          ],
          "scattergeo": [
           {
            "marker": {
             "colorbar": {
              "outlinewidth": 0,
              "ticks": ""
             }
            },
            "type": "scattergeo"
           }
          ],
          "scattergl": [
           {
            "marker": {
             "colorbar": {
              "outlinewidth": 0,
              "ticks": ""
             }
            },
            "type": "scattergl"
           }
          ],
          "scattermapbox": [
           {
            "marker": {
             "colorbar": {
              "outlinewidth": 0,
              "ticks": ""
             }
            },
            "type": "scattermapbox"
           }
          ],
          "scatterpolar": [
           {
            "marker": {
             "colorbar": {
              "outlinewidth": 0,
              "ticks": ""
             }
            },
            "type": "scatterpolar"
           }
          ],
          "scatterpolargl": [
           {
            "marker": {
             "colorbar": {
              "outlinewidth": 0,
              "ticks": ""
             }
            },
            "type": "scatterpolargl"
           }
          ],
          "scatterternary": [
           {
            "marker": {
             "colorbar": {
              "outlinewidth": 0,
              "ticks": ""
             }
            },
            "type": "scatterternary"
           }
          ],
          "surface": [
           {
            "colorbar": {
             "outlinewidth": 0,
             "ticks": ""
            },
            "colorscale": [
             [
              0,
              "#0d0887"
             ],
             [
              0.1111111111111111,
              "#46039f"
             ],
             [
              0.2222222222222222,
              "#7201a8"
             ],
             [
              0.3333333333333333,
              "#9c179e"
             ],
             [
              0.4444444444444444,
              "#bd3786"
             ],
             [
              0.5555555555555556,
              "#d8576b"
             ],
             [
              0.6666666666666666,
              "#ed7953"
             ],
             [
              0.7777777777777778,
              "#fb9f3a"
             ],
             [
              0.8888888888888888,
              "#fdca26"
             ],
             [
              1,
              "#f0f921"
             ]
            ],
            "type": "surface"
           }
          ],
          "table": [
           {
            "cells": {
             "fill": {
              "color": "#EBF0F8"
             },
             "line": {
              "color": "white"
             }
            },
            "header": {
             "fill": {
              "color": "#C8D4E3"
             },
             "line": {
              "color": "white"
             }
            },
            "type": "table"
           }
          ]
         },
         "layout": {
          "annotationdefaults": {
           "arrowcolor": "#2a3f5f",
           "arrowhead": 0,
           "arrowwidth": 1
          },
          "autotypenumbers": "strict",
          "coloraxis": {
           "colorbar": {
            "outlinewidth": 0,
            "ticks": ""
           }
          },
          "colorscale": {
           "diverging": [
            [
             0,
             "#8e0152"
            ],
            [
             0.1,
             "#c51b7d"
            ],
            [
             0.2,
             "#de77ae"
            ],
            [
             0.3,
             "#f1b6da"
            ],
            [
             0.4,
             "#fde0ef"
            ],
            [
             0.5,
             "#f7f7f7"
            ],
            [
             0.6,
             "#e6f5d0"
            ],
            [
             0.7,
             "#b8e186"
            ],
            [
             0.8,
             "#7fbc41"
            ],
            [
             0.9,
             "#4d9221"
            ],
            [
             1,
             "#276419"
            ]
           ],
           "sequential": [
            [
             0,
             "#0d0887"
            ],
            [
             0.1111111111111111,
             "#46039f"
            ],
            [
             0.2222222222222222,
             "#7201a8"
            ],
            [
             0.3333333333333333,
             "#9c179e"
            ],
            [
             0.4444444444444444,
             "#bd3786"
            ],
            [
             0.5555555555555556,
             "#d8576b"
            ],
            [
             0.6666666666666666,
             "#ed7953"
            ],
            [
             0.7777777777777778,
             "#fb9f3a"
            ],
            [
             0.8888888888888888,
             "#fdca26"
            ],
            [
             1,
             "#f0f921"
            ]
           ],
           "sequentialminus": [
            [
             0,
             "#0d0887"
            ],
            [
             0.1111111111111111,
             "#46039f"
            ],
            [
             0.2222222222222222,
             "#7201a8"
            ],
            [
             0.3333333333333333,
             "#9c179e"
            ],
            [
             0.4444444444444444,
             "#bd3786"
            ],
            [
             0.5555555555555556,
             "#d8576b"
            ],
            [
             0.6666666666666666,
             "#ed7953"
            ],
            [
             0.7777777777777778,
             "#fb9f3a"
            ],
            [
             0.8888888888888888,
             "#fdca26"
            ],
            [
             1,
             "#f0f921"
            ]
           ]
          },
          "colorway": [
           "#636efa",
           "#EF553B",
           "#00cc96",
           "#ab63fa",
           "#FFA15A",
           "#19d3f3",
           "#FF6692",
           "#B6E880",
           "#FF97FF",
           "#FECB52"
          ],
          "font": {
           "color": "#2a3f5f"
          },
          "geo": {
           "bgcolor": "white",
           "lakecolor": "white",
           "landcolor": "#E5ECF6",
           "showlakes": true,
           "showland": true,
           "subunitcolor": "white"
          },
          "hoverlabel": {
           "align": "left"
          },
          "hovermode": "closest",
          "mapbox": {
           "style": "light"
          },
          "paper_bgcolor": "white",
          "plot_bgcolor": "#E5ECF6",
          "polar": {
           "angularaxis": {
            "gridcolor": "white",
            "linecolor": "white",
            "ticks": ""
           },
           "bgcolor": "#E5ECF6",
           "radialaxis": {
            "gridcolor": "white",
            "linecolor": "white",
            "ticks": ""
           }
          },
          "scene": {
           "xaxis": {
            "backgroundcolor": "#E5ECF6",
            "gridcolor": "white",
            "gridwidth": 2,
            "linecolor": "white",
            "showbackground": true,
            "ticks": "",
            "zerolinecolor": "white"
           },
           "yaxis": {
            "backgroundcolor": "#E5ECF6",
            "gridcolor": "white",
            "gridwidth": 2,
            "linecolor": "white",
            "showbackground": true,
            "ticks": "",
            "zerolinecolor": "white"
           },
           "zaxis": {
            "backgroundcolor": "#E5ECF6",
            "gridcolor": "white",
            "gridwidth": 2,
            "linecolor": "white",
            "showbackground": true,
            "ticks": "",
            "zerolinecolor": "white"
           }
          },
          "shapedefaults": {
           "line": {
            "color": "#2a3f5f"
           }
          },
          "ternary": {
           "aaxis": {
            "gridcolor": "white",
            "linecolor": "white",
            "ticks": ""
           },
           "baxis": {
            "gridcolor": "white",
            "linecolor": "white",
            "ticks": ""
           },
           "bgcolor": "#E5ECF6",
           "caxis": {
            "gridcolor": "white",
            "linecolor": "white",
            "ticks": ""
           }
          },
          "title": {
           "x": 0.05
          },
          "xaxis": {
           "automargin": true,
           "gridcolor": "white",
           "linecolor": "white",
           "ticks": "",
           "title": {
            "standoff": 15
           },
           "zerolinecolor": "white",
           "zerolinewidth": 2
          },
          "yaxis": {
           "automargin": true,
           "gridcolor": "white",
           "linecolor": "white",
           "ticks": "",
           "title": {
            "standoff": 15
           },
           "zerolinecolor": "white",
           "zerolinewidth": 2
          }
         }
        },
        "width": 900,
        "xaxis": {
         "anchor": "y",
         "domain": [
          0,
          0.94
         ],
         "gridcolor": "#1f292f",
         "nticks": 5,
         "rangeslider": {
          "visible": false
         }
        },
        "yaxis": {
         "anchor": "x",
         "domain": [
          0,
          1
         ],
         "gridcolor": "#1f292f"
        },
        "yaxis2": {
         "anchor": "x",
         "gridcolor": "#1f292f",
         "overlaying": "y",
         "side": "right"
        }
       }
      }
     },
     "metadata": {},
     "output_type": "display_data"
    }
   ],
   "source": [
    "MARKER = '#0066FF'\n",
    "dfp = df_an.iloc[1400:1700]\n",
    "cp = CandlePlot(dfp, candles=True)\n",
    "df_temp = cp.df_plot[cp.df_plot.MARUBOZU == True]\n",
    "cp.fig.add_trace(go.Candlestick(\n",
    "                x = df_temp.sTime,\n",
    "                open = df_temp.mid_o,\n",
    "                high = df_temp.mid_h,\n",
    "                low = df_temp.mid_l,\n",
    "                close = df_temp.mid_c,\n",
    "                line=dict(width=1), opacity=1,\n",
    "                increasing_fillcolor=MARKER,\n",
    "                decreasing_fillcolor=MARKER,\n",
    "                increasing_line_color=MARKER,\n",
    "                decreasing_line_color=MARKER\n",
    "            ))\n",
    "\n",
    "cp.show_plot()"
   ]
  },
  {
   "cell_type": "markdown",
   "metadata": {},
   "source": [
    "# Engulfing (Bullish and Bearish)"
   ]
  },
  {
   "cell_type": "code",
   "execution_count": 29,
   "metadata": {},
   "outputs": [],
   "source": [
    "df_an['body_size_prev'] = df_an.body_size.shift(1)\n",
    "df_an['direction_prev'] = df_an.direction.shift(1)"
   ]
  },
  {
   "cell_type": "code",
   "execution_count": 30,
   "metadata": {},
   "outputs": [],
   "source": [
    "ENGULFING_FACTOR = 1.1\n",
    "\n",
    "def apply_engulfing(row):\n",
    "    if row.direction != row.direction_prev:\n",
    "        if row.body_size > row.body_size_prev * ENGULFING_FACTOR:\n",
    "            return True\n",
    "    return False \n",
    "        "
   ]
  },
  {
   "cell_type": "code",
   "execution_count": 31,
   "metadata": {},
   "outputs": [],
   "source": [
    "df_an['ENGULFING'] = df_an.apply(apply_engulfing, axis=1)"
   ]
  },
  {
   "cell_type": "code",
   "execution_count": 32,
   "metadata": {},
   "outputs": [],
   "source": [
    "import plotly.graph_objects as go"
   ]
  },
  {
   "cell_type": "code",
   "execution_count": 33,
   "metadata": {},
   "outputs": [
    {
     "data": {
      "application/vnd.plotly.v1+json": {
       "config": {
        "plotlyServerURL": "https://plot.ly"
       },
       "data": [
        {
         "close": [
          152.486,
          152.524,
          152.448,
          152.424,
          152.35,
          152.37,
          152.51,
          152.362,
          152.387,
          152.346,
          152.375,
          152.444,
          152.508,
          152.755,
          152.974,
          153.216,
          153.364,
          153.533,
          153.573,
          153.335,
          153.351,
          153.404,
          153.416,
          153.526,
          153.474,
          153.578,
          153.514,
          153.49,
          153.47,
          153.454,
          153.296,
          153.334,
          153.376,
          153.278,
          153.244,
          153.206,
          153.331,
          153.344,
          153.294,
          153.413,
          153.409,
          153.421,
          153.499,
          153.291,
          153.316,
          153.23,
          153.222,
          153.195,
          153.167,
          153.219,
          153.364,
          153.225,
          153.23,
          153.252,
          153.262,
          153.323,
          153.438,
          153.492,
          153.47,
          153.368,
          153.386,
          153.508,
          153.599,
          153.69,
          153.745,
          153.688,
          153.887,
          154.065,
          154.02,
          154.133,
          154.324,
          154.418,
          154.35,
          154.454,
          154.432,
          154.46,
          154.416,
          154.297,
          154.404,
          154.292,
          154.292,
          154.32,
          154.303,
          154.364,
          154.407,
          154.272,
          154.284,
          154.35,
          154.44,
          154.536,
          154.46,
          154.386,
          154.39,
          154.07,
          154.13,
          154.185,
          154.142,
          154.149,
          154.252,
          154.22,
          154.277,
          154.198,
          154.324,
          154.13,
          154.282,
          154.27,
          154.284,
          154.286,
          154.259,
          154.263,
          154.389,
          154.266,
          154.406,
          154.406,
          154.363,
          154.68,
          154.729,
          155.012,
          154.93,
          155.01,
          155.09,
          155.082,
          155.049,
          155.095,
          155.088,
          155.148,
          155.218,
          155.348,
          155.273,
          155.17,
          155.144,
          155.192,
          155.18,
          155.097,
          154.966,
          155.012,
          155.226,
          155.246,
          155.484,
          155.324,
          155.491,
          155.438,
          155.484,
          155.335,
          155.314,
          155.444,
          155.312,
          155.382,
          155.329,
          155.31
         ],
         "decreasing": {
          "fillcolor": "#CC2E3C",
          "line": {
           "color": "#FF3A4C"
          }
         },
         "high": [
          152.577,
          152.534,
          152.534,
          152.499,
          152.417,
          152.424,
          152.574,
          152.508,
          152.389,
          152.392,
          152.375,
          152.452,
          152.59,
          152.784,
          153.026,
          153.247,
          153.467,
          153.533,
          153.651,
          153.655,
          153.412,
          153.712,
          153.43,
          153.534,
          153.565,
          153.596,
          153.584,
          153.519,
          153.49,
          153.583,
          153.572,
          153.45,
          153.406,
          153.392,
          153.28,
          153.38,
          153.392,
          153.416,
          153.445,
          153.43,
          153.43,
          153.44,
          153.534,
          153.506,
          153.437,
          153.388,
          153.325,
          153.279,
          153.292,
          153.342,
          153.4,
          153.528,
          153.273,
          153.374,
          153.344,
          153.339,
          153.464,
          153.502,
          153.506,
          153.468,
          153.41,
          153.528,
          153.771,
          153.706,
          153.747,
          153.754,
          153.891,
          154.075,
          154.252,
          154.194,
          154.37,
          154.449,
          154.425,
          154.46,
          154.456,
          154.467,
          154.454,
          154.44,
          154.469,
          154.406,
          154.336,
          154.338,
          154.328,
          154.394,
          154.409,
          154.409,
          154.362,
          154.36,
          154.449,
          154.56,
          154.55,
          154.586,
          154.468,
          154.456,
          154.14,
          154.236,
          154.21,
          154.173,
          154.268,
          154.278,
          154.348,
          154.282,
          154.333,
          154.326,
          154.29,
          154.332,
          154.308,
          154.326,
          154.332,
          154.307,
          154.391,
          154.401,
          154.434,
          154.452,
          154.438,
          154.809,
          154.76,
          155.026,
          155.06,
          155.05,
          155.09,
          155.112,
          155.082,
          155.14,
          155.114,
          155.152,
          155.224,
          155.358,
          155.36,
          155.27,
          155.206,
          155.219,
          155.239,
          155.218,
          155.156,
          155.054,
          155.25,
          155.324,
          155.492,
          155.556,
          155.55,
          155.672,
          155.527,
          155.481,
          155.406,
          155.444,
          155.47,
          155.382,
          155.381,
          155.36
         ],
         "increasing": {
          "fillcolor": "#24A06B",
          "line": {
           "color": "#2EC886"
          }
         },
         "line": {
          "width": 1
         },
         "low": [
          152.45,
          152.43,
          152.4,
          152.358,
          152.29,
          152.327,
          152.34,
          152.351,
          152.31,
          152.306,
          152.33,
          152.356,
          152.42,
          152.446,
          152.75,
          152.912,
          153.166,
          153.3,
          153.488,
          153.3,
          153.106,
          153.298,
          153.254,
          153.37,
          153.469,
          153.468,
          153.464,
          153.424,
          153.349,
          153.428,
          153.281,
          153.292,
          153.278,
          153.274,
          153.213,
          153.187,
          153.173,
          153.237,
          153.208,
          153.234,
          153.276,
          153.286,
          153.373,
          153.286,
          153.248,
          153.23,
          153.128,
          153.121,
          153.117,
          153.056,
          153.141,
          153.212,
          153.105,
          153.174,
          153.166,
          153.216,
          153.302,
          153.389,
          153.425,
          153.356,
          153.337,
          153.308,
          153.433,
          153.519,
          153.62,
          153.587,
          153.65,
          153.873,
          153.975,
          154.015,
          154.115,
          154.32,
          154.33,
          154.316,
          154.368,
          154.414,
          154.389,
          154.293,
          154.18,
          154.231,
          154.26,
          154.282,
          154.246,
          154.248,
          154.286,
          154.238,
          154.224,
          154.214,
          154.309,
          154.431,
          154.434,
          154.38,
          154.296,
          154.009,
          154.034,
          154.112,
          154.113,
          154.06,
          154.126,
          154.195,
          154.239,
          154.135,
          154.155,
          154.06,
          154.074,
          154.226,
          154.224,
          154.244,
          154.248,
          154.148,
          154.218,
          154.23,
          154.216,
          154.282,
          154.31,
          154.337,
          154.416,
          154.676,
          154.876,
          154.848,
          155.003,
          155.041,
          154.986,
          155.036,
          155.041,
          155.046,
          155.101,
          155.188,
          155.248,
          155.161,
          155.13,
          155.108,
          155.132,
          155.03,
          154.96,
          154.924,
          154.991,
          155.19,
          155.248,
          155.32,
          155.222,
          155.362,
          155.349,
          155.312,
          155.252,
          155.274,
          155.289,
          155.286,
          155.282,
          155.284
         ],
         "opacity": 1,
         "open": [
          152.553,
          152.488,
          152.526,
          152.45,
          152.373,
          152.342,
          152.368,
          152.508,
          152.358,
          152.384,
          152.344,
          152.372,
          152.446,
          152.506,
          152.753,
          152.972,
          153.213,
          153.366,
          153.536,
          153.576,
          153.333,
          153.354,
          153.406,
          153.418,
          153.524,
          153.476,
          153.576,
          153.516,
          153.349,
          153.462,
          153.45,
          153.3,
          153.332,
          153.368,
          153.272,
          153.248,
          153.19,
          153.327,
          153.348,
          153.306,
          153.416,
          153.416,
          153.424,
          153.502,
          153.296,
          153.32,
          153.248,
          153.237,
          153.189,
          153.201,
          153.206,
          153.416,
          153.163,
          153.185,
          153.254,
          153.26,
          153.328,
          153.44,
          153.49,
          153.468,
          153.366,
          153.382,
          153.506,
          153.602,
          153.692,
          153.747,
          153.69,
          153.885,
          154.062,
          154.022,
          154.13,
          154.322,
          154.416,
          154.348,
          154.456,
          154.43,
          154.411,
          154.41,
          154.3,
          154.406,
          154.29,
          154.295,
          154.322,
          154.301,
          154.366,
          154.409,
          154.274,
          154.286,
          154.348,
          154.438,
          154.538,
          154.462,
          154.384,
          154.392,
          154.072,
          154.134,
          154.187,
          154.146,
          154.147,
          154.254,
          154.284,
          154.272,
          154.193,
          154.326,
          154.132,
          154.28,
          154.268,
          154.286,
          154.288,
          154.262,
          154.265,
          154.387,
          154.264,
          154.408,
          154.409,
          154.361,
          154.678,
          154.727,
          155.014,
          154.932,
          155.006,
          155.092,
          155.08,
          155.046,
          155.054,
          155.092,
          155.152,
          155.216,
          155.345,
          155.27,
          155.168,
          155.148,
          155.196,
          155.184,
          155.1,
          154.969,
          155.01,
          155.224,
          155.25,
          155.482,
          155.328,
          155.488,
          155.436,
          155.481,
          155.333,
          155.312,
          155.442,
          155.317,
          155.353,
          155.336
         ],
         "type": "candlestick",
         "x": [
          "s21-12-22 18:00",
          "s21-12-22 19:00",
          "s21-12-22 20:00",
          "s21-12-22 21:00",
          "s21-12-22 22:00",
          "s21-12-22 23:00",
          "s21-12-23 00:00",
          "s21-12-23 01:00",
          "s21-12-23 02:00",
          "s21-12-23 03:00",
          "s21-12-23 04:00",
          "s21-12-23 05:00",
          "s21-12-23 06:00",
          "s21-12-23 07:00",
          "s21-12-23 08:00",
          "s21-12-23 09:00",
          "s21-12-23 10:00",
          "s21-12-23 11:00",
          "s21-12-23 12:00",
          "s21-12-23 13:00",
          "s21-12-23 14:00",
          "s21-12-23 15:00",
          "s21-12-23 16:00",
          "s21-12-23 17:00",
          "s21-12-23 18:00",
          "s21-12-23 19:00",
          "s21-12-23 20:00",
          "s21-12-23 21:00",
          "s21-12-23 22:00",
          "s21-12-23 23:00",
          "s21-12-24 00:00",
          "s21-12-24 01:00",
          "s21-12-24 02:00",
          "s21-12-24 03:00",
          "s21-12-24 04:00",
          "s21-12-24 05:00",
          "s21-12-24 06:00",
          "s21-12-24 07:00",
          "s21-12-24 08:00",
          "s21-12-24 09:00",
          "s21-12-24 10:00",
          "s21-12-24 11:00",
          "s21-12-24 12:00",
          "s21-12-24 13:00",
          "s21-12-24 14:00",
          "s21-12-24 15:00",
          "s21-12-24 16:00",
          "s21-12-24 17:00",
          "s21-12-24 18:00",
          "s21-12-24 19:00",
          "s21-12-24 20:00",
          "s21-12-24 21:00",
          "s21-12-26 22:00",
          "s21-12-26 23:00",
          "s21-12-27 00:00",
          "s21-12-27 01:00",
          "s21-12-27 02:00",
          "s21-12-27 03:00",
          "s21-12-27 04:00",
          "s21-12-27 05:00",
          "s21-12-27 06:00",
          "s21-12-27 07:00",
          "s21-12-27 08:00",
          "s21-12-27 09:00",
          "s21-12-27 10:00",
          "s21-12-27 11:00",
          "s21-12-27 12:00",
          "s21-12-27 13:00",
          "s21-12-27 14:00",
          "s21-12-27 15:00",
          "s21-12-27 16:00",
          "s21-12-27 17:00",
          "s21-12-27 18:00",
          "s21-12-27 19:00",
          "s21-12-27 20:00",
          "s21-12-27 21:00",
          "s21-12-27 22:00",
          "s21-12-27 23:00",
          "s21-12-28 00:00",
          "s21-12-28 01:00",
          "s21-12-28 02:00",
          "s21-12-28 03:00",
          "s21-12-28 04:00",
          "s21-12-28 05:00",
          "s21-12-28 06:00",
          "s21-12-28 07:00",
          "s21-12-28 08:00",
          "s21-12-28 09:00",
          "s21-12-28 10:00",
          "s21-12-28 11:00",
          "s21-12-28 12:00",
          "s21-12-28 13:00",
          "s21-12-28 14:00",
          "s21-12-28 15:00",
          "s21-12-28 16:00",
          "s21-12-28 17:00",
          "s21-12-28 18:00",
          "s21-12-28 19:00",
          "s21-12-28 20:00",
          "s21-12-28 21:00",
          "s21-12-28 22:00",
          "s21-12-28 23:00",
          "s21-12-29 00:00",
          "s21-12-29 01:00",
          "s21-12-29 02:00",
          "s21-12-29 03:00",
          "s21-12-29 04:00",
          "s21-12-29 05:00",
          "s21-12-29 06:00",
          "s21-12-29 07:00",
          "s21-12-29 08:00",
          "s21-12-29 09:00",
          "s21-12-29 10:00",
          "s21-12-29 11:00",
          "s21-12-29 12:00",
          "s21-12-29 13:00",
          "s21-12-29 14:00",
          "s21-12-29 15:00",
          "s21-12-29 16:00",
          "s21-12-29 17:00",
          "s21-12-29 18:00",
          "s21-12-29 19:00",
          "s21-12-29 20:00",
          "s21-12-29 21:00",
          "s21-12-29 22:00",
          "s21-12-29 23:00",
          "s21-12-30 00:00",
          "s21-12-30 01:00",
          "s21-12-30 02:00",
          "s21-12-30 03:00",
          "s21-12-30 04:00",
          "s21-12-30 05:00",
          "s21-12-30 06:00",
          "s21-12-30 07:00",
          "s21-12-30 08:00",
          "s21-12-30 09:00",
          "s21-12-30 10:00",
          "s21-12-30 11:00",
          "s21-12-30 12:00",
          "s21-12-30 13:00",
          "s21-12-30 14:00",
          "s21-12-30 15:00",
          "s21-12-30 16:00",
          "s21-12-30 17:00",
          "s21-12-30 18:00",
          "s21-12-30 19:00",
          "s21-12-30 20:00",
          "s21-12-30 21:00",
          "s21-12-30 22:00",
          "s21-12-30 23:00"
         ]
        },
        {
         "close": [
          152.448,
          152.37,
          152.346,
          153.335,
          153.578,
          153.47,
          153.278,
          153.331,
          153.294,
          153.413,
          153.291,
          153.23,
          153.225,
          153.688,
          153.887,
          154.133,
          154.454,
          154.46,
          154.297,
          154.364,
          154.272,
          154.07,
          154.324,
          154.13,
          154.284,
          154.259,
          154.406,
          154.68,
          155.095,
          155.192,
          155.335,
          155.444
         ],
         "decreasing": {
          "fillcolor": "#0066FF",
          "line": {
           "color": "#0066FF"
          }
         },
         "high": [
          152.534,
          152.424,
          152.392,
          153.655,
          153.596,
          153.49,
          153.392,
          153.392,
          153.445,
          153.43,
          153.506,
          153.388,
          153.528,
          153.754,
          153.891,
          154.194,
          154.46,
          154.467,
          154.44,
          154.394,
          154.409,
          154.456,
          154.333,
          154.326,
          154.308,
          154.332,
          154.434,
          154.809,
          155.14,
          155.219,
          155.481,
          155.444
         ],
         "increasing": {
          "fillcolor": "#0066FF",
          "line": {
           "color": "#0066FF"
          }
         },
         "line": {
          "width": 1
         },
         "low": [
          152.4,
          152.327,
          152.306,
          153.3,
          153.468,
          153.349,
          153.274,
          153.173,
          153.208,
          153.234,
          153.286,
          153.23,
          153.212,
          153.587,
          153.65,
          154.015,
          154.316,
          154.414,
          154.293,
          154.248,
          154.238,
          154.009,
          154.155,
          154.06,
          154.224,
          154.248,
          154.216,
          154.337,
          155.036,
          155.108,
          155.312,
          155.274
         ],
         "opacity": 1,
         "open": [
          152.526,
          152.342,
          152.384,
          153.576,
          153.476,
          153.349,
          153.368,
          153.19,
          153.348,
          153.306,
          153.502,
          153.32,
          153.416,
          153.747,
          153.69,
          154.022,
          154.348,
          154.43,
          154.41,
          154.301,
          154.409,
          154.392,
          154.193,
          154.326,
          154.268,
          154.288,
          154.264,
          154.361,
          155.046,
          155.148,
          155.481,
          155.312
         ],
         "type": "candlestick",
         "x": [
          "s21-12-22 20:00",
          "s21-12-22 23:00",
          "s21-12-23 03:00",
          "s21-12-23 13:00",
          "s21-12-23 19:00",
          "s21-12-23 22:00",
          "s21-12-24 03:00",
          "s21-12-24 06:00",
          "s21-12-24 08:00",
          "s21-12-24 09:00",
          "s21-12-24 13:00",
          "s21-12-24 15:00",
          "s21-12-24 21:00",
          "s21-12-27 11:00",
          "s21-12-27 12:00",
          "s21-12-27 15:00",
          "s21-12-27 19:00",
          "s21-12-27 21:00",
          "s21-12-27 23:00",
          "s21-12-28 05:00",
          "s21-12-28 07:00",
          "s21-12-28 15:00",
          "s21-12-29 00:00",
          "s21-12-29 01:00",
          "s21-12-29 04:00",
          "s21-12-29 06:00",
          "s21-12-29 10:00",
          "s21-12-29 13:00",
          "s21-12-29 21:00",
          "s21-12-30 05:00",
          "s21-12-30 17:00",
          "s21-12-30 19:00"
         ]
        }
       ],
       "layout": {
        "font": {
         "color": "#e1e1e1",
         "size": 8
        },
        "height": 400,
        "margin": {
         "b": 10,
         "l": 10,
         "r": 10,
         "t": 10
        },
        "paper_bgcolor": "#2c303c",
        "plot_bgcolor": "#2c303c",
        "template": {
         "data": {
          "bar": [
           {
            "error_x": {
             "color": "#2a3f5f"
            },
            "error_y": {
             "color": "#2a3f5f"
            },
            "marker": {
             "line": {
              "color": "#E5ECF6",
              "width": 0.5
             },
             "pattern": {
              "fillmode": "overlay",
              "size": 10,
              "solidity": 0.2
             }
            },
            "type": "bar"
           }
          ],
          "barpolar": [
           {
            "marker": {
             "line": {
              "color": "#E5ECF6",
              "width": 0.5
             },
             "pattern": {
              "fillmode": "overlay",
              "size": 10,
              "solidity": 0.2
             }
            },
            "type": "barpolar"
           }
          ],
          "carpet": [
           {
            "aaxis": {
             "endlinecolor": "#2a3f5f",
             "gridcolor": "white",
             "linecolor": "white",
             "minorgridcolor": "white",
             "startlinecolor": "#2a3f5f"
            },
            "baxis": {
             "endlinecolor": "#2a3f5f",
             "gridcolor": "white",
             "linecolor": "white",
             "minorgridcolor": "white",
             "startlinecolor": "#2a3f5f"
            },
            "type": "carpet"
           }
          ],
          "choropleth": [
           {
            "colorbar": {
             "outlinewidth": 0,
             "ticks": ""
            },
            "type": "choropleth"
           }
          ],
          "contour": [
           {
            "colorbar": {
             "outlinewidth": 0,
             "ticks": ""
            },
            "colorscale": [
             [
              0,
              "#0d0887"
             ],
             [
              0.1111111111111111,
              "#46039f"
             ],
             [
              0.2222222222222222,
              "#7201a8"
             ],
             [
              0.3333333333333333,
              "#9c179e"
             ],
             [
              0.4444444444444444,
              "#bd3786"
             ],
             [
              0.5555555555555556,
              "#d8576b"
             ],
             [
              0.6666666666666666,
              "#ed7953"
             ],
             [
              0.7777777777777778,
              "#fb9f3a"
             ],
             [
              0.8888888888888888,
              "#fdca26"
             ],
             [
              1,
              "#f0f921"
             ]
            ],
            "type": "contour"
           }
          ],
          "contourcarpet": [
           {
            "colorbar": {
             "outlinewidth": 0,
             "ticks": ""
            },
            "type": "contourcarpet"
           }
          ],
          "heatmap": [
           {
            "colorbar": {
             "outlinewidth": 0,
             "ticks": ""
            },
            "colorscale": [
             [
              0,
              "#0d0887"
             ],
             [
              0.1111111111111111,
              "#46039f"
             ],
             [
              0.2222222222222222,
              "#7201a8"
             ],
             [
              0.3333333333333333,
              "#9c179e"
             ],
             [
              0.4444444444444444,
              "#bd3786"
             ],
             [
              0.5555555555555556,
              "#d8576b"
             ],
             [
              0.6666666666666666,
              "#ed7953"
             ],
             [
              0.7777777777777778,
              "#fb9f3a"
             ],
             [
              0.8888888888888888,
              "#fdca26"
             ],
             [
              1,
              "#f0f921"
             ]
            ],
            "type": "heatmap"
           }
          ],
          "heatmapgl": [
           {
            "colorbar": {
             "outlinewidth": 0,
             "ticks": ""
            },
            "colorscale": [
             [
              0,
              "#0d0887"
             ],
             [
              0.1111111111111111,
              "#46039f"
             ],
             [
              0.2222222222222222,
              "#7201a8"
             ],
             [
              0.3333333333333333,
              "#9c179e"
             ],
             [
              0.4444444444444444,
              "#bd3786"
             ],
             [
              0.5555555555555556,
              "#d8576b"
             ],
             [
              0.6666666666666666,
              "#ed7953"
             ],
             [
              0.7777777777777778,
              "#fb9f3a"
             ],
             [
              0.8888888888888888,
              "#fdca26"
             ],
             [
              1,
              "#f0f921"
             ]
            ],
            "type": "heatmapgl"
           }
          ],
          "histogram": [
           {
            "marker": {
             "pattern": {
              "fillmode": "overlay",
              "size": 10,
              "solidity": 0.2
             }
            },
            "type": "histogram"
           }
          ],
          "histogram2d": [
           {
            "colorbar": {
             "outlinewidth": 0,
             "ticks": ""
            },
            "colorscale": [
             [
              0,
              "#0d0887"
             ],
             [
              0.1111111111111111,
              "#46039f"
             ],
             [
              0.2222222222222222,
              "#7201a8"
             ],
             [
              0.3333333333333333,
              "#9c179e"
             ],
             [
              0.4444444444444444,
              "#bd3786"
             ],
             [
              0.5555555555555556,
              "#d8576b"
             ],
             [
              0.6666666666666666,
              "#ed7953"
             ],
             [
              0.7777777777777778,
              "#fb9f3a"
             ],
             [
              0.8888888888888888,
              "#fdca26"
             ],
             [
              1,
              "#f0f921"
             ]
            ],
            "type": "histogram2d"
           }
          ],
          "histogram2dcontour": [
           {
            "colorbar": {
             "outlinewidth": 0,
             "ticks": ""
            },
            "colorscale": [
             [
              0,
              "#0d0887"
             ],
             [
              0.1111111111111111,
              "#46039f"
             ],
             [
              0.2222222222222222,
              "#7201a8"
             ],
             [
              0.3333333333333333,
              "#9c179e"
             ],
             [
              0.4444444444444444,
              "#bd3786"
             ],
             [
              0.5555555555555556,
              "#d8576b"
             ],
             [
              0.6666666666666666,
              "#ed7953"
             ],
             [
              0.7777777777777778,
              "#fb9f3a"
             ],
             [
              0.8888888888888888,
              "#fdca26"
             ],
             [
              1,
              "#f0f921"
             ]
            ],
            "type": "histogram2dcontour"
           }
          ],
          "mesh3d": [
           {
            "colorbar": {
             "outlinewidth": 0,
             "ticks": ""
            },
            "type": "mesh3d"
           }
          ],
          "parcoords": [
           {
            "line": {
             "colorbar": {
              "outlinewidth": 0,
              "ticks": ""
             }
            },
            "type": "parcoords"
           }
          ],
          "pie": [
           {
            "automargin": true,
            "type": "pie"
           }
          ],
          "scatter": [
           {
            "fillpattern": {
             "fillmode": "overlay",
             "size": 10,
             "solidity": 0.2
            },
            "type": "scatter"
           }
          ],
          "scatter3d": [
           {
            "line": {
             "colorbar": {
              "outlinewidth": 0,
              "ticks": ""
             }
            },
            "marker": {
             "colorbar": {
              "outlinewidth": 0,
              "ticks": ""
             }
            },
            "type": "scatter3d"
           }
          ],
          "scattercarpet": [
           {
            "marker": {
             "colorbar": {
              "outlinewidth": 0,
              "ticks": ""
             }
            },
            "type": "scattercarpet"
           }
          ],
          "scattergeo": [
           {
            "marker": {
             "colorbar": {
              "outlinewidth": 0,
              "ticks": ""
             }
            },
            "type": "scattergeo"
           }
          ],
          "scattergl": [
           {
            "marker": {
             "colorbar": {
              "outlinewidth": 0,
              "ticks": ""
             }
            },
            "type": "scattergl"
           }
          ],
          "scattermapbox": [
           {
            "marker": {
             "colorbar": {
              "outlinewidth": 0,
              "ticks": ""
             }
            },
            "type": "scattermapbox"
           }
          ],
          "scatterpolar": [
           {
            "marker": {
             "colorbar": {
              "outlinewidth": 0,
              "ticks": ""
             }
            },
            "type": "scatterpolar"
           }
          ],
          "scatterpolargl": [
           {
            "marker": {
             "colorbar": {
              "outlinewidth": 0,
              "ticks": ""
             }
            },
            "type": "scatterpolargl"
           }
          ],
          "scatterternary": [
           {
            "marker": {
             "colorbar": {
              "outlinewidth": 0,
              "ticks": ""
             }
            },
            "type": "scatterternary"
           }
          ],
          "surface": [
           {
            "colorbar": {
             "outlinewidth": 0,
             "ticks": ""
            },
            "colorscale": [
             [
              0,
              "#0d0887"
             ],
             [
              0.1111111111111111,
              "#46039f"
             ],
             [
              0.2222222222222222,
              "#7201a8"
             ],
             [
              0.3333333333333333,
              "#9c179e"
             ],
             [
              0.4444444444444444,
              "#bd3786"
             ],
             [
              0.5555555555555556,
              "#d8576b"
             ],
             [
              0.6666666666666666,
              "#ed7953"
             ],
             [
              0.7777777777777778,
              "#fb9f3a"
             ],
             [
              0.8888888888888888,
              "#fdca26"
             ],
             [
              1,
              "#f0f921"
             ]
            ],
            "type": "surface"
           }
          ],
          "table": [
           {
            "cells": {
             "fill": {
              "color": "#EBF0F8"
             },
             "line": {
              "color": "white"
             }
            },
            "header": {
             "fill": {
              "color": "#C8D4E3"
             },
             "line": {
              "color": "white"
             }
            },
            "type": "table"
           }
          ]
         },
         "layout": {
          "annotationdefaults": {
           "arrowcolor": "#2a3f5f",
           "arrowhead": 0,
           "arrowwidth": 1
          },
          "autotypenumbers": "strict",
          "coloraxis": {
           "colorbar": {
            "outlinewidth": 0,
            "ticks": ""
           }
          },
          "colorscale": {
           "diverging": [
            [
             0,
             "#8e0152"
            ],
            [
             0.1,
             "#c51b7d"
            ],
            [
             0.2,
             "#de77ae"
            ],
            [
             0.3,
             "#f1b6da"
            ],
            [
             0.4,
             "#fde0ef"
            ],
            [
             0.5,
             "#f7f7f7"
            ],
            [
             0.6,
             "#e6f5d0"
            ],
            [
             0.7,
             "#b8e186"
            ],
            [
             0.8,
             "#7fbc41"
            ],
            [
             0.9,
             "#4d9221"
            ],
            [
             1,
             "#276419"
            ]
           ],
           "sequential": [
            [
             0,
             "#0d0887"
            ],
            [
             0.1111111111111111,
             "#46039f"
            ],
            [
             0.2222222222222222,
             "#7201a8"
            ],
            [
             0.3333333333333333,
             "#9c179e"
            ],
            [
             0.4444444444444444,
             "#bd3786"
            ],
            [
             0.5555555555555556,
             "#d8576b"
            ],
            [
             0.6666666666666666,
             "#ed7953"
            ],
            [
             0.7777777777777778,
             "#fb9f3a"
            ],
            [
             0.8888888888888888,
             "#fdca26"
            ],
            [
             1,
             "#f0f921"
            ]
           ],
           "sequentialminus": [
            [
             0,
             "#0d0887"
            ],
            [
             0.1111111111111111,
             "#46039f"
            ],
            [
             0.2222222222222222,
             "#7201a8"
            ],
            [
             0.3333333333333333,
             "#9c179e"
            ],
            [
             0.4444444444444444,
             "#bd3786"
            ],
            [
             0.5555555555555556,
             "#d8576b"
            ],
            [
             0.6666666666666666,
             "#ed7953"
            ],
            [
             0.7777777777777778,
             "#fb9f3a"
            ],
            [
             0.8888888888888888,
             "#fdca26"
            ],
            [
             1,
             "#f0f921"
            ]
           ]
          },
          "colorway": [
           "#636efa",
           "#EF553B",
           "#00cc96",
           "#ab63fa",
           "#FFA15A",
           "#19d3f3",
           "#FF6692",
           "#B6E880",
           "#FF97FF",
           "#FECB52"
          ],
          "font": {
           "color": "#2a3f5f"
          },
          "geo": {
           "bgcolor": "white",
           "lakecolor": "white",
           "landcolor": "#E5ECF6",
           "showlakes": true,
           "showland": true,
           "subunitcolor": "white"
          },
          "hoverlabel": {
           "align": "left"
          },
          "hovermode": "closest",
          "mapbox": {
           "style": "light"
          },
          "paper_bgcolor": "white",
          "plot_bgcolor": "#E5ECF6",
          "polar": {
           "angularaxis": {
            "gridcolor": "white",
            "linecolor": "white",
            "ticks": ""
           },
           "bgcolor": "#E5ECF6",
           "radialaxis": {
            "gridcolor": "white",
            "linecolor": "white",
            "ticks": ""
           }
          },
          "scene": {
           "xaxis": {
            "backgroundcolor": "#E5ECF6",
            "gridcolor": "white",
            "gridwidth": 2,
            "linecolor": "white",
            "showbackground": true,
            "ticks": "",
            "zerolinecolor": "white"
           },
           "yaxis": {
            "backgroundcolor": "#E5ECF6",
            "gridcolor": "white",
            "gridwidth": 2,
            "linecolor": "white",
            "showbackground": true,
            "ticks": "",
            "zerolinecolor": "white"
           },
           "zaxis": {
            "backgroundcolor": "#E5ECF6",
            "gridcolor": "white",
            "gridwidth": 2,
            "linecolor": "white",
            "showbackground": true,
            "ticks": "",
            "zerolinecolor": "white"
           }
          },
          "shapedefaults": {
           "line": {
            "color": "#2a3f5f"
           }
          },
          "ternary": {
           "aaxis": {
            "gridcolor": "white",
            "linecolor": "white",
            "ticks": ""
           },
           "baxis": {
            "gridcolor": "white",
            "linecolor": "white",
            "ticks": ""
           },
           "bgcolor": "#E5ECF6",
           "caxis": {
            "gridcolor": "white",
            "linecolor": "white",
            "ticks": ""
           }
          },
          "title": {
           "x": 0.05
          },
          "xaxis": {
           "automargin": true,
           "gridcolor": "white",
           "linecolor": "white",
           "ticks": "",
           "title": {
            "standoff": 15
           },
           "zerolinecolor": "white",
           "zerolinewidth": 2
          },
          "yaxis": {
           "automargin": true,
           "gridcolor": "white",
           "linecolor": "white",
           "ticks": "",
           "title": {
            "standoff": 15
           },
           "zerolinecolor": "white",
           "zerolinewidth": 2
          }
         }
        },
        "width": 900,
        "xaxis": {
         "anchor": "y",
         "domain": [
          0,
          0.94
         ],
         "gridcolor": "#1f292f",
         "nticks": 5,
         "rangeslider": {
          "visible": false
         }
        },
        "yaxis": {
         "anchor": "x",
         "domain": [
          0,
          1
         ],
         "gridcolor": "#1f292f"
        },
        "yaxis2": {
         "anchor": "x",
         "gridcolor": "#1f292f",
         "overlaying": "y",
         "side": "right"
        }
       }
      }
     },
     "metadata": {},
     "output_type": "display_data"
    }
   ],
   "source": [
    "MARKER = '#0066FF'\n",
    "dfp = df_an.iloc[-150:]\n",
    "cp = CandlePlot(dfp, candles=True)\n",
    "df_temp = cp.df_plot[cp.df_plot.ENGULFING == True]\n",
    "cp.fig.add_trace(go.Candlestick(\n",
    "                x = df_temp.sTime,\n",
    "                open = df_temp.mid_o,\n",
    "                high = df_temp.mid_h,\n",
    "                low = df_temp.mid_l,\n",
    "                close = df_temp.mid_c,\n",
    "                line=dict(width=1), opacity=1,\n",
    "                increasing_fillcolor=MARKER,\n",
    "                decreasing_fillcolor=MARKER,\n",
    "                increasing_line_color=MARKER,\n",
    "                decreasing_line_color=MARKER\n",
    "            ))\n",
    "\n",
    "cp.show_plot()"
   ]
  },
  {
   "cell_type": "markdown",
   "metadata": {},
   "source": [
    "# Tweezer Top"
   ]
  },
  {
   "cell_type": "code",
   "execution_count": 34,
   "metadata": {},
   "outputs": [],
   "source": [
    "df_an['body_size_prev'] = df_an.body_size.shift(1)\n",
    "df_an['direction_prev'] = df_an.direction.shift(1)"
   ]
  },
  {
   "cell_type": "code",
   "execution_count": 35,
   "metadata": {},
   "outputs": [],
   "source": [
    "TWEEZER_BODY = 15.0\n",
    "TWEEZER_HL = 0.01\n",
    "TWEEZER_TOP_BODY = 40.0\n",
    "\n",
    "def apply_tweezer_top(row):\n",
    "    if abs(row.body_size_change) < TWEEZER_BODY:\n",
    "        if row.direction == -1 and row.direction != row.direction_prev:\n",
    "            if abs(row.low_change) < TWEEZER_HL and abs(row.high_change) < TWEEZER_HL:\n",
    "                if row.body_top_perc < TWEEZER_TOP_BODY:\n",
    "                    return True\n",
    "    return False"
   ]
  },
  {
   "cell_type": "code",
   "execution_count": 36,
   "metadata": {},
   "outputs": [],
   "source": [
    "df_an['TWEEZER_TOP'] = df_an.apply(apply_tweezer_top, axis=1)"
   ]
  },
  {
   "cell_type": "code",
   "execution_count": 59,
   "metadata": {},
   "outputs": [
    {
     "data": {
      "text/html": [
       "<div>\n",
       "<style scoped>\n",
       "    .dataframe tbody tr th:only-of-type {\n",
       "        vertical-align: middle;\n",
       "    }\n",
       "\n",
       "    .dataframe tbody tr th {\n",
       "        vertical-align: top;\n",
       "    }\n",
       "\n",
       "    .dataframe thead th {\n",
       "        text-align: right;\n",
       "    }\n",
       "</style>\n",
       "<table border=\"1\" class=\"dataframe\">\n",
       "  <thead>\n",
       "    <tr style=\"text-align: right;\">\n",
       "      <th></th>\n",
       "      <th>time</th>\n",
       "      <th>mid_c</th>\n",
       "      <th>mid_h</th>\n",
       "      <th>mid_l</th>\n",
       "      <th>mid_o</th>\n",
       "      <th>body_lower</th>\n",
       "      <th>body_upper</th>\n",
       "      <th>body_bottom_perc</th>\n",
       "      <th>body_top_perc</th>\n",
       "      <th>body_perc</th>\n",
       "      <th>direction</th>\n",
       "      <th>body_size</th>\n",
       "      <th>low_change</th>\n",
       "      <th>high_change</th>\n",
       "      <th>body_size_change</th>\n",
       "      <th>body_size_prev</th>\n",
       "      <th>direction_prev</th>\n",
       "      <th>TWEEZER_TOP</th>\n",
       "    </tr>\n",
       "  </thead>\n",
       "  <tbody>\n",
       "    <tr>\n",
       "      <th>11115</th>\n",
       "      <td>2017-10-19 03:00:00+00:00</td>\n",
       "      <td>149.203</td>\n",
       "      <td>149.300</td>\n",
       "      <td>149.168</td>\n",
       "      <td>149.220</td>\n",
       "      <td>149.203</td>\n",
       "      <td>149.220</td>\n",
       "      <td>26.515152</td>\n",
       "      <td>39.393939</td>\n",
       "      <td>12.878788</td>\n",
       "      <td>-1</td>\n",
       "      <td>0.017</td>\n",
       "      <td>-0.005363</td>\n",
       "      <td>-0.006697</td>\n",
       "      <td>-5.555556e+00</td>\n",
       "      <td>0.018</td>\n",
       "      <td>1.0</td>\n",
       "      <td>True</td>\n",
       "    </tr>\n",
       "    <tr>\n",
       "      <th>14705</th>\n",
       "      <td>2018-05-18 16:00:00+00:00</td>\n",
       "      <td>149.141</td>\n",
       "      <td>149.274</td>\n",
       "      <td>149.125</td>\n",
       "      <td>149.183</td>\n",
       "      <td>149.141</td>\n",
       "      <td>149.183</td>\n",
       "      <td>10.738255</td>\n",
       "      <td>38.926174</td>\n",
       "      <td>28.187919</td>\n",
       "      <td>-1</td>\n",
       "      <td>0.042</td>\n",
       "      <td>0.001341</td>\n",
       "      <td>0.006700</td>\n",
       "      <td>5.000000e+00</td>\n",
       "      <td>0.040</td>\n",
       "      <td>1.0</td>\n",
       "      <td>True</td>\n",
       "    </tr>\n",
       "    <tr>\n",
       "      <th>16032</th>\n",
       "      <td>2018-08-05 23:00:00+00:00</td>\n",
       "      <td>144.630</td>\n",
       "      <td>144.672</td>\n",
       "      <td>144.608</td>\n",
       "      <td>144.632</td>\n",
       "      <td>144.630</td>\n",
       "      <td>144.632</td>\n",
       "      <td>34.375000</td>\n",
       "      <td>37.500000</td>\n",
       "      <td>3.125000</td>\n",
       "      <td>-1</td>\n",
       "      <td>0.002</td>\n",
       "      <td>0.004149</td>\n",
       "      <td>-0.002765</td>\n",
       "      <td>1.421085e-09</td>\n",
       "      <td>0.002</td>\n",
       "      <td>1.0</td>\n",
       "      <td>True</td>\n",
       "    </tr>\n",
       "  </tbody>\n",
       "</table>\n",
       "</div>"
      ],
      "text/plain": [
       "                           time    mid_c    mid_h    mid_l    mid_o  \\\n",
       "11115 2017-10-19 03:00:00+00:00  149.203  149.300  149.168  149.220   \n",
       "14705 2018-05-18 16:00:00+00:00  149.141  149.274  149.125  149.183   \n",
       "16032 2018-08-05 23:00:00+00:00  144.630  144.672  144.608  144.632   \n",
       "\n",
       "       body_lower  body_upper  body_bottom_perc  body_top_perc  body_perc  \\\n",
       "11115     149.203     149.220         26.515152      39.393939  12.878788   \n",
       "14705     149.141     149.183         10.738255      38.926174  28.187919   \n",
       "16032     144.630     144.632         34.375000      37.500000   3.125000   \n",
       "\n",
       "       direction  body_size  low_change  high_change  body_size_change  \\\n",
       "11115         -1      0.017   -0.005363    -0.006697     -5.555556e+00   \n",
       "14705         -1      0.042    0.001341     0.006700      5.000000e+00   \n",
       "16032         -1      0.002    0.004149    -0.002765      1.421085e-09   \n",
       "\n",
       "       body_size_prev  direction_prev  TWEEZER_TOP  \n",
       "11115           0.018             1.0         True  \n",
       "14705           0.040             1.0         True  \n",
       "16032           0.002             1.0         True  "
      ]
     },
     "execution_count": 59,
     "metadata": {},
     "output_type": "execute_result"
    }
   ],
   "source": [
    "df_an[df_an['TWEEZER_TOP'] == True]"
   ]
  },
  {
   "cell_type": "code",
   "execution_count": 57,
   "metadata": {},
   "outputs": [],
   "source": [
    "import plotly.graph_objects as go"
   ]
  },
  {
   "cell_type": "code",
   "execution_count": 37,
   "metadata": {},
   "outputs": [
    {
     "data": {
      "application/vnd.plotly.v1+json": {
       "config": {
        "plotlyServerURL": "https://plot.ly"
       },
       "data": [
        {
         "close": [
          149.599,
          149.546,
          149.622,
          149.606,
          149.654,
          149.721,
          149.741,
          149.748,
          149.762,
          149.86,
          149.878,
          149.963,
          149.902,
          149.829,
          149.844,
          149.795,
          149.792,
          149.775,
          149.61,
          149.704,
          149.732,
          149.51,
          149.318,
          149.142,
          149.185,
          149.141,
          149.196,
          149.214,
          149.246,
          149.192,
          149.399,
          149.397,
          149.446,
          149.434,
          149.291,
          149.18,
          149.326,
          149.425,
          149.575,
          149.38
         ],
         "decreasing": {
          "fillcolor": "#CC2E3C",
          "line": {
           "color": "#FF3A4C"
          }
         },
         "high": [
          149.812,
          149.766,
          149.704,
          149.661,
          149.708,
          149.74,
          149.751,
          149.85,
          149.79,
          149.941,
          149.964,
          150.011,
          149.961,
          149.92,
          149.896,
          149.902,
          149.939,
          149.918,
          149.896,
          149.79,
          149.812,
          149.74,
          149.544,
          149.406,
          149.264,
          149.274,
          149.204,
          149.288,
          149.252,
          149.352,
          149.468,
          149.47,
          149.458,
          149.504,
          149.478,
          149.416,
          149.338,
          149.43,
          149.656,
          149.596
         ],
         "increasing": {
          "fillcolor": "#24A06B",
          "line": {
           "color": "#2EC886"
          }
         },
         "line": {
          "width": 1
         },
         "low": [
          149.552,
          149.498,
          149.539,
          149.407,
          149.588,
          149.638,
          149.646,
          149.74,
          149.71,
          149.746,
          149.844,
          149.876,
          149.852,
          149.813,
          149.758,
          149.691,
          149.716,
          149.726,
          149.542,
          149.579,
          149.652,
          149.462,
          149.242,
          149.092,
          149.123,
          149.125,
          149.129,
          149.137,
          149.176,
          149.168,
          149.292,
          149.384,
          149.359,
          149.326,
          149.286,
          149.11,
          149.175,
          149.318,
          149.407,
          149.37
         ],
         "opacity": 1,
         "open": [
          149.655,
          149.597,
          149.544,
          149.62,
          149.608,
          149.656,
          149.721,
          149.744,
          149.746,
          149.764,
          149.858,
          149.882,
          149.961,
          149.9,
          149.831,
          149.846,
          149.793,
          149.788,
          149.772,
          149.612,
          149.702,
          149.734,
          149.508,
          149.32,
          149.145,
          149.183,
          149.138,
          149.198,
          149.216,
          149.248,
          149.325,
          149.394,
          149.4,
          149.448,
          149.436,
          149.293,
          149.177,
          149.324,
          149.428,
          149.577
         ],
         "type": "candlestick",
         "x": [
          "s18-05-17 15:00",
          "s18-05-17 16:00",
          "s18-05-17 17:00",
          "s18-05-17 18:00",
          "s18-05-17 19:00",
          "s18-05-17 20:00",
          "s18-05-17 21:00",
          "s18-05-17 22:00",
          "s18-05-17 23:00",
          "s18-05-18 00:00",
          "s18-05-18 01:00",
          "s18-05-18 02:00",
          "s18-05-18 03:00",
          "s18-05-18 04:00",
          "s18-05-18 05:00",
          "s18-05-18 06:00",
          "s18-05-18 07:00",
          "s18-05-18 08:00",
          "s18-05-18 09:00",
          "s18-05-18 10:00",
          "s18-05-18 11:00",
          "s18-05-18 12:00",
          "s18-05-18 13:00",
          "s18-05-18 14:00",
          "s18-05-18 15:00",
          "s18-05-18 16:00",
          "s18-05-18 17:00",
          "s18-05-18 18:00",
          "s18-05-18 19:00",
          "s18-05-18 20:00",
          "s18-05-20 21:00",
          "s18-05-20 22:00",
          "s18-05-20 23:00",
          "s18-05-21 00:00",
          "s18-05-21 01:00",
          "s18-05-21 02:00",
          "s18-05-21 03:00",
          "s18-05-21 04:00",
          "s18-05-21 05:00",
          "s18-05-21 06:00"
         ]
        },
        {
         "close": [
          149.141
         ],
         "decreasing": {
          "fillcolor": "#0066FF",
          "line": {
           "color": "#0066FF"
          }
         },
         "high": [
          149.274
         ],
         "increasing": {
          "fillcolor": "#0066FF",
          "line": {
           "color": "#0066FF"
          }
         },
         "line": {
          "width": 1
         },
         "low": [
          149.125
         ],
         "opacity": 1,
         "open": [
          149.183
         ],
         "type": "candlestick",
         "x": [
          "s18-05-18 16:00"
         ]
        }
       ],
       "layout": {
        "font": {
         "color": "#e1e1e1",
         "size": 8
        },
        "height": 400,
        "margin": {
         "b": 10,
         "l": 10,
         "r": 10,
         "t": 10
        },
        "paper_bgcolor": "#2c303c",
        "plot_bgcolor": "#2c303c",
        "template": {
         "data": {
          "bar": [
           {
            "error_x": {
             "color": "#2a3f5f"
            },
            "error_y": {
             "color": "#2a3f5f"
            },
            "marker": {
             "line": {
              "color": "#E5ECF6",
              "width": 0.5
             },
             "pattern": {
              "fillmode": "overlay",
              "size": 10,
              "solidity": 0.2
             }
            },
            "type": "bar"
           }
          ],
          "barpolar": [
           {
            "marker": {
             "line": {
              "color": "#E5ECF6",
              "width": 0.5
             },
             "pattern": {
              "fillmode": "overlay",
              "size": 10,
              "solidity": 0.2
             }
            },
            "type": "barpolar"
           }
          ],
          "carpet": [
           {
            "aaxis": {
             "endlinecolor": "#2a3f5f",
             "gridcolor": "white",
             "linecolor": "white",
             "minorgridcolor": "white",
             "startlinecolor": "#2a3f5f"
            },
            "baxis": {
             "endlinecolor": "#2a3f5f",
             "gridcolor": "white",
             "linecolor": "white",
             "minorgridcolor": "white",
             "startlinecolor": "#2a3f5f"
            },
            "type": "carpet"
           }
          ],
          "choropleth": [
           {
            "colorbar": {
             "outlinewidth": 0,
             "ticks": ""
            },
            "type": "choropleth"
           }
          ],
          "contour": [
           {
            "colorbar": {
             "outlinewidth": 0,
             "ticks": ""
            },
            "colorscale": [
             [
              0,
              "#0d0887"
             ],
             [
              0.1111111111111111,
              "#46039f"
             ],
             [
              0.2222222222222222,
              "#7201a8"
             ],
             [
              0.3333333333333333,
              "#9c179e"
             ],
             [
              0.4444444444444444,
              "#bd3786"
             ],
             [
              0.5555555555555556,
              "#d8576b"
             ],
             [
              0.6666666666666666,
              "#ed7953"
             ],
             [
              0.7777777777777778,
              "#fb9f3a"
             ],
             [
              0.8888888888888888,
              "#fdca26"
             ],
             [
              1,
              "#f0f921"
             ]
            ],
            "type": "contour"
           }
          ],
          "contourcarpet": [
           {
            "colorbar": {
             "outlinewidth": 0,
             "ticks": ""
            },
            "type": "contourcarpet"
           }
          ],
          "heatmap": [
           {
            "colorbar": {
             "outlinewidth": 0,
             "ticks": ""
            },
            "colorscale": [
             [
              0,
              "#0d0887"
             ],
             [
              0.1111111111111111,
              "#46039f"
             ],
             [
              0.2222222222222222,
              "#7201a8"
             ],
             [
              0.3333333333333333,
              "#9c179e"
             ],
             [
              0.4444444444444444,
              "#bd3786"
             ],
             [
              0.5555555555555556,
              "#d8576b"
             ],
             [
              0.6666666666666666,
              "#ed7953"
             ],
             [
              0.7777777777777778,
              "#fb9f3a"
             ],
             [
              0.8888888888888888,
              "#fdca26"
             ],
             [
              1,
              "#f0f921"
             ]
            ],
            "type": "heatmap"
           }
          ],
          "heatmapgl": [
           {
            "colorbar": {
             "outlinewidth": 0,
             "ticks": ""
            },
            "colorscale": [
             [
              0,
              "#0d0887"
             ],
             [
              0.1111111111111111,
              "#46039f"
             ],
             [
              0.2222222222222222,
              "#7201a8"
             ],
             [
              0.3333333333333333,
              "#9c179e"
             ],
             [
              0.4444444444444444,
              "#bd3786"
             ],
             [
              0.5555555555555556,
              "#d8576b"
             ],
             [
              0.6666666666666666,
              "#ed7953"
             ],
             [
              0.7777777777777778,
              "#fb9f3a"
             ],
             [
              0.8888888888888888,
              "#fdca26"
             ],
             [
              1,
              "#f0f921"
             ]
            ],
            "type": "heatmapgl"
           }
          ],
          "histogram": [
           {
            "marker": {
             "pattern": {
              "fillmode": "overlay",
              "size": 10,
              "solidity": 0.2
             }
            },
            "type": "histogram"
           }
          ],
          "histogram2d": [
           {
            "colorbar": {
             "outlinewidth": 0,
             "ticks": ""
            },
            "colorscale": [
             [
              0,
              "#0d0887"
             ],
             [
              0.1111111111111111,
              "#46039f"
             ],
             [
              0.2222222222222222,
              "#7201a8"
             ],
             [
              0.3333333333333333,
              "#9c179e"
             ],
             [
              0.4444444444444444,
              "#bd3786"
             ],
             [
              0.5555555555555556,
              "#d8576b"
             ],
             [
              0.6666666666666666,
              "#ed7953"
             ],
             [
              0.7777777777777778,
              "#fb9f3a"
             ],
             [
              0.8888888888888888,
              "#fdca26"
             ],
             [
              1,
              "#f0f921"
             ]
            ],
            "type": "histogram2d"
           }
          ],
          "histogram2dcontour": [
           {
            "colorbar": {
             "outlinewidth": 0,
             "ticks": ""
            },
            "colorscale": [
             [
              0,
              "#0d0887"
             ],
             [
              0.1111111111111111,
              "#46039f"
             ],
             [
              0.2222222222222222,
              "#7201a8"
             ],
             [
              0.3333333333333333,
              "#9c179e"
             ],
             [
              0.4444444444444444,
              "#bd3786"
             ],
             [
              0.5555555555555556,
              "#d8576b"
             ],
             [
              0.6666666666666666,
              "#ed7953"
             ],
             [
              0.7777777777777778,
              "#fb9f3a"
             ],
             [
              0.8888888888888888,
              "#fdca26"
             ],
             [
              1,
              "#f0f921"
             ]
            ],
            "type": "histogram2dcontour"
           }
          ],
          "mesh3d": [
           {
            "colorbar": {
             "outlinewidth": 0,
             "ticks": ""
            },
            "type": "mesh3d"
           }
          ],
          "parcoords": [
           {
            "line": {
             "colorbar": {
              "outlinewidth": 0,
              "ticks": ""
             }
            },
            "type": "parcoords"
           }
          ],
          "pie": [
           {
            "automargin": true,
            "type": "pie"
           }
          ],
          "scatter": [
           {
            "fillpattern": {
             "fillmode": "overlay",
             "size": 10,
             "solidity": 0.2
            },
            "type": "scatter"
           }
          ],
          "scatter3d": [
           {
            "line": {
             "colorbar": {
              "outlinewidth": 0,
              "ticks": ""
             }
            },
            "marker": {
             "colorbar": {
              "outlinewidth": 0,
              "ticks": ""
             }
            },
            "type": "scatter3d"
           }
          ],
          "scattercarpet": [
           {
            "marker": {
             "colorbar": {
              "outlinewidth": 0,
              "ticks": ""
             }
            },
            "type": "scattercarpet"
           }
          ],
          "scattergeo": [
           {
            "marker": {
             "colorbar": {
              "outlinewidth": 0,
              "ticks": ""
             }
            },
            "type": "scattergeo"
           }
          ],
          "scattergl": [
           {
            "marker": {
             "colorbar": {
              "outlinewidth": 0,
              "ticks": ""
             }
            },
            "type": "scattergl"
           }
          ],
          "scattermapbox": [
           {
            "marker": {
             "colorbar": {
              "outlinewidth": 0,
              "ticks": ""
             }
            },
            "type": "scattermapbox"
           }
          ],
          "scatterpolar": [
           {
            "marker": {
             "colorbar": {
              "outlinewidth": 0,
              "ticks": ""
             }
            },
            "type": "scatterpolar"
           }
          ],
          "scatterpolargl": [
           {
            "marker": {
             "colorbar": {
              "outlinewidth": 0,
              "ticks": ""
             }
            },
            "type": "scatterpolargl"
           }
          ],
          "scatterternary": [
           {
            "marker": {
             "colorbar": {
              "outlinewidth": 0,
              "ticks": ""
             }
            },
            "type": "scatterternary"
           }
          ],
          "surface": [
           {
            "colorbar": {
             "outlinewidth": 0,
             "ticks": ""
            },
            "colorscale": [
             [
              0,
              "#0d0887"
             ],
             [
              0.1111111111111111,
              "#46039f"
             ],
             [
              0.2222222222222222,
              "#7201a8"
             ],
             [
              0.3333333333333333,
              "#9c179e"
             ],
             [
              0.4444444444444444,
              "#bd3786"
             ],
             [
              0.5555555555555556,
              "#d8576b"
             ],
             [
              0.6666666666666666,
              "#ed7953"
             ],
             [
              0.7777777777777778,
              "#fb9f3a"
             ],
             [
              0.8888888888888888,
              "#fdca26"
             ],
             [
              1,
              "#f0f921"
             ]
            ],
            "type": "surface"
           }
          ],
          "table": [
           {
            "cells": {
             "fill": {
              "color": "#EBF0F8"
             },
             "line": {
              "color": "white"
             }
            },
            "header": {
             "fill": {
              "color": "#C8D4E3"
             },
             "line": {
              "color": "white"
             }
            },
            "type": "table"
           }
          ]
         },
         "layout": {
          "annotationdefaults": {
           "arrowcolor": "#2a3f5f",
           "arrowhead": 0,
           "arrowwidth": 1
          },
          "autotypenumbers": "strict",
          "coloraxis": {
           "colorbar": {
            "outlinewidth": 0,
            "ticks": ""
           }
          },
          "colorscale": {
           "diverging": [
            [
             0,
             "#8e0152"
            ],
            [
             0.1,
             "#c51b7d"
            ],
            [
             0.2,
             "#de77ae"
            ],
            [
             0.3,
             "#f1b6da"
            ],
            [
             0.4,
             "#fde0ef"
            ],
            [
             0.5,
             "#f7f7f7"
            ],
            [
             0.6,
             "#e6f5d0"
            ],
            [
             0.7,
             "#b8e186"
            ],
            [
             0.8,
             "#7fbc41"
            ],
            [
             0.9,
             "#4d9221"
            ],
            [
             1,
             "#276419"
            ]
           ],
           "sequential": [
            [
             0,
             "#0d0887"
            ],
            [
             0.1111111111111111,
             "#46039f"
            ],
            [
             0.2222222222222222,
             "#7201a8"
            ],
            [
             0.3333333333333333,
             "#9c179e"
            ],
            [
             0.4444444444444444,
             "#bd3786"
            ],
            [
             0.5555555555555556,
             "#d8576b"
            ],
            [
             0.6666666666666666,
             "#ed7953"
            ],
            [
             0.7777777777777778,
             "#fb9f3a"
            ],
            [
             0.8888888888888888,
             "#fdca26"
            ],
            [
             1,
             "#f0f921"
            ]
           ],
           "sequentialminus": [
            [
             0,
             "#0d0887"
            ],
            [
             0.1111111111111111,
             "#46039f"
            ],
            [
             0.2222222222222222,
             "#7201a8"
            ],
            [
             0.3333333333333333,
             "#9c179e"
            ],
            [
             0.4444444444444444,
             "#bd3786"
            ],
            [
             0.5555555555555556,
             "#d8576b"
            ],
            [
             0.6666666666666666,
             "#ed7953"
            ],
            [
             0.7777777777777778,
             "#fb9f3a"
            ],
            [
             0.8888888888888888,
             "#fdca26"
            ],
            [
             1,
             "#f0f921"
            ]
           ]
          },
          "colorway": [
           "#636efa",
           "#EF553B",
           "#00cc96",
           "#ab63fa",
           "#FFA15A",
           "#19d3f3",
           "#FF6692",
           "#B6E880",
           "#FF97FF",
           "#FECB52"
          ],
          "font": {
           "color": "#2a3f5f"
          },
          "geo": {
           "bgcolor": "white",
           "lakecolor": "white",
           "landcolor": "#E5ECF6",
           "showlakes": true,
           "showland": true,
           "subunitcolor": "white"
          },
          "hoverlabel": {
           "align": "left"
          },
          "hovermode": "closest",
          "mapbox": {
           "style": "light"
          },
          "paper_bgcolor": "white",
          "plot_bgcolor": "#E5ECF6",
          "polar": {
           "angularaxis": {
            "gridcolor": "white",
            "linecolor": "white",
            "ticks": ""
           },
           "bgcolor": "#E5ECF6",
           "radialaxis": {
            "gridcolor": "white",
            "linecolor": "white",
            "ticks": ""
           }
          },
          "scene": {
           "xaxis": {
            "backgroundcolor": "#E5ECF6",
            "gridcolor": "white",
            "gridwidth": 2,
            "linecolor": "white",
            "showbackground": true,
            "ticks": "",
            "zerolinecolor": "white"
           },
           "yaxis": {
            "backgroundcolor": "#E5ECF6",
            "gridcolor": "white",
            "gridwidth": 2,
            "linecolor": "white",
            "showbackground": true,
            "ticks": "",
            "zerolinecolor": "white"
           },
           "zaxis": {
            "backgroundcolor": "#E5ECF6",
            "gridcolor": "white",
            "gridwidth": 2,
            "linecolor": "white",
            "showbackground": true,
            "ticks": "",
            "zerolinecolor": "white"
           }
          },
          "shapedefaults": {
           "line": {
            "color": "#2a3f5f"
           }
          },
          "ternary": {
           "aaxis": {
            "gridcolor": "white",
            "linecolor": "white",
            "ticks": ""
           },
           "baxis": {
            "gridcolor": "white",
            "linecolor": "white",
            "ticks": ""
           },
           "bgcolor": "#E5ECF6",
           "caxis": {
            "gridcolor": "white",
            "linecolor": "white",
            "ticks": ""
           }
          },
          "title": {
           "x": 0.05
          },
          "xaxis": {
           "automargin": true,
           "gridcolor": "white",
           "linecolor": "white",
           "ticks": "",
           "title": {
            "standoff": 15
           },
           "zerolinecolor": "white",
           "zerolinewidth": 2
          },
          "yaxis": {
           "automargin": true,
           "gridcolor": "white",
           "linecolor": "white",
           "ticks": "",
           "title": {
            "standoff": 15
           },
           "zerolinecolor": "white",
           "zerolinewidth": 2
          }
         }
        },
        "width": 900,
        "xaxis": {
         "anchor": "y",
         "domain": [
          0,
          0.94
         ],
         "gridcolor": "#1f292f",
         "nticks": 5,
         "rangeslider": {
          "visible": false
         }
        },
        "yaxis": {
         "anchor": "x",
         "domain": [
          0,
          1
         ],
         "gridcolor": "#1f292f"
        },
        "yaxis2": {
         "anchor": "x",
         "gridcolor": "#1f292f",
         "overlaying": "y",
         "side": "right"
        }
       }
      }
     },
     "metadata": {},
     "output_type": "display_data"
    }
   ],
   "source": [
    "MARKER = '#0066FF'\n",
    "dfp = df_an.iloc[14680:14720]\n",
    "cp = CandlePlot(dfp, candles=True)\n",
    "df_temp = cp.df_plot[cp.df_plot.TWEEZER_TOP == True]\n",
    "cp.fig.add_trace(go.Candlestick(\n",
    "                x = df_temp.sTime,\n",
    "                open = df_temp.mid_o,\n",
    "                high = df_temp.mid_h,\n",
    "                low = df_temp.mid_l,\n",
    "                close = df_temp.mid_c,\n",
    "                line=dict(width=1), opacity=1,\n",
    "                increasing_fillcolor=MARKER,\n",
    "                decreasing_fillcolor=MARKER,\n",
    "                increasing_line_color=MARKER,\n",
    "                decreasing_line_color=MARKER\n",
    "            ))\n",
    "\n",
    "cp.show_plot()"
   ]
  },
  {
   "cell_type": "code",
   "execution_count": null,
   "metadata": {},
   "outputs": [],
   "source": []
  },
  {
   "cell_type": "markdown",
   "metadata": {},
   "source": [
    "# Tweezer Bottom"
   ]
  },
  {
   "cell_type": "code",
   "execution_count": 38,
   "metadata": {},
   "outputs": [],
   "source": [
    "df_an['body_size_prev'] = df_an.body_size.shift(1)\n",
    "df_an['direction_prev'] = df_an.direction.shift(1)"
   ]
  },
  {
   "cell_type": "code",
   "execution_count": 39,
   "metadata": {},
   "outputs": [],
   "source": [
    "TWEEZER_BODY = 15.0\n",
    "TWEEZER_HL = 0.01\n",
    "TWEEZER_BOTTOM_BODY = 60.0\n",
    "\n",
    "def apply_tweezer_bottom(row):\n",
    "    if abs(row.body_size_change) < TWEEZER_BODY:\n",
    "        if row.direction == 1 and row.direction != row.direction_prev:\n",
    "            if abs(row.low_change) < TWEEZER_HL and abs(row.high_change) < TWEEZER_HL:\n",
    "                if row.body_bottom_perc > TWEEZER_BOTTOM_BODY:\n",
    "                    return True\n",
    "    return False"
   ]
  },
  {
   "cell_type": "code",
   "execution_count": 40,
   "metadata": {},
   "outputs": [],
   "source": [
    "df_an['TWEEZER_BOTTOM'] = df_an.apply(apply_tweezer_bottom, axis=1)"
   ]
  },
  {
   "cell_type": "code",
   "execution_count": 41,
   "metadata": {},
   "outputs": [
    {
     "data": {
      "text/html": [
       "<div>\n",
       "<style scoped>\n",
       "    .dataframe tbody tr th:only-of-type {\n",
       "        vertical-align: middle;\n",
       "    }\n",
       "\n",
       "    .dataframe tbody tr th {\n",
       "        vertical-align: top;\n",
       "    }\n",
       "\n",
       "    .dataframe thead th {\n",
       "        text-align: right;\n",
       "    }\n",
       "</style>\n",
       "<table border=\"1\" class=\"dataframe\">\n",
       "  <thead>\n",
       "    <tr style=\"text-align: right;\">\n",
       "      <th></th>\n",
       "      <th>time</th>\n",
       "      <th>mid_c</th>\n",
       "      <th>mid_h</th>\n",
       "      <th>mid_l</th>\n",
       "      <th>mid_o</th>\n",
       "      <th>body_lower</th>\n",
       "      <th>body_upper</th>\n",
       "      <th>body_bottom_perc</th>\n",
       "      <th>body_top_perc</th>\n",
       "      <th>body_perc</th>\n",
       "      <th>...</th>\n",
       "      <th>mid_point_prev_2</th>\n",
       "      <th>HANGING_MAN</th>\n",
       "      <th>SHOOTING_STAR</th>\n",
       "      <th>SPINNING_TOP</th>\n",
       "      <th>MARUBOZU</th>\n",
       "      <th>body_size_prev</th>\n",
       "      <th>direction_prev</th>\n",
       "      <th>ENGULFING</th>\n",
       "      <th>TWEEZER_TOP</th>\n",
       "      <th>TWEEZER_BOTTOM</th>\n",
       "    </tr>\n",
       "  </thead>\n",
       "  <tbody>\n",
       "    <tr>\n",
       "      <th>11724</th>\n",
       "      <td>2017-11-23 12:00:00+00:00</td>\n",
       "      <td>148.032</td>\n",
       "      <td>148.074</td>\n",
       "      <td>147.906</td>\n",
       "      <td>148.009</td>\n",
       "      <td>148.009</td>\n",
       "      <td>148.032</td>\n",
       "      <td>61.309524</td>\n",
       "      <td>75.0</td>\n",
       "      <td>13.690476</td>\n",
       "      <td>...</td>\n",
       "      <td>147.999</td>\n",
       "      <td>False</td>\n",
       "      <td>False</td>\n",
       "      <td>False</td>\n",
       "      <td>False</td>\n",
       "      <td>0.024</td>\n",
       "      <td>-1.0</td>\n",
       "      <td>False</td>\n",
       "      <td>False</td>\n",
       "      <td>True</td>\n",
       "    </tr>\n",
       "  </tbody>\n",
       "</table>\n",
       "<p>1 rows × 26 columns</p>\n",
       "</div>"
      ],
      "text/plain": [
       "                           time    mid_c    mid_h    mid_l    mid_o  \\\n",
       "11724 2017-11-23 12:00:00+00:00  148.032  148.074  147.906  148.009   \n",
       "\n",
       "       body_lower  body_upper  body_bottom_perc  body_top_perc  body_perc  \\\n",
       "11724     148.009     148.032         61.309524           75.0  13.690476   \n",
       "\n",
       "       ...  mid_point_prev_2  HANGING_MAN  SHOOTING_STAR  SPINNING_TOP  \\\n",
       "11724  ...           147.999        False          False         False   \n",
       "\n",
       "       MARUBOZU  body_size_prev  direction_prev  ENGULFING  TWEEZER_TOP  \\\n",
       "11724     False           0.024            -1.0      False        False   \n",
       "\n",
       "       TWEEZER_BOTTOM  \n",
       "11724            True  \n",
       "\n",
       "[1 rows x 26 columns]"
      ]
     },
     "execution_count": 41,
     "metadata": {},
     "output_type": "execute_result"
    }
   ],
   "source": [
    "df_an[df_an['TWEEZER_BOTTOM'] == True]"
   ]
  },
  {
   "cell_type": "code",
   "execution_count": 42,
   "metadata": {},
   "outputs": [],
   "source": [
    "import plotly.graph_objects as go"
   ]
  },
  {
   "cell_type": "code",
   "execution_count": 43,
   "metadata": {},
   "outputs": [
    {
     "data": {
      "application/vnd.plotly.v1+json": {
       "config": {
        "plotlyServerURL": "https://plot.ly"
       },
       "data": [
        {
         "close": [
          148.026,
          148.044,
          148.034,
          148.012,
          148.032,
          148.162,
          148.036,
          147.909,
          147.936,
          147.948,
          147.972,
          147.998,
          147.93,
          148.007,
          148.038,
          148.038,
          148.104,
          148.051,
          148.092,
          148.157,
          148.119,
          148.186,
          148.162,
          148.214,
          148.428,
          148.503,
          148.399,
          148.42,
          148.414,
          148.526,
          148.7,
          148.871,
          148.769,
          148.72,
          148.69,
          148.746,
          148.759,
          148.748,
          148.739,
          148.782,
          148.71,
          148.418,
          148.306,
          148.336,
          148.304,
          148.348,
          148.374,
          148.428,
          148.454,
          148.518,
          148.502,
          148.478,
          148.462,
          148.356,
          148.443,
          148.103,
          147.978,
          148.019,
          147.978,
          147.862,
          147.969,
          147.979,
          147.944,
          148.05,
          147.93,
          148.234,
          148.22,
          148.15,
          148.22,
          148.204,
          148.266,
          148.293,
          148.136,
          147.998,
          148.018,
          148.068,
          147.728,
          147.768,
          147.763,
          147.289
         ],
         "decreasing": {
          "fillcolor": "#CC2E3C",
          "line": {
           "color": "#FF3A4C"
          }
         },
         "high": [
          148.162,
          148.107,
          148.09,
          148.072,
          148.074,
          148.24,
          148.19,
          148.096,
          147.97,
          147.968,
          148.062,
          148.023,
          148.086,
          148.07,
          148.074,
          148.058,
          148.163,
          148.124,
          148.114,
          148.174,
          148.269,
          148.22,
          148.22,
          148.338,
          148.466,
          148.527,
          148.545,
          148.55,
          148.535,
          148.562,
          148.826,
          148.9,
          148.986,
          148.804,
          148.798,
          148.76,
          148.828,
          148.84,
          148.746,
          148.872,
          148.78,
          148.72,
          148.428,
          148.434,
          148.425,
          148.403,
          148.403,
          148.444,
          148.512,
          148.636,
          148.622,
          148.535,
          148.497,
          148.591,
          148.569,
          148.478,
          148.23,
          148.05,
          148.042,
          147.976,
          148.022,
          148.011,
          148.029,
          148.11,
          148.143,
          148.246,
          148.262,
          148.22,
          148.276,
          148.308,
          148.523,
          148.377,
          148.372,
          148.184,
          148.138,
          148.152,
          148.096,
          147.828,
          147.848,
          147.854
         ],
         "increasing": {
          "fillcolor": "#24A06B",
          "line": {
           "color": "#2EC886"
          }
         },
         "line": {
          "width": 1
         },
         "low": [
          147.878,
          147.816,
          147.908,
          147.908,
          147.906,
          148.015,
          148.03,
          147.905,
          147.844,
          147.858,
          147.912,
          147.94,
          147.926,
          147.935,
          147.944,
          147.97,
          148.024,
          148.018,
          147.971,
          148.041,
          148.104,
          148.108,
          148.104,
          148.14,
          148.197,
          148.376,
          148.33,
          148.322,
          148.388,
          148.278,
          148.508,
          148.659,
          148.706,
          148.522,
          148.683,
          148.594,
          148.68,
          148.66,
          148.546,
          148.732,
          148.658,
          148.368,
          148.284,
          148.294,
          148.244,
          148.296,
          148.291,
          148.296,
          148.17,
          148.456,
          148.467,
          148.39,
          148.194,
          148.34,
          148.266,
          148.026,
          147.89,
          147.895,
          147.912,
          147.854,
          147.842,
          147.906,
          147.886,
          147.928,
          147.84,
          147.914,
          148.182,
          148.132,
          148.15,
          148.176,
          148.145,
          148.068,
          148.008,
          147.938,
          147.893,
          147.967,
          147.728,
          147.616,
          147.676,
          147.214
         ],
         "opacity": 1,
         "open": [
          148.006,
          148.029,
          148.046,
          148.036,
          148.009,
          148.034,
          148.159,
          148.038,
          147.911,
          147.938,
          147.945,
          147.974,
          148.002,
          147.935,
          148.012,
          148.04,
          148.041,
          148.108,
          148.048,
          148.094,
          148.159,
          148.116,
          148.184,
          148.16,
          148.216,
          148.426,
          148.505,
          148.401,
          148.422,
          148.418,
          148.524,
          148.698,
          148.868,
          148.772,
          148.716,
          148.692,
          148.748,
          148.762,
          148.588,
          148.736,
          148.78,
          148.707,
          148.42,
          148.308,
          148.338,
          148.302,
          148.346,
          148.372,
          148.426,
          148.456,
          148.52,
          148.5,
          148.48,
          148.46,
          148.358,
          148.44,
          148.105,
          147.975,
          148.021,
          147.976,
          147.859,
          147.971,
          148.029,
          147.941,
          148.047,
          147.932,
          148.232,
          148.218,
          148.152,
          148.222,
          148.206,
          148.268,
          148.295,
          148.138,
          148,
          148.016,
          148.07,
          147.726,
          147.77,
          147.766
         ],
         "type": "candlestick",
         "x": [
          "s17-11-23 08:00",
          "s17-11-23 09:00",
          "s17-11-23 10:00",
          "s17-11-23 11:00",
          "s17-11-23 12:00",
          "s17-11-23 13:00",
          "s17-11-23 14:00",
          "s17-11-23 15:00",
          "s17-11-23 16:00",
          "s17-11-23 17:00",
          "s17-11-23 18:00",
          "s17-11-23 19:00",
          "s17-11-23 20:00",
          "s17-11-23 21:00",
          "s17-11-23 22:00",
          "s17-11-23 23:00",
          "s17-11-24 00:00",
          "s17-11-24 01:00",
          "s17-11-24 02:00",
          "s17-11-24 03:00",
          "s17-11-24 04:00",
          "s17-11-24 05:00",
          "s17-11-24 06:00",
          "s17-11-24 07:00",
          "s17-11-24 08:00",
          "s17-11-24 09:00",
          "s17-11-24 10:00",
          "s17-11-24 11:00",
          "s17-11-24 12:00",
          "s17-11-24 13:00",
          "s17-11-24 14:00",
          "s17-11-24 15:00",
          "s17-11-24 16:00",
          "s17-11-24 17:00",
          "s17-11-24 18:00",
          "s17-11-24 19:00",
          "s17-11-24 20:00",
          "s17-11-24 21:00",
          "s17-11-26 22:00",
          "s17-11-26 23:00",
          "s17-11-27 00:00",
          "s17-11-27 01:00",
          "s17-11-27 02:00",
          "s17-11-27 03:00",
          "s17-11-27 04:00",
          "s17-11-27 05:00",
          "s17-11-27 06:00",
          "s17-11-27 07:00",
          "s17-11-27 08:00",
          "s17-11-27 09:00",
          "s17-11-27 10:00",
          "s17-11-27 11:00",
          "s17-11-27 12:00",
          "s17-11-27 13:00",
          "s17-11-27 14:00",
          "s17-11-27 15:00",
          "s17-11-27 16:00",
          "s17-11-27 17:00",
          "s17-11-27 18:00",
          "s17-11-27 19:00",
          "s17-11-27 20:00",
          "s17-11-27 21:00",
          "s17-11-27 22:00",
          "s17-11-27 23:00",
          "s17-11-28 00:00",
          "s17-11-28 01:00",
          "s17-11-28 02:00",
          "s17-11-28 03:00",
          "s17-11-28 04:00",
          "s17-11-28 05:00",
          "s17-11-28 06:00",
          "s17-11-28 07:00",
          "s17-11-28 08:00",
          "s17-11-28 09:00",
          "s17-11-28 10:00",
          "s17-11-28 11:00",
          "s17-11-28 12:00",
          "s17-11-28 13:00",
          "s17-11-28 14:00",
          "s17-11-28 15:00"
         ]
        },
        {
         "close": [
          148.032
         ],
         "decreasing": {
          "fillcolor": "#0066FF",
          "line": {
           "color": "#0066FF"
          }
         },
         "high": [
          148.074
         ],
         "increasing": {
          "fillcolor": "#0066FF",
          "line": {
           "color": "#0066FF"
          }
         },
         "line": {
          "width": 1
         },
         "low": [
          147.906
         ],
         "opacity": 1,
         "open": [
          148.009
         ],
         "type": "candlestick",
         "x": [
          "s17-11-23 12:00"
         ]
        }
       ],
       "layout": {
        "font": {
         "color": "#e1e1e1",
         "size": 8
        },
        "height": 400,
        "margin": {
         "b": 10,
         "l": 10,
         "r": 10,
         "t": 10
        },
        "paper_bgcolor": "#2c303c",
        "plot_bgcolor": "#2c303c",
        "template": {
         "data": {
          "bar": [
           {
            "error_x": {
             "color": "#2a3f5f"
            },
            "error_y": {
             "color": "#2a3f5f"
            },
            "marker": {
             "line": {
              "color": "#E5ECF6",
              "width": 0.5
             },
             "pattern": {
              "fillmode": "overlay",
              "size": 10,
              "solidity": 0.2
             }
            },
            "type": "bar"
           }
          ],
          "barpolar": [
           {
            "marker": {
             "line": {
              "color": "#E5ECF6",
              "width": 0.5
             },
             "pattern": {
              "fillmode": "overlay",
              "size": 10,
              "solidity": 0.2
             }
            },
            "type": "barpolar"
           }
          ],
          "carpet": [
           {
            "aaxis": {
             "endlinecolor": "#2a3f5f",
             "gridcolor": "white",
             "linecolor": "white",
             "minorgridcolor": "white",
             "startlinecolor": "#2a3f5f"
            },
            "baxis": {
             "endlinecolor": "#2a3f5f",
             "gridcolor": "white",
             "linecolor": "white",
             "minorgridcolor": "white",
             "startlinecolor": "#2a3f5f"
            },
            "type": "carpet"
           }
          ],
          "choropleth": [
           {
            "colorbar": {
             "outlinewidth": 0,
             "ticks": ""
            },
            "type": "choropleth"
           }
          ],
          "contour": [
           {
            "colorbar": {
             "outlinewidth": 0,
             "ticks": ""
            },
            "colorscale": [
             [
              0,
              "#0d0887"
             ],
             [
              0.1111111111111111,
              "#46039f"
             ],
             [
              0.2222222222222222,
              "#7201a8"
             ],
             [
              0.3333333333333333,
              "#9c179e"
             ],
             [
              0.4444444444444444,
              "#bd3786"
             ],
             [
              0.5555555555555556,
              "#d8576b"
             ],
             [
              0.6666666666666666,
              "#ed7953"
             ],
             [
              0.7777777777777778,
              "#fb9f3a"
             ],
             [
              0.8888888888888888,
              "#fdca26"
             ],
             [
              1,
              "#f0f921"
             ]
            ],
            "type": "contour"
           }
          ],
          "contourcarpet": [
           {
            "colorbar": {
             "outlinewidth": 0,
             "ticks": ""
            },
            "type": "contourcarpet"
           }
          ],
          "heatmap": [
           {
            "colorbar": {
             "outlinewidth": 0,
             "ticks": ""
            },
            "colorscale": [
             [
              0,
              "#0d0887"
             ],
             [
              0.1111111111111111,
              "#46039f"
             ],
             [
              0.2222222222222222,
              "#7201a8"
             ],
             [
              0.3333333333333333,
              "#9c179e"
             ],
             [
              0.4444444444444444,
              "#bd3786"
             ],
             [
              0.5555555555555556,
              "#d8576b"
             ],
             [
              0.6666666666666666,
              "#ed7953"
             ],
             [
              0.7777777777777778,
              "#fb9f3a"
             ],
             [
              0.8888888888888888,
              "#fdca26"
             ],
             [
              1,
              "#f0f921"
             ]
            ],
            "type": "heatmap"
           }
          ],
          "heatmapgl": [
           {
            "colorbar": {
             "outlinewidth": 0,
             "ticks": ""
            },
            "colorscale": [
             [
              0,
              "#0d0887"
             ],
             [
              0.1111111111111111,
              "#46039f"
             ],
             [
              0.2222222222222222,
              "#7201a8"
             ],
             [
              0.3333333333333333,
              "#9c179e"
             ],
             [
              0.4444444444444444,
              "#bd3786"
             ],
             [
              0.5555555555555556,
              "#d8576b"
             ],
             [
              0.6666666666666666,
              "#ed7953"
             ],
             [
              0.7777777777777778,
              "#fb9f3a"
             ],
             [
              0.8888888888888888,
              "#fdca26"
             ],
             [
              1,
              "#f0f921"
             ]
            ],
            "type": "heatmapgl"
           }
          ],
          "histogram": [
           {
            "marker": {
             "pattern": {
              "fillmode": "overlay",
              "size": 10,
              "solidity": 0.2
             }
            },
            "type": "histogram"
           }
          ],
          "histogram2d": [
           {
            "colorbar": {
             "outlinewidth": 0,
             "ticks": ""
            },
            "colorscale": [
             [
              0,
              "#0d0887"
             ],
             [
              0.1111111111111111,
              "#46039f"
             ],
             [
              0.2222222222222222,
              "#7201a8"
             ],
             [
              0.3333333333333333,
              "#9c179e"
             ],
             [
              0.4444444444444444,
              "#bd3786"
             ],
             [
              0.5555555555555556,
              "#d8576b"
             ],
             [
              0.6666666666666666,
              "#ed7953"
             ],
             [
              0.7777777777777778,
              "#fb9f3a"
             ],
             [
              0.8888888888888888,
              "#fdca26"
             ],
             [
              1,
              "#f0f921"
             ]
            ],
            "type": "histogram2d"
           }
          ],
          "histogram2dcontour": [
           {
            "colorbar": {
             "outlinewidth": 0,
             "ticks": ""
            },
            "colorscale": [
             [
              0,
              "#0d0887"
             ],
             [
              0.1111111111111111,
              "#46039f"
             ],
             [
              0.2222222222222222,
              "#7201a8"
             ],
             [
              0.3333333333333333,
              "#9c179e"
             ],
             [
              0.4444444444444444,
              "#bd3786"
             ],
             [
              0.5555555555555556,
              "#d8576b"
             ],
             [
              0.6666666666666666,
              "#ed7953"
             ],
             [
              0.7777777777777778,
              "#fb9f3a"
             ],
             [
              0.8888888888888888,
              "#fdca26"
             ],
             [
              1,
              "#f0f921"
             ]
            ],
            "type": "histogram2dcontour"
           }
          ],
          "mesh3d": [
           {
            "colorbar": {
             "outlinewidth": 0,
             "ticks": ""
            },
            "type": "mesh3d"
           }
          ],
          "parcoords": [
           {
            "line": {
             "colorbar": {
              "outlinewidth": 0,
              "ticks": ""
             }
            },
            "type": "parcoords"
           }
          ],
          "pie": [
           {
            "automargin": true,
            "type": "pie"
           }
          ],
          "scatter": [
           {
            "fillpattern": {
             "fillmode": "overlay",
             "size": 10,
             "solidity": 0.2
            },
            "type": "scatter"
           }
          ],
          "scatter3d": [
           {
            "line": {
             "colorbar": {
              "outlinewidth": 0,
              "ticks": ""
             }
            },
            "marker": {
             "colorbar": {
              "outlinewidth": 0,
              "ticks": ""
             }
            },
            "type": "scatter3d"
           }
          ],
          "scattercarpet": [
           {
            "marker": {
             "colorbar": {
              "outlinewidth": 0,
              "ticks": ""
             }
            },
            "type": "scattercarpet"
           }
          ],
          "scattergeo": [
           {
            "marker": {
             "colorbar": {
              "outlinewidth": 0,
              "ticks": ""
             }
            },
            "type": "scattergeo"
           }
          ],
          "scattergl": [
           {
            "marker": {
             "colorbar": {
              "outlinewidth": 0,
              "ticks": ""
             }
            },
            "type": "scattergl"
           }
          ],
          "scattermapbox": [
           {
            "marker": {
             "colorbar": {
              "outlinewidth": 0,
              "ticks": ""
             }
            },
            "type": "scattermapbox"
           }
          ],
          "scatterpolar": [
           {
            "marker": {
             "colorbar": {
              "outlinewidth": 0,
              "ticks": ""
             }
            },
            "type": "scatterpolar"
           }
          ],
          "scatterpolargl": [
           {
            "marker": {
             "colorbar": {
              "outlinewidth": 0,
              "ticks": ""
             }
            },
            "type": "scatterpolargl"
           }
          ],
          "scatterternary": [
           {
            "marker": {
             "colorbar": {
              "outlinewidth": 0,
              "ticks": ""
             }
            },
            "type": "scatterternary"
           }
          ],
          "surface": [
           {
            "colorbar": {
             "outlinewidth": 0,
             "ticks": ""
            },
            "colorscale": [
             [
              0,
              "#0d0887"
             ],
             [
              0.1111111111111111,
              "#46039f"
             ],
             [
              0.2222222222222222,
              "#7201a8"
             ],
             [
              0.3333333333333333,
              "#9c179e"
             ],
             [
              0.4444444444444444,
              "#bd3786"
             ],
             [
              0.5555555555555556,
              "#d8576b"
             ],
             [
              0.6666666666666666,
              "#ed7953"
             ],
             [
              0.7777777777777778,
              "#fb9f3a"
             ],
             [
              0.8888888888888888,
              "#fdca26"
             ],
             [
              1,
              "#f0f921"
             ]
            ],
            "type": "surface"
           }
          ],
          "table": [
           {
            "cells": {
             "fill": {
              "color": "#EBF0F8"
             },
             "line": {
              "color": "white"
             }
            },
            "header": {
             "fill": {
              "color": "#C8D4E3"
             },
             "line": {
              "color": "white"
             }
            },
            "type": "table"
           }
          ]
         },
         "layout": {
          "annotationdefaults": {
           "arrowcolor": "#2a3f5f",
           "arrowhead": 0,
           "arrowwidth": 1
          },
          "autotypenumbers": "strict",
          "coloraxis": {
           "colorbar": {
            "outlinewidth": 0,
            "ticks": ""
           }
          },
          "colorscale": {
           "diverging": [
            [
             0,
             "#8e0152"
            ],
            [
             0.1,
             "#c51b7d"
            ],
            [
             0.2,
             "#de77ae"
            ],
            [
             0.3,
             "#f1b6da"
            ],
            [
             0.4,
             "#fde0ef"
            ],
            [
             0.5,
             "#f7f7f7"
            ],
            [
             0.6,
             "#e6f5d0"
            ],
            [
             0.7,
             "#b8e186"
            ],
            [
             0.8,
             "#7fbc41"
            ],
            [
             0.9,
             "#4d9221"
            ],
            [
             1,
             "#276419"
            ]
           ],
           "sequential": [
            [
             0,
             "#0d0887"
            ],
            [
             0.1111111111111111,
             "#46039f"
            ],
            [
             0.2222222222222222,
             "#7201a8"
            ],
            [
             0.3333333333333333,
             "#9c179e"
            ],
            [
             0.4444444444444444,
             "#bd3786"
            ],
            [
             0.5555555555555556,
             "#d8576b"
            ],
            [
             0.6666666666666666,
             "#ed7953"
            ],
            [
             0.7777777777777778,
             "#fb9f3a"
            ],
            [
             0.8888888888888888,
             "#fdca26"
            ],
            [
             1,
             "#f0f921"
            ]
           ],
           "sequentialminus": [
            [
             0,
             "#0d0887"
            ],
            [
             0.1111111111111111,
             "#46039f"
            ],
            [
             0.2222222222222222,
             "#7201a8"
            ],
            [
             0.3333333333333333,
             "#9c179e"
            ],
            [
             0.4444444444444444,
             "#bd3786"
            ],
            [
             0.5555555555555556,
             "#d8576b"
            ],
            [
             0.6666666666666666,
             "#ed7953"
            ],
            [
             0.7777777777777778,
             "#fb9f3a"
            ],
            [
             0.8888888888888888,
             "#fdca26"
            ],
            [
             1,
             "#f0f921"
            ]
           ]
          },
          "colorway": [
           "#636efa",
           "#EF553B",
           "#00cc96",
           "#ab63fa",
           "#FFA15A",
           "#19d3f3",
           "#FF6692",
           "#B6E880",
           "#FF97FF",
           "#FECB52"
          ],
          "font": {
           "color": "#2a3f5f"
          },
          "geo": {
           "bgcolor": "white",
           "lakecolor": "white",
           "landcolor": "#E5ECF6",
           "showlakes": true,
           "showland": true,
           "subunitcolor": "white"
          },
          "hoverlabel": {
           "align": "left"
          },
          "hovermode": "closest",
          "mapbox": {
           "style": "light"
          },
          "paper_bgcolor": "white",
          "plot_bgcolor": "#E5ECF6",
          "polar": {
           "angularaxis": {
            "gridcolor": "white",
            "linecolor": "white",
            "ticks": ""
           },
           "bgcolor": "#E5ECF6",
           "radialaxis": {
            "gridcolor": "white",
            "linecolor": "white",
            "ticks": ""
           }
          },
          "scene": {
           "xaxis": {
            "backgroundcolor": "#E5ECF6",
            "gridcolor": "white",
            "gridwidth": 2,
            "linecolor": "white",
            "showbackground": true,
            "ticks": "",
            "zerolinecolor": "white"
           },
           "yaxis": {
            "backgroundcolor": "#E5ECF6",
            "gridcolor": "white",
            "gridwidth": 2,
            "linecolor": "white",
            "showbackground": true,
            "ticks": "",
            "zerolinecolor": "white"
           },
           "zaxis": {
            "backgroundcolor": "#E5ECF6",
            "gridcolor": "white",
            "gridwidth": 2,
            "linecolor": "white",
            "showbackground": true,
            "ticks": "",
            "zerolinecolor": "white"
           }
          },
          "shapedefaults": {
           "line": {
            "color": "#2a3f5f"
           }
          },
          "ternary": {
           "aaxis": {
            "gridcolor": "white",
            "linecolor": "white",
            "ticks": ""
           },
           "baxis": {
            "gridcolor": "white",
            "linecolor": "white",
            "ticks": ""
           },
           "bgcolor": "#E5ECF6",
           "caxis": {
            "gridcolor": "white",
            "linecolor": "white",
            "ticks": ""
           }
          },
          "title": {
           "x": 0.05
          },
          "xaxis": {
           "automargin": true,
           "gridcolor": "white",
           "linecolor": "white",
           "ticks": "",
           "title": {
            "standoff": 15
           },
           "zerolinecolor": "white",
           "zerolinewidth": 2
          },
          "yaxis": {
           "automargin": true,
           "gridcolor": "white",
           "linecolor": "white",
           "ticks": "",
           "title": {
            "standoff": 15
           },
           "zerolinecolor": "white",
           "zerolinewidth": 2
          }
         }
        },
        "width": 900,
        "xaxis": {
         "anchor": "y",
         "domain": [
          0,
          0.94
         ],
         "gridcolor": "#1f292f",
         "nticks": 5,
         "rangeslider": {
          "visible": false
         }
        },
        "yaxis": {
         "anchor": "x",
         "domain": [
          0,
          1
         ],
         "gridcolor": "#1f292f"
        },
        "yaxis2": {
         "anchor": "x",
         "gridcolor": "#1f292f",
         "overlaying": "y",
         "side": "right"
        }
       }
      }
     },
     "metadata": {},
     "output_type": "display_data"
    }
   ],
   "source": [
    "MARKER = '#0066FF'\n",
    "dfp = df_an.iloc[11720:11800]\n",
    "cp = CandlePlot(dfp, candles=True)\n",
    "df_temp = cp.df_plot[cp.df_plot.TWEEZER_BOTTOM == True]\n",
    "cp.fig.add_trace(go.Candlestick(\n",
    "                x = df_temp.sTime,\n",
    "                open = df_temp.mid_o,\n",
    "                high = df_temp.mid_h,\n",
    "                low = df_temp.mid_l,\n",
    "                close = df_temp.mid_c,\n",
    "                line=dict(width=1), opacity=1,\n",
    "                increasing_fillcolor=MARKER,\n",
    "                decreasing_fillcolor=MARKER,\n",
    "                increasing_line_color=MARKER,\n",
    "                decreasing_line_color=MARKER\n",
    "            ))\n",
    "\n",
    "cp.show_plot()"
   ]
  },
  {
   "cell_type": "markdown",
   "metadata": {},
   "source": [
    "# Morning Star / Evening Star"
   ]
  },
  {
   "cell_type": "code",
   "execution_count": 44,
   "metadata": {},
   "outputs": [],
   "source": [
    "df_an['direction_prev'] = df_an.direction.shift(1)\n",
    "df_an['direction_prev_2'] = df_an.direction.shift(2)\n",
    "df_an['body_perc_prev'] = df_an.body_perc.shift(1)\n",
    "df_an['body_perc_prev_2'] = df_an.body_perc.shift(2)"
   ]
  },
  {
   "cell_type": "code",
   "execution_count": 45,
   "metadata": {},
   "outputs": [],
   "source": [
    "MORNING_STAR_PREV2_BODY = 90.0\n",
    "MORNING_STAR_PREV_BODY = 10.0\n",
    "\n",
    "def apply_morning_star(row, direction=1):\n",
    "    # Big body candle\n",
    "    if row.body_perc_prev_2 > MORNING_STAR_PREV2_BODY:\n",
    "        # Followed my little body candle\n",
    "        if row.body_perc_prev < MORNING_STAR_PREV_BODY:\n",
    "            if row.direction == direction and row.direction_prev_2 != direction:\n",
    "                if direction == 1:\n",
    "                    if row.mid_c > row.mid_point_prev_2:\n",
    "                        return True\n",
    "                else:\n",
    "                    if row.mid_c < row.mid_point_prev_2:\n",
    "                        return True\n",
    "\n",
    "    return False\n"
   ]
  },
  {
   "cell_type": "code",
   "execution_count": 46,
   "metadata": {},
   "outputs": [],
   "source": [
    "df_an['MORNING_STAR'] = df_an.apply(apply_morning_star, axis=1)\n",
    "df_an['EVENING_STAR'] = df_an.apply(apply_morning_star, axis=1, direction=-1)"
   ]
  },
  {
   "cell_type": "code",
   "execution_count": 49,
   "metadata": {},
   "outputs": [
    {
     "data": {
      "text/html": [
       "<div>\n",
       "<style scoped>\n",
       "    .dataframe tbody tr th:only-of-type {\n",
       "        vertical-align: middle;\n",
       "    }\n",
       "\n",
       "    .dataframe tbody tr th {\n",
       "        vertical-align: top;\n",
       "    }\n",
       "\n",
       "    .dataframe thead th {\n",
       "        text-align: right;\n",
       "    }\n",
       "</style>\n",
       "<table border=\"1\" class=\"dataframe\">\n",
       "  <thead>\n",
       "    <tr style=\"text-align: right;\">\n",
       "      <th></th>\n",
       "      <th>time</th>\n",
       "      <th>mid_c</th>\n",
       "      <th>mid_h</th>\n",
       "      <th>mid_l</th>\n",
       "      <th>mid_o</th>\n",
       "      <th>body_lower</th>\n",
       "      <th>body_upper</th>\n",
       "      <th>body_bottom_perc</th>\n",
       "      <th>body_top_perc</th>\n",
       "      <th>body_perc</th>\n",
       "      <th>...</th>\n",
       "      <th>body_size_prev</th>\n",
       "      <th>direction_prev</th>\n",
       "      <th>ENGULFING</th>\n",
       "      <th>TWEEZER_TOP</th>\n",
       "      <th>TWEEZER_BOTTOM</th>\n",
       "      <th>direction_prev_2</th>\n",
       "      <th>body_perc_prev</th>\n",
       "      <th>body_perc_prev_2</th>\n",
       "      <th>MORNING_STAR</th>\n",
       "      <th>EVENING_STAR</th>\n",
       "    </tr>\n",
       "  </thead>\n",
       "  <tbody>\n",
       "    <tr>\n",
       "      <th>1058</th>\n",
       "      <td>2016-03-09 02:00:00+00:00</td>\n",
       "      <td>159.870</td>\n",
       "      <td>159.884</td>\n",
       "      <td>159.560</td>\n",
       "      <td>159.660</td>\n",
       "      <td>159.660</td>\n",
       "      <td>159.870</td>\n",
       "      <td>30.864198</td>\n",
       "      <td>95.679012</td>\n",
       "      <td>64.814815</td>\n",
       "      <td>...</td>\n",
       "      <td>0.008</td>\n",
       "      <td>-1.0</td>\n",
       "      <td>True</td>\n",
       "      <td>False</td>\n",
       "      <td>False</td>\n",
       "      <td>-1.0</td>\n",
       "      <td>2.919708</td>\n",
       "      <td>90.086207</td>\n",
       "      <td>True</td>\n",
       "      <td>False</td>\n",
       "    </tr>\n",
       "    <tr>\n",
       "      <th>9085</th>\n",
       "      <td>2017-06-22 14:00:00+00:00</td>\n",
       "      <td>140.984</td>\n",
       "      <td>141.128</td>\n",
       "      <td>140.640</td>\n",
       "      <td>140.676</td>\n",
       "      <td>140.676</td>\n",
       "      <td>140.984</td>\n",
       "      <td>7.377049</td>\n",
       "      <td>70.491803</td>\n",
       "      <td>63.114754</td>\n",
       "      <td>...</td>\n",
       "      <td>0.026</td>\n",
       "      <td>1.0</td>\n",
       "      <td>False</td>\n",
       "      <td>False</td>\n",
       "      <td>False</td>\n",
       "      <td>-1.0</td>\n",
       "      <td>9.885932</td>\n",
       "      <td>91.777778</td>\n",
       "      <td>True</td>\n",
       "      <td>False</td>\n",
       "    </tr>\n",
       "    <tr>\n",
       "      <th>16610</th>\n",
       "      <td>2018-09-07 01:00:00+00:00</td>\n",
       "      <td>142.991</td>\n",
       "      <td>143.024</td>\n",
       "      <td>142.779</td>\n",
       "      <td>142.801</td>\n",
       "      <td>142.801</td>\n",
       "      <td>142.991</td>\n",
       "      <td>8.979592</td>\n",
       "      <td>86.530612</td>\n",
       "      <td>77.551020</td>\n",
       "      <td>...</td>\n",
       "      <td>0.007</td>\n",
       "      <td>-1.0</td>\n",
       "      <td>True</td>\n",
       "      <td>False</td>\n",
       "      <td>False</td>\n",
       "      <td>-1.0</td>\n",
       "      <td>3.153153</td>\n",
       "      <td>90.235690</td>\n",
       "      <td>True</td>\n",
       "      <td>False</td>\n",
       "    </tr>\n",
       "    <tr>\n",
       "      <th>23230</th>\n",
       "      <td>2019-10-01 16:00:00+00:00</td>\n",
       "      <td>132.662</td>\n",
       "      <td>132.896</td>\n",
       "      <td>131.792</td>\n",
       "      <td>131.852</td>\n",
       "      <td>131.852</td>\n",
       "      <td>132.662</td>\n",
       "      <td>5.434783</td>\n",
       "      <td>78.804348</td>\n",
       "      <td>73.369565</td>\n",
       "      <td>...</td>\n",
       "      <td>0.022</td>\n",
       "      <td>1.0</td>\n",
       "      <td>False</td>\n",
       "      <td>False</td>\n",
       "      <td>False</td>\n",
       "      <td>-1.0</td>\n",
       "      <td>8.661417</td>\n",
       "      <td>94.313725</td>\n",
       "      <td>True</td>\n",
       "      <td>False</td>\n",
       "    </tr>\n",
       "    <tr>\n",
       "      <th>25802</th>\n",
       "      <td>2020-03-02 23:00:00+00:00</td>\n",
       "      <td>138.551</td>\n",
       "      <td>138.572</td>\n",
       "      <td>138.109</td>\n",
       "      <td>138.109</td>\n",
       "      <td>138.109</td>\n",
       "      <td>138.551</td>\n",
       "      <td>0.000000</td>\n",
       "      <td>95.464363</td>\n",
       "      <td>95.464363</td>\n",
       "      <td>...</td>\n",
       "      <td>0.009</td>\n",
       "      <td>-1.0</td>\n",
       "      <td>True</td>\n",
       "      <td>False</td>\n",
       "      <td>False</td>\n",
       "      <td>-1.0</td>\n",
       "      <td>5.487805</td>\n",
       "      <td>91.612903</td>\n",
       "      <td>True</td>\n",
       "      <td>False</td>\n",
       "    </tr>\n",
       "    <tr>\n",
       "      <th>28631</th>\n",
       "      <td>2020-08-13 20:00:00+00:00</td>\n",
       "      <td>139.736</td>\n",
       "      <td>139.754</td>\n",
       "      <td>139.515</td>\n",
       "      <td>139.550</td>\n",
       "      <td>139.550</td>\n",
       "      <td>139.736</td>\n",
       "      <td>14.644351</td>\n",
       "      <td>92.468619</td>\n",
       "      <td>77.824268</td>\n",
       "      <td>...</td>\n",
       "      <td>0.002</td>\n",
       "      <td>-1.0</td>\n",
       "      <td>True</td>\n",
       "      <td>False</td>\n",
       "      <td>False</td>\n",
       "      <td>-1.0</td>\n",
       "      <td>1.234568</td>\n",
       "      <td>95.846645</td>\n",
       "      <td>True</td>\n",
       "      <td>False</td>\n",
       "    </tr>\n",
       "    <tr>\n",
       "      <th>28687</th>\n",
       "      <td>2020-08-18 04:00:00+00:00</td>\n",
       "      <td>138.768</td>\n",
       "      <td>138.802</td>\n",
       "      <td>138.696</td>\n",
       "      <td>138.698</td>\n",
       "      <td>138.698</td>\n",
       "      <td>138.768</td>\n",
       "      <td>1.886792</td>\n",
       "      <td>67.924528</td>\n",
       "      <td>66.037736</td>\n",
       "      <td>...</td>\n",
       "      <td>0.001</td>\n",
       "      <td>-1.0</td>\n",
       "      <td>True</td>\n",
       "      <td>False</td>\n",
       "      <td>False</td>\n",
       "      <td>-1.0</td>\n",
       "      <td>0.684932</td>\n",
       "      <td>92.307692</td>\n",
       "      <td>True</td>\n",
       "      <td>False</td>\n",
       "    </tr>\n",
       "    <tr>\n",
       "      <th>31465</th>\n",
       "      <td>2021-01-28 23:00:00+00:00</td>\n",
       "      <td>143.156</td>\n",
       "      <td>143.173</td>\n",
       "      <td>143.077</td>\n",
       "      <td>143.092</td>\n",
       "      <td>143.092</td>\n",
       "      <td>143.156</td>\n",
       "      <td>15.625000</td>\n",
       "      <td>82.291667</td>\n",
       "      <td>66.666667</td>\n",
       "      <td>...</td>\n",
       "      <td>0.004</td>\n",
       "      <td>1.0</td>\n",
       "      <td>False</td>\n",
       "      <td>False</td>\n",
       "      <td>False</td>\n",
       "      <td>-1.0</td>\n",
       "      <td>2.150538</td>\n",
       "      <td>95.774648</td>\n",
       "      <td>True</td>\n",
       "      <td>False</td>\n",
       "    </tr>\n",
       "    <tr>\n",
       "      <th>33455</th>\n",
       "      <td>2021-05-25 20:00:00+00:00</td>\n",
       "      <td>153.936</td>\n",
       "      <td>153.954</td>\n",
       "      <td>153.796</td>\n",
       "      <td>153.810</td>\n",
       "      <td>153.810</td>\n",
       "      <td>153.936</td>\n",
       "      <td>8.860759</td>\n",
       "      <td>88.607595</td>\n",
       "      <td>79.746835</td>\n",
       "      <td>...</td>\n",
       "      <td>0.008</td>\n",
       "      <td>-1.0</td>\n",
       "      <td>True</td>\n",
       "      <td>False</td>\n",
       "      <td>False</td>\n",
       "      <td>-1.0</td>\n",
       "      <td>9.756098</td>\n",
       "      <td>91.803279</td>\n",
       "      <td>True</td>\n",
       "      <td>False</td>\n",
       "    </tr>\n",
       "    <tr>\n",
       "      <th>35208</th>\n",
       "      <td>2021-09-05 21:00:00+00:00</td>\n",
       "      <td>152.119</td>\n",
       "      <td>152.277</td>\n",
       "      <td>152.075</td>\n",
       "      <td>152.118</td>\n",
       "      <td>152.118</td>\n",
       "      <td>152.119</td>\n",
       "      <td>21.287129</td>\n",
       "      <td>21.782178</td>\n",
       "      <td>0.495050</td>\n",
       "      <td>...</td>\n",
       "      <td>0.016</td>\n",
       "      <td>1.0</td>\n",
       "      <td>False</td>\n",
       "      <td>False</td>\n",
       "      <td>False</td>\n",
       "      <td>-1.0</td>\n",
       "      <td>8.988764</td>\n",
       "      <td>92.929293</td>\n",
       "      <td>True</td>\n",
       "      <td>False</td>\n",
       "    </tr>\n",
       "  </tbody>\n",
       "</table>\n",
       "<p>10 rows × 31 columns</p>\n",
       "</div>"
      ],
      "text/plain": [
       "                           time    mid_c    mid_h    mid_l    mid_o  \\\n",
       "1058  2016-03-09 02:00:00+00:00  159.870  159.884  159.560  159.660   \n",
       "9085  2017-06-22 14:00:00+00:00  140.984  141.128  140.640  140.676   \n",
       "16610 2018-09-07 01:00:00+00:00  142.991  143.024  142.779  142.801   \n",
       "23230 2019-10-01 16:00:00+00:00  132.662  132.896  131.792  131.852   \n",
       "25802 2020-03-02 23:00:00+00:00  138.551  138.572  138.109  138.109   \n",
       "28631 2020-08-13 20:00:00+00:00  139.736  139.754  139.515  139.550   \n",
       "28687 2020-08-18 04:00:00+00:00  138.768  138.802  138.696  138.698   \n",
       "31465 2021-01-28 23:00:00+00:00  143.156  143.173  143.077  143.092   \n",
       "33455 2021-05-25 20:00:00+00:00  153.936  153.954  153.796  153.810   \n",
       "35208 2021-09-05 21:00:00+00:00  152.119  152.277  152.075  152.118   \n",
       "\n",
       "       body_lower  body_upper  body_bottom_perc  body_top_perc  body_perc  \\\n",
       "1058      159.660     159.870         30.864198      95.679012  64.814815   \n",
       "9085      140.676     140.984          7.377049      70.491803  63.114754   \n",
       "16610     142.801     142.991          8.979592      86.530612  77.551020   \n",
       "23230     131.852     132.662          5.434783      78.804348  73.369565   \n",
       "25802     138.109     138.551          0.000000      95.464363  95.464363   \n",
       "28631     139.550     139.736         14.644351      92.468619  77.824268   \n",
       "28687     138.698     138.768          1.886792      67.924528  66.037736   \n",
       "31465     143.092     143.156         15.625000      82.291667  66.666667   \n",
       "33455     153.810     153.936          8.860759      88.607595  79.746835   \n",
       "35208     152.118     152.119         21.287129      21.782178   0.495050   \n",
       "\n",
       "       ...  body_size_prev  direction_prev  ENGULFING  TWEEZER_TOP  \\\n",
       "1058   ...           0.008            -1.0       True        False   \n",
       "9085   ...           0.026             1.0      False        False   \n",
       "16610  ...           0.007            -1.0       True        False   \n",
       "23230  ...           0.022             1.0      False        False   \n",
       "25802  ...           0.009            -1.0       True        False   \n",
       "28631  ...           0.002            -1.0       True        False   \n",
       "28687  ...           0.001            -1.0       True        False   \n",
       "31465  ...           0.004             1.0      False        False   \n",
       "33455  ...           0.008            -1.0       True        False   \n",
       "35208  ...           0.016             1.0      False        False   \n",
       "\n",
       "       TWEEZER_BOTTOM  direction_prev_2  body_perc_prev  body_perc_prev_2  \\\n",
       "1058            False              -1.0        2.919708         90.086207   \n",
       "9085            False              -1.0        9.885932         91.777778   \n",
       "16610           False              -1.0        3.153153         90.235690   \n",
       "23230           False              -1.0        8.661417         94.313725   \n",
       "25802           False              -1.0        5.487805         91.612903   \n",
       "28631           False              -1.0        1.234568         95.846645   \n",
       "28687           False              -1.0        0.684932         92.307692   \n",
       "31465           False              -1.0        2.150538         95.774648   \n",
       "33455           False              -1.0        9.756098         91.803279   \n",
       "35208           False              -1.0        8.988764         92.929293   \n",
       "\n",
       "       MORNING_STAR  EVENING_STAR  \n",
       "1058           True         False  \n",
       "9085           True         False  \n",
       "16610          True         False  \n",
       "23230          True         False  \n",
       "25802          True         False  \n",
       "28631          True         False  \n",
       "28687          True         False  \n",
       "31465          True         False  \n",
       "33455          True         False  \n",
       "35208          True         False  \n",
       "\n",
       "[10 rows x 31 columns]"
      ]
     },
     "execution_count": 49,
     "metadata": {},
     "output_type": "execute_result"
    }
   ],
   "source": [
    "df_an[df_an['MORNING_STAR'] == True]"
   ]
  },
  {
   "cell_type": "code",
   "execution_count": 47,
   "metadata": {},
   "outputs": [],
   "source": [
    "import plotly.graph_objects as go"
   ]
  },
  {
   "cell_type": "code",
   "execution_count": 50,
   "metadata": {},
   "outputs": [
    {
     "data": {
      "application/vnd.plotly.v1+json": {
       "config": {
        "plotlyServerURL": "https://plot.ly"
       },
       "data": [
        {
         "close": [
          162.029,
          162.004,
          162.344,
          162.126,
          162.075,
          161.82,
          161.936,
          161.758,
          161.616,
          161.667,
          161.534,
          161.554,
          161.632,
          161.557,
          161.412,
          161.308,
          160.74,
          160.596,
          160.494,
          160.734,
          160.814,
          160.7,
          160.875,
          161.257,
          161.923,
          162.112,
          161.846,
          161.534,
          161.764,
          161.826,
          161.696,
          161.844,
          161.168,
          160.878,
          160.904,
          161.005,
          161.361,
          161.22,
          161.038,
          160.976,
          160.709,
          160.798,
          160.532,
          160.622,
          160.5,
          160.598,
          159.924,
          159.805,
          160.148,
          160.12,
          159.973,
          160.086,
          160.023,
          160.113,
          160.142,
          160.094,
          159.676,
          159.662,
          159.87,
          159.738,
          159.676,
          159.652,
          159.645,
          159.668,
          159.943,
          159.994,
          159.825,
          159.949,
          159.91,
          160.095,
          160.36,
          160.562,
          160.943,
          160.864,
          161.062,
          161.35,
          161.259,
          161.132,
          161.05,
          160.86,
          160.936,
          161.308,
          161.28,
          161.496,
          161.504,
          161.529,
          161.344,
          161.31,
          161.232,
          161.081,
          161.5,
          161.356,
          161.588,
          161.6,
          162.185,
          162.214,
          161.788,
          161.208,
          161.285,
          161.509,
          161.6,
          161.69,
          161.666,
          161.202,
          161.668,
          161.702,
          161.535,
          162.021,
          162.034,
          161.913,
          162.03,
          162.182,
          162.226,
          162.519,
          162.576,
          162.697,
          162.668,
          162.311,
          162.706,
          163.389,
          163.947,
          163.797,
          163.516,
          163.598,
          163.578,
          163.749,
          163.763,
          163.482,
          163.602,
          163.826,
          163.876,
          163.884,
          163.718,
          163.644,
          163.6,
          163.52,
          163.49,
          162.914,
          163.245,
          163.156,
          163.123,
          163.21,
          162.746,
          162.986,
          162.689,
          162.756,
          162.822,
          162.76,
          162.682,
          162.776,
          162.748,
          162.71,
          162.542,
          162.59,
          162.461,
          162.41,
          162.06,
          161.702,
          161.754,
          161.856,
          161.178,
          160.845,
          160.21,
          160.157,
          159.864,
          159.85,
          159.688,
          159.99,
          159.885,
          159.791,
          159.982,
          160.124,
          160.059,
          160.164,
          160.203,
          160.279,
          160.115,
          160.25,
          160.412,
          160.283,
          160.222,
          160.372,
          160.192,
          159.93,
          160.232,
          160.427,
          160.326,
          160.332,
          160.012,
          159.844,
          159.928,
          160.149,
          160.305,
          160.26,
          160.522,
          160.401,
          160.65,
          160.55,
          160.603,
          160.687,
          160.738,
          160.976,
          160.82,
          160.763,
          160.41,
          159.433,
          159.737,
          159.472,
          159.314,
          159.739,
          159.242,
          159.666,
          159.102,
          160.902,
          161.284,
          161.223,
          161.264,
          160.888,
          161.185,
          161.336,
          161.436,
          161.333,
          161.287,
          161.268,
          161.204,
          160.81,
          160.88,
          161.022,
          160.845,
          161.069,
          161.354,
          160.584,
          160.91,
          160.408,
          160.747,
          160.908,
          161.24,
          161.632,
          161.57,
          161.456,
          161.674,
          161.54,
          161.673,
          161.612,
          161.602,
          161.49,
          161.241,
          161.302,
          161.17,
          160.968,
          160.886,
          160.867,
          160.871,
          160.976,
          160.852,
          160.71,
          160.269,
          160.404,
          160.702,
          160.699,
          160.523,
          160.68,
          160.87,
          160.53,
          160.772,
          160.642,
          160.938,
          161.014,
          160.789,
          160.856,
          160.89,
          161.132,
          161.112,
          160.924,
          161.104,
          161.072,
          160.815,
          161.031,
          161.284,
          161.317,
          160.295,
          159.176,
          159.692,
          159.437,
          159.67,
          159.109,
          158.755,
          159.014,
          158.952,
          159.252,
          159.78,
          159.519,
          159.584,
          159.647,
          159.738,
          159.66,
          159.638,
          159.625,
          159.557,
          159.483,
          159.518,
          159.645,
          159.512,
          159.393,
          159.238,
          159.474,
          159.65,
          159.858,
          159.71,
          159.56,
          159.196,
          159.175,
          158.93,
          158.845,
          158.79,
          158.64,
          158.662,
          158.636,
          158.661,
          158.636,
          158.668,
          158.718,
          158.987,
          158.967,
          158.883,
          158.94,
          159.039,
          158.946,
          158.926,
          158.789,
          158.818,
          159.235,
          159.198,
          158.99,
          158.652,
          159.046,
          159.29,
          159.437,
          159.84,
          159.76,
          159.629,
          159.764,
          159.679,
          159.569,
          159.471,
          159.9,
          159.758,
          159.614,
          159.644,
          159.73,
          159.687,
          159.683,
          159.694,
          159.613,
          159.959,
          159.688,
          159.897,
          159.914,
          159.905,
          159.858,
          159.744,
          159.868,
          159.843,
          159.928,
          159.949,
          159.793,
          160.154,
          160.244,
          160.316,
          160.31,
          160.402,
          160.529,
          160.594,
          160.438,
          160.412,
          160.616,
          160.9,
          160.768,
          160.793,
          160.806,
          160.809,
          161.242,
          161.554,
          161.47,
          161.424,
          161.37,
          161.414,
          161.416,
          161.648,
          161.683,
          161.652,
          161.734,
          161.671,
          161.506,
          161.736,
          161.728,
          161.648,
          161.756,
          161.578,
          161.656,
          161.78,
          162.065,
          161.888,
          162.097,
          162.28,
          162.254,
          161.862,
          161.776,
          161.854,
          162.313,
          162.305,
          162.097,
          162.046,
          162.162,
          162.134,
          162.253,
          162.089,
          161.962,
          161.875,
          161.741,
          161.708,
          161.7,
          161.484,
          161.944,
          161.806,
          161.502,
          161.646,
          161.814,
          162.045,
          162.18,
          162.371,
          162.43,
          162.008,
          161.964,
          161.699,
          161.814,
          161.68,
          161.67,
          161.695,
          161.652,
          161.518,
          161.734,
          161.268,
          161.132,
          161.161,
          160.98,
          161.031,
          161.244,
          161.286,
          161.57,
          161.646,
          161.818,
          161.645,
          161.544,
          161.246,
          161.612,
          161.671,
          161.936,
          161.758,
          161.717,
          161.652,
          161.673,
          161.676,
          161.696,
          161.636,
          161.334,
          160.94,
          160.932,
          160.962,
          160.895,
          160.923,
          161.448,
          160.908,
          160.954,
          160.72,
          160.246,
          160.392,
          159.606,
          159.072,
          159.43,
          159.165,
          158.925,
          158.859,
          158.803,
          158.831,
          158.964,
          158.666,
          158.896,
          158.89,
          158.698,
          158.628,
          158.776,
          158.513,
          158.626,
          158.422,
          158.362,
          158.562,
          158.37,
          158.82,
          158.918
         ],
         "decreasing": {
          "fillcolor": "#CC2E3C",
          "line": {
           "color": "#FF3A4C"
          }
         },
         "high": [
          162.248,
          162.256,
          162.36,
          162.447,
          162.174,
          162.133,
          162.026,
          161.992,
          161.829,
          161.72,
          161.675,
          161.594,
          161.704,
          161.689,
          161.634,
          161.632,
          161.302,
          160.914,
          160.678,
          160.742,
          160.998,
          160.933,
          160.96,
          161.396,
          162.008,
          162.24,
          162.178,
          161.89,
          161.764,
          161.924,
          161.874,
          161.866,
          161.876,
          161.31,
          160.934,
          161.158,
          161.41,
          161.412,
          161.302,
          161.25,
          161.117,
          161.046,
          160.915,
          160.68,
          160.87,
          160.648,
          160.598,
          160.042,
          160.19,
          160.291,
          160.231,
          160.165,
          160.112,
          160.15,
          160.176,
          160.168,
          160.094,
          159.8,
          159.884,
          159.916,
          159.89,
          159.842,
          159.808,
          159.833,
          159.992,
          160.25,
          160.05,
          160.1,
          160.185,
          160.296,
          160.418,
          161.016,
          160.948,
          161.004,
          161.124,
          161.352,
          161.345,
          161.326,
          161.208,
          161.126,
          160.986,
          161.445,
          161.352,
          161.555,
          161.584,
          161.537,
          161.58,
          161.436,
          161.654,
          161.44,
          161.5,
          161.572,
          161.702,
          161.92,
          162.188,
          162.895,
          162.312,
          161.95,
          161.301,
          161.626,
          161.802,
          161.724,
          161.808,
          161.68,
          161.828,
          161.746,
          161.738,
          162.038,
          162.158,
          162.062,
          162.112,
          162.424,
          162.441,
          162.764,
          162.887,
          162.831,
          162.73,
          162.723,
          162.95,
          163.389,
          164.102,
          164.014,
          163.851,
          163.687,
          163.722,
          163.783,
          163.909,
          163.823,
          163.628,
          163.829,
          163.986,
          163.892,
          163.885,
          163.852,
          163.698,
          163.658,
          163.721,
          163.51,
          163.382,
          163.286,
          163.276,
          163.41,
          163.253,
          163.136,
          163.048,
          162.856,
          162.858,
          162.862,
          162.809,
          162.802,
          162.854,
          162.84,
          162.782,
          162.652,
          162.642,
          162.819,
          162.958,
          162.153,
          161.876,
          161.938,
          161.898,
          161.282,
          160.909,
          160.271,
          160.21,
          160,
          160.278,
          160.208,
          160.09,
          160.002,
          160.078,
          160.13,
          160.176,
          160.208,
          160.203,
          160.283,
          160.304,
          160.39,
          160.452,
          160.46,
          160.309,
          160.432,
          160.388,
          160.302,
          160.352,
          160.611,
          160.664,
          160.384,
          160.38,
          160.286,
          160.048,
          160.312,
          160.325,
          160.37,
          160.602,
          160.93,
          160.65,
          160.698,
          160.791,
          160.808,
          160.783,
          161.053,
          161.058,
          160.842,
          160.843,
          160.513,
          159.771,
          159.778,
          159.68,
          159.772,
          159.869,
          159.908,
          159.764,
          160.94,
          161.583,
          161.579,
          161.38,
          161.343,
          161.291,
          161.474,
          161.572,
          161.468,
          161.432,
          161.39,
          161.286,
          161.326,
          161.236,
          161.193,
          161.07,
          161.081,
          161.433,
          161.38,
          161.042,
          160.982,
          160.826,
          161.016,
          161.324,
          161.707,
          161.779,
          161.686,
          161.704,
          161.68,
          161.727,
          161.696,
          161.784,
          161.633,
          161.418,
          161.328,
          161.36,
          161.244,
          161.042,
          160.965,
          160.91,
          161.081,
          161.118,
          160.885,
          160.8,
          160.523,
          160.943,
          160.866,
          160.7,
          160.709,
          161.032,
          160.928,
          160.976,
          160.774,
          161.002,
          161.052,
          161.052,
          160.954,
          160.941,
          161.177,
          161.203,
          161.244,
          161.22,
          161.247,
          161.156,
          161.11,
          161.3,
          161.502,
          161.424,
          160.322,
          159.971,
          159.704,
          159.82,
          159.683,
          159.187,
          159.022,
          159.21,
          159.338,
          159.797,
          159.802,
          159.664,
          159.75,
          159.804,
          159.786,
          159.678,
          159.726,
          159.73,
          159.588,
          159.549,
          159.723,
          159.644,
          159.523,
          159.449,
          159.711,
          159.842,
          159.976,
          159.886,
          160.022,
          159.686,
          159.41,
          159.182,
          159.032,
          158.894,
          158.83,
          158.704,
          158.702,
          158.682,
          158.717,
          158.715,
          158.768,
          159.046,
          159.182,
          158.998,
          158.982,
          159.142,
          159.063,
          159.154,
          159,
          159.041,
          159.277,
          159.402,
          159.3,
          159.024,
          159.052,
          159.326,
          159.595,
          159.843,
          159.862,
          159.838,
          159.764,
          159.88,
          159.704,
          159.643,
          160.177,
          159.98,
          159.836,
          159.755,
          159.748,
          159.842,
          159.854,
          159.698,
          159.73,
          160.002,
          159.972,
          159.912,
          160.019,
          159.958,
          159.914,
          159.914,
          159.89,
          159.871,
          159.996,
          160.005,
          159.996,
          160.169,
          160.261,
          160.352,
          160.382,
          160.414,
          160.562,
          160.608,
          160.6,
          160.72,
          160.66,
          161.007,
          160.935,
          160.906,
          160.911,
          160.87,
          161.28,
          161.684,
          161.642,
          161.54,
          161.439,
          161.492,
          161.58,
          161.69,
          161.736,
          161.842,
          161.814,
          161.815,
          161.672,
          161.833,
          161.828,
          161.735,
          161.87,
          161.804,
          161.752,
          161.872,
          162.131,
          162.35,
          162.242,
          162.432,
          162.331,
          162.29,
          162.002,
          161.967,
          162.449,
          162.398,
          162.508,
          162.312,
          162.288,
          162.222,
          162.326,
          162.259,
          162.094,
          161.994,
          161.928,
          161.776,
          161.802,
          161.704,
          162.031,
          162.146,
          161.884,
          161.663,
          161.902,
          162.15,
          162.386,
          162.462,
          162.579,
          162.481,
          162.026,
          162.008,
          161.824,
          161.815,
          161.733,
          161.749,
          161.768,
          161.693,
          161.834,
          161.786,
          161.4,
          161.2,
          161.163,
          161.198,
          161.371,
          161.357,
          161.858,
          161.69,
          161.876,
          162.034,
          161.667,
          161.585,
          161.728,
          161.86,
          161.952,
          161.992,
          161.841,
          161.784,
          161.788,
          161.703,
          161.72,
          161.738,
          161.66,
          161.422,
          160.957,
          160.994,
          161.002,
          161.054,
          161.449,
          161.494,
          161.342,
          161.036,
          160.758,
          160.402,
          160.559,
          159.608,
          159.571,
          159.447,
          159.23,
          159.083,
          159.01,
          158.88,
          158.964,
          158.881,
          158.974,
          159.012,
          158.98,
          158.77,
          158.776,
          158.838,
          158.704,
          158.626,
          158.487,
          158.603,
          158.969,
          158.958,
          158.954
         ],
         "increasing": {
          "fillcolor": "#24A06B",
          "line": {
           "color": "#2EC886"
          }
         },
         "line": {
          "width": 1
         },
         "low": [
          161.748,
          161.951,
          161.943,
          162.019,
          161.876,
          161.818,
          161.806,
          161.74,
          161.413,
          161.336,
          161.366,
          161.419,
          161.526,
          161.492,
          161.302,
          161.196,
          160.474,
          160.518,
          160.38,
          160.498,
          160.736,
          160.56,
          160.609,
          160.76,
          161.156,
          161.886,
          161.8,
          161.494,
          161.496,
          161.733,
          161.638,
          161.556,
          161.12,
          160.698,
          160.668,
          160.778,
          160.98,
          161.124,
          160.822,
          160.736,
          160.632,
          160.712,
          160.484,
          160.31,
          160.498,
          160.437,
          159.768,
          159.601,
          159.77,
          159.99,
          159.884,
          159.912,
          159.958,
          159.988,
          160.054,
          160.004,
          159.63,
          159.526,
          159.56,
          159.665,
          159.634,
          159.636,
          159.634,
          159.552,
          159.484,
          159.935,
          159.67,
          159.746,
          159.853,
          159.914,
          160.07,
          160.118,
          160.515,
          160.776,
          160.818,
          161.011,
          161.05,
          161.116,
          160.96,
          160.813,
          160.736,
          160.895,
          161.138,
          161.25,
          161.426,
          161.37,
          161.334,
          160.956,
          161.004,
          160.884,
          161.053,
          161.256,
          161.004,
          161.328,
          161.408,
          161.95,
          161.524,
          160.982,
          161.07,
          161.149,
          161.509,
          161.522,
          161.567,
          161.147,
          161.072,
          161.372,
          161.386,
          161.476,
          161.946,
          161.782,
          161.912,
          161.932,
          162.118,
          162.226,
          162.518,
          162.564,
          162.466,
          162.236,
          162.241,
          162.6,
          163.32,
          163.688,
          163.502,
          163.456,
          163.528,
          163.553,
          163.682,
          163.427,
          163.375,
          163.528,
          163.736,
          163.817,
          163.678,
          163.58,
          163.552,
          163.383,
          163.415,
          162.852,
          162.902,
          162.994,
          163.034,
          163.09,
          162.666,
          162.742,
          162.64,
          162.596,
          162.678,
          162.702,
          162.67,
          162.68,
          162.678,
          162.676,
          162.398,
          162.464,
          162.343,
          162.219,
          161.863,
          161.553,
          161.648,
          161.591,
          161.131,
          160.595,
          160.146,
          159.998,
          159.861,
          159.547,
          159.673,
          159.592,
          159.852,
          159.752,
          159.788,
          159.882,
          160.026,
          160.036,
          160.062,
          160.13,
          160.08,
          159.88,
          160.206,
          160.252,
          160.138,
          160.21,
          160.186,
          159.895,
          159.905,
          160.231,
          160.214,
          160.057,
          159.893,
          159.76,
          159.65,
          159.903,
          160.044,
          160.156,
          160.216,
          160.298,
          160.076,
          160.484,
          160.374,
          160.608,
          160.588,
          160.663,
          160.75,
          160.648,
          160.41,
          159.373,
          159.358,
          159.413,
          159.179,
          159.137,
          159.224,
          159.176,
          159.021,
          159.066,
          160.716,
          160.966,
          161.056,
          160.756,
          160.881,
          161.164,
          161.332,
          161.252,
          161.25,
          161.212,
          161.098,
          160.61,
          160.584,
          160.824,
          160.831,
          160.824,
          160.984,
          160.55,
          160.438,
          160.363,
          160.41,
          160.654,
          160.858,
          161.232,
          161.49,
          161.332,
          161.375,
          161.434,
          161.51,
          161.488,
          161.519,
          161.45,
          161.066,
          161.023,
          161.138,
          160.918,
          160.668,
          160.77,
          160.824,
          160.866,
          160.834,
          160.591,
          160.147,
          160.157,
          160.236,
          160.575,
          160.404,
          160.412,
          160.654,
          160.494,
          160.484,
          160.514,
          160.643,
          160.884,
          160.789,
          160.764,
          160.842,
          160.778,
          161.042,
          160.9,
          160.814,
          161.051,
          160.78,
          160.807,
          161.015,
          161.252,
          160.148,
          158.822,
          159.145,
          159.118,
          159.358,
          158.962,
          158.45,
          158.498,
          158.814,
          158.953,
          159.144,
          159.482,
          159.462,
          159.566,
          159.546,
          159.633,
          159.53,
          159.419,
          159.434,
          159.383,
          159.398,
          159.454,
          159.398,
          159.288,
          159.097,
          159.212,
          159.458,
          159.571,
          159.608,
          159.522,
          159.092,
          159.028,
          158.795,
          158.726,
          158.65,
          158.543,
          158.543,
          158.59,
          158.549,
          158.626,
          158.602,
          158.458,
          158.693,
          158.917,
          158.796,
          158.776,
          158.942,
          158.906,
          158.862,
          158.592,
          158.679,
          158.752,
          159.061,
          158.836,
          158.587,
          158.613,
          158.934,
          159.262,
          159.433,
          159.712,
          159.612,
          159.61,
          159.638,
          159.523,
          159.362,
          159.42,
          159.715,
          159.444,
          159.59,
          159.608,
          159.648,
          159.582,
          159.426,
          159.539,
          159.578,
          159.57,
          159.628,
          159.629,
          159.834,
          159.689,
          159.68,
          159.745,
          159.814,
          159.844,
          159.896,
          159.782,
          159.815,
          160.023,
          160.128,
          160.184,
          160.283,
          160.392,
          160.494,
          160.318,
          160.404,
          160.412,
          160.598,
          160.732,
          160.726,
          160.781,
          160.72,
          160.75,
          161.152,
          161.316,
          161.34,
          161.307,
          161.362,
          161.404,
          161.406,
          161.614,
          161.616,
          161.6,
          161.641,
          161.346,
          161.502,
          161.675,
          161.538,
          161.642,
          161.45,
          161.56,
          161.356,
          161.66,
          161.871,
          161.68,
          162.064,
          161.996,
          161.788,
          161.636,
          161.728,
          161.766,
          162.158,
          162.057,
          162.032,
          162.032,
          162.053,
          162.118,
          162.069,
          161.794,
          161.826,
          161.661,
          161.63,
          161.623,
          161.35,
          161.484,
          161.686,
          161.399,
          161.408,
          161.606,
          161.537,
          161.982,
          162.062,
          162.33,
          161.962,
          161.77,
          161.598,
          161.584,
          161.654,
          161.634,
          161.57,
          161.643,
          161.458,
          161.377,
          161.218,
          161.102,
          160.961,
          160.906,
          160.902,
          160.91,
          161.062,
          161.088,
          161.386,
          161.532,
          161.591,
          161.263,
          161.028,
          161.212,
          161.492,
          161.604,
          161.648,
          161.68,
          161.622,
          161.638,
          161.58,
          161.644,
          161.574,
          161.194,
          160.864,
          160.652,
          160.794,
          160.792,
          160.79,
          160.916,
          160.822,
          160.864,
          160.704,
          160.212,
          160.192,
          159.606,
          158.969,
          159.019,
          159.109,
          158.842,
          158.846,
          158.752,
          158.72,
          158.729,
          158.622,
          158.646,
          158.77,
          158.642,
          158.444,
          158.484,
          158.484,
          158.497,
          158.328,
          158.172,
          158.352,
          158.336,
          158.341,
          158.726
         ],
         "opacity": 1,
         "open": [
          161.768,
          162.03,
          161.999,
          162.35,
          162.126,
          162.076,
          161.982,
          161.924,
          161.764,
          161.614,
          161.668,
          161.536,
          161.554,
          161.633,
          161.556,
          161.414,
          161.302,
          160.736,
          160.591,
          160.5,
          160.736,
          160.815,
          160.706,
          160.876,
          161.257,
          161.928,
          162.112,
          161.847,
          161.532,
          161.764,
          161.862,
          161.695,
          161.842,
          161.168,
          160.872,
          160.904,
          161,
          161.366,
          161.222,
          161.038,
          160.976,
          160.714,
          160.798,
          160.526,
          160.624,
          160.499,
          160.598,
          159.926,
          159.808,
          160.146,
          160.119,
          159.974,
          160.086,
          160.024,
          160.099,
          160.144,
          160.094,
          159.67,
          159.66,
          159.87,
          159.74,
          159.672,
          159.652,
          159.651,
          159.668,
          159.942,
          159.998,
          159.824,
          159.952,
          159.916,
          160.1,
          160.362,
          160.562,
          160.944,
          160.869,
          161.062,
          161.344,
          161.262,
          161.183,
          161.051,
          160.861,
          160.93,
          161.31,
          161.28,
          161.496,
          161.51,
          161.53,
          161.338,
          161.31,
          161.232,
          161.076,
          161.497,
          161.356,
          161.588,
          161.599,
          162.188,
          162.215,
          161.786,
          161.207,
          161.292,
          161.509,
          161.598,
          161.648,
          161.678,
          161.205,
          161.669,
          161.701,
          161.538,
          162.022,
          162.038,
          161.916,
          162.03,
          162.182,
          162.226,
          162.518,
          162.576,
          162.698,
          162.667,
          162.313,
          162.704,
          163.392,
          163.948,
          163.798,
          163.518,
          163.598,
          163.583,
          163.87,
          163.762,
          163.472,
          163.601,
          163.826,
          163.871,
          163.885,
          163.717,
          163.644,
          163.6,
          163.519,
          163.49,
          162.916,
          163.243,
          163.156,
          163.128,
          163.214,
          162.742,
          162.986,
          162.684,
          162.754,
          162.821,
          162.76,
          162.68,
          162.788,
          162.742,
          162.709,
          162.543,
          162.588,
          162.46,
          162.422,
          162.06,
          161.703,
          161.754,
          161.854,
          161.176,
          160.848,
          160.21,
          160.158,
          159.869,
          159.85,
          159.686,
          159.989,
          159.88,
          159.796,
          159.982,
          160.118,
          160.058,
          160.126,
          160.207,
          160.282,
          160.114,
          160.25,
          160.409,
          160.283,
          160.222,
          160.378,
          160.197,
          159.93,
          160.231,
          160.422,
          160.332,
          160.33,
          160.014,
          159.844,
          159.934,
          160.147,
          160.305,
          160.254,
          160.527,
          160.4,
          160.648,
          160.374,
          160.622,
          160.684,
          160.738,
          160.975,
          160.82,
          160.76,
          160.404,
          159.434,
          159.738,
          159.472,
          159.32,
          159.733,
          159.242,
          159.661,
          159.076,
          160.902,
          161.283,
          161.224,
          161.262,
          160.882,
          161.184,
          161.334,
          161.434,
          161.279,
          161.286,
          161.27,
          161.206,
          160.808,
          160.878,
          161.023,
          160.843,
          161.072,
          161.349,
          160.584,
          160.91,
          160.41,
          160.742,
          160.908,
          161.244,
          161.632,
          161.56,
          161.456,
          161.674,
          161.54,
          161.674,
          161.618,
          161.6,
          161.066,
          161.258,
          161.302,
          161.172,
          160.967,
          160.886,
          160.87,
          160.87,
          160.978,
          160.852,
          160.711,
          160.27,
          160.404,
          160.702,
          160.699,
          160.524,
          160.684,
          160.874,
          160.532,
          160.773,
          160.643,
          160.938,
          161.015,
          160.787,
          160.882,
          160.88,
          161.132,
          161.115,
          160.922,
          161.105,
          161.072,
          160.814,
          161.033,
          161.284,
          161.318,
          160.294,
          159.176,
          159.692,
          159.436,
          159.676,
          159.109,
          158.754,
          159.014,
          158.953,
          159.248,
          159.778,
          159.52,
          159.579,
          159.591,
          159.733,
          159.664,
          159.636,
          159.624,
          159.558,
          159.484,
          159.511,
          159.644,
          159.505,
          159.393,
          159.238,
          159.476,
          159.65,
          159.856,
          159.709,
          159.562,
          159.224,
          159.174,
          158.928,
          158.844,
          158.789,
          158.64,
          158.662,
          158.613,
          158.668,
          158.633,
          158.669,
          158.717,
          158.986,
          158.966,
          158.882,
          158.942,
          159.038,
          158.944,
          158.92,
          158.789,
          158.819,
          159.232,
          159.198,
          158.993,
          158.652,
          159.046,
          159.291,
          159.437,
          159.841,
          159.76,
          159.635,
          159.868,
          159.684,
          159.573,
          159.472,
          159.918,
          159.757,
          159.606,
          159.643,
          159.73,
          159.704,
          159.66,
          159.696,
          159.609,
          159.964,
          159.689,
          159.898,
          159.918,
          159.896,
          159.858,
          159.748,
          159.87,
          159.844,
          159.912,
          159.927,
          159.965,
          160.174,
          160.247,
          160.318,
          160.309,
          160.401,
          160.53,
          160.594,
          160.437,
          160.414,
          160.61,
          160.902,
          160.762,
          160.794,
          160.809,
          160.814,
          161.24,
          161.563,
          161.47,
          161.423,
          161.372,
          161.414,
          161.416,
          161.642,
          161.705,
          161.652,
          161.734,
          161.669,
          161.506,
          161.731,
          161.727,
          161.648,
          161.758,
          161.578,
          161.658,
          161.78,
          162.067,
          161.882,
          162.092,
          162.286,
          162.253,
          161.874,
          161.776,
          161.854,
          162.312,
          162.304,
          162.092,
          162.052,
          162.095,
          162.138,
          162.254,
          162.09,
          161.964,
          161.878,
          161.74,
          161.707,
          161.7,
          161.484,
          161.945,
          161.804,
          161.504,
          161.646,
          161.819,
          162.047,
          162.18,
          162.37,
          162.426,
          162.014,
          161.964,
          161.698,
          161.815,
          161.684,
          161.627,
          161.696,
          161.652,
          161.516,
          161.733,
          161.274,
          161.131,
          161.162,
          160.981,
          161.03,
          161.238,
          161.281,
          161.567,
          161.652,
          161.816,
          161.647,
          161.543,
          161.244,
          161.606,
          161.67,
          161.935,
          161.758,
          161.712,
          161.652,
          161.665,
          161.68,
          161.695,
          161.634,
          161.336,
          160.94,
          160.938,
          160.965,
          160.896,
          160.924,
          161.449,
          160.908,
          160.952,
          160.726,
          160.252,
          160.391,
          159.604,
          159.098,
          159.432,
          159.166,
          158.923,
          158.858,
          158.803,
          158.83,
          158.798,
          158.666,
          158.892,
          158.889,
          158.698,
          158.625,
          158.779,
          158.512,
          158.625,
          158.423,
          158.362,
          158.561,
          158.369,
          158.822
         ],
         "type": "candlestick",
         "x": [
          "s16-03-04 16:00",
          "s16-03-04 17:00",
          "s16-03-04 18:00",
          "s16-03-04 19:00",
          "s16-03-04 20:00",
          "s16-03-04 21:00",
          "s16-03-06 22:00",
          "s16-03-06 23:00",
          "s16-03-07 00:00",
          "s16-03-07 01:00",
          "s16-03-07 02:00",
          "s16-03-07 03:00",
          "s16-03-07 04:00",
          "s16-03-07 05:00",
          "s16-03-07 06:00",
          "s16-03-07 07:00",
          "s16-03-07 08:00",
          "s16-03-07 09:00",
          "s16-03-07 10:00",
          "s16-03-07 11:00",
          "s16-03-07 12:00",
          "s16-03-07 13:00",
          "s16-03-07 14:00",
          "s16-03-07 15:00",
          "s16-03-07 16:00",
          "s16-03-07 17:00",
          "s16-03-07 18:00",
          "s16-03-07 19:00",
          "s16-03-07 20:00",
          "s16-03-07 21:00",
          "s16-03-07 22:00",
          "s16-03-07 23:00",
          "s16-03-08 00:00",
          "s16-03-08 01:00",
          "s16-03-08 02:00",
          "s16-03-08 03:00",
          "s16-03-08 04:00",
          "s16-03-08 05:00",
          "s16-03-08 06:00",
          "s16-03-08 07:00",
          "s16-03-08 08:00",
          "s16-03-08 09:00",
          "s16-03-08 10:00",
          "s16-03-08 11:00",
          "s16-03-08 12:00",
          "s16-03-08 13:00",
          "s16-03-08 14:00",
          "s16-03-08 15:00",
          "s16-03-08 16:00",
          "s16-03-08 17:00",
          "s16-03-08 18:00",
          "s16-03-08 19:00",
          "s16-03-08 20:00",
          "s16-03-08 21:00",
          "s16-03-08 22:00",
          "s16-03-08 23:00",
          "s16-03-09 00:00",
          "s16-03-09 01:00",
          "s16-03-09 02:00",
          "s16-03-09 03:00",
          "s16-03-09 04:00",
          "s16-03-09 05:00",
          "s16-03-09 06:00",
          "s16-03-09 07:00",
          "s16-03-09 08:00",
          "s16-03-09 09:00",
          "s16-03-09 10:00",
          "s16-03-09 11:00",
          "s16-03-09 12:00",
          "s16-03-09 13:00",
          "s16-03-09 14:00",
          "s16-03-09 15:00",
          "s16-03-09 16:00",
          "s16-03-09 17:00",
          "s16-03-09 18:00",
          "s16-03-09 19:00",
          "s16-03-09 20:00",
          "s16-03-09 21:00",
          "s16-03-09 22:00",
          "s16-03-09 23:00",
          "s16-03-10 00:00",
          "s16-03-10 01:00",
          "s16-03-10 02:00",
          "s16-03-10 03:00",
          "s16-03-10 04:00",
          "s16-03-10 05:00",
          "s16-03-10 06:00",
          "s16-03-10 07:00",
          "s16-03-10 08:00",
          "s16-03-10 09:00",
          "s16-03-10 10:00",
          "s16-03-10 11:00",
          "s16-03-10 12:00",
          "s16-03-10 13:00",
          "s16-03-10 14:00",
          "s16-03-10 15:00",
          "s16-03-10 16:00",
          "s16-03-10 17:00",
          "s16-03-10 18:00",
          "s16-03-10 19:00",
          "s16-03-10 20:00",
          "s16-03-10 21:00",
          "s16-03-10 22:00",
          "s16-03-10 23:00",
          "s16-03-11 00:00",
          "s16-03-11 01:00",
          "s16-03-11 02:00",
          "s16-03-11 03:00",
          "s16-03-11 04:00",
          "s16-03-11 05:00",
          "s16-03-11 06:00",
          "s16-03-11 07:00",
          "s16-03-11 08:00",
          "s16-03-11 09:00",
          "s16-03-11 10:00",
          "s16-03-11 11:00",
          "s16-03-11 12:00",
          "s16-03-11 13:00",
          "s16-03-11 14:00",
          "s16-03-11 15:00",
          "s16-03-11 16:00",
          "s16-03-11 17:00",
          "s16-03-11 18:00",
          "s16-03-11 19:00",
          "s16-03-11 20:00",
          "s16-03-11 21:00",
          "s16-03-13 21:00",
          "s16-03-13 22:00",
          "s16-03-13 23:00",
          "s16-03-14 00:00",
          "s16-03-14 01:00",
          "s16-03-14 02:00",
          "s16-03-14 03:00",
          "s16-03-14 04:00",
          "s16-03-14 05:00",
          "s16-03-14 06:00",
          "s16-03-14 07:00",
          "s16-03-14 08:00",
          "s16-03-14 09:00",
          "s16-03-14 10:00",
          "s16-03-14 11:00",
          "s16-03-14 12:00",
          "s16-03-14 13:00",
          "s16-03-14 14:00",
          "s16-03-14 15:00",
          "s16-03-14 16:00",
          "s16-03-14 17:00",
          "s16-03-14 18:00",
          "s16-03-14 19:00",
          "s16-03-14 20:00",
          "s16-03-14 21:00",
          "s16-03-14 22:00",
          "s16-03-14 23:00",
          "s16-03-15 00:00",
          "s16-03-15 01:00",
          "s16-03-15 02:00",
          "s16-03-15 03:00",
          "s16-03-15 04:00",
          "s16-03-15 05:00",
          "s16-03-15 06:00",
          "s16-03-15 07:00",
          "s16-03-15 08:00",
          "s16-03-15 09:00",
          "s16-03-15 10:00",
          "s16-03-15 11:00",
          "s16-03-15 12:00",
          "s16-03-15 13:00",
          "s16-03-15 14:00",
          "s16-03-15 15:00",
          "s16-03-15 16:00",
          "s16-03-15 17:00",
          "s16-03-15 18:00",
          "s16-03-15 19:00",
          "s16-03-15 20:00",
          "s16-03-15 21:00",
          "s16-03-15 22:00",
          "s16-03-15 23:00",
          "s16-03-16 00:00",
          "s16-03-16 01:00",
          "s16-03-16 02:00",
          "s16-03-16 03:00",
          "s16-03-16 04:00",
          "s16-03-16 05:00",
          "s16-03-16 06:00",
          "s16-03-16 07:00",
          "s16-03-16 08:00",
          "s16-03-16 09:00",
          "s16-03-16 10:00",
          "s16-03-16 11:00",
          "s16-03-16 12:00",
          "s16-03-16 13:00",
          "s16-03-16 14:00",
          "s16-03-16 15:00",
          "s16-03-16 16:00",
          "s16-03-16 17:00",
          "s16-03-16 18:00",
          "s16-03-16 19:00",
          "s16-03-16 20:00",
          "s16-03-16 21:00",
          "s16-03-16 22:00",
          "s16-03-16 23:00",
          "s16-03-17 00:00",
          "s16-03-17 01:00",
          "s16-03-17 02:00",
          "s16-03-17 03:00",
          "s16-03-17 04:00",
          "s16-03-17 05:00",
          "s16-03-17 06:00",
          "s16-03-17 07:00",
          "s16-03-17 08:00",
          "s16-03-17 09:00",
          "s16-03-17 10:00",
          "s16-03-17 11:00",
          "s16-03-17 12:00",
          "s16-03-17 13:00",
          "s16-03-17 14:00",
          "s16-03-17 15:00",
          "s16-03-17 16:00",
          "s16-03-17 17:00",
          "s16-03-17 18:00",
          "s16-03-17 19:00",
          "s16-03-17 20:00",
          "s16-03-17 21:00",
          "s16-03-17 22:00",
          "s16-03-17 23:00",
          "s16-03-18 00:00",
          "s16-03-18 01:00",
          "s16-03-18 02:00",
          "s16-03-18 03:00",
          "s16-03-18 04:00",
          "s16-03-18 05:00",
          "s16-03-18 06:00",
          "s16-03-18 07:00",
          "s16-03-18 08:00",
          "s16-03-18 09:00",
          "s16-03-18 10:00",
          "s16-03-18 11:00",
          "s16-03-18 12:00",
          "s16-03-18 13:00",
          "s16-03-18 14:00",
          "s16-03-18 15:00",
          "s16-03-18 16:00",
          "s16-03-18 17:00",
          "s16-03-18 18:00",
          "s16-03-18 19:00",
          "s16-03-18 20:00",
          "s16-03-20 21:00",
          "s16-03-20 22:00",
          "s16-03-20 23:00",
          "s16-03-21 00:00",
          "s16-03-21 01:00",
          "s16-03-21 02:00",
          "s16-03-21 03:00",
          "s16-03-21 04:00",
          "s16-03-21 05:00",
          "s16-03-21 06:00",
          "s16-03-21 07:00",
          "s16-03-21 08:00",
          "s16-03-21 09:00",
          "s16-03-21 10:00",
          "s16-03-21 11:00",
          "s16-03-21 12:00",
          "s16-03-21 13:00",
          "s16-03-21 14:00",
          "s16-03-21 15:00",
          "s16-03-21 16:00",
          "s16-03-21 17:00",
          "s16-03-21 18:00",
          "s16-03-21 19:00",
          "s16-03-21 20:00",
          "s16-03-21 21:00",
          "s16-03-21 22:00",
          "s16-03-21 23:00",
          "s16-03-22 00:00",
          "s16-03-22 01:00",
          "s16-03-22 02:00",
          "s16-03-22 03:00",
          "s16-03-22 04:00",
          "s16-03-22 05:00",
          "s16-03-22 06:00",
          "s16-03-22 07:00",
          "s16-03-22 08:00",
          "s16-03-22 09:00",
          "s16-03-22 10:00",
          "s16-03-22 11:00",
          "s16-03-22 12:00",
          "s16-03-22 13:00",
          "s16-03-22 14:00",
          "s16-03-22 15:00",
          "s16-03-22 16:00",
          "s16-03-22 17:00",
          "s16-03-22 18:00",
          "s16-03-22 19:00",
          "s16-03-22 20:00",
          "s16-03-22 21:00",
          "s16-03-22 22:00",
          "s16-03-22 23:00",
          "s16-03-23 00:00",
          "s16-03-23 01:00",
          "s16-03-23 02:00",
          "s16-03-23 03:00",
          "s16-03-23 04:00",
          "s16-03-23 05:00",
          "s16-03-23 06:00",
          "s16-03-23 07:00",
          "s16-03-23 08:00",
          "s16-03-23 09:00",
          "s16-03-23 10:00",
          "s16-03-23 11:00",
          "s16-03-23 12:00",
          "s16-03-23 13:00",
          "s16-03-23 14:00",
          "s16-03-23 15:00",
          "s16-03-23 16:00",
          "s16-03-23 17:00",
          "s16-03-23 18:00",
          "s16-03-23 19:00",
          "s16-03-23 20:00",
          "s16-03-23 21:00",
          "s16-03-23 22:00",
          "s16-03-23 23:00",
          "s16-03-24 00:00",
          "s16-03-24 01:00",
          "s16-03-24 02:00",
          "s16-03-24 03:00",
          "s16-03-24 04:00",
          "s16-03-24 05:00",
          "s16-03-24 06:00",
          "s16-03-24 07:00",
          "s16-03-24 08:00",
          "s16-03-24 09:00",
          "s16-03-24 10:00",
          "s16-03-24 11:00",
          "s16-03-24 12:00",
          "s16-03-24 13:00",
          "s16-03-24 14:00",
          "s16-03-24 15:00",
          "s16-03-24 16:00",
          "s16-03-24 17:00",
          "s16-03-24 18:00",
          "s16-03-24 19:00",
          "s16-03-24 20:00",
          "s16-03-24 21:00",
          "s16-03-24 22:00",
          "s16-03-24 23:00",
          "s16-03-25 00:00",
          "s16-03-25 01:00",
          "s16-03-25 02:00",
          "s16-03-25 03:00",
          "s16-03-25 04:00",
          "s16-03-25 05:00",
          "s16-03-25 06:00",
          "s16-03-25 07:00",
          "s16-03-25 08:00",
          "s16-03-25 09:00",
          "s16-03-25 10:00",
          "s16-03-25 11:00",
          "s16-03-25 12:00",
          "s16-03-25 13:00",
          "s16-03-25 14:00",
          "s16-03-25 15:00",
          "s16-03-25 16:00",
          "s16-03-25 17:00",
          "s16-03-25 18:00",
          "s16-03-25 19:00",
          "s16-03-25 20:00",
          "s16-03-27 21:00",
          "s16-03-27 22:00",
          "s16-03-27 23:00",
          "s16-03-28 00:00",
          "s16-03-28 01:00",
          "s16-03-28 02:00",
          "s16-03-28 03:00",
          "s16-03-28 04:00",
          "s16-03-28 05:00",
          "s16-03-28 06:00",
          "s16-03-28 07:00",
          "s16-03-28 08:00",
          "s16-03-28 09:00",
          "s16-03-28 10:00",
          "s16-03-28 11:00",
          "s16-03-28 12:00",
          "s16-03-28 13:00",
          "s16-03-28 14:00",
          "s16-03-28 15:00",
          "s16-03-28 16:00",
          "s16-03-28 17:00",
          "s16-03-28 18:00",
          "s16-03-28 19:00",
          "s16-03-28 20:00",
          "s16-03-28 21:00",
          "s16-03-28 22:00",
          "s16-03-28 23:00",
          "s16-03-29 00:00",
          "s16-03-29 01:00",
          "s16-03-29 02:00",
          "s16-03-29 03:00",
          "s16-03-29 04:00",
          "s16-03-29 05:00",
          "s16-03-29 06:00",
          "s16-03-29 07:00",
          "s16-03-29 08:00",
          "s16-03-29 09:00",
          "s16-03-29 10:00",
          "s16-03-29 11:00",
          "s16-03-29 12:00",
          "s16-03-29 13:00",
          "s16-03-29 14:00",
          "s16-03-29 15:00",
          "s16-03-29 16:00",
          "s16-03-29 17:00",
          "s16-03-29 18:00",
          "s16-03-29 19:00",
          "s16-03-29 20:00",
          "s16-03-29 21:00",
          "s16-03-29 22:00",
          "s16-03-29 23:00",
          "s16-03-30 00:00",
          "s16-03-30 01:00",
          "s16-03-30 02:00",
          "s16-03-30 03:00",
          "s16-03-30 04:00",
          "s16-03-30 05:00",
          "s16-03-30 06:00",
          "s16-03-30 07:00",
          "s16-03-30 08:00",
          "s16-03-30 09:00",
          "s16-03-30 10:00",
          "s16-03-30 11:00",
          "s16-03-30 12:00",
          "s16-03-30 13:00",
          "s16-03-30 14:00",
          "s16-03-30 15:00",
          "s16-03-30 16:00",
          "s16-03-30 17:00",
          "s16-03-30 18:00",
          "s16-03-30 19:00",
          "s16-03-30 20:00",
          "s16-03-30 21:00",
          "s16-03-30 22:00",
          "s16-03-30 23:00",
          "s16-03-31 00:00",
          "s16-03-31 01:00",
          "s16-03-31 02:00",
          "s16-03-31 03:00",
          "s16-03-31 04:00",
          "s16-03-31 05:00",
          "s16-03-31 06:00",
          "s16-03-31 07:00",
          "s16-03-31 08:00",
          "s16-03-31 09:00",
          "s16-03-31 10:00",
          "s16-03-31 11:00",
          "s16-03-31 12:00",
          "s16-03-31 13:00",
          "s16-03-31 14:00",
          "s16-03-31 15:00",
          "s16-03-31 16:00",
          "s16-03-31 17:00",
          "s16-03-31 18:00",
          "s16-03-31 19:00",
          "s16-03-31 20:00",
          "s16-03-31 21:00",
          "s16-03-31 22:00",
          "s16-03-31 23:00",
          "s16-04-01 00:00",
          "s16-04-01 01:00",
          "s16-04-01 02:00",
          "s16-04-01 03:00",
          "s16-04-01 04:00",
          "s16-04-01 05:00",
          "s16-04-01 06:00",
          "s16-04-01 07:00",
          "s16-04-01 08:00",
          "s16-04-01 09:00",
          "s16-04-01 10:00",
          "s16-04-01 11:00",
          "s16-04-01 12:00",
          "s16-04-01 13:00",
          "s16-04-01 14:00",
          "s16-04-01 15:00",
          "s16-04-01 16:00",
          "s16-04-01 17:00",
          "s16-04-01 18:00",
          "s16-04-01 19:00",
          "s16-04-01 20:00",
          "s16-04-03 21:00",
          "s16-04-03 22:00",
          "s16-04-03 23:00",
          "s16-04-04 00:00",
          "s16-04-04 01:00",
          "s16-04-04 02:00",
          "s16-04-04 03:00",
          "s16-04-04 04:00",
          "s16-04-04 05:00",
          "s16-04-04 06:00",
          "s16-04-04 07:00",
          "s16-04-04 08:00",
          "s16-04-04 09:00",
          "s16-04-04 10:00"
         ]
        },
        {
         "close": [
          159.87
         ],
         "decreasing": {
          "fillcolor": "#0066FF",
          "line": {
           "color": "#0066FF"
          }
         },
         "high": [
          159.884
         ],
         "increasing": {
          "fillcolor": "#0066FF",
          "line": {
           "color": "#0066FF"
          }
         },
         "line": {
          "width": 1
         },
         "low": [
          159.56
         ],
         "opacity": 1,
         "open": [
          159.66
         ],
         "type": "candlestick",
         "x": [
          "s16-03-09 02:00"
         ]
        }
       ],
       "layout": {
        "font": {
         "color": "#e1e1e1",
         "size": 8
        },
        "height": 400,
        "margin": {
         "b": 10,
         "l": 10,
         "r": 10,
         "t": 10
        },
        "paper_bgcolor": "#2c303c",
        "plot_bgcolor": "#2c303c",
        "template": {
         "data": {
          "bar": [
           {
            "error_x": {
             "color": "#2a3f5f"
            },
            "error_y": {
             "color": "#2a3f5f"
            },
            "marker": {
             "line": {
              "color": "#E5ECF6",
              "width": 0.5
             },
             "pattern": {
              "fillmode": "overlay",
              "size": 10,
              "solidity": 0.2
             }
            },
            "type": "bar"
           }
          ],
          "barpolar": [
           {
            "marker": {
             "line": {
              "color": "#E5ECF6",
              "width": 0.5
             },
             "pattern": {
              "fillmode": "overlay",
              "size": 10,
              "solidity": 0.2
             }
            },
            "type": "barpolar"
           }
          ],
          "carpet": [
           {
            "aaxis": {
             "endlinecolor": "#2a3f5f",
             "gridcolor": "white",
             "linecolor": "white",
             "minorgridcolor": "white",
             "startlinecolor": "#2a3f5f"
            },
            "baxis": {
             "endlinecolor": "#2a3f5f",
             "gridcolor": "white",
             "linecolor": "white",
             "minorgridcolor": "white",
             "startlinecolor": "#2a3f5f"
            },
            "type": "carpet"
           }
          ],
          "choropleth": [
           {
            "colorbar": {
             "outlinewidth": 0,
             "ticks": ""
            },
            "type": "choropleth"
           }
          ],
          "contour": [
           {
            "colorbar": {
             "outlinewidth": 0,
             "ticks": ""
            },
            "colorscale": [
             [
              0,
              "#0d0887"
             ],
             [
              0.1111111111111111,
              "#46039f"
             ],
             [
              0.2222222222222222,
              "#7201a8"
             ],
             [
              0.3333333333333333,
              "#9c179e"
             ],
             [
              0.4444444444444444,
              "#bd3786"
             ],
             [
              0.5555555555555556,
              "#d8576b"
             ],
             [
              0.6666666666666666,
              "#ed7953"
             ],
             [
              0.7777777777777778,
              "#fb9f3a"
             ],
             [
              0.8888888888888888,
              "#fdca26"
             ],
             [
              1,
              "#f0f921"
             ]
            ],
            "type": "contour"
           }
          ],
          "contourcarpet": [
           {
            "colorbar": {
             "outlinewidth": 0,
             "ticks": ""
            },
            "type": "contourcarpet"
           }
          ],
          "heatmap": [
           {
            "colorbar": {
             "outlinewidth": 0,
             "ticks": ""
            },
            "colorscale": [
             [
              0,
              "#0d0887"
             ],
             [
              0.1111111111111111,
              "#46039f"
             ],
             [
              0.2222222222222222,
              "#7201a8"
             ],
             [
              0.3333333333333333,
              "#9c179e"
             ],
             [
              0.4444444444444444,
              "#bd3786"
             ],
             [
              0.5555555555555556,
              "#d8576b"
             ],
             [
              0.6666666666666666,
              "#ed7953"
             ],
             [
              0.7777777777777778,
              "#fb9f3a"
             ],
             [
              0.8888888888888888,
              "#fdca26"
             ],
             [
              1,
              "#f0f921"
             ]
            ],
            "type": "heatmap"
           }
          ],
          "heatmapgl": [
           {
            "colorbar": {
             "outlinewidth": 0,
             "ticks": ""
            },
            "colorscale": [
             [
              0,
              "#0d0887"
             ],
             [
              0.1111111111111111,
              "#46039f"
             ],
             [
              0.2222222222222222,
              "#7201a8"
             ],
             [
              0.3333333333333333,
              "#9c179e"
             ],
             [
              0.4444444444444444,
              "#bd3786"
             ],
             [
              0.5555555555555556,
              "#d8576b"
             ],
             [
              0.6666666666666666,
              "#ed7953"
             ],
             [
              0.7777777777777778,
              "#fb9f3a"
             ],
             [
              0.8888888888888888,
              "#fdca26"
             ],
             [
              1,
              "#f0f921"
             ]
            ],
            "type": "heatmapgl"
           }
          ],
          "histogram": [
           {
            "marker": {
             "pattern": {
              "fillmode": "overlay",
              "size": 10,
              "solidity": 0.2
             }
            },
            "type": "histogram"
           }
          ],
          "histogram2d": [
           {
            "colorbar": {
             "outlinewidth": 0,
             "ticks": ""
            },
            "colorscale": [
             [
              0,
              "#0d0887"
             ],
             [
              0.1111111111111111,
              "#46039f"
             ],
             [
              0.2222222222222222,
              "#7201a8"
             ],
             [
              0.3333333333333333,
              "#9c179e"
             ],
             [
              0.4444444444444444,
              "#bd3786"
             ],
             [
              0.5555555555555556,
              "#d8576b"
             ],
             [
              0.6666666666666666,
              "#ed7953"
             ],
             [
              0.7777777777777778,
              "#fb9f3a"
             ],
             [
              0.8888888888888888,
              "#fdca26"
             ],
             [
              1,
              "#f0f921"
             ]
            ],
            "type": "histogram2d"
           }
          ],
          "histogram2dcontour": [
           {
            "colorbar": {
             "outlinewidth": 0,
             "ticks": ""
            },
            "colorscale": [
             [
              0,
              "#0d0887"
             ],
             [
              0.1111111111111111,
              "#46039f"
             ],
             [
              0.2222222222222222,
              "#7201a8"
             ],
             [
              0.3333333333333333,
              "#9c179e"
             ],
             [
              0.4444444444444444,
              "#bd3786"
             ],
             [
              0.5555555555555556,
              "#d8576b"
             ],
             [
              0.6666666666666666,
              "#ed7953"
             ],
             [
              0.7777777777777778,
              "#fb9f3a"
             ],
             [
              0.8888888888888888,
              "#fdca26"
             ],
             [
              1,
              "#f0f921"
             ]
            ],
            "type": "histogram2dcontour"
           }
          ],
          "mesh3d": [
           {
            "colorbar": {
             "outlinewidth": 0,
             "ticks": ""
            },
            "type": "mesh3d"
           }
          ],
          "parcoords": [
           {
            "line": {
             "colorbar": {
              "outlinewidth": 0,
              "ticks": ""
             }
            },
            "type": "parcoords"
           }
          ],
          "pie": [
           {
            "automargin": true,
            "type": "pie"
           }
          ],
          "scatter": [
           {
            "fillpattern": {
             "fillmode": "overlay",
             "size": 10,
             "solidity": 0.2
            },
            "type": "scatter"
           }
          ],
          "scatter3d": [
           {
            "line": {
             "colorbar": {
              "outlinewidth": 0,
              "ticks": ""
             }
            },
            "marker": {
             "colorbar": {
              "outlinewidth": 0,
              "ticks": ""
             }
            },
            "type": "scatter3d"
           }
          ],
          "scattercarpet": [
           {
            "marker": {
             "colorbar": {
              "outlinewidth": 0,
              "ticks": ""
             }
            },
            "type": "scattercarpet"
           }
          ],
          "scattergeo": [
           {
            "marker": {
             "colorbar": {
              "outlinewidth": 0,
              "ticks": ""
             }
            },
            "type": "scattergeo"
           }
          ],
          "scattergl": [
           {
            "marker": {
             "colorbar": {
              "outlinewidth": 0,
              "ticks": ""
             }
            },
            "type": "scattergl"
           }
          ],
          "scattermapbox": [
           {
            "marker": {
             "colorbar": {
              "outlinewidth": 0,
              "ticks": ""
             }
            },
            "type": "scattermapbox"
           }
          ],
          "scatterpolar": [
           {
            "marker": {
             "colorbar": {
              "outlinewidth": 0,
              "ticks": ""
             }
            },
            "type": "scatterpolar"
           }
          ],
          "scatterpolargl": [
           {
            "marker": {
             "colorbar": {
              "outlinewidth": 0,
              "ticks": ""
             }
            },
            "type": "scatterpolargl"
           }
          ],
          "scatterternary": [
           {
            "marker": {
             "colorbar": {
              "outlinewidth": 0,
              "ticks": ""
             }
            },
            "type": "scatterternary"
           }
          ],
          "surface": [
           {
            "colorbar": {
             "outlinewidth": 0,
             "ticks": ""
            },
            "colorscale": [
             [
              0,
              "#0d0887"
             ],
             [
              0.1111111111111111,
              "#46039f"
             ],
             [
              0.2222222222222222,
              "#7201a8"
             ],
             [
              0.3333333333333333,
              "#9c179e"
             ],
             [
              0.4444444444444444,
              "#bd3786"
             ],
             [
              0.5555555555555556,
              "#d8576b"
             ],
             [
              0.6666666666666666,
              "#ed7953"
             ],
             [
              0.7777777777777778,
              "#fb9f3a"
             ],
             [
              0.8888888888888888,
              "#fdca26"
             ],
             [
              1,
              "#f0f921"
             ]
            ],
            "type": "surface"
           }
          ],
          "table": [
           {
            "cells": {
             "fill": {
              "color": "#EBF0F8"
             },
             "line": {
              "color": "white"
             }
            },
            "header": {
             "fill": {
              "color": "#C8D4E3"
             },
             "line": {
              "color": "white"
             }
            },
            "type": "table"
           }
          ]
         },
         "layout": {
          "annotationdefaults": {
           "arrowcolor": "#2a3f5f",
           "arrowhead": 0,
           "arrowwidth": 1
          },
          "autotypenumbers": "strict",
          "coloraxis": {
           "colorbar": {
            "outlinewidth": 0,
            "ticks": ""
           }
          },
          "colorscale": {
           "diverging": [
            [
             0,
             "#8e0152"
            ],
            [
             0.1,
             "#c51b7d"
            ],
            [
             0.2,
             "#de77ae"
            ],
            [
             0.3,
             "#f1b6da"
            ],
            [
             0.4,
             "#fde0ef"
            ],
            [
             0.5,
             "#f7f7f7"
            ],
            [
             0.6,
             "#e6f5d0"
            ],
            [
             0.7,
             "#b8e186"
            ],
            [
             0.8,
             "#7fbc41"
            ],
            [
             0.9,
             "#4d9221"
            ],
            [
             1,
             "#276419"
            ]
           ],
           "sequential": [
            [
             0,
             "#0d0887"
            ],
            [
             0.1111111111111111,
             "#46039f"
            ],
            [
             0.2222222222222222,
             "#7201a8"
            ],
            [
             0.3333333333333333,
             "#9c179e"
            ],
            [
             0.4444444444444444,
             "#bd3786"
            ],
            [
             0.5555555555555556,
             "#d8576b"
            ],
            [
             0.6666666666666666,
             "#ed7953"
            ],
            [
             0.7777777777777778,
             "#fb9f3a"
            ],
            [
             0.8888888888888888,
             "#fdca26"
            ],
            [
             1,
             "#f0f921"
            ]
           ],
           "sequentialminus": [
            [
             0,
             "#0d0887"
            ],
            [
             0.1111111111111111,
             "#46039f"
            ],
            [
             0.2222222222222222,
             "#7201a8"
            ],
            [
             0.3333333333333333,
             "#9c179e"
            ],
            [
             0.4444444444444444,
             "#bd3786"
            ],
            [
             0.5555555555555556,
             "#d8576b"
            ],
            [
             0.6666666666666666,
             "#ed7953"
            ],
            [
             0.7777777777777778,
             "#fb9f3a"
            ],
            [
             0.8888888888888888,
             "#fdca26"
            ],
            [
             1,
             "#f0f921"
            ]
           ]
          },
          "colorway": [
           "#636efa",
           "#EF553B",
           "#00cc96",
           "#ab63fa",
           "#FFA15A",
           "#19d3f3",
           "#FF6692",
           "#B6E880",
           "#FF97FF",
           "#FECB52"
          ],
          "font": {
           "color": "#2a3f5f"
          },
          "geo": {
           "bgcolor": "white",
           "lakecolor": "white",
           "landcolor": "#E5ECF6",
           "showlakes": true,
           "showland": true,
           "subunitcolor": "white"
          },
          "hoverlabel": {
           "align": "left"
          },
          "hovermode": "closest",
          "mapbox": {
           "style": "light"
          },
          "paper_bgcolor": "white",
          "plot_bgcolor": "#E5ECF6",
          "polar": {
           "angularaxis": {
            "gridcolor": "white",
            "linecolor": "white",
            "ticks": ""
           },
           "bgcolor": "#E5ECF6",
           "radialaxis": {
            "gridcolor": "white",
            "linecolor": "white",
            "ticks": ""
           }
          },
          "scene": {
           "xaxis": {
            "backgroundcolor": "#E5ECF6",
            "gridcolor": "white",
            "gridwidth": 2,
            "linecolor": "white",
            "showbackground": true,
            "ticks": "",
            "zerolinecolor": "white"
           },
           "yaxis": {
            "backgroundcolor": "#E5ECF6",
            "gridcolor": "white",
            "gridwidth": 2,
            "linecolor": "white",
            "showbackground": true,
            "ticks": "",
            "zerolinecolor": "white"
           },
           "zaxis": {
            "backgroundcolor": "#E5ECF6",
            "gridcolor": "white",
            "gridwidth": 2,
            "linecolor": "white",
            "showbackground": true,
            "ticks": "",
            "zerolinecolor": "white"
           }
          },
          "shapedefaults": {
           "line": {
            "color": "#2a3f5f"
           }
          },
          "ternary": {
           "aaxis": {
            "gridcolor": "white",
            "linecolor": "white",
            "ticks": ""
           },
           "baxis": {
            "gridcolor": "white",
            "linecolor": "white",
            "ticks": ""
           },
           "bgcolor": "#E5ECF6",
           "caxis": {
            "gridcolor": "white",
            "linecolor": "white",
            "ticks": ""
           }
          },
          "title": {
           "x": 0.05
          },
          "xaxis": {
           "automargin": true,
           "gridcolor": "white",
           "linecolor": "white",
           "ticks": "",
           "title": {
            "standoff": 15
           },
           "zerolinecolor": "white",
           "zerolinewidth": 2
          },
          "yaxis": {
           "automargin": true,
           "gridcolor": "white",
           "linecolor": "white",
           "ticks": "",
           "title": {
            "standoff": 15
           },
           "zerolinecolor": "white",
           "zerolinewidth": 2
          }
         }
        },
        "width": 900,
        "xaxis": {
         "anchor": "y",
         "domain": [
          0,
          0.94
         ],
         "gridcolor": "#1f292f",
         "nticks": 5,
         "rangeslider": {
          "visible": false
         }
        },
        "yaxis": {
         "anchor": "x",
         "domain": [
          0,
          1
         ],
         "gridcolor": "#1f292f"
        },
        "yaxis2": {
         "anchor": "x",
         "gridcolor": "#1f292f",
         "overlaying": "y",
         "side": "right"
        }
       }
      }
     },
     "metadata": {},
     "output_type": "display_data"
    }
   ],
   "source": [
    "MARKER = '#0066FF'\n",
    "dfp = df_an.iloc[1000:1500]\n",
    "cp = CandlePlot(dfp, candles=True)\n",
    "df_temp = cp.df_plot[cp.df_plot.MORNING_STAR == True]\n",
    "cp.fig.add_trace(go.Candlestick(\n",
    "                x = df_temp.sTime,\n",
    "                open = df_temp.mid_o,\n",
    "                high = df_temp.mid_h,\n",
    "                low = df_temp.mid_l,\n",
    "                close = df_temp.mid_c,\n",
    "                line=dict(width=1), opacity=1,\n",
    "                increasing_fillcolor=MARKER,\n",
    "                decreasing_fillcolor=MARKER,\n",
    "                increasing_line_color=MARKER,\n",
    "                decreasing_line_color=MARKER\n",
    "            ))\n",
    "\n",
    "cp.show_plot()"
   ]
  },
  {
   "cell_type": "code",
   "execution_count": null,
   "metadata": {},
   "outputs": [],
   "source": []
  }
 ],
 "metadata": {
  "kernelspec": {
   "display_name": "venv",
   "language": "python",
   "name": "python3"
  },
  "language_info": {
   "codemirror_mode": {
    "name": "ipython",
    "version": 3
   },
   "file_extension": ".py",
   "mimetype": "text/x-python",
   "name": "python",
   "nbconvert_exporter": "python",
   "pygments_lexer": "ipython3",
   "version": "3.12.2"
  }
 },
 "nbformat": 4,
 "nbformat_minor": 2
}
